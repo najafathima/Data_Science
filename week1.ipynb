{
 "cells": [
  {
   "cell_type": "code",
   "execution_count": 223,
   "id": "ac0c7f06",
   "metadata": {},
   "outputs": [],
   "source": [
    "import numpy as np"
   ]
  },
  {
   "cell_type": "code",
   "execution_count": 224,
   "id": "749b3215",
   "metadata": {},
   "outputs": [
    {
     "name": "stdout",
     "output_type": "stream",
     "text": [
      "[1 2 3 4]\n",
      "[[1 2 3]\n",
      " [2 3 4]]\n"
     ]
    }
   ],
   "source": [
    "#initialising an array\n",
    "a=np.array([1,2,3,4])\n",
    "print(a)\n",
    "b = np.array([[1,2,3],[2,3,4]])\n",
    "print(b)"
   ]
  },
  {
   "cell_type": "code",
   "execution_count": 225,
   "id": "3d75c9fa",
   "metadata": {},
   "outputs": [
    {
     "name": "stdout",
     "output_type": "stream",
     "text": [
      "1\n",
      "2\n"
     ]
    }
   ],
   "source": [
    "#to get the dimension of an array\n",
    "print(a.ndim)\n",
    "print(b.ndim)"
   ]
  },
  {
   "cell_type": "code",
   "execution_count": 226,
   "id": "c1118d26",
   "metadata": {},
   "outputs": [
    {
     "data": {
      "text/plain": [
       "(2, 3)"
      ]
     },
     "execution_count": 226,
     "metadata": {},
     "output_type": "execute_result"
    }
   ],
   "source": [
    "#to understand the shape of an array\n",
    "b.shape"
   ]
  },
  {
   "cell_type": "code",
   "execution_count": 227,
   "id": "f47b9966",
   "metadata": {},
   "outputs": [
    {
     "data": {
      "text/plain": [
       "dtype('int64')"
      ]
     },
     "execution_count": 227,
     "metadata": {},
     "output_type": "execute_result"
    }
   ],
   "source": [
    "#get data type\n",
    "b.dtype"
   ]
  },
  {
   "cell_type": "markdown",
   "id": "29f2d619",
   "metadata": {},
   "source": [
    "Accessing/Changing specific elements, rows,columns,etc"
   ]
  },
  {
   "cell_type": "code",
   "execution_count": 228,
   "id": "4fc61ac8",
   "metadata": {},
   "outputs": [
    {
     "name": "stdout",
     "output_type": "stream",
     "text": [
      "[[1 2 3 4 5 6]\n",
      " [7 8 9 1 2 3]]\n"
     ]
    }
   ],
   "source": [
    "arr1=np.array([[1,2,3,4,5,6],[7,8,9,1,2,3]])\n",
    "print(arr1)"
   ]
  },
  {
   "cell_type": "code",
   "execution_count": 229,
   "id": "cb562217",
   "metadata": {},
   "outputs": [
    {
     "data": {
      "text/plain": [
       "np.int64(3)"
      ]
     },
     "execution_count": 229,
     "metadata": {},
     "output_type": "execute_result"
    }
   ],
   "source": [
    "#get a specific element [r,c]\n",
    "arr1[1,5]"
   ]
  },
  {
   "cell_type": "code",
   "execution_count": 230,
   "id": "371ea123",
   "metadata": {},
   "outputs": [
    {
     "data": {
      "text/plain": [
       "array([7, 8, 9, 1, 2, 3])"
      ]
     },
     "execution_count": 230,
     "metadata": {},
     "output_type": "execute_result"
    }
   ],
   "source": [
    "#get a specific row\n",
    "arr1[1, :]"
   ]
  },
  {
   "cell_type": "code",
   "execution_count": 231,
   "id": "a24dc996",
   "metadata": {},
   "outputs": [
    {
     "name": "stdout",
     "output_type": "stream",
     "text": [
      "[1 3 5]\n",
      "[2 4]\n",
      "[7 9 2]\n",
      "[8 1]\n"
     ]
    }
   ],
   "source": [
    "#getting some specific elements using indexing [start index,end index,step size]\n",
    "print(arr1[0,0:-1:2])\n",
    "print(arr1[0,1:-1:2])\n",
    "print(arr1[1,0:-1:2])\n",
    "print(arr1[1,1:-1:2])"
   ]
  },
  {
   "cell_type": "code",
   "execution_count": 232,
   "id": "cfc6e1f7",
   "metadata": {},
   "outputs": [
    {
     "name": "stdout",
     "output_type": "stream",
     "text": [
      "[[1 2 3 4 5 6]\n",
      " [7 8 9 1 2 3]]\n",
      "[[ 1  2  3  4  5  6]\n",
      " [ 7  8  9  1  2 20]]\n"
     ]
    }
   ],
   "source": [
    "#changing the value of an element\n",
    "print(arr1)\n",
    "arr1[1,5]=20\n",
    "print(arr1)"
   ]
  },
  {
   "cell_type": "code",
   "execution_count": 233,
   "id": "c70ab846",
   "metadata": {},
   "outputs": [
    {
     "name": "stdout",
     "output_type": "stream",
     "text": [
      "[[[11 12 13 14]\n",
      "  [15 16 17 18]]\n",
      "\n",
      " [[21 22 23 24]\n",
      "  [25 26 27 28]]]\n"
     ]
    }
   ],
   "source": [
    "arr2=np.array([[[11,12,13,14],[15,16,17,18]],[[21,22,23,24],[25,26,27,28]]])\n",
    "print(arr2)"
   ]
  },
  {
   "cell_type": "code",
   "execution_count": 234,
   "id": "efddaaee",
   "metadata": {},
   "outputs": [
    {
     "data": {
      "text/plain": [
       "(2, 2, 4)"
      ]
     },
     "execution_count": 234,
     "metadata": {},
     "output_type": "execute_result"
    }
   ],
   "source": [
    "arr2.shape"
   ]
  },
  {
   "cell_type": "code",
   "execution_count": 235,
   "id": "8ce1bdf7",
   "metadata": {},
   "outputs": [
    {
     "data": {
      "text/plain": [
       "np.int64(18)"
      ]
     },
     "execution_count": 235,
     "metadata": {},
     "output_type": "execute_result"
    }
   ],
   "source": [
    "#getting specific element in 3-D array\n",
    "arr2[0,1,3]"
   ]
  },
  {
   "cell_type": "code",
   "execution_count": 236,
   "id": "13686b6d",
   "metadata": {},
   "outputs": [
    {
     "name": "stdout",
     "output_type": "stream",
     "text": [
      "[12 14]\n",
      "[22 24]\n",
      "[16 18]\n",
      "[26 28]\n"
     ]
    }
   ],
   "source": [
    "#getting some specific elements using indexing [start index,end index,step size]\n",
    "print(arr2[0,0,1:4:2])\n",
    "print(arr2[1,0,1:4:2])\n",
    "print(arr2[0,1,1:4:2])\n",
    "print(arr2[1,1,1:4:2])"
   ]
  },
  {
   "cell_type": "markdown",
   "id": "17f2c8c5",
   "metadata": {},
   "source": [
    "Initializing different types of arrays"
   ]
  },
  {
   "cell_type": "code",
   "execution_count": 237,
   "id": "b36de20d",
   "metadata": {},
   "outputs": [
    {
     "data": {
      "text/plain": [
       "array([0., 0., 0., 0., 0.])"
      ]
     },
     "execution_count": 237,
     "metadata": {},
     "output_type": "execute_result"
    }
   ],
   "source": [
    "#all zeros matrix\n",
    "np.zeros(5)"
   ]
  },
  {
   "cell_type": "code",
   "execution_count": 238,
   "id": "e4bc2646",
   "metadata": {},
   "outputs": [
    {
     "data": {
      "text/plain": [
       "array([[0., 0., 0.],\n",
       "       [0., 0., 0.]])"
      ]
     },
     "execution_count": 238,
     "metadata": {},
     "output_type": "execute_result"
    }
   ],
   "source": [
    "np.zeros((2,3))"
   ]
  },
  {
   "cell_type": "code",
   "execution_count": 239,
   "id": "905875a1",
   "metadata": {},
   "outputs": [
    {
     "data": {
      "text/plain": [
       "array([[[1, 1, 1],\n",
       "        [1, 1, 1],\n",
       "        [1, 1, 1]],\n",
       "\n",
       "       [[1, 1, 1],\n",
       "        [1, 1, 1],\n",
       "        [1, 1, 1]]], dtype=int32)"
      ]
     },
     "execution_count": 239,
     "metadata": {},
     "output_type": "execute_result"
    }
   ],
   "source": [
    "#all ones matrix\n",
    "np.ones((2,3,3),dtype='int32')"
   ]
  },
  {
   "cell_type": "code",
   "execution_count": 240,
   "id": "23171f90",
   "metadata": {},
   "outputs": [
    {
     "data": {
      "text/plain": [
       "array([[44., 44., 44.],\n",
       "       [44., 44., 44.]], dtype=float32)"
      ]
     },
     "execution_count": 240,
     "metadata": {},
     "output_type": "execute_result"
    }
   ],
   "source": [
    "#any other number matrix\n",
    "#np.full((shape),number)\n",
    "np.full((2,3),44,dtype='float32')"
   ]
  },
  {
   "cell_type": "code",
   "execution_count": 241,
   "id": "a91dc936",
   "metadata": {},
   "outputs": [
    {
     "data": {
      "text/plain": [
       "array([[[11, 11, 11, 11],\n",
       "        [11, 11, 11, 11]],\n",
       "\n",
       "       [[11, 11, 11, 11],\n",
       "        [11, 11, 11, 11]]])"
      ]
     },
     "execution_count": 241,
     "metadata": {},
     "output_type": "execute_result"
    }
   ],
   "source": [
    "#to get the shape of any other matrix previously created\n",
    "np.full_like(arr2,11)"
   ]
  },
  {
   "cell_type": "code",
   "execution_count": 242,
   "id": "005fb322",
   "metadata": {},
   "outputs": [
    {
     "data": {
      "text/plain": [
       "array([[4, 3, 4],\n",
       "       [3, 5, 2],\n",
       "       [5, 2, 5]], dtype=int32)"
      ]
     },
     "execution_count": 242,
     "metadata": {},
     "output_type": "execute_result"
    }
   ],
   "source": [
    "#a random integer valued array\n",
    "np.random.randint(2,6,size=(3,3)) #here 2,6 indicates the range through which the random numbers to be selected"
   ]
  },
  {
   "cell_type": "code",
   "execution_count": 243,
   "id": "56f99529",
   "metadata": {},
   "outputs": [
    {
     "data": {
      "text/plain": [
       "array([[1, 0, 0, 0, 0],\n",
       "       [0, 1, 0, 0, 0],\n",
       "       [0, 0, 1, 0, 0],\n",
       "       [0, 0, 0, 1, 0],\n",
       "       [0, 0, 0, 0, 1]], dtype=int32)"
      ]
     },
     "execution_count": 243,
     "metadata": {},
     "output_type": "execute_result"
    }
   ],
   "source": [
    "#the identity matrix\n",
    "np.identity(5,dtype='int32')"
   ]
  },
  {
   "cell_type": "code",
   "execution_count": 244,
   "id": "d63efaba",
   "metadata": {},
   "outputs": [
    {
     "name": "stdout",
     "output_type": "stream",
     "text": [
      "[[1. 1. 1. 1. 1.]\n",
      " [1. 1. 1. 1. 1.]\n",
      " [1. 1. 1. 1. 1.]\n",
      " [1. 1. 1. 1. 1.]\n",
      " [1. 1. 1. 1. 1.]]\n",
      "[[0. 0. 0.]\n",
      " [0. 0. 0.]\n",
      " [0. 0. 0.]]\n",
      "[[1. 1. 1. 1. 1.]\n",
      " [1. 0. 0. 0. 1.]\n",
      " [1. 0. 9. 0. 1.]\n",
      " [1. 0. 0. 0. 1.]\n",
      " [1. 1. 1. 1. 1.]]\n"
     ]
    }
   ],
   "source": [
    "#attaching one array to other\n",
    "o=np.ones((5,5))\n",
    "print(o)\n",
    "z=np.zeros((3,3))\n",
    "print(z)\n",
    "z[1,1]=9\n",
    "z[1:3]\n",
    "o[1:-1,1:-1]=z #this [1:-1,1:-1] means, first row to the last row and then first column to the last column\n",
    "print(o)\n"
   ]
  },
  {
   "cell_type": "code",
   "execution_count": 245,
   "id": "3297ae05",
   "metadata": {},
   "outputs": [
    {
     "name": "stdout",
     "output_type": "stream",
     "text": [
      "[[ 22  32  44 333  21  32]\n",
      " [ 22  12  87  67  55  88]]\n",
      "[[ 22  32  44 333]\n",
      " [ 21  32  22  12]\n",
      " [ 87  67  55  88]]\n"
     ]
    }
   ],
   "source": [
    "before=np.array([[22,32,44,333,21,32],[22,12,87,67,55,88]])\n",
    "print(before)\n",
    "after=before.reshape([3,4])\n",
    "print(after)"
   ]
  },
  {
   "cell_type": "markdown",
   "id": "52978b0a",
   "metadata": {},
   "source": [
    "NUMPY ARANGE"
   ]
  },
  {
   "cell_type": "code",
   "execution_count": 246,
   "id": "7897f3ff",
   "metadata": {},
   "outputs": [
    {
     "name": "stdout",
     "output_type": "stream",
     "text": [
      "[0 1 2 3 4]\n"
     ]
    }
   ],
   "source": [
    "x=np.arange(5) #only stop is given\n",
    "print(x)"
   ]
  },
  {
   "cell_type": "code",
   "execution_count": 247,
   "id": "bd8276e6",
   "metadata": {},
   "outputs": [
    {
     "name": "stdout",
     "output_type": "stream",
     "text": [
      "[3 4 5 6 7 8]\n"
     ]
    }
   ],
   "source": [
    "y=np.arange(3,9) #start and stop given \n",
    "print(y)"
   ]
  },
  {
   "cell_type": "code",
   "execution_count": 248,
   "id": "342618eb",
   "metadata": {},
   "outputs": [
    {
     "name": "stdout",
     "output_type": "stream",
     "text": [
      "[ 4  6  8 10 12 14]\n"
     ]
    }
   ],
   "source": [
    "z=np.arange(4,15,2) #with step\n",
    "print(z)"
   ]
  },
  {
   "cell_type": "code",
   "execution_count": 249,
   "id": "e5f6459b",
   "metadata": {},
   "outputs": [
    {
     "name": "stdout",
     "output_type": "stream",
     "text": [
      "[ 1  2  3  4  5  6  7  8  9 10]\n"
     ]
    }
   ],
   "source": [
    "ar=np.arange(1,11)\n",
    "print(ar)"
   ]
  },
  {
   "cell_type": "code",
   "execution_count": 250,
   "id": "f1deb655",
   "metadata": {},
   "outputs": [
    {
     "name": "stdout",
     "output_type": "stream",
     "text": [
      "[20 22 24 26 28 30 32 34 36 38 40]\n"
     ]
    }
   ],
   "source": [
    "ar1=np.arange(20,41,2)\n",
    "print(ar1)"
   ]
  },
  {
   "cell_type": "code",
   "execution_count": 251,
   "id": "b64e6275",
   "metadata": {},
   "outputs": [
    {
     "name": "stdout",
     "output_type": "stream",
     "text": [
      "[ 7 10 17 44 46  7 48 49 13 31 32 37 23 42 41 21 30 37 14 20]\n",
      "odd random array:  [ 7 17  7 49 13 31 37 23 41 21 37]\n"
     ]
    }
   ],
   "source": [
    "#Create an array of 20 random integers (1–50) and extract only the odd numbers.\n",
    "ar2=np.random.randint(1,50,size=20)\n",
    "print(ar2)\n",
    "odd_ar2=ar2[ar2%2==1]\n",
    "print(\"odd random array: \",odd_ar2)"
   ]
  },
  {
   "cell_type": "code",
   "execution_count": 252,
   "id": "1e743279",
   "metadata": {},
   "outputs": [
    {
     "name": "stdout",
     "output_type": "stream",
     "text": [
      "memory used by python list 36056 bytes\n",
      "memory used bt numpy array 8000 bytes\n"
     ]
    }
   ],
   "source": [
    "#Compare memory usage of a Python list vs a NumPy array with 1000 elements.\n",
    "import sys\n",
    "py_list=list(range(1000))\n",
    "np_array=np.arange(1000)\n",
    "list_mry=sys.getsizeof(py_list) + sum(sys.getsizeof(i) for i in py_list)\n",
    "array_mry=np_array.nbytes\n",
    "print(f\"memory used by python list {list_mry} bytes\")\n",
    "print(f\"memory used bt numpy array {array_mry} bytes\")"
   ]
  },
  {
   "cell_type": "code",
   "execution_count": 253,
   "id": "f8c32111",
   "metadata": {},
   "outputs": [
    {
     "name": "stdout",
     "output_type": "stream",
     "text": [
      "[ 1  2  3  4  5  6  7  8  9 10 11 12 13 14 15 16 17 18 19 20 21 22 23 24\n",
      " 25 26 27 28 29 30 31 32 33 34 35 36]\n",
      "[[ 1  2  3  4  5  6]\n",
      " [ 7  8  9 10 11 12]\n",
      " [13 14 15 16 17 18]\n",
      " [19 20 21 22 23 24]\n",
      " [25 26 27 28 29 30]\n",
      " [31 32 33 34 35 36]]\n"
     ]
    }
   ],
   "source": [
    "#Reshape a NumPy array of numbers 1–36 into a 6×6 matrix.\n",
    "bef=np.arange(1,37)\n",
    "print(bef)\n",
    "aft=bef.reshape([6,6])\n",
    "print(aft)"
   ]
  },
  {
   "cell_type": "markdown",
   "id": "f7a579fb",
   "metadata": {},
   "source": [
    "### DAY 2\n"
   ]
  },
  {
   "cell_type": "code",
   "execution_count": 254,
   "id": "b943737a",
   "metadata": {},
   "outputs": [
    {
     "data": {
      "text/plain": [
       "array([[ 3,  3,  4],\n",
       "       [54, 34, 21]])"
      ]
     },
     "execution_count": 254,
     "metadata": {},
     "output_type": "execute_result"
    }
   ],
   "source": [
    "arr= np.array([[3,3,4],[54,34,21]])\n",
    "arr"
   ]
  },
  {
   "cell_type": "code",
   "execution_count": 255,
   "id": "dc26fb66",
   "metadata": {},
   "outputs": [
    {
     "name": "stdout",
     "output_type": "stream",
     "text": [
      "4\n",
      "3\n",
      "[[ 3  3  4]\n",
      " [54 11 21]]\n"
     ]
    },
    {
     "data": {
      "text/plain": [
       "array([13, 13, 14])"
      ]
     },
     "execution_count": 255,
     "metadata": {},
     "output_type": "execute_result"
    }
   ],
   "source": [
    "print(arr[0,2])\n",
    "print(arr[0,-2])\n",
    "arr[1,1]=11\n",
    "print(arr)\n",
    "arr[0]+10"
   ]
  },
  {
   "cell_type": "markdown",
   "id": "31054be2",
   "metadata": {},
   "source": [
    "## SLICING"
   ]
  },
  {
   "cell_type": "code",
   "execution_count": 256,
   "id": "239d5ae5",
   "metadata": {},
   "outputs": [
    {
     "data": {
      "text/plain": [
       "array([[ 3,  3,  4],\n",
       "       [54, 11, 21]])"
      ]
     },
     "execution_count": 256,
     "metadata": {},
     "output_type": "execute_result"
    }
   ],
   "source": [
    "\n",
    "arr[:]"
   ]
  },
  {
   "cell_type": "code",
   "execution_count": 257,
   "id": "55e87dad",
   "metadata": {},
   "outputs": [
    {
     "name": "stdout",
     "output_type": "stream",
     "text": [
      "[54 11 21]\n",
      "[[3 3 4]]\n",
      "[[4]]\n"
     ]
    }
   ],
   "source": [
    "print(arr[1,0:3])\n",
    "print(arr[0:1])\n",
    "print(arr[0:1,2:]) #to fetch a specific element inside a row"
   ]
  },
  {
   "cell_type": "code",
   "execution_count": 258,
   "id": "1bdff5a3",
   "metadata": {},
   "outputs": [
    {
     "data": {
      "text/plain": [
       "array([[ 1,  3,  4,  5],\n",
       "       [ 5,  6,  7,  8],\n",
       "       [ 9,  0, 10, 11],\n",
       "       [12, 13, 14, 15]])"
      ]
     },
     "execution_count": 258,
     "metadata": {},
     "output_type": "execute_result"
    }
   ],
   "source": [
    "ar1=np.array([[1,3,4,5],[5,6,7,8],[9,0,10,11],[12,13,14,15]])\n",
    "ar1"
   ]
  },
  {
   "cell_type": "code",
   "execution_count": 259,
   "id": "b114a084",
   "metadata": {},
   "outputs": [
    {
     "name": "stdout",
     "output_type": "stream",
     "text": [
      "[[5 6]\n",
      " [9 0]]\n"
     ]
    }
   ],
   "source": [
    "print(ar1[1:3,0:2])"
   ]
  },
  {
   "cell_type": "code",
   "execution_count": 260,
   "id": "5d796adf",
   "metadata": {},
   "outputs": [
    {
     "name": "stdout",
     "output_type": "stream",
     "text": [
      "[[ 1  3  4]\n",
      " [ 9  0 10]]\n"
     ]
    }
   ],
   "source": [
    "print(ar1[0:3:2,0:3]) #to skip a row in between give steps in the row section\n"
   ]
  },
  {
   "cell_type": "markdown",
   "id": "f4ffe888",
   "metadata": {},
   "source": [
    "### BROADCASTING"
   ]
  },
  {
   "cell_type": "code",
   "execution_count": 261,
   "id": "20943cca",
   "metadata": {},
   "outputs": [
    {
     "name": "stdout",
     "output_type": "stream",
     "text": [
      "[11 22 33]\n",
      "[10 20 30]\n"
     ]
    }
   ],
   "source": [
    "ar01=np.array([11,22,33])\n",
    "print(ar01)\n",
    "ar02=np.array([10,20,30])\n",
    "print(ar02)"
   ]
  },
  {
   "cell_type": "code",
   "execution_count": 262,
   "id": "10b66a47",
   "metadata": {},
   "outputs": [
    {
     "data": {
      "text/plain": [
       "array([21, 42, 63])"
      ]
     },
     "execution_count": 262,
     "metadata": {},
     "output_type": "execute_result"
    }
   ],
   "source": [
    "ar01+ar02"
   ]
  },
  {
   "cell_type": "code",
   "execution_count": 263,
   "id": "b74432ba",
   "metadata": {},
   "outputs": [
    {
     "data": {
      "text/plain": [
       "array([21, 32, 43])"
      ]
     },
     "execution_count": 263,
     "metadata": {},
     "output_type": "execute_result"
    }
   ],
   "source": [
    "ar01 + 10"
   ]
  },
  {
   "cell_type": "code",
   "execution_count": 264,
   "id": "766b335c",
   "metadata": {},
   "outputs": [
    {
     "name": "stdout",
     "output_type": "stream",
     "text": [
      "[1 2 3]\n",
      "[[2]\n",
      " [4]\n",
      " [6]]\n"
     ]
    }
   ],
   "source": [
    "ar01=np.array([1,2,3]) #1x3 Array\n",
    "print(ar01)\n",
    "ar02=np.array([[2],[4],[6]]) #3x1 Array\n",
    "print(ar02)"
   ]
  },
  {
   "cell_type": "markdown",
   "id": "d4ae56cc",
   "metadata": {},
   "source": [
    "##### logically we can't add a 3x1 and 1x3 array together, but in numpy it's possible and it's called BROADCASTING"
   ]
  },
  {
   "cell_type": "code",
   "execution_count": 265,
   "id": "8b7bd35d",
   "metadata": {},
   "outputs": [
    {
     "data": {
      "text/plain": [
       "array([[3, 4, 5],\n",
       "       [5, 6, 7],\n",
       "       [7, 8, 9]])"
      ]
     },
     "execution_count": 265,
     "metadata": {},
     "output_type": "execute_result"
    }
   ],
   "source": [
    "ar01+ar02"
   ]
  },
  {
   "cell_type": "markdown",
   "id": "42e88a29",
   "metadata": {},
   "source": [
    "#### what happened there in the addition is that: the 1x3 matrix became 1 2 3 and the 3x1 matrix became 2 2 2\n",
    "                    1 2 3                           4 4 4\n",
    "                    1 2 3                           6 6 6"
   ]
  },
  {
   "cell_type": "code",
   "execution_count": 266,
   "id": "a18c97e6",
   "metadata": {},
   "outputs": [
    {
     "name": "stdout",
     "output_type": "stream",
     "text": [
      "[1 2 3]\n",
      "[[2 2 2]\n",
      " [4 4 4]]\n"
     ]
    }
   ],
   "source": [
    "ar01=np.array([1,2,3]) #1x3 Array\n",
    "print(ar01)\n",
    "ar02=np.array([[2,2,2],[4,4,4]]) #2x3 Array\n",
    "print(ar02)"
   ]
  },
  {
   "cell_type": "code",
   "execution_count": 267,
   "id": "56063e7a",
   "metadata": {},
   "outputs": [
    {
     "data": {
      "text/plain": [
       "array([[3, 4, 5],\n",
       "       [5, 6, 7]])"
      ]
     },
     "execution_count": 267,
     "metadata": {},
     "output_type": "execute_result"
    }
   ],
   "source": [
    "ar01+ar02"
   ]
  },
  {
   "cell_type": "markdown",
   "id": "9ce9ba5e",
   "metadata": {},
   "source": [
    "#### the addition of 1x3 and 2x3 is possible through numpy broadcasting in such a way that the 1x3 array have changed to 1 2 3 which is a 2x3 array\n",
    "                       1 2 3 "
   ]
  },
  {
   "cell_type": "markdown",
   "id": "4533a5b3",
   "metadata": {},
   "source": [
    "### ELEMENT WISE OPERATION  "
   ]
  },
  {
   "cell_type": "code",
   "execution_count": 268,
   "id": "c107d00b",
   "metadata": {},
   "outputs": [
    {
     "name": "stdout",
     "output_type": "stream",
     "text": [
      "[[2 1 1]\n",
      " [2 1 1]]\n",
      "[[1 2 3]\n",
      " [3 2 1]]\n"
     ]
    }
   ],
   "source": [
    "a=np.array([[2,1,1],[2,1,1]])\n",
    "print(a)\n",
    "b=np.array([[1,2,3],[3,2,1]])\n",
    "print(b)"
   ]
  },
  {
   "cell_type": "code",
   "execution_count": 269,
   "id": "aee36653",
   "metadata": {},
   "outputs": [
    {
     "name": "stdout",
     "output_type": "stream",
     "text": [
      "addition:  [[3 3 4]\n",
      " [5 3 2]]\n",
      "subtraction:  [[ 1 -1 -2]\n",
      " [-1 -1  0]]\n",
      "multiplication:  [[2 2 3]\n",
      " [6 2 1]]\n",
      "division:  [[2.         0.5        0.33333333]\n",
      " [0.66666667 0.5        1.        ]]\n",
      "power:  [[2 1 1]\n",
      " [8 1 1]]\n"
     ]
    }
   ],
   "source": [
    "print(\"addition: \",a+b) \n",
    "print(\"subtraction: \",a-b)\n",
    "print(\"multiplication: \",a*b)\n",
    "print(\"division: \",a/b)\n",
    "print(\"power: \",a**b)\n"
   ]
  },
  {
   "cell_type": "code",
   "execution_count": 270,
   "id": "4e197ea8",
   "metadata": {},
   "outputs": [
    {
     "name": "stdout",
     "output_type": "stream",
     "text": [
      "addition:  [[3 3 4]\n",
      " [5 3 2]]\n",
      "subtraction:  [[-1  1  2]\n",
      " [ 1  1  0]]\n",
      "multiplication:  [[2 2 3]\n",
      " [6 2 1]]\n",
      "division:  [[0.5 2.  3. ]\n",
      " [1.5 2.  1. ]]\n",
      "power:  [[1 2 3]\n",
      " [9 2 1]]\n"
     ]
    }
   ],
   "source": [
    "print(\"addition: \",b+a) \n",
    "print(\"subtraction: \",b-a)\n",
    "print(\"multiplication: \",b*a)\n",
    "print(\"division: \",b/a)\n",
    "print(\"power: \",b**a)"
   ]
  },
  {
   "cell_type": "code",
   "execution_count": 271,
   "id": "ad1424dd",
   "metadata": {},
   "outputs": [
    {
     "name": "stdout",
     "output_type": "stream",
     "text": [
      "[[7 6 6]\n",
      " [7 6 6]]\n",
      "[[2 4 6]\n",
      " [6 4 2]]\n"
     ]
    }
   ],
   "source": [
    "print(a+5)\n",
    "print(b*2)"
   ]
  },
  {
   "cell_type": "code",
   "execution_count": 272,
   "id": "73fea365",
   "metadata": {},
   "outputs": [
    {
     "name": "stdout",
     "output_type": "stream",
     "text": [
      "square root of a:  [[1.41421356 1.         1.        ]\n",
      " [1.41421356 1.         1.        ]]\n",
      "exponential of a:  [[7.3890561  2.71828183 2.71828183]\n",
      " [7.3890561  2.71828183 2.71828183]]\n",
      "natural log of a:  [[0.69314718 0.         0.        ]\n",
      " [0.69314718 0.         0.        ]]\n"
     ]
    }
   ],
   "source": [
    "#mathematical functions\n",
    "print(\"square root of a: \",np.sqrt(a))\n",
    "print(\"exponential of a: \",np.exp(a))\n",
    "print(\"natural log of a: \",np.log(a))\n"
   ]
  },
  {
   "cell_type": "code",
   "execution_count": 273,
   "id": "6797ca76",
   "metadata": {},
   "outputs": [
    {
     "name": "stdout",
     "output_type": "stream",
     "text": [
      "AND:  [False False  True False]\n",
      "OR:  [ True False  True  True]\n",
      "NOT:  [False  True False  True]\n"
     ]
    }
   ],
   "source": [
    "#boolean operations\n",
    "c=np.array([True,False,True,False])\n",
    "d=np.array([False,False,True,True])\n",
    "print(\"AND: \",np.logical_and(c,d))\n",
    "print(\"OR: \",np.logical_or(c,d))\n",
    "print(\"NOT: \",np.logical_not(c,d))"
   ]
  },
  {
   "cell_type": "markdown",
   "id": "0adc0985",
   "metadata": {},
   "source": [
    "### Functions: min(), max(), argmin(), argmax()"
   ]
  },
  {
   "cell_type": "code",
   "execution_count": 274,
   "id": "3794570d",
   "metadata": {},
   "outputs": [
    {
     "name": "stdout",
     "output_type": "stream",
     "text": [
      "minimum value:  1\n",
      "maximum value:  3\n",
      "index of minimum value:  0\n",
      "index of maximum value:  2\n"
     ]
    }
   ],
   "source": [
    "ar01=np.array([1,2,3])\n",
    "print(\"minimum value: \",np.min(ar01))\n",
    "print(\"maximum value: \",np.max(ar01))\n",
    "print(\"index of minimum value: \",np.argmin(ar01))\n",
    "print(\"index of maximum value: \",np.argmax(ar01))"
   ]
  },
  {
   "cell_type": "code",
   "execution_count": 275,
   "id": "520d88c2",
   "metadata": {},
   "outputs": [
    {
     "name": "stdout",
     "output_type": "stream",
     "text": [
      "[[1 1 1 1]\n",
      " [2 2 2 2]]\n",
      "[1 1 1 1]\n",
      "[2 2 2 2]\n"
     ]
    }
   ],
   "source": [
    "#Slice a 2D array into sub-arrays.\n",
    "d2=np.array([[1,1,1,1],[2,2,2,2]])\n",
    "print(d2)\n",
    "print(d2[0,:])\n",
    "print(d2[1,:])"
   ]
  },
  {
   "cell_type": "code",
   "execution_count": 276,
   "id": "1382a370",
   "metadata": {},
   "outputs": [
    {
     "name": "stdout",
     "output_type": "stream",
     "text": [
      "[[ 9  3  6  5]\n",
      " [34  6 42  8]\n",
      " [ 9  0 10 11]\n",
      " [12 29 71 15]]\n",
      "max of each row:  [ 9 42 11 71]\n",
      "min of each column:  [9 0 6 5]\n"
     ]
    }
   ],
   "source": [
    "#Find row-wise max, column-wise min.\n",
    "ar1=np.array([[9,3,6,5],[34,6,42,8],[9,0,10,11],[12,29,71,15]])\n",
    "print(ar1)\n",
    "print(\"max of each row: \",np.max(ar1,axis=1))\n",
    "print(\"min of each column: \",np.min(ar1,axis=0))"
   ]
  },
  {
   "cell_type": "code",
   "execution_count": 277,
   "id": "b449d2bd",
   "metadata": {},
   "outputs": [
    {
     "name": "stdout",
     "output_type": "stream",
     "text": [
      "[[12  6  9  8]\n",
      " [12  6  9  8]\n",
      " [12  6  9  8]\n",
      " [12  6  9  8]]\n"
     ]
    }
   ],
   "source": [
    "#Perform broadcasting .\n",
    "ar1=np.array([9,3,6,5]) #1x4 matrix\n",
    "ar3=np.array([[3],[3],[3],[3]]) #4x1 matrix\n",
    "print(ar1+ar3)"
   ]
  },
  {
   "cell_type": "code",
   "execution_count": 278,
   "id": "50024286",
   "metadata": {},
   "outputs": [
    {
     "name": "stdout",
     "output_type": "stream",
     "text": [
      "[ 1  2  3  4  5  6  7  8  9 10 11 12 13 14 15 16 17 18 19 20]\n",
      "[1 2 3 4 5]\n"
     ]
    }
   ],
   "source": [
    "#Slice the first 5 elements from an array of numbers 1–20.\n",
    "ar20=np.arange(1,21)\n",
    "print(ar20)\n",
    "print(ar20[:5])"
   ]
  },
  {
   "cell_type": "code",
   "execution_count": 279,
   "id": "7681ef7e",
   "metadata": {},
   "outputs": [
    {
     "name": "stdout",
     "output_type": "stream",
     "text": [
      "[[18  2 13 17]\n",
      " [ 4  4  6 19]\n",
      " [12  3  4  1]\n",
      " [15 14 13  9]]\n",
      "[18  4  4  9]\n"
     ]
    }
   ],
   "source": [
    "#Extract the diagonal elements of a 4×4 matrix.\n",
    "dia=np.random.randint(1,20,size=(4,4))\n",
    "print(dia)\n",
    "print(np.diag(dia))\n"
   ]
  },
  {
   "cell_type": "code",
   "execution_count": 280,
   "id": "a20342bc",
   "metadata": {},
   "outputs": [
    {
     "name": "stdout",
     "output_type": "stream",
     "text": [
      "[[-15   2  -6  12]\n",
      " [ -8   9 -17 -11]\n",
      " [ 12  14 -14  -4]\n",
      " [-16  -3 -18  -5]]\n",
      "[[ 0  2  0 12]\n",
      " [ 0  9  0  0]\n",
      " [12 14  0  0]\n",
      " [ 0  0  0  0]]\n"
     ]
    }
   ],
   "source": [
    "#Replace all negative values in an array with 0.\n",
    "rep=np.random.randint(-20,20,size=(4,4))\n",
    "print(rep)\n",
    "new_rep=np.where(rep<0,0,rep) \n",
    "print(new_rep)"
   ]
  },
  {
   "cell_type": "markdown",
   "id": "2078cca7",
   "metadata": {},
   "source": [
    "###### what happens here in the above question is that \n",
    "###### condition → Boolean array (True/False for each element).\n",
    "\n",
    "###### x → values to use where condition is True.\n",
    "\n",
    "###### y → values to use where condition is False.\n",
    "\n",
    "###### It returns a new array of the same shape as the input."
   ]
  },
  {
   "cell_type": "code",
   "execution_count": 281,
   "id": "c0679699",
   "metadata": {},
   "outputs": [
    {
     "name": "stdout",
     "output_type": "stream",
     "text": [
      "[[0 0 0 0 0 0 0 0 0 0]\n",
      " [0 0 0 0 0 0 0 0 0 0]\n",
      " [0 0 0 0 0 0 0 0 0 0]\n",
      " [0 0 0 0 0 0 0 0 0 0]\n",
      " [0 0 0 0 0 0 0 0 0 0]\n",
      " [0 0 0 0 0 0 0 0 0 0]\n",
      " [0 0 0 0 0 0 0 0 0 0]\n",
      " [0 0 0 0 0 0 0 0 0 0]\n",
      " [0 0 0 0 0 0 0 0 0 0]\n",
      " [0 0 0 0 0 0 0 0 0 0]]\n",
      "[[1 1 1 1 1 1 1 1 1 1]\n",
      " [1 0 0 0 0 0 0 0 0 1]\n",
      " [1 0 0 0 0 0 0 0 0 1]\n",
      " [1 0 0 0 0 0 0 0 0 1]\n",
      " [1 0 0 0 0 0 0 0 0 1]\n",
      " [1 0 0 0 0 0 0 0 0 1]\n",
      " [1 0 0 0 0 0 0 0 0 1]\n",
      " [1 0 0 0 0 0 0 0 0 1]\n",
      " [1 0 0 0 0 0 0 0 0 1]\n",
      " [1 1 1 1 1 1 1 1 1 1]]\n"
     ]
    }
   ],
   "source": [
    "#Create a 10×10 array and set the border elements to 1, inner elements to 0.\n",
    "ar10=np.zeros((10,10),dtype=int)\n",
    "print(ar10)\n",
    "ar10[0,:]=1\n",
    "ar10[-1,:]=1\n",
    "ar10[:,0]=1\n",
    "ar10[:,-1]=1\n",
    "print(ar10)"
   ]
  },
  {
   "cell_type": "code",
   "execution_count": 282,
   "id": "94482fe5",
   "metadata": {},
   "outputs": [
    {
     "name": "stdout",
     "output_type": "stream",
     "text": [
      "[[40 30 49 43 22]\n",
      " [30 48 34 46 18]\n",
      " [ 8 20 35 18 10]\n",
      " [19 17 11  6 26]\n",
      " [13  1 37 12 31]]\n",
      "[[99 99 99 99 22]\n",
      " [99 99 99 99 18]\n",
      " [ 8 20 99 18 10]\n",
      " [19 17 11  6 99]\n",
      " [13  1 99 12 99]]\n"
     ]
    }
   ],
   "source": [
    "#Create a 5×5 random integer array (1–50) and replace all values greater than 25 with 99.\n",
    "gr25=np.random.randint(1,50,size=(5,5))\n",
    "print(gr25)\n",
    "new_gr25=np.where(gr25>=25,99,gr25)\n",
    "print(new_gr25)"
   ]
  },
  {
   "cell_type": "code",
   "execution_count": 283,
   "id": "4f49215a",
   "metadata": {},
   "outputs": [
    {
     "name": "stdout",
     "output_type": "stream",
     "text": [
      "[[8 7 7 6 3 7]\n",
      " [7 7 5 6 5 6]\n",
      " [6 2 8 8 6 2]\n",
      " [8 6 3 8 9 3]\n",
      " [6 4 8 6 4 2]\n",
      " [8 4 1 6 3 3]]\n",
      "[[8 7 7]\n",
      " [7 7 5]\n",
      " [6 2 8]]\n"
     ]
    }
   ],
   "source": [
    "#Create a 6×6 array and extract the top-left 3×3 subarray.\n",
    "tl=np.random.randint(1,10,size=(6,6))\n",
    "print(tl)\n",
    "print(tl[:3,:3])\n"
   ]
  },
  {
   "cell_type": "code",
   "execution_count": 284,
   "id": "beccec55",
   "metadata": {},
   "outputs": [
    {
     "name": "stdout",
     "output_type": "stream",
     "text": [
      "[[5 1 3 1 9]\n",
      " [6 4 1 1 5]\n",
      " [5 6 1 9 5]\n",
      " [2 2 8 5 9]\n",
      " [7 1 1 5 5]]\n",
      "[[8 5 9]\n",
      " [1 5 5]]\n"
     ]
    }
   ],
   "source": [
    "#From a 5×5 array of numbers 1–25, extract all elements in the last 2 rows and last 3 columns.\n",
    "l23=np.random.randint(1,10,size=(5,5))\n",
    "print(l23)\n",
    "print(l23[-2:,-3:])"
   ]
  },
  {
   "cell_type": "code",
   "execution_count": 285,
   "id": "acdc2744",
   "metadata": {},
   "outputs": [
    {
     "name": "stdout",
     "output_type": "stream",
     "text": [
      "[[ 0  1  2  3]\n",
      " [ 4  5  6  7]\n",
      " [ 8  9 10 11]\n",
      " [12 13 14 15]]\n",
      "[[0 1]\n",
      " [4 5]]\n",
      "[[2 3]\n",
      " [6 7]]\n",
      "[[10 11]\n",
      " [14 15]]\n",
      "[[ 8  9]\n",
      " [12 13]]\n"
     ]
    }
   ],
   "source": [
    "#Slice a 4×4 array into four 2×2 subarrays.\n",
    "f22=np.arange(16).reshape(4,4)\n",
    "print(f22)\n",
    "subf1=f22[:2,:2]\n",
    "subf2=f22[:2,2:24]\n",
    "subf3=f22[2:4,2:4]\n",
    "subf4=f22[2:4,:2]\n",
    "print(subf1)\n",
    "print(subf2)\n",
    "print(subf3)\n",
    "print(subf4)"
   ]
  },
  {
   "cell_type": "code",
   "execution_count": 286,
   "id": "b8b4fa4a",
   "metadata": {},
   "outputs": [
    {
     "name": "stdout",
     "output_type": "stream",
     "text": [
      "[[ 0  1  2  3]\n",
      " [ 4  5  6  7]\n",
      " [ 8  9 10 11]\n",
      " [12 13 14 15]]\n",
      "row wise sum:  [ 6 22 38 54]\n",
      "column eise mean:  [6. 7. 8. 9.]\n"
     ]
    }
   ],
   "source": [
    "#Find the row-wise sum and column-wise mean of a 4×4 array.\n",
    "rcsm=np.arange(16).reshape(4,4)\n",
    "print(rcsm)\n",
    "print(\"row wise sum: \",np.sum(rcsm,axis=1))\n",
    "print(\"column eise mean: \",np.mean(rcsm,axis=0))"
   ]
  },
  {
   "cell_type": "code",
   "execution_count": 287,
   "id": "f166ebbb",
   "metadata": {},
   "outputs": [
    {
     "name": "stdout",
     "output_type": "stream",
     "text": [
      "[[92  3 28 55 61]\n",
      " [74 13 73 69 94]\n",
      " [79  5 85 56 65]]\n",
      "maximum of each row:  [92 94 85]\n",
      "minimum of each column:  [74  3 28 55 61]\n"
     ]
    }
   ],
   "source": [
    "#For a 3×5 random integer array (1–100), find the maximum of each row and the minimum of each column.\n",
    "mrmc=np.random.randint(1,100,size=(3,5))\n",
    "print(mrmc)\n",
    "print(\"maximum of each row: \",np.max(mrmc,axis=1))\n",
    "print(\"minimum of each column: \",np.min(mrmc,axis=0))"
   ]
  },
  {
   "cell_type": "markdown",
   "id": "ac049be3",
   "metadata": {},
   "source": [
    "## DAY 3\n",
    "#### Array Reshaping & Manipulation"
   ]
  },
  {
   "cell_type": "markdown",
   "id": "b0d8808a",
   "metadata": {},
   "source": [
    "#### Reshape , Flatten , Ravel , Transpose"
   ]
  },
  {
   "cell_type": "code",
   "execution_count": 288,
   "id": "1413c4bc",
   "metadata": {},
   "outputs": [
    {
     "name": "stdout",
     "output_type": "stream",
     "text": [
      "[ 1  2  3  4  5  6  7  8  9 10 11 12]\n",
      "[[ 1  2  3  4]\n",
      " [ 5  6  7  8]\n",
      " [ 9 10 11 12]]\n"
     ]
    }
   ],
   "source": [
    "res=np.array([1,2,3,4,5,6,7,8,9,10,11,12])\n",
    "print(res)\n",
    "reshaped=res.reshape(3,4)\n",
    "print(reshaped)"
   ]
  },
  {
   "cell_type": "code",
   "execution_count": 289,
   "id": "de45d7c8",
   "metadata": {},
   "outputs": [
    {
     "name": "stdout",
     "output_type": "stream",
     "text": [
      "[ 1  2  3  4  5  6  7  8  9 10 11 12]\n"
     ]
    }
   ],
   "source": [
    "flattened=reshaped.flatten()\n",
    "print(flattened)"
   ]
  },
  {
   "cell_type": "code",
   "execution_count": 290,
   "id": "f3e892aa",
   "metadata": {},
   "outputs": [
    {
     "name": "stdout",
     "output_type": "stream",
     "text": [
      "[ 1  2  3  4  5  6  7  8  9 10 11 12]\n"
     ]
    }
   ],
   "source": [
    "raveled=reshaped.ravel()\n",
    "print(raveled)"
   ]
  },
  {
   "cell_type": "markdown",
   "id": "f2bea5f7",
   "metadata": {},
   "source": [
    "###### the difference between flatten() and ravel() is that although they seemingly do the same function of making a multidimensional array into a 1D array, \n",
    "###### the flatten() function makes a copy of original array and then change it into 1D\n",
    "###### while the ravel() function changes the original array to view like 1D array , therefore when we make any change in the raveled array , it will effect the original array\n",
    "###### transpose() is used to interchange the rows and columns "
   ]
  },
  {
   "cell_type": "code",
   "execution_count": 291,
   "id": "0745b56c",
   "metadata": {},
   "outputs": [
    {
     "name": "stdout",
     "output_type": "stream",
     "text": [
      "[[2 4 4 4]\n",
      " [6 6 4 6]\n",
      " [2 3 4 3]]\n",
      "transpose: \n",
      "[[2 6 2]\n",
      " [4 6 3]\n",
      " [4 4 4]\n",
      " [4 6 3]]\n"
     ]
    }
   ],
   "source": [
    "tr=np.random.randint(2,7,size=(3,4))\n",
    "print(tr)\n",
    "print(\"transpose: \")\n",
    "print(tr.transpose())"
   ]
  },
  {
   "cell_type": "code",
   "execution_count": 292,
   "id": "10ced471",
   "metadata": {},
   "outputs": [
    {
     "name": "stdout",
     "output_type": "stream",
     "text": [
      "[ 0  1  2  3  4  5  6  7  8  9 10 11]\n",
      "[[ 0  1  2  3]\n",
      " [ 4  5  6  7]\n",
      " [ 8  9 10 11]]\n"
     ]
    }
   ],
   "source": [
    "#Convert a 1D array into 2D (3×4).\n",
    "d1_d2=np.arange(12)\n",
    "print(d1_d2)\n",
    "d2=d1_d2.reshape(3,4)\n",
    "print(d2)"
   ]
  },
  {
   "cell_type": "code",
   "execution_count": 293,
   "id": "d2c8529f",
   "metadata": {},
   "outputs": [
    {
     "name": "stdout",
     "output_type": "stream",
     "text": [
      "[[ 0  1  2  3]\n",
      " [ 4  5  6  7]\n",
      " [ 8  9 10 11]]\n",
      "[ 0  1  2  3  4  5  6  7  8  9 10 11]\n"
     ]
    }
   ],
   "source": [
    "#Flatten a matrix into 1D.\n",
    "print(d2)\n",
    "flattened2=d2.flatten()\n",
    "print(flattened2)"
   ]
  },
  {
   "cell_type": "code",
   "execution_count": 294,
   "id": "bf826df2",
   "metadata": {},
   "outputs": [
    {
     "name": "stdout",
     "output_type": "stream",
     "text": [
      "[[ 0  1  2  3]\n",
      " [ 4  5  6  7]\n",
      " [ 8  9 10 11]]\n",
      "transpose: \n",
      "[[ 0  4  8]\n",
      " [ 1  5  9]\n",
      " [ 2  6 10]\n",
      " [ 3  7 11]]\n"
     ]
    }
   ],
   "source": [
    "#Transpose a 2D array.\n",
    "print(d2)\n",
    "print(\"transpose: \")\n",
    "print(d2.transpose())"
   ]
  },
  {
   "cell_type": "code",
   "execution_count": 295,
   "id": "e0e92aae",
   "metadata": {},
   "outputs": [
    {
     "name": "stdout",
     "output_type": "stream",
     "text": [
      "[ 0  1  2  3  4  5  6  7  8  9 10 11 12 13 14 15 16 17 18 19 20 21 22 23\n",
      " 24]\n",
      "reshaped: \n",
      "[[ 0  1  2  3  4]\n",
      " [ 5  6  7  8  9]\n",
      " [10 11 12 13 14]\n",
      " [15 16 17 18 19]\n",
      " [20 21 22 23 24]]\n"
     ]
    }
   ],
   "source": [
    "#Create an array of numbers 1–12 and reshape it into a 3×4 matrix.\n",
    "arr=np.arange(25)\n",
    "print(arr)\n",
    "print(\"reshaped: \")\n",
    "print(arr.reshape(5,5))"
   ]
  },
  {
   "cell_type": "code",
   "execution_count": 296,
   "id": "008c1048",
   "metadata": {},
   "outputs": [
    {
     "name": "stdout",
     "output_type": "stream",
     "text": [
      "[[16 16 11]\n",
      " [21 14 24]]\n",
      "transpose: \n",
      "[[16 21]\n",
      " [16 14]\n",
      " [11 24]]\n"
     ]
    }
   ],
   "source": [
    "#Transpose a 2×3 matrix into a 3×2 matrix.\n",
    "tr=np.random.randint(2,25,size=(2,3))\n",
    "print(tr)\n",
    "print(\"transpose: \")\n",
    "print(tr.transpose())"
   ]
  },
  {
   "cell_type": "code",
   "execution_count": 297,
   "id": "7f0db5a3",
   "metadata": {},
   "outputs": [
    {
     "name": "stdout",
     "output_type": "stream",
     "text": [
      "[ 0  1  2  3  4  5  6  7  8  9 10 11 12 13 14 15 16 17 18 19 20 21 22 23\n",
      " 24 25 26 27 28 29]\n",
      "reshaped to 6x5: \n",
      "[[ 0  1  2  3  4]\n",
      " [ 5  6  7  8  9]\n",
      " [10 11 12 13 14]\n",
      " [15 16 17 18 19]\n",
      " [20 21 22 23 24]\n",
      " [25 26 27 28 29]]\n",
      "3rd column: \n",
      "[[ 2]\n",
      " [ 7]\n",
      " [12]\n",
      " [17]\n",
      " [22]\n",
      " [27]]\n"
     ]
    }
   ],
   "source": [
    "#Reshape numbers 0–29 into a 6×5 matrix and extract the 3rd column.\n",
    "rr=np.arange(30)\n",
    "print(rr)\n",
    "print(\"reshaped to 6x5: \")\n",
    "rr1=rr.reshape(6,5)\n",
    "print(rr1)\n",
    "print(\"3rd column: \")\n",
    "print(rr1[:,2:3])"
   ]
  },
  {
   "cell_type": "code",
   "execution_count": 298,
   "id": "a3e3368e",
   "metadata": {},
   "outputs": [
    {
     "name": "stdout",
     "output_type": "stream",
     "text": [
      "[[3 3 3]\n",
      " [3 5 2]\n",
      " [7 2 2]]\n",
      "flattened: \n",
      "[3 3 3 3 5 2 7 2 2]\n",
      "in descending order: \n",
      "[7 5 3 3 3 3 2 2 2]\n"
     ]
    }
   ],
   "source": [
    "#Flatten a 3×3 matrix and sort elements in descending order.\n",
    "des=np.random.randint(0,9,size=(3,3))\n",
    "print(des)\n",
    "print(\"flattened: \")\n",
    "des1=des.flatten()\n",
    "print(des1)\n",
    "print(\"in descending order: \")\n",
    "print(np.sort(des1)[::-1])"
   ]
  },
  {
   "cell_type": "code",
   "execution_count": 369,
   "id": "00290d77",
   "metadata": {},
   "outputs": [
    {
     "name": "stdout",
     "output_type": "stream",
     "text": [
      "[[0 0 0 0 0 0 0 0]\n",
      " [0 0 0 0 0 0 0 0]\n",
      " [0 0 0 0 0 0 0 0]\n",
      " [0 0 0 0 0 0 0 0]\n",
      " [0 0 0 0 0 0 0 0]\n",
      " [0 0 0 0 0 0 0 0]\n",
      " [0 0 0 0 0 0 0 0]\n",
      " [0 0 0 0 0 0 0 0]]\n",
      "[[0 1 0 1 0 1 0 1]\n",
      " [1 0 1 0 1 0 1 0]\n",
      " [0 1 0 1 0 1 0 1]\n",
      " [1 0 1 0 1 0 1 0]\n",
      " [0 1 0 1 0 1 0 1]\n",
      " [1 0 1 0 1 0 1 0]\n",
      " [0 1 0 1 0 1 0 1]\n",
      " [1 0 1 0 1 0 1 0]]\n"
     ]
    }
   ],
   "source": [
    "#Create an 8×8 checkerboard pattern using only zeros() and slicing.\n",
    "# A checkerboard pattern is a grid of alternating black and white (or 0 and 1) squares — like the board used for chess or checkers.\n",
    "cb=np.zeros((8,8),dtype=int)\n",
    "print(cb)\n",
    "cb[::2,1::2]=1 #even rows, odd columns\n",
    "cb[1::2,::2]=1 #odd rows , even columns\n",
    "print(cb)"
   ]
  },
  {
   "cell_type": "code",
   "execution_count": 300,
   "id": "cee63a30",
   "metadata": {},
   "outputs": [
    {
     "name": "stdout",
     "output_type": "stream",
     "text": [
      "[[1 0 0 0 0]\n",
      " [0 1 0 0 0]\n",
      " [0 0 1 0 0]\n",
      " [0 0 0 1 0]\n",
      " [0 0 0 0 1]]\n"
     ]
    }
   ],
   "source": [
    "#Create a 5×5 identity matrix (diagonal = 1, others = 0).\n",
    "idm=np.identity(5,dtype=int)\n",
    "print(idm)"
   ]
  },
  {
   "cell_type": "code",
   "execution_count": 301,
   "id": "5c287131",
   "metadata": {},
   "outputs": [
    {
     "name": "stdout",
     "output_type": "stream",
     "text": [
      "[[85 84 14 69 23]\n",
      " [82 87 48 32 32]\n",
      " [90 46 79 85 70]\n",
      " [48 50 96 23 17]]\n"
     ]
    }
   ],
   "source": [
    "#Generate an array of 20 random integers between 10 and 99, and reshape it into a 4×5 matrix.\n",
    "res=np.random.randint(10,99,size=(4,5))\n",
    "print(res)"
   ]
  },
  {
   "cell_type": "code",
   "execution_count": 302,
   "id": "ef154c4e",
   "metadata": {},
   "outputs": [
    {
     "name": "stdout",
     "output_type": "stream",
     "text": [
      "[ 1  2  3  4  5  6  7  8  9 10 11 12 13 14 15 16 17 18 19 20 21 22 23 24\n",
      " 25 26 27 28 29 30]\n",
      "this is the positions(indices) of even numbers in e\n",
      "(array([ 1,  3,  5,  7,  9, 11, 13, 15, 17, 19, 21, 23, 25, 27, 29]),)\n",
      "this is the even numbers: \n",
      "[ 2  4  6  8 10 12 14 16 18 20 22 24 26 28 30]\n"
     ]
    }
   ],
   "source": [
    "#Extract all even numbers from an array of numbers 1–30.\n",
    "e=np.arange(1,31)\n",
    "print(e)\n",
    "e1=np.where(e%2==0)\n",
    "print(\"this is the positions(indices) of even numbers in e\")\n",
    "print(e1)\n",
    "e2=e[np.where(e%2==0)]\n",
    "print(\"this is the even numbers: \")\n",
    "print(e2)"
   ]
  },
  {
   "cell_type": "code",
   "execution_count": 303,
   "id": "ebb3a0f5",
   "metadata": {},
   "outputs": [
    {
     "name": "stdout",
     "output_type": "stream",
     "text": [
      "[[ 0  1  2  3]\n",
      " [ 4  5  6  7]\n",
      " [ 8  9 10 11]\n",
      " [12 13 14 15]]\n",
      "[[ 0 -1  2  3]\n",
      " [-1  5  6 -1]\n",
      " [ 8  9 -1 11]\n",
      " [12 -1 14 15]]\n"
     ]
    }
   ],
   "source": [
    "#Replace all numbers divisible by 3 with -1 in an array of numbers 1–15.\n",
    "b3=np.arange(16).reshape(4,4)\n",
    "print(b3)\n",
    "b3r=np.where(b3%3==1,-1,b3)\n",
    "print(b3r)\n"
   ]
  },
  {
   "cell_type": "markdown",
   "id": "17226be9",
   "metadata": {},
   "source": [
    "## DAY 4 \n",
    "#### Joining, Splitting & Copying"
   ]
  },
  {
   "cell_type": "code",
   "execution_count": 304,
   "id": "8b4d0f86",
   "metadata": {},
   "outputs": [
    {
     "name": "stdout",
     "output_type": "stream",
     "text": [
      "<class 'builtin_function_or_method'>\n"
     ]
    },
    {
     "name": "stderr",
     "output_type": "stream",
     "text": [
      "C:\\Users\\Admin\\AppData\\Local\\Programs\\Python\\Python313\\Lib\\importlib\\__init__.py:129: UserWarning: The NumPy module was reloaded (imported a second time). This can in some cases result in small but subtle issues and is discouraged.\n",
      "  _bootstrap._exec(spec, module)\n"
     ]
    }
   ],
   "source": [
    "import importlib, numpy\n",
    "importlib.reload(numpy)\n",
    "import numpy as np\n",
    "\n",
    "print(type(np.array))\n"
   ]
  },
  {
   "cell_type": "code",
   "execution_count": 305,
   "id": "a0d6cf67",
   "metadata": {},
   "outputs": [
    {
     "name": "stdout",
     "output_type": "stream",
     "text": [
      "[1 2 3 4] \n",
      " [6 7 8 9]\n",
      "concatinating/joining these two arrays\n",
      "[1 2 3 4 6 7 8 9]\n",
      "#joining arrays along rows\n",
      "[[1 2 3 4]\n",
      " [5 6 7 8]]\n",
      "[[9 8 7 6]\n",
      " [4 3 2 1]]\n",
      "[[1 2 3 4 9 8 7 6]\n",
      " [5 6 7 8 4 3 2 1]]\n"
     ]
    }
   ],
   "source": [
    "array1= np.array([1,2,3,4])\n",
    "array2=np.array([6,7,8,9])\n",
    "print(array1,\"\\n\",array2)\n",
    "print(\"concatinating/joining these two arrays\")\n",
    "joined_array=np.concatenate((array1,array2))\n",
    "print(joined_array)\n",
    "\n",
    "print(\"#joining arrays along rows\")\n",
    "array3=np.array([[1,2,3,4],[5,6,7,8]])\n",
    "print(array3)\n",
    "array4=np.array([[9,8,7,6],[4,3,2,1]])\n",
    "print(array4)\n",
    "row_array=np.concatenate((array3,array4),axis=1)\n",
    "print(row_array)"
   ]
  },
  {
   "cell_type": "markdown",
   "id": "280143ff",
   "metadata": {},
   "source": [
    "##### numpy.vstack() (Vertical Stack)\n",
    "\n",
    "##### Meaning: Joins arrays vertically → row-wise.\n",
    "\n",
    "##### Think of it like putting one array on top of the other.\n",
    "\n",
    "##### It works along axis=0 for 2D arrays."
   ]
  },
  {
   "cell_type": "code",
   "execution_count": 306,
   "id": "286e0921",
   "metadata": {},
   "outputs": [
    {
     "name": "stdout",
     "output_type": "stream",
     "text": [
      "[1 2 3 4] \n",
      " [6 7 8 9]\n",
      "VSTACK\n",
      "[[1 2 3 4]\n",
      " [6 7 8 9]]\n"
     ]
    }
   ],
   "source": [
    "print(array1,\"\\n\",array2)\n",
    "print(\"VSTACK\")\n",
    "v=np.vstack((array1,array2))\n",
    "print(v)"
   ]
  },
  {
   "cell_type": "code",
   "execution_count": 307,
   "id": "47e96c3f",
   "metadata": {},
   "outputs": [
    {
     "name": "stdout",
     "output_type": "stream",
     "text": [
      "[[1 2 3 4]\n",
      " [5 6 7 8]] \n",
      " [[9 8 7 6]\n",
      " [4 3 2 1]] \n",
      "\n",
      "[[1 2 3 4]\n",
      " [5 6 7 8]\n",
      " [9 8 7 6]\n",
      " [4 3 2 1]]\n"
     ]
    }
   ],
   "source": [
    "print(array3,\"\\n\",array4,\"\\n\")\n",
    "v1=np.vstack((array3,array4))\n",
    "print(v1)"
   ]
  },
  {
   "cell_type": "markdown",
   "id": "68b9a7e9",
   "metadata": {},
   "source": [
    "##### numpy.hstack() (Horizontal Stack)\n",
    "\n",
    "#### Meaning: Joins arrays horizontally → side by side, column-wise.\n",
    "\n",
    "##### Think of it like putting two arrays next to each other.\n",
    "\n",
    "#### It works along axis=1 for 2D arrays."
   ]
  },
  {
   "cell_type": "code",
   "execution_count": 308,
   "id": "fa2101db",
   "metadata": {},
   "outputs": [
    {
     "name": "stdout",
     "output_type": "stream",
     "text": [
      "[1 2 3 4] \n",
      " [6 7 8 9]\n",
      "HSTACK\n",
      "[1 2 3 4 6 7 8 9]\n"
     ]
    }
   ],
   "source": [
    "print(array1,\"\\n\",array2)\n",
    "print(\"HSTACK\")\n",
    "h=np.hstack((array1,array2))\n",
    "print(h)"
   ]
  },
  {
   "cell_type": "code",
   "execution_count": 309,
   "id": "57dd8620",
   "metadata": {},
   "outputs": [
    {
     "name": "stdout",
     "output_type": "stream",
     "text": [
      "[[1 2 3 4]\n",
      " [5 6 7 8]] \n",
      " [[9 8 7 6]\n",
      " [4 3 2 1]] \n",
      "\n",
      "[[1 2 3 4 9 8 7 6]\n",
      " [5 6 7 8 4 3 2 1]]\n"
     ]
    }
   ],
   "source": [
    "print(array3,\"\\n\",array4,\"\\n\")\n",
    "h1=np.hstack((array3,array4))\n",
    "print(h1)"
   ]
  },
  {
   "cell_type": "markdown",
   "id": "a90d44eb",
   "metadata": {},
   "source": [
    "#### np.split() is used to divide an array into multiple sub-arrays.\n",
    "#### Works for 1D, 2D, or N-D arrays.\n",
    "#### You can split equally or by indices\n",
    "#### numpy.split(ary, indices_or_sections, axis=0)\n"
   ]
  },
  {
   "cell_type": "code",
   "execution_count": 310,
   "id": "10172cbd",
   "metadata": {},
   "outputs": [
    {
     "name": "stdout",
     "output_type": "stream",
     "text": [
      "SPLIT\n",
      "[1 2 3 4]\n",
      "[array([1, 2]), array([3, 4])]\n"
     ]
    }
   ],
   "source": [
    "print(\"SPLIT\")\n",
    "print(array1)\n",
    "sparray1=np.split(array1,2) #split(array_name, no.of parts to split the array)\n",
    "print(sparray1)"
   ]
  },
  {
   "cell_type": "code",
   "execution_count": 311,
   "id": "58cfa0da",
   "metadata": {},
   "outputs": [
    {
     "name": "stdout",
     "output_type": "stream",
     "text": [
      "[[1 2 3 4]\n",
      " [5 6 7 8]\n",
      " [9 8 7 6]\n",
      " [4 3 2 1]]\n",
      "[array([[1, 2],\n",
      "       [5, 6],\n",
      "       [9, 8],\n",
      "       [4, 3]]), array([[3, 4],\n",
      "       [7, 8],\n",
      "       [7, 6],\n",
      "       [2, 1]])]\n"
     ]
    }
   ],
   "source": [
    "print(v1)\n",
    "sp1array1=np.split(v1,2,axis=1) #split column into 2 parts\n",
    "print(sp1array1)"
   ]
  },
  {
   "cell_type": "code",
   "execution_count": 312,
   "id": "7d433a51",
   "metadata": {},
   "outputs": [
    {
     "name": "stdout",
     "output_type": "stream",
     "text": [
      "[[1 2 3 4]\n",
      " [5 6 7 8]\n",
      " [9 8 7 6]\n",
      " [4 3 2 1]]\n",
      "[array([[1, 2, 3, 4],\n",
      "       [5, 6, 7, 8]]), array([[9, 8, 7, 6],\n",
      "       [4, 3, 2, 1]])]\n"
     ]
    }
   ],
   "source": [
    "print(v1)\n",
    "sp2array1=np.split(v1,2,axis=0)\n",
    "print(sp2array1)"
   ]
  },
  {
   "cell_type": "code",
   "execution_count": 313,
   "id": "fc200b45",
   "metadata": {},
   "outputs": [
    {
     "name": "stdout",
     "output_type": "stream",
     "text": [
      "[1 2 3 4]\n",
      "[array([1, 2]), array([3]), array([4])]\n"
     ]
    }
   ],
   "source": [
    "print(array1)\n",
    "spind=np.split(array1,[2,3])\n",
    "print(spind)"
   ]
  },
  {
   "cell_type": "markdown",
   "id": "1803f365",
   "metadata": {},
   "source": [
    "##### COPY()\n",
    "##### When you want a completely independent array.\n",
    "##### Useful in array manipulation, functions, or loops where you don’t want the original to change."
   ]
  },
  {
   "cell_type": "code",
   "execution_count": 314,
   "id": "0269567a",
   "metadata": {},
   "outputs": [
    {
     "name": "stdout",
     "output_type": "stream",
     "text": [
      "initial a :  [1 2 3 4]\n",
      "[100   2   3   4] \n",
      " [100   2   3   4]\n",
      "here both a and b changed the value at index 1 to 100,because b is not a copy of a , but an another reference\n"
     ]
    }
   ],
   "source": [
    "a=np.array([1,2,3,4])\n",
    "print(\"initial a : \",a)\n",
    "b=a \n",
    "b[0]=100\n",
    "print(a,\"\\n\",b)\n",
    "print(\"here both a and b changed the value at index 1 to 100,because b is not a copy of a , but an another reference\")"
   ]
  },
  {
   "cell_type": "code",
   "execution_count": 315,
   "id": "ef0d2cdb",
   "metadata": {},
   "outputs": [
    {
     "name": "stdout",
     "output_type": "stream",
     "text": [
      "a:  [1 2 3 4] \n",
      "b:  [100   2   3   4]\n",
      "a after shallow copied to c:  [101   2   3   4] \n",
      "c:  [101   2   3   4]\n"
     ]
    }
   ],
   "source": [
    "a=np.array([1,2,3,4])\n",
    "b=a.copy() #deep copy of a to b \n",
    "c=a.view() #shallow copy of a to c\n",
    "\n",
    "b[0]=100\n",
    "print(\"a: \",a,\"\\nb: \",b)\n",
    "c[0]=101\n",
    "print(\"a after shallow copied to c: \",a,\"\\nc: \",c)\n"
   ]
  },
  {
   "cell_type": "code",
   "execution_count": 316,
   "id": "a1cd9c6d",
   "metadata": {},
   "outputs": [
    {
     "name": "stdout",
     "output_type": "stream",
     "text": [
      "[1 2 3] \n",
      " [4 5 6]\n",
      "[1 2 3 4 5 6]\n"
     ]
    }
   ],
   "source": [
    "#Concatenate two arrays [1,2,3] and [4,5,6].\n",
    "ar1=np.array([1,2,3])\n",
    "ar2=np.array([4,5,6])\n",
    "print(ar1,\"\\n\",ar2)\n",
    "cp=np.concatenate((ar1,ar2))\n",
    "print(cp)"
   ]
  },
  {
   "cell_type": "code",
   "execution_count": 317,
   "id": "d623366f",
   "metadata": {},
   "outputs": [
    {
     "name": "stdout",
     "output_type": "stream",
     "text": [
      "[[1 0 0]\n",
      " [0 1 0]\n",
      " [0 0 1]\n",
      " [1 0 0]\n",
      " [0 1 0]\n",
      " [0 0 1]]\n"
     ]
    }
   ],
   "source": [
    "#Stack two 3×3 identity matrices vertically.\n",
    "id1=np.identity(3,dtype=int)\n",
    "id2=np.identity(3,dtype=int)\n",
    "vst=np.vstack((id1,id2))\n",
    "print(vst)"
   ]
  },
  {
   "cell_type": "code",
   "execution_count": 318,
   "id": "770896f3",
   "metadata": {},
   "outputs": [
    {
     "name": "stdout",
     "output_type": "stream",
     "text": [
      "[ 0  1  2  3  4  5  6  7  8  9 10 11 12 13 14 15 16 17 18 19]\n",
      "[array([0, 1, 2, 3, 4]), array([5, 6, 7, 8, 9]), array([10, 11, 12, 13, 14]), array([15, 16, 17, 18, 19])]\n"
     ]
    }
   ],
   "source": [
    "#Split an array of size 20 into 4 equal chunks.\n",
    "ar20=np.arange(20)\n",
    "print(ar20)\n",
    "spar20=np.split(ar20,4)\n",
    "print(spar20)"
   ]
  },
  {
   "cell_type": "code",
   "execution_count": 319,
   "id": "ae5a1844",
   "metadata": {},
   "outputs": [
    {
     "name": "stdout",
     "output_type": "stream",
     "text": [
      "x:  [1 1 1 1] \n",
      "y:  [  1   1   1 100]\n",
      "x:  [  1   1   1 101] \n",
      "y:  [  1   1   1 100] \n",
      "z:  [  1   1   1 101]\n"
     ]
    }
   ],
   "source": [
    "#Show with code how modifying a .view() changes the original array but .copy() does not.\n",
    "x=np.array([1,1,1,1])\n",
    "y=x.copy()\n",
    "z=x.view()\n",
    "y[3]=100\n",
    "print(\"x: \",x,\"\\ny: \",y)\n",
    "z[3]=101\n",
    "print(\"x: \",x,\"\\ny: \",y,\"\\nz: \",z)"
   ]
  },
  {
   "cell_type": "code",
   "execution_count": 320,
   "id": "0079325a",
   "metadata": {},
   "outputs": [
    {
     "name": "stdout",
     "output_type": "stream",
     "text": [
      "[[0 1 2]\n",
      " [3 4 5]] \n",
      " [[ 6  7  8]\n",
      " [ 9 10 11]]\n",
      "[[ 0  1  2  6  7  8]\n",
      " [ 3  4  5  9 10 11]]\n",
      "[array([[0, 1],\n",
      "       [3, 4]]), array([[2, 6],\n",
      "       [5, 9]]), array([[ 7,  8],\n",
      "       [10, 11]])]\n"
     ]
    }
   ],
   "source": [
    "#Create two arrays of shape (2×3) and horizontally stack them into a (2×6) array.\n",
    "arr1=np.arange(6).reshape(2,3)\n",
    "arr2=np.arange(6,12).reshape(2,3)\n",
    "print(arr1,\"\\n\",arr2)\n",
    "stacked_arrays=np.hstack((arr1,arr2))\n",
    "print(stacked_arrays)\n",
    "splitted_array=np.split(stacked_arrays,3,axis=1)\n",
    "print(splitted_array)"
   ]
  },
  {
   "cell_type": "code",
   "execution_count": 321,
   "id": "de96f1d6",
   "metadata": {},
   "outputs": [
    {
     "name": "stdout",
     "output_type": "stream",
     "text": [
      "[[ 0  1  2  3]\n",
      " [ 4  5  6  7]\n",
      " [ 8  9 10 11]]\n",
      "[array([[0, 1, 2, 3]]), array([[4, 5, 6, 7]]), array([[ 8,  9, 10, 11]])]\n"
     ]
    }
   ],
   "source": [
    "#Create a 1D array of 12 elements, reshape it into a 3×4 array, then vertically split it into 3 sub-arrays.\n",
    "d1=np.arange(12).reshape(3,4)\n",
    "print(d1)\n",
    "spv=np.split(d1,3,axis=0)\n",
    "print(spv)"
   ]
  },
  {
   "cell_type": "code",
   "execution_count": 322,
   "id": "34eb6a40",
   "metadata": {},
   "outputs": [
    {
     "name": "stdout",
     "output_type": "stream",
     "text": [
      "[1 2 3] \n",
      " [4 5 6]\n",
      "original:  [[1 2 3]\n",
      " [4 5 6]] \n",
      "copy:  [[  1   2 100]\n",
      " [  4   5 100]]\n"
     ]
    }
   ],
   "source": [
    "#Create two arrays [1,2,3] and [4,5,6], stack vertically, make a .copy() of the result, and change an element in the copied array. Verify the original array is unchanged.\n",
    "a1=np.array([1,2,3])\n",
    "a2=np.array([4,5,6])\n",
    "print(a1,\"\\n\",a2)\n",
    "stv=np.vstack((a1,a2))\n",
    "stvc=stv.copy()\n",
    "stvc[:,2:]=100\n",
    "print(\"original: \",stv,\"\\ncopy: \",stvc)"
   ]
  },
  {
   "cell_type": "markdown",
   "id": "e1b039ff",
   "metadata": {},
   "source": [
    "## DAY 5\n",
    "### Random & Numerical Computations\n"
   ]
  },
  {
   "cell_type": "code",
   "execution_count": 323,
   "id": "e51cc24b",
   "metadata": {},
   "outputs": [
    {
     "name": "stdout",
     "output_type": "stream",
     "text": [
      "[[ 0  1  2  3]\n",
      " [ 4  5  6  7]\n",
      " [ 8  9 10 11]]\n",
      "mean of entire d1:  5.5\n",
      "row wise mean:  [1.5 5.5 9.5]\n",
      "column wise mean:  [4. 5. 6. 7.]\n"
     ]
    }
   ],
   "source": [
    "print(d1)\n",
    "print(\"mean of entire d1: \",np.mean(d1))\n",
    "print(\"row wise mean: \",np.mean(d1,axis=1))\n",
    "print(\"column wise mean: \",np.mean(d1,axis=0))"
   ]
  },
  {
   "cell_type": "code",
   "execution_count": 336,
   "id": "3e49628e",
   "metadata": {},
   "outputs": [
    {
     "name": "stdout",
     "output_type": "stream",
     "text": [
      "[[ 0  1  2  3]\n",
      " [ 4  5  6  7]\n",
      " [ 8  9 10 11]]\n",
      "overall median:  5.5\n",
      "row wise median:  [1.5 5.5 9.5]\n",
      "column wise median:  [4. 5. 6. 7.]\n"
     ]
    }
   ],
   "source": [
    "print(d1)\n",
    "print(\"overall median: \",np.median(d1))\n",
    "print(\"row wise median: \",np.median(d1,axis=1))\n",
    "print(\"column wise median: \",np.median(d1,axis=0))"
   ]
  },
  {
   "cell_type": "code",
   "execution_count": 325,
   "id": "30644e8c",
   "metadata": {},
   "outputs": [
    {
     "name": "stdout",
     "output_type": "stream",
     "text": [
      "[[ 0  1  2  3]\n",
      " [ 4  5  6  7]\n",
      " [ 8  9 10 11]]\n",
      "overall standard deviation:  3.452052529534663\n",
      "column wise standard deviation:  [3.26598632 3.26598632 3.26598632 3.26598632]\n",
      "row wise standard deviation:  [1.11803399 1.11803399 1.11803399]\n"
     ]
    }
   ],
   "source": [
    "print(d1)\n",
    "print(\"overall standard deviation: \",np.std(d1))\n",
    "print(\"column wise standard deviation: \",np.std(d1,axis=0))\n",
    "print(\"row wise standard deviation: \",np.std(d1,axis=1))"
   ]
  },
  {
   "cell_type": "code",
   "execution_count": 326,
   "id": "049c74d0",
   "metadata": {},
   "outputs": [
    {
     "name": "stdout",
     "output_type": "stream",
     "text": [
      "[[0.07828575 0.82833166 0.47280916 0.9978359 ]\n",
      " [0.82137332 0.63161307 0.20167436 0.1679257 ]\n",
      " [0.43259171 0.71008633 0.78002948 0.43913356]]\n"
     ]
    }
   ],
   "source": [
    "ran=np.random.rand(3,4)\n",
    "print(ran)\n"
   ]
  },
  {
   "cell_type": "code",
   "execution_count": 327,
   "id": "bd4f366a",
   "metadata": {},
   "outputs": [
    {
     "name": "stdout",
     "output_type": "stream",
     "text": [
      "[[[[-0.55415756  0.3331687  -1.51689668 -1.43188123 -1.08694279]\n",
      "   [ 0.47159111 -0.40818028 -0.07149042  0.30990903 -1.036864  ]\n",
      "   [-1.32226122  2.23676926  0.21167388  0.70668248 -0.29399746]\n",
      "   [ 0.89325561  1.15736206  0.48267911  0.9073156  -1.10712479]]\n",
      "\n",
      "  [[ 0.59223183 -0.00832402 -0.99654266  0.2617212  -0.59237547]\n",
      "   [ 1.74936392  0.07885063  1.37586127 -0.60254324 -0.04666552]\n",
      "   [-1.81876593  0.85872384 -0.03568269  0.14519612 -0.39774043]\n",
      "   [ 1.50321543  0.74561375 -1.01564769 -0.39743273 -1.09585893]]\n",
      "\n",
      "  [[-0.09612728  0.87645966 -0.52357672  1.10080195  0.20477053]\n",
      "   [-1.09220754  1.89013039 -2.54671751 -0.64557611 -0.21614024]\n",
      "   [ 0.19228126 -0.42253472  0.48539871  1.48719867  0.92300749]\n",
      "   [-2.2124653  -0.33681882 -0.37620104  0.83220113 -0.72811256]]]\n",
      "\n",
      "\n",
      " [[[-1.04141408  1.39777605  0.85842558 -0.35631033  1.48191734]\n",
      "   [ 0.1460079  -0.30437835 -0.00682851 -0.87972956 -1.11862279]\n",
      "   [ 0.37481202  1.30371004 -1.10119055 -1.33913743  0.31165309]\n",
      "   [-0.92682441 -2.67707093  0.95923286  0.39083852  1.24709484]]\n",
      "\n",
      "  [[ 0.42367977 -0.15641265  1.34033116 -0.28366228  2.10582318]\n",
      "   [ 0.80151615  0.14296113 -1.08565299  1.62556888 -0.44272394]\n",
      "   [-1.44747512  0.38450827  0.25656701  0.20040862 -0.56489658]\n",
      "   [-0.89588358  0.85418181 -0.24861556  0.10591288 -0.21968394]]\n",
      "\n",
      "  [[ 0.60077453 -1.49826985  0.38219064  0.38947026  2.55695391]\n",
      "   [ 0.46992806  0.1643875   0.37863677 -2.17555223  0.86576191]\n",
      "   [-1.55228745 -0.29188101  1.09010659  1.53733577  0.9561233 ]\n",
      "   [-0.57987706 -0.77757364 -0.7581259  -1.1663675  -0.42046154]]]]\n"
     ]
    }
   ],
   "source": [
    "nrand=np.random.randn(2,3,4,5)\n",
    "print(nrand)"
   ]
  },
  {
   "cell_type": "code",
   "execution_count": 328,
   "id": "2966a4d5",
   "metadata": {},
   "outputs": [
    {
     "name": "stdout",
     "output_type": "stream",
     "text": [
      "[[0. 1. 0. 0.]\n",
      " [0. 0. 1. 0.]\n",
      " [0. 0. 0. 1.]]\n"
     ]
    }
   ],
   "source": [
    "print(np.eye(3,4,1))"
   ]
  },
  {
   "cell_type": "code",
   "execution_count": 329,
   "id": "1e5ee985",
   "metadata": {},
   "outputs": [
    {
     "name": "stdout",
     "output_type": "stream",
     "text": [
      "[[4 0 0 0 0]\n",
      " [0 3 0 0 0]\n",
      " [0 0 2 0 0]\n",
      " [0 0 0 5 0]\n",
      " [0 0 0 0 1]]\n"
     ]
    }
   ],
   "source": [
    "print(np.diag([4,3,2,5,1]))"
   ]
  },
  {
   "cell_type": "code",
   "execution_count": 330,
   "id": "e33d3e78",
   "metadata": {},
   "outputs": [
    {
     "name": "stdout",
     "output_type": "stream",
     "text": [
      "[ 0  5 10]\n"
     ]
    }
   ],
   "source": [
    "print(np.diag(d1))"
   ]
  },
  {
   "cell_type": "code",
   "execution_count": 334,
   "id": "7ca05371",
   "metadata": {},
   "outputs": [
    {
     "name": "stdout",
     "output_type": "stream",
     "text": [
      "[[9 4 2]\n",
      " [6 1 5]\n",
      " [1 8 2]]\n",
      "[13.21954446  4.         -5.21954446]\n",
      "coeff:   [[ 1.          0.41931393 -0.36628972]\n",
      " [ 0.41931393  1.         -0.99833749]\n",
      " [-0.36628972 -0.99833749  1.        ]]\n"
     ]
    }
   ],
   "source": [
    "s=np.random.randint(1,10,size=9).reshape(3,3)\n",
    "print(s)\n",
    "vals=np.linalg.eigvals(s)\n",
    "print(vals)\n",
    "print(\"coeff:  \",np.corrcoef(s))"
   ]
  },
  {
   "cell_type": "code",
   "execution_count": 341,
   "id": "fa86d755",
   "metadata": {},
   "outputs": [
    {
     "name": "stdout",
     "output_type": "stream",
     "text": [
      "[[9 8 2 1 0]\n",
      " [8 7 7 9 4]\n",
      " [1 3 6 5 7]]\n",
      "[[1 2 3 4]\n",
      " [1 2 3 4]\n",
      " [5 6 7 8]]\n",
      "[[1 2 3 4]\n",
      " [5 6 7 8]]\n",
      "[1 2 3 4 5 6 7 8]\n"
     ]
    }
   ],
   "source": [
    "a1=np.random.randint(0,10,size=15).reshape(3,5)\n",
    "print(a1)\n",
    "a2=np.array([[1,2,3,4],[1,2,3,4],[5,6,7,8]])\n",
    "print(a2)\n",
    "uniq=np.unique(a2,axis=0)\n",
    "print(uniq)\n",
    "uniq1=np.unique(a2)\n",
    "print(uniq1)"
   ]
  },
  {
   "cell_type": "code",
   "execution_count": 343,
   "id": "9811a289",
   "metadata": {},
   "outputs": [
    {
     "name": "stdout",
     "output_type": "stream",
     "text": [
      "[[ 1.          0.35138211 -0.94295417  1.          0.35138211 -0.94295417]\n",
      " [ 0.35138211  1.         -0.55487095  0.35138211  1.         -0.55487095]\n",
      " [-0.94295417 -0.55487095  1.         -0.94295417 -0.55487095  1.        ]\n",
      " [ 1.          0.35138211 -0.94295417  1.          0.35138211 -0.94295417]\n",
      " [ 0.35138211  1.         -0.55487095  0.35138211  1.         -0.55487095]\n",
      " [-0.94295417 -0.55487095  1.         -0.94295417 -0.55487095  1.        ]]\n"
     ]
    }
   ],
   "source": [
    "coerr=np.corrcoef(a1,a1)\n",
    "print(coerr)"
   ]
  },
  {
   "cell_type": "code",
   "execution_count": 376,
   "id": "09bbde5c",
   "metadata": {},
   "outputs": [
    {
     "name": "stdout",
     "output_type": "stream",
     "text": [
      "[ 2.87512979+0.j       -0.9375649 +0.715691j -0.9375649 -0.715691j]\n",
      "[ 2.87512979+0.j       -0.9375649 +0.715691j -0.9375649 -0.715691j]\n"
     ]
    }
   ],
   "source": [
    "a3=np.random.randint(0,5,size=9).reshape(3,3)\n",
    "val,_=np.linalg.eig(a3)\n",
    "vla=np.linalg.eigvals(a3)\n",
    "print(val)\n",
    "print(vla)"
   ]
  },
  {
   "cell_type": "code",
   "execution_count": 352,
   "id": "2b0f36a0",
   "metadata": {},
   "outputs": [
    {
     "name": "stdout",
     "output_type": "stream",
     "text": [
      "[[3 6 5 6 6]\n",
      " [3 6 6 4 3]\n",
      " [3 6 5 5 7]\n",
      " [7 4 4 7 3]\n",
      " [3 2 7 4 5]]\n",
      "[[0.2 0.8 0.6 0.8 0.8]\n",
      " [0.2 0.8 0.8 0.4 0.2]\n",
      " [0.2 0.8 0.6 0.6 1. ]\n",
      " [1.  0.4 0.4 1.  0.2]\n",
      " [0.2 0.  1.  0.4 0.6]]\n"
     ]
    }
   ],
   "source": [
    "a11=np.random.randint(2,8,size=(5,5))\n",
    "print(a11)\n",
    "normalized=((a11-a11.min())/(a11.max()-a11.min()))\n",
    "print(normalized)"
   ]
  },
  {
   "cell_type": "code",
   "execution_count": 356,
   "id": "e3eda08d",
   "metadata": {},
   "outputs": [
    {
     "name": "stdout",
     "output_type": "stream",
     "text": [
      "matrix multiplication:  [[102 120 142 133 119]\n",
      " [ 82 112 118 112 105]\n",
      " [ 98 118 145 130 121]\n",
      " [103 124 128 139 118]\n",
      " [ 79  98 113 109 110]]\n",
      "element wise multiplication:  [[ 9 36 25 36 36]\n",
      " [ 9 36 36 16  9]\n",
      " [ 9 36 25 25 49]\n",
      " [49 16 16 49  9]\n",
      " [ 9  4 49 16 25]]\n"
     ]
    }
   ],
   "source": [
    "print(\"matrix multiplication: \",np.dot(a11,a11))\n",
    "print(\"element wise multiplication: \",a11*a11)"
   ]
  },
  {
   "cell_type": "code",
   "execution_count": 357,
   "id": "f0d048c6",
   "metadata": {},
   "outputs": [
    {
     "name": "stdout",
     "output_type": "stream",
     "text": [
      "determinant:  885.9999999999993\n",
      "inverse:  [[-0.6523702   0.0496614   0.4717833   0.21444695 -0.03611738]\n",
      " [-0.10158014  0.19977427  0.14785553 -0.02370203 -0.19074492]\n",
      " [-0.00451467  0.14221219 -0.1489842  -0.06772009  0.16930023]\n",
      " [ 0.79909707 -0.17155756 -0.62979684 -0.01354402  0.03386005]\n",
      " [-0.20090293 -0.17155756  0.37020316 -0.01354402  0.03386005]]\n"
     ]
    }
   ],
   "source": [
    "print(\"determinant: \",np.linalg.det(a11))\n",
    "print(\"inverse: \",np.linalg.inv(a11))"
   ]
  },
  {
   "cell_type": "code",
   "execution_count": 359,
   "id": "1800ab2f",
   "metadata": {},
   "outputs": [
    {
     "name": "stdout",
     "output_type": "stream",
     "text": [
      "[[16 14 16 14]\n",
      " [ 1  9 14  5]\n",
      " [ 6  1 12 10]\n",
      " [12  6  6  6]]\n",
      "mean:  9.25 \n",
      "standard deviation:  4.815340071064556 \n",
      "correlation coefficient:  [[ 1.          0.05191741  0.41610681  0.57735027]\n",
      " [ 0.05191741  1.          0.28084146 -0.74936331]\n",
      " [ 0.41610681  0.28084146  1.         -0.17159956]\n",
      " [ 0.57735027 -0.74936331 -0.17159956  1.        ]]\n",
      "[[16 14 16 14  1  9 14  5]\n",
      " [ 6  1 12 10 12  6  6  6]]\n",
      "determinant:  -4764.0\n",
      "eigen values:  [36.80720496+0.j         -1.82969454+0.j          4.01124479+7.39250595j\n",
      "  4.01124479-7.39250595j]\n",
      "[[1.         0.86666667 1.         0.86666667]\n",
      " [0.         0.53333333 0.86666667 0.26666667]\n",
      " [0.33333333 0.         0.73333333 0.6       ]\n",
      " [0.73333333 0.33333333 0.33333333 0.33333333]]\n",
      "[[56.26666667 27.13333333 27.53333333 28.4       ]\n",
      " [25.06666667 18.26666667 13.6        10.        ]\n",
      " [25.46666667 13.6        16.8        12.        ]\n",
      " [26.4        10.06666667 12.06666667 14.8       ]]\n"
     ]
    }
   ],
   "source": [
    "ar=np.random.randint(1,20,size=(4,4))\n",
    "print(ar)\n",
    "print(\"mean: \",np.mean(ar),\"\\nstandard deviation: \", np.std(ar),\"\\ncorrelation coefficient: \",np.corrcoef(ar))\n",
    "reshaped=ar.reshape(2,8)\n",
    "print(reshaped)\n",
    "print(\"determinant: \",np.linalg.det(ar))\n",
    "print(\"eigen values: \",np.linalg.eigvals(ar))\n",
    "normalized=((ar-ar.min())/(ar.max()-ar.min()))\n",
    "print(normalized)\n",
    "trans=np.transpose(ar)\n",
    "print(np.dot(normalized,trans))"
   ]
  },
  {
   "cell_type": "code",
   "execution_count": 360,
   "id": "3b781612",
   "metadata": {},
   "outputs": [
    {
     "name": "stdout",
     "output_type": "stream",
     "text": [
      "[ 1.  2. nan  4.  5.]\n"
     ]
    }
   ],
   "source": [
    "arr = np.array([1, 2, np.nan, 4, 5])\n",
    "print(arr)"
   ]
  },
  {
   "cell_type": "code",
   "execution_count": 365,
   "id": "11ddb4cf",
   "metadata": {},
   "outputs": [
    {
     "name": "stdout",
     "output_type": "stream",
     "text": [
      "None\n"
     ]
    }
   ],
   "source": [
    "ar12=np.random.seed(0)\n",
    "print(ar12)"
   ]
  },
  {
   "cell_type": "code",
   "execution_count": 367,
   "id": "23d34139",
   "metadata": {},
   "outputs": [
    {
     "name": "stdout",
     "output_type": "stream",
     "text": [
      "[1. 2. 0. 4. 5.]\n"
     ]
    }
   ],
   "source": [
    "ar1=np.where(np.isnan(arr),0,arr)\n",
    "print(ar1)"
   ]
  },
  {
   "cell_type": "code",
   "execution_count": 370,
   "id": "37eb5f18",
   "metadata": {},
   "outputs": [
    {
     "name": "stdout",
     "output_type": "stream",
     "text": [
      "[2 3 4 5 6 7]\n"
     ]
    }
   ],
   "source": [
    "a0=np.intersect1d(a11,a1)\n",
    "print(a0)"
   ]
  },
  {
   "cell_type": "code",
   "execution_count": 374,
   "id": "0479d3f1",
   "metadata": {},
   "outputs": [
    {
     "name": "stdout",
     "output_type": "stream",
     "text": [
      "[('ksmjs', 23) ('sksks', 66)]\n"
     ]
    }
   ],
   "source": [
    "a = np.array([(\"ksmjs\",23),(\"sksks\",66)],\n",
    "             dtype=[(\"name\",\"U10\"),(\"age\",\"i4\")])\n",
    "print(a)"
   ]
  },
  {
   "cell_type": "code",
   "execution_count": 383,
   "id": "603430ef",
   "metadata": {},
   "outputs": [
    {
     "name": "stdout",
     "output_type": "stream",
     "text": [
      "[[16 14 16 14]\n",
      " [ 1  9 14  5]\n",
      " [ 6  1 12 10]\n",
      " [12  6  6  6]]\n",
      "[35 30 48 35]\n"
     ]
    }
   ],
   "source": [
    "print(ar)\n",
    "print(np.sum(ar,axis=0))"
   ]
  },
  {
   "cell_type": "code",
   "execution_count": 386,
   "id": "47071f72",
   "metadata": {},
   "outputs": [
    {
     "data": {
      "text/plain": [
       "array([[ 1.   ,  2.125,  3.25 ],\n",
       "       [ 4.375,  5.5  ,  6.625],\n",
       "       [ 7.75 ,  8.875, 10.   ]])"
      ]
     },
     "execution_count": 386,
     "metadata": {},
     "output_type": "execute_result"
    }
   ],
   "source": [
    "d=np.linspace(1,10,9).reshape(3,3)\n",
    "d"
   ]
  }
 ],
 "metadata": {
  "kernelspec": {
   "display_name": ".venv",
   "language": "python",
   "name": "python3"
  },
  "language_info": {
   "codemirror_mode": {
    "name": "ipython",
    "version": 3
   },
   "file_extension": ".py",
   "mimetype": "text/x-python",
   "name": "python",
   "nbconvert_exporter": "python",
   "pygments_lexer": "ipython3",
   "version": "3.13.7"
  }
 },
 "nbformat": 4,
 "nbformat_minor": 5
}
