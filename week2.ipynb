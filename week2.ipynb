{
 "cells": [
  {
   "cell_type": "code",
   "execution_count": 186,
   "id": "fbe4c053",
   "metadata": {},
   "outputs": [],
   "source": [
    "import pandas as pd\n",
    "import numpy as np"
   ]
  },
  {
   "cell_type": "markdown",
   "id": "e477a600",
   "metadata": {},
   "source": [
    "## DAY 1\n",
    "#### Basics of DATAFRAME and SERIES"
   ]
  },
  {
   "cell_type": "code",
   "execution_count": 187,
   "id": "d581b8e1",
   "metadata": {},
   "outputs": [
    {
     "data": {
      "text/html": [
       "<div>\n",
       "<style scoped>\n",
       "    .dataframe tbody tr th:only-of-type {\n",
       "        vertical-align: middle;\n",
       "    }\n",
       "\n",
       "    .dataframe tbody tr th {\n",
       "        vertical-align: top;\n",
       "    }\n",
       "\n",
       "    .dataframe thead th {\n",
       "        text-align: right;\n",
       "    }\n",
       "</style>\n",
       "<table border=\"1\" class=\"dataframe\">\n",
       "  <thead>\n",
       "    <tr style=\"text-align: right;\">\n",
       "      <th></th>\n",
       "      <th>name</th>\n",
       "      <th>age</th>\n",
       "    </tr>\n",
       "  </thead>\n",
       "  <tbody>\n",
       "    <tr>\n",
       "      <th>0</th>\n",
       "      <td>hbhh</td>\n",
       "      <td>88</td>\n",
       "    </tr>\n",
       "    <tr>\n",
       "      <th>1</th>\n",
       "      <td>uhbj</td>\n",
       "      <td>77</td>\n",
       "    </tr>\n",
       "    <tr>\n",
       "      <th>2</th>\n",
       "      <td>jhj</td>\n",
       "      <td>9</td>\n",
       "    </tr>\n",
       "  </tbody>\n",
       "</table>\n",
       "</div>"
      ],
      "text/plain": [
       "   name  age\n",
       "0  hbhh   88\n",
       "1  uhbj   77\n",
       "2   jhj    9"
      ]
     },
     "execution_count": 187,
     "metadata": {},
     "output_type": "execute_result"
    }
   ],
   "source": [
    "dict={\"name\":[\"hbhh\",\"uhbj\",\"jhj\"],\n",
    "      \"age\":[88,77,9]}\n",
    "\n",
    "df=pd.DataFrame(dict)\n",
    "df"
   ]
  },
  {
   "cell_type": "code",
   "execution_count": 188,
   "id": "9ca2107b",
   "metadata": {},
   "outputs": [
    {
     "data": {
      "text/plain": [
       "0    7\n",
       "1    9\n",
       "2    7\n",
       "dtype: int64"
      ]
     },
     "execution_count": 188,
     "metadata": {},
     "output_type": "execute_result"
    }
   ],
   "source": [
    "arr = [7,9,7]\n",
    "s = pd.Series(arr)\n",
    "s"
   ]
  },
  {
   "cell_type": "code",
   "execution_count": 189,
   "id": "b2194dc2",
   "metadata": {},
   "outputs": [
    {
     "name": "stdout",
     "output_type": "stream",
     "text": [
      "a    10\n",
      "b    20\n",
      "c    30\n",
      "dtype: int64\n",
      "     name  age\n",
      "0    naja   22\n",
      "1  naseef   23\n",
      "2   akash   24\n",
      "3   husna   21\n",
      "4  swalih   21\n"
     ]
    }
   ],
   "source": [
    "s=pd.Series([10,20,30],index=['a','b','c'])\n",
    "d=pd.DataFrame({\"name\":[\"naja\",\"naseef\",\"akash\",\"husna\",\"swalih\"],\"age\":[22,23,24,21,21]})\n",
    "print(s)\n",
    "print(d)"
   ]
  },
  {
   "cell_type": "code",
   "execution_count": 190,
   "id": "4beb1b31",
   "metadata": {},
   "outputs": [
    {
     "name": "stdout",
     "output_type": "stream",
     "text": [
      "  name  roll_no\n",
      "a  abc        1\n",
      "b  xyz        3\n",
      "c  uvw        2\n",
      "Index(['a', 'b', 'c'], dtype='object')\n"
     ]
    }
   ],
   "source": [
    "#DataFrame from dictionary \n",
    "data={\"name\":[\"abc\",\"xyz\",\"uvw\"],\"roll_no\":[1,3,2]}\n",
    "df=pd.DataFrame(data,index=['a','b','c'])\n",
    "print(df)\n",
    "print(df.index)"
   ]
  },
  {
   "cell_type": "code",
   "execution_count": 191,
   "id": "8a24ac6a",
   "metadata": {},
   "outputs": [
    {
     "name": "stdout",
     "output_type": "stream",
     "text": [
      "   col1  col2  col3\n",
      "0     1     2     3\n",
      "1     4     5     6\n",
      "RangeIndex(start=0, stop=2, step=1)\n"
     ]
    }
   ],
   "source": [
    "#data frame from numpy array\n",
    "arr=np.array([[1,2,3],[4,5,6]])\n",
    "df2=pd.DataFrame(arr,columns=['col1','col2','col3'])\n",
    "print(df2)\n",
    "print(df2.index)"
   ]
  },
  {
   "cell_type": "code",
   "execution_count": 192,
   "id": "76a28a3c",
   "metadata": {},
   "outputs": [
    {
     "data": {
      "text/html": [
       "<div>\n",
       "<style scoped>\n",
       "    .dataframe tbody tr th:only-of-type {\n",
       "        vertical-align: middle;\n",
       "    }\n",
       "\n",
       "    .dataframe tbody tr th {\n",
       "        vertical-align: top;\n",
       "    }\n",
       "\n",
       "    .dataframe thead th {\n",
       "        text-align: right;\n",
       "    }\n",
       "</style>\n",
       "<table border=\"1\" class=\"dataframe\">\n",
       "  <thead>\n",
       "    <tr style=\"text-align: right;\">\n",
       "      <th></th>\n",
       "      <th>Title</th>\n",
       "      <th>First Name</th>\n",
       "      <th>Middle Name</th>\n",
       "      <th>Last Name</th>\n",
       "      <th>Suffix</th>\n",
       "      <th>Company</th>\n",
       "      <th>Department</th>\n",
       "      <th>Job Title</th>\n",
       "      <th>Business Street</th>\n",
       "      <th>Business Street 2</th>\n",
       "      <th>...</th>\n",
       "      <th>Private</th>\n",
       "      <th>Profession</th>\n",
       "      <th>Referred By</th>\n",
       "      <th>Sensitivity</th>\n",
       "      <th>Spouse</th>\n",
       "      <th>User 1</th>\n",
       "      <th>User 2</th>\n",
       "      <th>User 3</th>\n",
       "      <th>User 4</th>\n",
       "      <th>Web Page</th>\n",
       "    </tr>\n",
       "  </thead>\n",
       "  <tbody>\n",
       "    <tr>\n",
       "      <th>0</th>\n",
       "      <td>NaN</td>\n",
       "      <td>Anita</td>\n",
       "      <td>NaN</td>\n",
       "      <td>Jorgensen</td>\n",
       "      <td>NaN</td>\n",
       "      <td>Contoso</td>\n",
       "      <td>NaN</td>\n",
       "      <td>NaN</td>\n",
       "      <td>NaN</td>\n",
       "      <td>NaN</td>\n",
       "      <td>...</td>\n",
       "      <td>NaN</td>\n",
       "      <td>NaN</td>\n",
       "      <td>NaN</td>\n",
       "      <td>NaN</td>\n",
       "      <td>NaN</td>\n",
       "      <td>NaN</td>\n",
       "      <td>NaN</td>\n",
       "      <td>NaN</td>\n",
       "      <td>NaN</td>\n",
       "      <td>http://www.microsoft.com/</td>\n",
       "    </tr>\n",
       "    <tr>\n",
       "      <th>1</th>\n",
       "      <td>NaN</td>\n",
       "      <td>Anne-Mette</td>\n",
       "      <td>NaN</td>\n",
       "      <td>Olesen</td>\n",
       "      <td>NaN</td>\n",
       "      <td>Contoso</td>\n",
       "      <td>NaN</td>\n",
       "      <td>NaN</td>\n",
       "      <td>NaN</td>\n",
       "      <td>NaN</td>\n",
       "      <td>...</td>\n",
       "      <td>NaN</td>\n",
       "      <td>NaN</td>\n",
       "      <td>NaN</td>\n",
       "      <td>NaN</td>\n",
       "      <td>NaN</td>\n",
       "      <td>NaN</td>\n",
       "      <td>NaN</td>\n",
       "      <td>NaN</td>\n",
       "      <td>NaN</td>\n",
       "      <td>NaN</td>\n",
       "    </tr>\n",
       "    <tr>\n",
       "      <th>2</th>\n",
       "      <td>NaN</td>\n",
       "      <td>Dorena</td>\n",
       "      <td>NaN</td>\n",
       "      <td>Paschke</td>\n",
       "      <td>NaN</td>\n",
       "      <td>Contoso</td>\n",
       "      <td>NaN</td>\n",
       "      <td>NaN</td>\n",
       "      <td>NaN</td>\n",
       "      <td>NaN</td>\n",
       "      <td>...</td>\n",
       "      <td>NaN</td>\n",
       "      <td>NaN</td>\n",
       "      <td>NaN</td>\n",
       "      <td>NaN</td>\n",
       "      <td>NaN</td>\n",
       "      <td>NaN</td>\n",
       "      <td>NaN</td>\n",
       "      <td>NaN</td>\n",
       "      <td>NaN</td>\n",
       "      <td>NaN</td>\n",
       "    </tr>\n",
       "    <tr>\n",
       "      <th>3</th>\n",
       "      <td>NaN</td>\n",
       "      <td>Kemal</td>\n",
       "      <td>NaN</td>\n",
       "      <td>Celik</td>\n",
       "      <td>NaN</td>\n",
       "      <td>Contoso</td>\n",
       "      <td>NaN</td>\n",
       "      <td>NaN</td>\n",
       "      <td>NaN</td>\n",
       "      <td>NaN</td>\n",
       "      <td>...</td>\n",
       "      <td>NaN</td>\n",
       "      <td>NaN</td>\n",
       "      <td>NaN</td>\n",
       "      <td>NaN</td>\n",
       "      <td>NaN</td>\n",
       "      <td>NaN</td>\n",
       "      <td>NaN</td>\n",
       "      <td>NaN</td>\n",
       "      <td>NaN</td>\n",
       "      <td>NaN</td>\n",
       "    </tr>\n",
       "    <tr>\n",
       "      <th>4</th>\n",
       "      <td>NaN</td>\n",
       "      <td>Shiori</td>\n",
       "      <td>NaN</td>\n",
       "      <td>Inoue</td>\n",
       "      <td>NaN</td>\n",
       "      <td>Contoso</td>\n",
       "      <td>NaN</td>\n",
       "      <td>NaN</td>\n",
       "      <td>NaN</td>\n",
       "      <td>NaN</td>\n",
       "      <td>...</td>\n",
       "      <td>NaN</td>\n",
       "      <td>NaN</td>\n",
       "      <td>NaN</td>\n",
       "      <td>NaN</td>\n",
       "      <td>NaN</td>\n",
       "      <td>NaN</td>\n",
       "      <td>NaN</td>\n",
       "      <td>NaN</td>\n",
       "      <td>NaN</td>\n",
       "      <td>NaN</td>\n",
       "    </tr>\n",
       "  </tbody>\n",
       "</table>\n",
       "<p>5 rows × 92 columns</p>\n",
       "</div>"
      ],
      "text/plain": [
       "   Title  First Name  Middle Name  Last Name  Suffix  Company  Department  \\\n",
       "0    NaN       Anita          NaN  Jorgensen     NaN  Contoso         NaN   \n",
       "1    NaN  Anne-Mette          NaN     Olesen     NaN  Contoso         NaN   \n",
       "2    NaN      Dorena          NaN    Paschke     NaN  Contoso         NaN   \n",
       "3    NaN       Kemal          NaN      Celik     NaN  Contoso         NaN   \n",
       "4    NaN      Shiori          NaN      Inoue     NaN  Contoso         NaN   \n",
       "\n",
       "   Job Title  Business Street  Business Street 2  ...  Private  Profession  \\\n",
       "0        NaN              NaN                NaN  ...      NaN         NaN   \n",
       "1        NaN              NaN                NaN  ...      NaN         NaN   \n",
       "2        NaN              NaN                NaN  ...      NaN         NaN   \n",
       "3        NaN              NaN                NaN  ...      NaN         NaN   \n",
       "4        NaN              NaN                NaN  ...      NaN         NaN   \n",
       "\n",
       "   Referred By  Sensitivity  Spouse  User 1  User 2  User 3  User 4  \\\n",
       "0          NaN          NaN     NaN     NaN     NaN     NaN     NaN   \n",
       "1          NaN          NaN     NaN     NaN     NaN     NaN     NaN   \n",
       "2          NaN          NaN     NaN     NaN     NaN     NaN     NaN   \n",
       "3          NaN          NaN     NaN     NaN     NaN     NaN     NaN   \n",
       "4          NaN          NaN     NaN     NaN     NaN     NaN     NaN   \n",
       "\n",
       "                    Web Page  \n",
       "0  http://www.microsoft.com/  \n",
       "1                        NaN  \n",
       "2                        NaN  \n",
       "3                        NaN  \n",
       "4                        NaN  \n",
       "\n",
       "[5 rows x 92 columns]"
      ]
     },
     "execution_count": 192,
     "metadata": {},
     "output_type": "execute_result"
    }
   ],
   "source": [
    "#dataframe from csv file\n",
    "df3=pd.read_csv('Sample CSV file for importing contacts.csv')\n",
    "df3"
   ]
  },
  {
   "cell_type": "markdown",
   "id": "1bc625c8",
   "metadata": {},
   "source": [
    "#### .index\n",
    "##### gives the indices like in the format (start,stop,step)"
   ]
  },
  {
   "cell_type": "code",
   "execution_count": 193,
   "id": "89d15c77",
   "metadata": {},
   "outputs": [
    {
     "name": "stdout",
     "output_type": "stream",
     "text": [
      "RangeIndex(start=0, stop=5, step=1)\n"
     ]
    }
   ],
   "source": [
    "print(df3.index)"
   ]
  },
  {
   "cell_type": "markdown",
   "id": "1264a285",
   "metadata": {},
   "source": [
    "#### .axes\n",
    "##### returns a list of rows and column indexes or both row + column labels"
   ]
  },
  {
   "cell_type": "code",
   "execution_count": 194,
   "id": "5711202b",
   "metadata": {},
   "outputs": [
    {
     "name": "stdout",
     "output_type": "stream",
     "text": [
      "[RangeIndex(start=0, stop=2, step=1), Index(['col1', 'col2', 'col3'], dtype='object')]\n",
      "[Index(['a', 'b', 'c'], dtype='object')]\n"
     ]
    }
   ],
   "source": [
    "print(df2.axes)\n",
    "print(s.axes)"
   ]
  },
  {
   "cell_type": "markdown",
   "id": "b7021f1c",
   "metadata": {},
   "source": [
    "#### .columns\n",
    "##### shows all column labels or\n",
    "##### can be used to give the column labels while creating a Dataframe"
   ]
  },
  {
   "cell_type": "code",
   "execution_count": 195,
   "id": "119018cf",
   "metadata": {},
   "outputs": [
    {
     "name": "stdout",
     "output_type": "stream",
     "text": [
      "Index(['name', 'roll_no'], dtype='object')\n"
     ]
    }
   ],
   "source": [
    "print(df.columns)"
   ]
  },
  {
   "cell_type": "code",
   "execution_count": 196,
   "id": "71df15c4",
   "metadata": {},
   "outputs": [
    {
     "name": "stdout",
     "output_type": "stream",
     "text": [
      "Index(['col1', 'col2', 'col3'], dtype='object')\n"
     ]
    }
   ],
   "source": [
    "arr=np.array([[1,2,3],[4,5,6]])\n",
    "df2=pd.DataFrame(arr,columns=['col1','col2','col3'])\n",
    "print(df2.columns)"
   ]
  },
  {
   "cell_type": "markdown",
   "id": "f371aedc",
   "metadata": {},
   "source": [
    "#### .shape\n",
    "##### gives the dimensions of the DataFrame -> (rows,columns)"
   ]
  },
  {
   "cell_type": "code",
   "execution_count": 197,
   "id": "9b559c41",
   "metadata": {},
   "outputs": [
    {
     "name": "stdout",
     "output_type": "stream",
     "text": [
      "(5, 92)\n",
      "(3, 2)\n"
     ]
    }
   ],
   "source": [
    "print(df3.shape)\n",
    "print(df.shape)"
   ]
  },
  {
   "cell_type": "markdown",
   "id": "9a95b395",
   "metadata": {},
   "source": [
    "#### .ndim\n",
    "##### returns the number of dimensions\n",
    "##### DataFrame -> 2\n",
    "##### Series -> 1"
   ]
  },
  {
   "cell_type": "code",
   "execution_count": 198,
   "id": "72b4af20",
   "metadata": {},
   "outputs": [
    {
     "name": "stdout",
     "output_type": "stream",
     "text": [
      "2\n",
      "2\n",
      "1\n"
     ]
    }
   ],
   "source": [
    "print(df3.ndim)\n",
    "print(df.ndim)\n",
    "print(s.ndim)"
   ]
  },
  {
   "cell_type": "markdown",
   "id": "21a8bb66",
   "metadata": {},
   "source": [
    "#### .size\n",
    "##### returns the total no.of elements(rows x columns)"
   ]
  },
  {
   "cell_type": "code",
   "execution_count": 199,
   "id": "04c8b90f",
   "metadata": {},
   "outputs": [
    {
     "name": "stdout",
     "output_type": "stream",
     "text": [
      "6\n",
      "460\n",
      "3\n"
     ]
    }
   ],
   "source": [
    "print(df.size)\n",
    "print(df3.size)\n",
    "print(s.size)"
   ]
  },
  {
   "cell_type": "markdown",
   "id": "20fac640",
   "metadata": {},
   "source": [
    "#### .dtype\n",
    "##### it shows the data type of each column"
   ]
  },
  {
   "cell_type": "code",
   "execution_count": 200,
   "id": "bd9029bc",
   "metadata": {},
   "outputs": [
    {
     "name": "stdout",
     "output_type": "stream",
     "text": [
      "name       object\n",
      "roll_no     int64\n",
      "dtype: object\n"
     ]
    }
   ],
   "source": [
    "print(df.dtypes)"
   ]
  },
  {
   "cell_type": "markdown",
   "id": "023f9326",
   "metadata": {},
   "source": [
    "#### .T\n",
    "###### this function returns the transpose of the Data frame (rows <-> colums)"
   ]
  },
  {
   "cell_type": "code",
   "execution_count": 201,
   "id": "bf1fe4a0",
   "metadata": {},
   "outputs": [
    {
     "name": "stdout",
     "output_type": "stream",
     "text": [
      "           a    b    c\n",
      "name     abc  xyz  uvw\n",
      "roll_no    1    3    2\n"
     ]
    }
   ],
   "source": [
    "print(df.T)"
   ]
  },
  {
   "cell_type": "code",
   "execution_count": 202,
   "id": "156ac424",
   "metadata": {},
   "outputs": [
    {
     "data": {
      "text/plain": [
       "0     1\n",
       "1     2\n",
       "2     3\n",
       "3     4\n",
       "4     5\n",
       "5     6\n",
       "6     7\n",
       "7     8\n",
       "8     9\n",
       "9    10\n",
       "dtype: int64"
      ]
     },
     "execution_count": 202,
     "metadata": {},
     "output_type": "execute_result"
    }
   ],
   "source": [
    "li=np.arange(1,11)\n",
    "sl=pd.Series(li)\n",
    "sl"
   ]
  },
  {
   "cell_type": "code",
   "execution_count": 203,
   "id": "a1d404e5",
   "metadata": {},
   "outputs": [
    {
     "data": {
      "text/html": [
       "<div>\n",
       "<style scoped>\n",
       "    .dataframe tbody tr th:only-of-type {\n",
       "        vertical-align: middle;\n",
       "    }\n",
       "\n",
       "    .dataframe tbody tr th {\n",
       "        vertical-align: top;\n",
       "    }\n",
       "\n",
       "    .dataframe thead th {\n",
       "        text-align: right;\n",
       "    }\n",
       "</style>\n",
       "<table border=\"1\" class=\"dataframe\">\n",
       "  <thead>\n",
       "    <tr style=\"text-align: right;\">\n",
       "      <th></th>\n",
       "      <th>country</th>\n",
       "      <th>capital</th>\n",
       "    </tr>\n",
       "  </thead>\n",
       "  <tbody>\n",
       "    <tr>\n",
       "      <th>0</th>\n",
       "      <td>USA</td>\n",
       "      <td>Washington D C</td>\n",
       "    </tr>\n",
       "    <tr>\n",
       "      <th>1</th>\n",
       "      <td>Canada</td>\n",
       "      <td>Ottawa</td>\n",
       "    </tr>\n",
       "    <tr>\n",
       "      <th>2</th>\n",
       "      <td>India</td>\n",
       "      <td>Delhi</td>\n",
       "    </tr>\n",
       "    <tr>\n",
       "      <th>3</th>\n",
       "      <td>Japan</td>\n",
       "      <td>Tokyo</td>\n",
       "    </tr>\n",
       "  </tbody>\n",
       "</table>\n",
       "</div>"
      ],
      "text/plain": [
       "  country         capital\n",
       "0     USA  Washington D C\n",
       "1  Canada          Ottawa\n",
       "2   India           Delhi\n",
       "3   Japan           Tokyo"
      ]
     },
     "execution_count": 203,
     "metadata": {},
     "output_type": "execute_result"
    }
   ],
   "source": [
    "dd=pd.DataFrame({\"country\":[\"USA\",\"Canada\",\"India\",\"Japan\"],\"capital\":[\"Washington D C\",\"Ottawa\",\"Delhi\",\"Tokyo\"]})\n",
    "dd"
   ]
  },
  {
   "cell_type": "code",
   "execution_count": 204,
   "id": "462efcaf",
   "metadata": {},
   "outputs": [
    {
     "name": "stdout",
     "output_type": "stream",
     "text": [
      "(4, 2)\n",
      "Index(['country', 'capital'], dtype='object')\n"
     ]
    }
   ],
   "source": [
    "print(dd.shape)\n",
    "print(dd.columns)"
   ]
  },
  {
   "cell_type": "code",
   "execution_count": 205,
   "id": "2aa0fb7b",
   "metadata": {},
   "outputs": [
    {
     "data": {
      "text/html": [
       "<div>\n",
       "<style scoped>\n",
       "    .dataframe tbody tr th:only-of-type {\n",
       "        vertical-align: middle;\n",
       "    }\n",
       "\n",
       "    .dataframe tbody tr th {\n",
       "        vertical-align: top;\n",
       "    }\n",
       "\n",
       "    .dataframe thead th {\n",
       "        text-align: right;\n",
       "    }\n",
       "</style>\n",
       "<table border=\"1\" class=\"dataframe\">\n",
       "  <thead>\n",
       "    <tr style=\"text-align: right;\">\n",
       "      <th></th>\n",
       "      <th>0</th>\n",
       "      <th>1</th>\n",
       "      <th>2</th>\n",
       "      <th>3</th>\n",
       "      <th>4</th>\n",
       "    </tr>\n",
       "  </thead>\n",
       "  <tbody>\n",
       "    <tr>\n",
       "      <th>0</th>\n",
       "      <td>11</td>\n",
       "      <td>12</td>\n",
       "      <td>13</td>\n",
       "      <td>14</td>\n",
       "      <td>15</td>\n",
       "    </tr>\n",
       "    <tr>\n",
       "      <th>1</th>\n",
       "      <td>1</td>\n",
       "      <td>2</td>\n",
       "      <td>3</td>\n",
       "      <td>4</td>\n",
       "      <td>5</td>\n",
       "    </tr>\n",
       "  </tbody>\n",
       "</table>\n",
       "</div>"
      ],
      "text/plain": [
       "    0   1   2   3   4\n",
       "0  11  12  13  14  15\n",
       "1   1   2   3   4   5"
      ]
     },
     "execution_count": 205,
     "metadata": {},
     "output_type": "execute_result"
    }
   ],
   "source": [
    "ar=np.array([[11,12,13,14,15],[1,2,3,4,5]])\n",
    "ad=pd.DataFrame(ar)\n",
    "ad"
   ]
  },
  {
   "cell_type": "code",
   "execution_count": 206,
   "id": "5f6a3ec4",
   "metadata": {},
   "outputs": [
    {
     "name": "stdout",
     "output_type": "stream",
     "text": [
      "RangeIndex(start=0, stop=5, step=1)\n"
     ]
    }
   ],
   "source": [
    "print(ad.columns)"
   ]
  },
  {
   "cell_type": "code",
   "execution_count": 207,
   "id": "803a3c20",
   "metadata": {},
   "outputs": [
    {
     "name": "stdout",
     "output_type": "stream",
     "text": [
      "[RangeIndex(start=0, stop=2, step=1), RangeIndex(start=0, stop=5, step=1)]\n"
     ]
    }
   ],
   "source": [
    "print(ad.axes)"
   ]
  },
  {
   "cell_type": "markdown",
   "id": "cd37afef",
   "metadata": {},
   "source": [
    "##### there are many ways to rename a column name of a dataframe in pandas\n",
    "##### here shows the way to rename multiple column name at once using key value pairs"
   ]
  },
  {
   "cell_type": "code",
   "execution_count": 208,
   "id": "5e51e49f",
   "metadata": {},
   "outputs": [
    {
     "data": {
      "text/html": [
       "<div>\n",
       "<style scoped>\n",
       "    .dataframe tbody tr th:only-of-type {\n",
       "        vertical-align: middle;\n",
       "    }\n",
       "\n",
       "    .dataframe tbody tr th {\n",
       "        vertical-align: top;\n",
       "    }\n",
       "\n",
       "    .dataframe thead th {\n",
       "        text-align: right;\n",
       "    }\n",
       "</style>\n",
       "<table border=\"1\" class=\"dataframe\">\n",
       "  <thead>\n",
       "    <tr style=\"text-align: right;\">\n",
       "      <th></th>\n",
       "      <th>country name</th>\n",
       "      <th>country capital</th>\n",
       "    </tr>\n",
       "  </thead>\n",
       "  <tbody>\n",
       "    <tr>\n",
       "      <th>0</th>\n",
       "      <td>USA</td>\n",
       "      <td>Washington D C</td>\n",
       "    </tr>\n",
       "    <tr>\n",
       "      <th>1</th>\n",
       "      <td>Canada</td>\n",
       "      <td>Ottawa</td>\n",
       "    </tr>\n",
       "    <tr>\n",
       "      <th>2</th>\n",
       "      <td>India</td>\n",
       "      <td>Delhi</td>\n",
       "    </tr>\n",
       "    <tr>\n",
       "      <th>3</th>\n",
       "      <td>Japan</td>\n",
       "      <td>Tokyo</td>\n",
       "    </tr>\n",
       "  </tbody>\n",
       "</table>\n",
       "</div>"
      ],
      "text/plain": [
       "  country name country capital\n",
       "0          USA  Washington D C\n",
       "1       Canada          Ottawa\n",
       "2        India           Delhi\n",
       "3        Japan           Tokyo"
      ]
     },
     "execution_count": 208,
     "metadata": {},
     "output_type": "execute_result"
    }
   ],
   "source": [
    "dd=dd.rename(columns={\"country\":\"country name\",\"capital\":\"country capital\"})\n",
    "dd"
   ]
  },
  {
   "cell_type": "code",
   "execution_count": 209,
   "id": "7f9213f1",
   "metadata": {},
   "outputs": [
    {
     "name": "stdout",
     "output_type": "stream",
     "text": [
      "  name  roll_no  squared_roll_no\n",
      "a  abc        1                1\n",
      "b  xyz        3                9\n",
      "c  uvw        2                4\n"
     ]
    }
   ],
   "source": [
    "df['squared_roll_no']=df['roll_no']**2\n",
    "print(df)"
   ]
  },
  {
   "cell_type": "markdown",
   "id": "6702a01e",
   "metadata": {},
   "source": [
    "## DAY 2\n",
    "### Indexing and Selection"
   ]
  },
  {
   "cell_type": "code",
   "execution_count": 210,
   "id": "a89ce883",
   "metadata": {},
   "outputs": [
    {
     "name": "stdout",
     "output_type": "stream",
     "text": [
      "  name  roll_no  squared_roll_no\n",
      "a  abc        1                1\n",
      "b  xyz        3                9\n",
      "c  uvw        2                4\n",
      "a    1\n",
      "b    3\n",
      "c    2\n",
      "Name: roll_no, dtype: int64\n"
     ]
    }
   ],
   "source": [
    "print(df)\n",
    "print(df['roll_no'])"
   ]
  },
  {
   "cell_type": "code",
   "execution_count": 211,
   "id": "9dccbd27",
   "metadata": {},
   "outputs": [
    {
     "name": "stdout",
     "output_type": "stream",
     "text": [
      "a    1\n",
      "b    3\n",
      "c    2\n",
      "Name: roll_no, dtype: int64\n"
     ]
    }
   ],
   "source": [
    "roll_column=df.roll_no\n",
    "print(roll_column)"
   ]
  },
  {
   "cell_type": "markdown",
   "id": "2420c398",
   "metadata": {},
   "source": [
    "#### .loc[] — label-based selection\n",
    "##### Use .loc[row_labels, column_labels]\n",
    "##### Works with row/column names (not positions)\n",
    "##### Can select single rows/columns, slices, or boolean conditions"
   ]
  },
  {
   "cell_type": "code",
   "execution_count": 212,
   "id": "6c73a573",
   "metadata": {},
   "outputs": [
    {
     "name": "stdout",
     "output_type": "stream",
     "text": [
      "name               xyz\n",
      "roll_no              3\n",
      "squared_roll_no      9\n",
      "Name: b, dtype: object\n"
     ]
    }
   ],
   "source": [
    "print(df.loc['b'])"
   ]
  },
  {
   "cell_type": "code",
   "execution_count": 213,
   "id": "60c5b85d",
   "metadata": {},
   "outputs": [
    {
     "name": "stdout",
     "output_type": "stream",
     "text": [
      "name    akash\n",
      "age        24\n",
      "Name: 03, dtype: object\n"
     ]
    }
   ],
   "source": [
    "d1=pd.DataFrame({'name':[\"naja\",\"naseef\",\"akash\",\"husna\",\"swalih\"],'age':[22,23,24,21,21]},index=['01','02','03','04','05'])\n",
    "print(d1.loc['03'])"
   ]
  },
  {
   "cell_type": "code",
   "execution_count": 214,
   "id": "5d1f5ced",
   "metadata": {},
   "outputs": [
    {
     "data": {
      "text/plain": [
       "Index(['01', '02', '03', '04', '05'], dtype='object')"
      ]
     },
     "execution_count": 214,
     "metadata": {},
     "output_type": "execute_result"
    }
   ],
   "source": [
    "d1.index"
   ]
  },
  {
   "cell_type": "code",
   "execution_count": 215,
   "id": "e66a2880",
   "metadata": {},
   "outputs": [
    {
     "data": {
      "text/html": [
       "<div>\n",
       "<style scoped>\n",
       "    .dataframe tbody tr th:only-of-type {\n",
       "        vertical-align: middle;\n",
       "    }\n",
       "\n",
       "    .dataframe tbody tr th {\n",
       "        vertical-align: top;\n",
       "    }\n",
       "\n",
       "    .dataframe thead th {\n",
       "        text-align: right;\n",
       "    }\n",
       "</style>\n",
       "<table border=\"1\" class=\"dataframe\">\n",
       "  <thead>\n",
       "    <tr style=\"text-align: right;\">\n",
       "      <th></th>\n",
       "      <th>name</th>\n",
       "    </tr>\n",
       "  </thead>\n",
       "  <tbody>\n",
       "    <tr>\n",
       "      <th>01</th>\n",
       "      <td>naja</td>\n",
       "    </tr>\n",
       "    <tr>\n",
       "      <th>04</th>\n",
       "      <td>husna</td>\n",
       "    </tr>\n",
       "  </tbody>\n",
       "</table>\n",
       "</div>"
      ],
      "text/plain": [
       "     name\n",
       "01   naja\n",
       "04  husna"
      ]
     },
     "execution_count": 215,
     "metadata": {},
     "output_type": "execute_result"
    }
   ],
   "source": [
    "d1.loc[['01','04'],['name']]"
   ]
  },
  {
   "cell_type": "code",
   "execution_count": 216,
   "id": "98a6b384",
   "metadata": {},
   "outputs": [
    {
     "data": {
      "text/plain": [
       "01    22\n",
       "02    23\n",
       "03    24\n",
       "Name: age, dtype: int64"
      ]
     },
     "execution_count": 216,
     "metadata": {},
     "output_type": "execute_result"
    }
   ],
   "source": [
    "d1.loc['01':'03','age']"
   ]
  },
  {
   "cell_type": "code",
   "execution_count": 217,
   "id": "5480bfe1",
   "metadata": {},
   "outputs": [
    {
     "name": "stdout",
     "output_type": "stream",
     "text": [
      "      name  age      place\n",
      "01    naja   22    Calicut\n",
      "02  naseef   23  Kottakkal\n",
      "03   akash   24    kutyadi\n",
      "04   husna   21    Manjeri\n",
      "05  swalih   21    Vandoor\n"
     ]
    }
   ],
   "source": [
    "d1['place']=['Calicut','Kottakkal','kutyadi','Manjeri','Vandoor']\n",
    "print(d1)"
   ]
  },
  {
   "cell_type": "code",
   "execution_count": 218,
   "id": "8b6a3f06",
   "metadata": {},
   "outputs": [
    {
     "data": {
      "text/html": [
       "<div>\n",
       "<style scoped>\n",
       "    .dataframe tbody tr th:only-of-type {\n",
       "        vertical-align: middle;\n",
       "    }\n",
       "\n",
       "    .dataframe tbody tr th {\n",
       "        vertical-align: top;\n",
       "    }\n",
       "\n",
       "    .dataframe thead th {\n",
       "        text-align: right;\n",
       "    }\n",
       "</style>\n",
       "<table border=\"1\" class=\"dataframe\">\n",
       "  <thead>\n",
       "    <tr style=\"text-align: right;\">\n",
       "      <th></th>\n",
       "      <th>name</th>\n",
       "      <th>place</th>\n",
       "    </tr>\n",
       "  </thead>\n",
       "  <tbody>\n",
       "    <tr>\n",
       "      <th>01</th>\n",
       "      <td>naja</td>\n",
       "      <td>Calicut</td>\n",
       "    </tr>\n",
       "    <tr>\n",
       "      <th>03</th>\n",
       "      <td>akash</td>\n",
       "      <td>kutyadi</td>\n",
       "    </tr>\n",
       "  </tbody>\n",
       "</table>\n",
       "</div>"
      ],
      "text/plain": [
       "     name    place\n",
       "01   naja  Calicut\n",
       "03  akash  kutyadi"
      ]
     },
     "execution_count": 218,
     "metadata": {},
     "output_type": "execute_result"
    }
   ],
   "source": [
    "d1.loc[['01','03'],['name','place']]"
   ]
  },
  {
   "cell_type": "code",
   "execution_count": 219,
   "id": "6756b987",
   "metadata": {},
   "outputs": [
    {
     "data": {
      "text/plain": [
       "01    22\n",
       "02    23\n",
       "03    24\n",
       "04    21\n",
       "05    21\n",
       "Name: age, dtype: int64"
      ]
     },
     "execution_count": 219,
     "metadata": {},
     "output_type": "execute_result"
    }
   ],
   "source": [
    "d1.loc[:,'age']"
   ]
  },
  {
   "cell_type": "markdown",
   "id": "915da932",
   "metadata": {},
   "source": [
    "#### .iloc[] — position-based selection\n",
    "##### Use .iloc[row_positions, column_positions]\n",
    "##### Works with integer positions (like Python lists)"
   ]
  },
  {
   "cell_type": "code",
   "execution_count": 220,
   "id": "8b6f79ac",
   "metadata": {},
   "outputs": [
    {
     "name": "stdout",
     "output_type": "stream",
     "text": [
      "name      swalih\n",
      "age           21\n",
      "place    Vandoor\n",
      "Name: 05, dtype: object\n"
     ]
    }
   ],
   "source": [
    "# to print a specific row\n",
    "print(d1.iloc[4]) "
   ]
  },
  {
   "cell_type": "code",
   "execution_count": 221,
   "id": "1e1222ab",
   "metadata": {},
   "outputs": [
    {
     "name": "stdout",
     "output_type": "stream",
     "text": [
      "01      Calicut\n",
      "02    Kottakkal\n",
      "03      kutyadi\n",
      "04      Manjeri\n",
      "05      Vandoor\n",
      "Name: place, dtype: object\n"
     ]
    }
   ],
   "source": [
    "#to print specific column\n",
    "print(d1.iloc[:,2])"
   ]
  },
  {
   "cell_type": "code",
   "execution_count": 222,
   "id": "ea79cbb8",
   "metadata": {},
   "outputs": [
    {
     "name": "stdout",
     "output_type": "stream",
     "text": [
      "    age      place\n",
      "02   23  Kottakkal\n",
      "03   24    kutyadi\n",
      "04   21    Manjeri\n"
     ]
    }
   ],
   "source": [
    "print(d1.iloc[1:4,1:3])"
   ]
  },
  {
   "cell_type": "code",
   "execution_count": 223,
   "id": "171e8cb3",
   "metadata": {},
   "outputs": [
    {
     "name": "stdout",
     "output_type": "stream",
     "text": [
      "Vandoor\n"
     ]
    }
   ],
   "source": [
    "#printing last row , last column\n",
    "print(d1.iloc[-1,-1])"
   ]
  },
  {
   "cell_type": "markdown",
   "id": "e3686164",
   "metadata": {},
   "source": [
    "#### Boolean Indexing\n",
    "##### Boolean indexing = selecting rows based on conditions that give True or False.\n",
    "##### The condition produces a Boolean Series (array of True/False values).\n",
    "##### Pandas keeps only the rows where the condition is True."
   ]
  },
  {
   "cell_type": "code",
   "execution_count": 224,
   "id": "32624fb0",
   "metadata": {},
   "outputs": [
    {
     "data": {
      "text/plain": [
       "01    False\n",
       "02     True\n",
       "03     True\n",
       "04    False\n",
       "05    False\n",
       "Name: age, dtype: bool"
      ]
     },
     "execution_count": 224,
     "metadata": {},
     "output_type": "execute_result"
    }
   ],
   "source": [
    "d1['age']>22"
   ]
  },
  {
   "cell_type": "code",
   "execution_count": 225,
   "id": "f2135d48",
   "metadata": {},
   "outputs": [
    {
     "data": {
      "text/html": [
       "<div>\n",
       "<style scoped>\n",
       "    .dataframe tbody tr th:only-of-type {\n",
       "        vertical-align: middle;\n",
       "    }\n",
       "\n",
       "    .dataframe tbody tr th {\n",
       "        vertical-align: top;\n",
       "    }\n",
       "\n",
       "    .dataframe thead th {\n",
       "        text-align: right;\n",
       "    }\n",
       "</style>\n",
       "<table border=\"1\" class=\"dataframe\">\n",
       "  <thead>\n",
       "    <tr style=\"text-align: right;\">\n",
       "      <th></th>\n",
       "      <th>name</th>\n",
       "      <th>age</th>\n",
       "      <th>place</th>\n",
       "    </tr>\n",
       "  </thead>\n",
       "  <tbody>\n",
       "    <tr>\n",
       "      <th>02</th>\n",
       "      <td>naseef</td>\n",
       "      <td>23</td>\n",
       "      <td>Kottakkal</td>\n",
       "    </tr>\n",
       "    <tr>\n",
       "      <th>03</th>\n",
       "      <td>akash</td>\n",
       "      <td>24</td>\n",
       "      <td>kutyadi</td>\n",
       "    </tr>\n",
       "  </tbody>\n",
       "</table>\n",
       "</div>"
      ],
      "text/plain": [
       "      name  age      place\n",
       "02  naseef   23  Kottakkal\n",
       "03   akash   24    kutyadi"
      ]
     },
     "execution_count": 225,
     "metadata": {},
     "output_type": "execute_result"
    }
   ],
   "source": [
    "#Apply mask to filter rows\n",
    "d1[d1['age']>22] # onlt rows where age>22 is shown"
   ]
  },
  {
   "cell_type": "code",
   "execution_count": 226,
   "id": "cd189d34",
   "metadata": {},
   "outputs": [
    {
     "data": {
      "text/html": [
       "<div>\n",
       "<style scoped>\n",
       "    .dataframe tbody tr th:only-of-type {\n",
       "        vertical-align: middle;\n",
       "    }\n",
       "\n",
       "    .dataframe tbody tr th {\n",
       "        vertical-align: top;\n",
       "    }\n",
       "\n",
       "    .dataframe thead th {\n",
       "        text-align: right;\n",
       "    }\n",
       "</style>\n",
       "<table border=\"1\" class=\"dataframe\">\n",
       "  <thead>\n",
       "    <tr style=\"text-align: right;\">\n",
       "      <th></th>\n",
       "      <th>name</th>\n",
       "      <th>age</th>\n",
       "      <th>place</th>\n",
       "    </tr>\n",
       "  </thead>\n",
       "  <tbody>\n",
       "    <tr>\n",
       "      <th>03</th>\n",
       "      <td>akash</td>\n",
       "      <td>24</td>\n",
       "      <td>kutyadi</td>\n",
       "    </tr>\n",
       "  </tbody>\n",
       "</table>\n",
       "</div>"
      ],
      "text/plain": [
       "     name  age    place\n",
       "03  akash   24  kutyadi"
      ]
     },
     "execution_count": 226,
     "metadata": {},
     "output_type": "execute_result"
    }
   ],
   "source": [
    "#combining multiple conditions\n",
    "masked=(d1['age']>22) & (d1['place']=='kutyadi')\n",
    "d1[masked]"
   ]
  },
  {
   "cell_type": "markdown",
   "id": "1c204bd7",
   "metadata": {},
   "source": [
    "##### Boolean Indexing with .loc[]"
   ]
  },
  {
   "cell_type": "code",
   "execution_count": 227,
   "id": "d814baa3",
   "metadata": {},
   "outputs": [
    {
     "data": {
      "text/html": [
       "<div>\n",
       "<style scoped>\n",
       "    .dataframe tbody tr th:only-of-type {\n",
       "        vertical-align: middle;\n",
       "    }\n",
       "\n",
       "    .dataframe tbody tr th {\n",
       "        vertical-align: top;\n",
       "    }\n",
       "\n",
       "    .dataframe thead th {\n",
       "        text-align: right;\n",
       "    }\n",
       "</style>\n",
       "<table border=\"1\" class=\"dataframe\">\n",
       "  <thead>\n",
       "    <tr style=\"text-align: right;\">\n",
       "      <th></th>\n",
       "      <th>name</th>\n",
       "      <th>place</th>\n",
       "    </tr>\n",
       "  </thead>\n",
       "  <tbody>\n",
       "    <tr>\n",
       "      <th>02</th>\n",
       "      <td>naseef</td>\n",
       "      <td>Kottakkal</td>\n",
       "    </tr>\n",
       "    <tr>\n",
       "      <th>03</th>\n",
       "      <td>akash</td>\n",
       "      <td>kutyadi</td>\n",
       "    </tr>\n",
       "  </tbody>\n",
       "</table>\n",
       "</div>"
      ],
      "text/plain": [
       "      name      place\n",
       "02  naseef  Kottakkal\n",
       "03   akash    kutyadi"
      ]
     },
     "execution_count": 227,
     "metadata": {},
     "output_type": "execute_result"
    }
   ],
   "source": [
    "d1.loc[d1['age']>22,['name','place']] \n",
    "# Rows where age>22 , but show only name and place"
   ]
  },
  {
   "cell_type": "code",
   "execution_count": 228,
   "id": "f34ef6e3",
   "metadata": {},
   "outputs": [
    {
     "name": "stdout",
     "output_type": "stream",
     "text": [
      "      name  age      place   salary\n",
      "01    naja   22    Calicut  2000000\n",
      "02  naseef   23  Kottakkal  2600000\n",
      "03   akash   24    kutyadi  2000000\n",
      "04   husna   21    Manjeri  1500000\n",
      "05  swalih   21    Vandoor  1700000\n"
     ]
    }
   ],
   "source": [
    "\n",
    "d1['salary']=[2000000,2600000,2000000,1500000,1700000]\n",
    "print(d1)"
   ]
  },
  {
   "cell_type": "code",
   "execution_count": 229,
   "id": "cc53fb1b",
   "metadata": {},
   "outputs": [
    {
     "data": {
      "text/html": [
       "<div>\n",
       "<style scoped>\n",
       "    .dataframe tbody tr th:only-of-type {\n",
       "        vertical-align: middle;\n",
       "    }\n",
       "\n",
       "    .dataframe tbody tr th {\n",
       "        vertical-align: top;\n",
       "    }\n",
       "\n",
       "    .dataframe thead th {\n",
       "        text-align: right;\n",
       "    }\n",
       "</style>\n",
       "<table border=\"1\" class=\"dataframe\">\n",
       "  <thead>\n",
       "    <tr style=\"text-align: right;\">\n",
       "      <th></th>\n",
       "      <th>name</th>\n",
       "      <th>age</th>\n",
       "      <th>place</th>\n",
       "      <th>salary</th>\n",
       "    </tr>\n",
       "  </thead>\n",
       "  <tbody>\n",
       "    <tr>\n",
       "      <th>01</th>\n",
       "      <td>naja</td>\n",
       "      <td>22</td>\n",
       "      <td>Calicut</td>\n",
       "      <td>2000000</td>\n",
       "    </tr>\n",
       "    <tr>\n",
       "      <th>02</th>\n",
       "      <td>naseef</td>\n",
       "      <td>23</td>\n",
       "      <td>Kottakkal</td>\n",
       "      <td>2600000</td>\n",
       "    </tr>\n",
       "    <tr>\n",
       "      <th>03</th>\n",
       "      <td>akash</td>\n",
       "      <td>24</td>\n",
       "      <td>kutyadi</td>\n",
       "      <td>2000000</td>\n",
       "    </tr>\n",
       "  </tbody>\n",
       "</table>\n",
       "</div>"
      ],
      "text/plain": [
       "      name  age      place   salary\n",
       "01    naja   22    Calicut  2000000\n",
       "02  naseef   23  Kottakkal  2600000\n",
       "03   akash   24    kutyadi  2000000"
      ]
     },
     "execution_count": 229,
     "metadata": {},
     "output_type": "execute_result"
    }
   ],
   "source": [
    "#Select the first 3 rows of a DataFrame\n",
    "d1.loc['01':'03']"
   ]
  },
  {
   "cell_type": "code",
   "execution_count": 230,
   "id": "9e1bfda1",
   "metadata": {},
   "outputs": [
    {
     "data": {
      "text/plain": [
       "01      naja\n",
       "02    naseef\n",
       "03     akash\n",
       "04     husna\n",
       "05    swalih\n",
       "Name: name, dtype: object"
      ]
     },
     "execution_count": 230,
     "metadata": {},
     "output_type": "execute_result"
    }
   ],
   "source": [
    "#Select only the Name column.\n",
    "d1.loc[:,'name']"
   ]
  },
  {
   "cell_type": "code",
   "execution_count": 231,
   "id": "ed133dd8",
   "metadata": {},
   "outputs": [
    {
     "name": "stdout",
     "output_type": "stream",
     "text": [
      "      name  age      place   salary\n",
      "01    naja   22    Calicut  2000000\n",
      "02  naseef   23  Kottakkal  2600000\n",
      "03   akash   24    kutyadi  2000000\n"
     ]
    }
   ],
   "source": [
    "#Filter rows where Age > 21.\n",
    "mask=d1['age']>21\n",
    "print(d1[mask])"
   ]
  },
  {
   "cell_type": "code",
   "execution_count": 232,
   "id": "4b94a990",
   "metadata": {},
   "outputs": [
    {
     "data": {
      "text/html": [
       "<div>\n",
       "<style scoped>\n",
       "    .dataframe tbody tr th:only-of-type {\n",
       "        vertical-align: middle;\n",
       "    }\n",
       "\n",
       "    .dataframe tbody tr th {\n",
       "        vertical-align: top;\n",
       "    }\n",
       "\n",
       "    .dataframe thead th {\n",
       "        text-align: right;\n",
       "    }\n",
       "</style>\n",
       "<table border=\"1\" class=\"dataframe\">\n",
       "  <thead>\n",
       "    <tr style=\"text-align: right;\">\n",
       "      <th></th>\n",
       "      <th>name</th>\n",
       "      <th>age</th>\n",
       "    </tr>\n",
       "  </thead>\n",
       "  <tbody>\n",
       "    <tr>\n",
       "      <th>03</th>\n",
       "      <td>akash</td>\n",
       "      <td>24</td>\n",
       "    </tr>\n",
       "    <tr>\n",
       "      <th>04</th>\n",
       "      <td>husna</td>\n",
       "      <td>21</td>\n",
       "    </tr>\n",
       "  </tbody>\n",
       "</table>\n",
       "</div>"
      ],
      "text/plain": [
       "     name  age\n",
       "03  akash   24\n",
       "04  husna   21"
      ]
     },
     "execution_count": 232,
     "metadata": {},
     "output_type": "execute_result"
    }
   ],
   "source": [
    "#Select rows 2–4 and columns Name and Age using iloc[].\n",
    "d1.iloc[2:4,0:2]"
   ]
  },
  {
   "cell_type": "code",
   "execution_count": 233,
   "id": "0cd6bb83",
   "metadata": {},
   "outputs": [
    {
     "data": {
      "text/html": [
       "<div>\n",
       "<style scoped>\n",
       "    .dataframe tbody tr th:only-of-type {\n",
       "        vertical-align: middle;\n",
       "    }\n",
       "\n",
       "    .dataframe tbody tr th {\n",
       "        vertical-align: top;\n",
       "    }\n",
       "\n",
       "    .dataframe thead th {\n",
       "        text-align: right;\n",
       "    }\n",
       "</style>\n",
       "<table border=\"1\" class=\"dataframe\">\n",
       "  <thead>\n",
       "    <tr style=\"text-align: right;\">\n",
       "      <th></th>\n",
       "      <th>name</th>\n",
       "      <th>age</th>\n",
       "      <th>place</th>\n",
       "      <th>salary</th>\n",
       "    </tr>\n",
       "  </thead>\n",
       "  <tbody>\n",
       "    <tr>\n",
       "      <th>01</th>\n",
       "      <td>naja</td>\n",
       "      <td>22</td>\n",
       "      <td>Calicut</td>\n",
       "      <td>2000000</td>\n",
       "    </tr>\n",
       "    <tr>\n",
       "      <th>02</th>\n",
       "      <td>naseef</td>\n",
       "      <td>23</td>\n",
       "      <td>Kottakkal</td>\n",
       "      <td>2600000</td>\n",
       "    </tr>\n",
       "    <tr>\n",
       "      <th>03</th>\n",
       "      <td>akash</td>\n",
       "      <td>24</td>\n",
       "      <td>kutyadi</td>\n",
       "      <td>2000000</td>\n",
       "    </tr>\n",
       "  </tbody>\n",
       "</table>\n",
       "</div>"
      ],
      "text/plain": [
       "      name  age      place   salary\n",
       "01    naja   22    Calicut  2000000\n",
       "02  naseef   23  Kottakkal  2600000\n",
       "03   akash   24    kutyadi  2000000"
      ]
     },
     "execution_count": 233,
     "metadata": {},
     "output_type": "execute_result"
    }
   ],
   "source": [
    "d1[(d1['salary']>1700000) & (d1['salary']<8000000)]\n"
   ]
  },
  {
   "cell_type": "markdown",
   "id": "0a8640a1",
   "metadata": {},
   "source": [
    "### DAY 3\n",
    "#### Data cleaning and Missing values"
   ]
  },
  {
   "cell_type": "code",
   "execution_count": 234,
   "id": "5ae65f86",
   "metadata": {},
   "outputs": [
    {
     "name": "stdout",
     "output_type": "stream",
     "text": [
      "       Name   Age      Place       salary\n",
      "0      mary  22.0      Kochi        25000\n",
      "1     james  32.0      Kochi        30000\n",
      "2      alex   NaN  Alappuzha        32000\n",
      "3      ravi  22.0    calicut  twenty five\n",
      "4  musthafa  32.0       None        35000\n"
     ]
    }
   ],
   "source": [
    "data={'Name':['mary','james','alex','ravi','musthafa'],\n",
    "      'Age':[22,32,None,22,32],\n",
    "      'Place':['Kochi','Kochi','Alappuzha','calicut',None],\n",
    "      'salary':[25000,30000,32000,'twenty five',35000]}\n",
    "df=pd.DataFrame(data)\n",
    "print(df)"
   ]
  },
  {
   "cell_type": "code",
   "execution_count": 235,
   "id": "f2d32d57",
   "metadata": {},
   "outputs": [
    {
     "name": "stdout",
     "output_type": "stream",
     "text": [
      "    Name    Age  Place  salary\n",
      "0  False  False  False   False\n",
      "1  False  False  False   False\n",
      "2  False   True  False   False\n",
      "3  False  False  False   False\n",
      "4  False  False   True   False\n"
     ]
    }
   ],
   "source": [
    "#FINDING MISSING VALUES\n",
    "print(df.isnull())"
   ]
  },
  {
   "cell_type": "code",
   "execution_count": 236,
   "id": "9e4d7bbd",
   "metadata": {},
   "outputs": [
    {
     "name": "stdout",
     "output_type": "stream",
     "text": [
      "Name      0\n",
      "Age       1\n",
      "Place     1\n",
      "salary    0\n",
      "dtype: int64\n"
     ]
    }
   ],
   "source": [
    "#FINDING COLUMN WISE TOTAL NO.OF MISSING VALUES\n",
    "print(df.isnull().sum())"
   ]
  },
  {
   "cell_type": "code",
   "execution_count": 237,
   "id": "fc7bf35c",
   "metadata": {},
   "outputs": [
    {
     "data": {
      "text/html": [
       "<div>\n",
       "<style scoped>\n",
       "    .dataframe tbody tr th:only-of-type {\n",
       "        vertical-align: middle;\n",
       "    }\n",
       "\n",
       "    .dataframe tbody tr th {\n",
       "        vertical-align: top;\n",
       "    }\n",
       "\n",
       "    .dataframe thead th {\n",
       "        text-align: right;\n",
       "    }\n",
       "</style>\n",
       "<table border=\"1\" class=\"dataframe\">\n",
       "  <thead>\n",
       "    <tr style=\"text-align: right;\">\n",
       "      <th></th>\n",
       "      <th>Name</th>\n",
       "      <th>Age</th>\n",
       "      <th>Place</th>\n",
       "      <th>salary</th>\n",
       "    </tr>\n",
       "  </thead>\n",
       "  <tbody>\n",
       "    <tr>\n",
       "      <th>0</th>\n",
       "      <td>mary</td>\n",
       "      <td>22.0</td>\n",
       "      <td>Kochi</td>\n",
       "      <td>25000</td>\n",
       "    </tr>\n",
       "    <tr>\n",
       "      <th>1</th>\n",
       "      <td>james</td>\n",
       "      <td>32.0</td>\n",
       "      <td>Kochi</td>\n",
       "      <td>30000</td>\n",
       "    </tr>\n",
       "    <tr>\n",
       "      <th>2</th>\n",
       "      <td>alex</td>\n",
       "      <td>NaN</td>\n",
       "      <td>Alappuzha</td>\n",
       "      <td>32000</td>\n",
       "    </tr>\n",
       "    <tr>\n",
       "      <th>3</th>\n",
       "      <td>ravi</td>\n",
       "      <td>22.0</td>\n",
       "      <td>calicut</td>\n",
       "      <td>twenty five</td>\n",
       "    </tr>\n",
       "    <tr>\n",
       "      <th>4</th>\n",
       "      <td>musthafa</td>\n",
       "      <td>32.0</td>\n",
       "      <td>None</td>\n",
       "      <td>35000</td>\n",
       "    </tr>\n",
       "  </tbody>\n",
       "</table>\n",
       "</div>"
      ],
      "text/plain": [
       "       Name   Age      Place       salary\n",
       "0      mary  22.0      Kochi        25000\n",
       "1     james  32.0      Kochi        30000\n",
       "2      alex   NaN  Alappuzha        32000\n",
       "3      ravi  22.0    calicut  twenty five\n",
       "4  musthafa  32.0       None        35000"
      ]
     },
     "execution_count": 237,
     "metadata": {},
     "output_type": "execute_result"
    }
   ],
   "source": [
    "#DROPPING MISSING VALUES\n",
    "#df.dropna(inplace=True)\n",
    "df"
   ]
  },
  {
   "cell_type": "code",
   "execution_count": 238,
   "id": "f786bf99",
   "metadata": {},
   "outputs": [
    {
     "name": "stderr",
     "output_type": "stream",
     "text": [
      "C:\\Users\\Admin\\AppData\\Local\\Temp\\ipykernel_16284\\1565131261.py:2: FutureWarning: A value is trying to be set on a copy of a DataFrame or Series through chained assignment using an inplace method.\n",
      "The behavior will change in pandas 3.0. This inplace method will never work because the intermediate object on which we are setting values always behaves as a copy.\n",
      "\n",
      "For example, when doing 'df[col].method(value, inplace=True)', try using 'df.method({col: value}, inplace=True)' or df[col] = df[col].method(value) instead, to perform the operation inplace on the original object.\n",
      "\n",
      "\n",
      "  df['Age'].fillna(df['Age'].mean(),inplace=True)\n",
      "C:\\Users\\Admin\\AppData\\Local\\Temp\\ipykernel_16284\\1565131261.py:3: FutureWarning: A value is trying to be set on a copy of a DataFrame or Series through chained assignment using an inplace method.\n",
      "The behavior will change in pandas 3.0. This inplace method will never work because the intermediate object on which we are setting values always behaves as a copy.\n",
      "\n",
      "For example, when doing 'df[col].method(value, inplace=True)', try using 'df.method({col: value}, inplace=True)' or df[col] = df[col].method(value) instead, to perform the operation inplace on the original object.\n",
      "\n",
      "\n",
      "  df['Place'].fillna('unknown',inplace=True)\n"
     ]
    },
    {
     "data": {
      "text/html": [
       "<div>\n",
       "<style scoped>\n",
       "    .dataframe tbody tr th:only-of-type {\n",
       "        vertical-align: middle;\n",
       "    }\n",
       "\n",
       "    .dataframe tbody tr th {\n",
       "        vertical-align: top;\n",
       "    }\n",
       "\n",
       "    .dataframe thead th {\n",
       "        text-align: right;\n",
       "    }\n",
       "</style>\n",
       "<table border=\"1\" class=\"dataframe\">\n",
       "  <thead>\n",
       "    <tr style=\"text-align: right;\">\n",
       "      <th></th>\n",
       "      <th>Name</th>\n",
       "      <th>Age</th>\n",
       "      <th>Place</th>\n",
       "      <th>salary</th>\n",
       "    </tr>\n",
       "  </thead>\n",
       "  <tbody>\n",
       "    <tr>\n",
       "      <th>0</th>\n",
       "      <td>mary</td>\n",
       "      <td>22.0</td>\n",
       "      <td>Kochi</td>\n",
       "      <td>25000</td>\n",
       "    </tr>\n",
       "    <tr>\n",
       "      <th>1</th>\n",
       "      <td>james</td>\n",
       "      <td>32.0</td>\n",
       "      <td>Kochi</td>\n",
       "      <td>30000</td>\n",
       "    </tr>\n",
       "    <tr>\n",
       "      <th>2</th>\n",
       "      <td>alex</td>\n",
       "      <td>27.0</td>\n",
       "      <td>Alappuzha</td>\n",
       "      <td>32000</td>\n",
       "    </tr>\n",
       "    <tr>\n",
       "      <th>3</th>\n",
       "      <td>ravi</td>\n",
       "      <td>22.0</td>\n",
       "      <td>calicut</td>\n",
       "      <td>twenty five</td>\n",
       "    </tr>\n",
       "    <tr>\n",
       "      <th>4</th>\n",
       "      <td>musthafa</td>\n",
       "      <td>32.0</td>\n",
       "      <td>unknown</td>\n",
       "      <td>35000</td>\n",
       "    </tr>\n",
       "  </tbody>\n",
       "</table>\n",
       "</div>"
      ],
      "text/plain": [
       "       Name   Age      Place       salary\n",
       "0      mary  22.0      Kochi        25000\n",
       "1     james  32.0      Kochi        30000\n",
       "2      alex  27.0  Alappuzha        32000\n",
       "3      ravi  22.0    calicut  twenty five\n",
       "4  musthafa  32.0    unknown        35000"
      ]
     },
     "execution_count": 238,
     "metadata": {},
     "output_type": "execute_result"
    }
   ],
   "source": [
    "# FILL MISSING VALUES\n",
    "df['Age'].fillna(df['Age'].mean(),inplace=True)\n",
    "df['Place'].fillna('unknown',inplace=True)\n",
    "df"
   ]
  },
  {
   "cell_type": "code",
   "execution_count": 239,
   "id": "09fdb87e",
   "metadata": {},
   "outputs": [
    {
     "data": {
      "text/html": [
       "<div>\n",
       "<style scoped>\n",
       "    .dataframe tbody tr th:only-of-type {\n",
       "        vertical-align: middle;\n",
       "    }\n",
       "\n",
       "    .dataframe tbody tr th {\n",
       "        vertical-align: top;\n",
       "    }\n",
       "\n",
       "    .dataframe thead th {\n",
       "        text-align: right;\n",
       "    }\n",
       "</style>\n",
       "<table border=\"1\" class=\"dataframe\">\n",
       "  <thead>\n",
       "    <tr style=\"text-align: right;\">\n",
       "      <th></th>\n",
       "      <th>Name</th>\n",
       "      <th>Age</th>\n",
       "      <th>Place</th>\n",
       "      <th>salary</th>\n",
       "    </tr>\n",
       "  </thead>\n",
       "  <tbody>\n",
       "    <tr>\n",
       "      <th>0</th>\n",
       "      <td>mary</td>\n",
       "      <td>22.0</td>\n",
       "      <td>Kochi</td>\n",
       "      <td>25000</td>\n",
       "    </tr>\n",
       "    <tr>\n",
       "      <th>1</th>\n",
       "      <td>james</td>\n",
       "      <td>32.0</td>\n",
       "      <td>Kochi</td>\n",
       "      <td>30000</td>\n",
       "    </tr>\n",
       "    <tr>\n",
       "      <th>2</th>\n",
       "      <td>alex</td>\n",
       "      <td>27.0</td>\n",
       "      <td>Alappuzha</td>\n",
       "      <td>32000</td>\n",
       "    </tr>\n",
       "    <tr>\n",
       "      <th>3</th>\n",
       "      <td>ravi</td>\n",
       "      <td>22.0</td>\n",
       "      <td>calicut</td>\n",
       "      <td>twenty five</td>\n",
       "    </tr>\n",
       "    <tr>\n",
       "      <th>4</th>\n",
       "      <td>musthafa</td>\n",
       "      <td>32.0</td>\n",
       "      <td>unknown</td>\n",
       "      <td>35000</td>\n",
       "    </tr>\n",
       "  </tbody>\n",
       "</table>\n",
       "</div>"
      ],
      "text/plain": [
       "       Name   Age      Place       salary\n",
       "0      mary  22.0      Kochi        25000\n",
       "1     james  32.0      Kochi        30000\n",
       "2      alex  27.0  Alappuzha        32000\n",
       "3      ravi  22.0    calicut  twenty five\n",
       "4  musthafa  32.0    unknown        35000"
      ]
     },
     "execution_count": 239,
     "metadata": {},
     "output_type": "execute_result"
    }
   ],
   "source": [
    "#REMOVE DUPLICATES\n",
    "df.drop_duplicates(inplace=True)\n",
    "df"
   ]
  },
  {
   "cell_type": "code",
   "execution_count": 240,
   "id": "6f8425f9",
   "metadata": {},
   "outputs": [
    {
     "data": {
      "text/html": [
       "<div>\n",
       "<style scoped>\n",
       "    .dataframe tbody tr th:only-of-type {\n",
       "        vertical-align: middle;\n",
       "    }\n",
       "\n",
       "    .dataframe tbody tr th {\n",
       "        vertical-align: top;\n",
       "    }\n",
       "\n",
       "    .dataframe thead th {\n",
       "        text-align: right;\n",
       "    }\n",
       "</style>\n",
       "<table border=\"1\" class=\"dataframe\">\n",
       "  <thead>\n",
       "    <tr style=\"text-align: right;\">\n",
       "      <th></th>\n",
       "      <th>Name</th>\n",
       "      <th>Age</th>\n",
       "      <th>Place</th>\n",
       "      <th>salary</th>\n",
       "    </tr>\n",
       "  </thead>\n",
       "  <tbody>\n",
       "    <tr>\n",
       "      <th>0</th>\n",
       "      <td>mary</td>\n",
       "      <td>22.0</td>\n",
       "      <td>Kochi</td>\n",
       "      <td>25000.0</td>\n",
       "    </tr>\n",
       "    <tr>\n",
       "      <th>1</th>\n",
       "      <td>james</td>\n",
       "      <td>32.0</td>\n",
       "      <td>Kochi</td>\n",
       "      <td>30000.0</td>\n",
       "    </tr>\n",
       "    <tr>\n",
       "      <th>2</th>\n",
       "      <td>alex</td>\n",
       "      <td>27.0</td>\n",
       "      <td>Alappuzha</td>\n",
       "      <td>32000.0</td>\n",
       "    </tr>\n",
       "    <tr>\n",
       "      <th>3</th>\n",
       "      <td>ravi</td>\n",
       "      <td>22.0</td>\n",
       "      <td>calicut</td>\n",
       "      <td>NaN</td>\n",
       "    </tr>\n",
       "    <tr>\n",
       "      <th>4</th>\n",
       "      <td>musthafa</td>\n",
       "      <td>32.0</td>\n",
       "      <td>unknown</td>\n",
       "      <td>35000.0</td>\n",
       "    </tr>\n",
       "  </tbody>\n",
       "</table>\n",
       "</div>"
      ],
      "text/plain": [
       "       Name   Age      Place   salary\n",
       "0      mary  22.0      Kochi  25000.0\n",
       "1     james  32.0      Kochi  30000.0\n",
       "2      alex  27.0  Alappuzha  32000.0\n",
       "3      ravi  22.0    calicut      NaN\n",
       "4  musthafa  32.0    unknown  35000.0"
      ]
     },
     "execution_count": 240,
     "metadata": {},
     "output_type": "execute_result"
    }
   ],
   "source": [
    "#FIX DATA TYPES\n",
    "df['salary']=pd.to_numeric(df['salary'],errors='coerce')\n",
    "df\n",
    "# errors='coerce' turns invalid entries (mismatched data types etc) into NaN"
   ]
  },
  {
   "cell_type": "code",
   "execution_count": 241,
   "id": "461e15b5",
   "metadata": {},
   "outputs": [
    {
     "name": "stderr",
     "output_type": "stream",
     "text": [
      "C:\\Users\\Admin\\AppData\\Local\\Temp\\ipykernel_16284\\3257859425.py:2: FutureWarning: A value is trying to be set on a copy of a DataFrame or Series through chained assignment using an inplace method.\n",
      "The behavior will change in pandas 3.0. This inplace method will never work because the intermediate object on which we are setting values always behaves as a copy.\n",
      "\n",
      "For example, when doing 'df[col].method(value, inplace=True)', try using 'df.method({col: value}, inplace=True)' or df[col] = df[col].method(value) instead, to perform the operation inplace on the original object.\n",
      "\n",
      "\n",
      "  df['salary'].fillna(df['salary'].median(),inplace=True)\n"
     ]
    },
    {
     "data": {
      "text/html": [
       "<div>\n",
       "<style scoped>\n",
       "    .dataframe tbody tr th:only-of-type {\n",
       "        vertical-align: middle;\n",
       "    }\n",
       "\n",
       "    .dataframe tbody tr th {\n",
       "        vertical-align: top;\n",
       "    }\n",
       "\n",
       "    .dataframe thead th {\n",
       "        text-align: right;\n",
       "    }\n",
       "</style>\n",
       "<table border=\"1\" class=\"dataframe\">\n",
       "  <thead>\n",
       "    <tr style=\"text-align: right;\">\n",
       "      <th></th>\n",
       "      <th>Name</th>\n",
       "      <th>Age</th>\n",
       "      <th>Place</th>\n",
       "      <th>salary</th>\n",
       "    </tr>\n",
       "  </thead>\n",
       "  <tbody>\n",
       "    <tr>\n",
       "      <th>0</th>\n",
       "      <td>mary</td>\n",
       "      <td>22.0</td>\n",
       "      <td>Kochi</td>\n",
       "      <td>25000.0</td>\n",
       "    </tr>\n",
       "    <tr>\n",
       "      <th>1</th>\n",
       "      <td>james</td>\n",
       "      <td>32.0</td>\n",
       "      <td>Kochi</td>\n",
       "      <td>30000.0</td>\n",
       "    </tr>\n",
       "    <tr>\n",
       "      <th>2</th>\n",
       "      <td>alex</td>\n",
       "      <td>27.0</td>\n",
       "      <td>Alappuzha</td>\n",
       "      <td>32000.0</td>\n",
       "    </tr>\n",
       "    <tr>\n",
       "      <th>3</th>\n",
       "      <td>ravi</td>\n",
       "      <td>22.0</td>\n",
       "      <td>calicut</td>\n",
       "      <td>31000.0</td>\n",
       "    </tr>\n",
       "    <tr>\n",
       "      <th>4</th>\n",
       "      <td>musthafa</td>\n",
       "      <td>32.0</td>\n",
       "      <td>unknown</td>\n",
       "      <td>35000.0</td>\n",
       "    </tr>\n",
       "  </tbody>\n",
       "</table>\n",
       "</div>"
      ],
      "text/plain": [
       "       Name   Age      Place   salary\n",
       "0      mary  22.0      Kochi  25000.0\n",
       "1     james  32.0      Kochi  30000.0\n",
       "2      alex  27.0  Alappuzha  32000.0\n",
       "3      ravi  22.0    calicut  31000.0\n",
       "4  musthafa  32.0    unknown  35000.0"
      ]
     },
     "execution_count": 241,
     "metadata": {},
     "output_type": "execute_result"
    }
   ],
   "source": [
    "#FILLING MISMATCHED DATA TYPE IN SALARY COLUMN\n",
    "df['salary'].fillna(df['salary'].median(),inplace=True)\n",
    "df"
   ]
  },
  {
   "cell_type": "code",
   "execution_count": 242,
   "id": "6d5427a7",
   "metadata": {},
   "outputs": [
    {
     "data": {
      "text/html": [
       "<div>\n",
       "<style scoped>\n",
       "    .dataframe tbody tr th:only-of-type {\n",
       "        vertical-align: middle;\n",
       "    }\n",
       "\n",
       "    .dataframe tbody tr th {\n",
       "        vertical-align: top;\n",
       "    }\n",
       "\n",
       "    .dataframe thead th {\n",
       "        text-align: right;\n",
       "    }\n",
       "</style>\n",
       "<table border=\"1\" class=\"dataframe\">\n",
       "  <thead>\n",
       "    <tr style=\"text-align: right;\">\n",
       "      <th></th>\n",
       "      <th>Name</th>\n",
       "      <th>Age</th>\n",
       "      <th>Place</th>\n",
       "      <th>salary</th>\n",
       "    </tr>\n",
       "  </thead>\n",
       "  <tbody>\n",
       "    <tr>\n",
       "      <th>0</th>\n",
       "      <td>mary</td>\n",
       "      <td>22.0</td>\n",
       "      <td>Kochi</td>\n",
       "      <td>25000.0</td>\n",
       "    </tr>\n",
       "    <tr>\n",
       "      <th>1</th>\n",
       "      <td>james</td>\n",
       "      <td>32.0</td>\n",
       "      <td>Kochi</td>\n",
       "      <td>30000.0</td>\n",
       "    </tr>\n",
       "    <tr>\n",
       "      <th>2</th>\n",
       "      <td>alex</td>\n",
       "      <td>27.0</td>\n",
       "      <td>Alappuzha</td>\n",
       "      <td>32000.0</td>\n",
       "    </tr>\n",
       "    <tr>\n",
       "      <th>3</th>\n",
       "      <td>ravi</td>\n",
       "      <td>22.0</td>\n",
       "      <td>Calicut</td>\n",
       "      <td>31000.0</td>\n",
       "    </tr>\n",
       "    <tr>\n",
       "      <th>4</th>\n",
       "      <td>musthafa</td>\n",
       "      <td>32.0</td>\n",
       "      <td>Unknown</td>\n",
       "      <td>35000.0</td>\n",
       "    </tr>\n",
       "  </tbody>\n",
       "</table>\n",
       "</div>"
      ],
      "text/plain": [
       "       Name   Age      Place   salary\n",
       "0      mary  22.0      Kochi  25000.0\n",
       "1     james  32.0      Kochi  30000.0\n",
       "2      alex  27.0  Alappuzha  32000.0\n",
       "3      ravi  22.0    Calicut  31000.0\n",
       "4  musthafa  32.0    Unknown  35000.0"
      ]
     },
     "execution_count": 242,
     "metadata": {},
     "output_type": "execute_result"
    }
   ],
   "source": [
    "#STANDARDIZED TEXT FORMATTING\n",
    "df['Place']=df['Place'].str.title()\n",
    "df"
   ]
  },
  {
   "cell_type": "code",
   "execution_count": 243,
   "id": "7ffbfb83",
   "metadata": {},
   "outputs": [
    {
     "data": {
      "text/html": [
       "<div>\n",
       "<style scoped>\n",
       "    .dataframe tbody tr th:only-of-type {\n",
       "        vertical-align: middle;\n",
       "    }\n",
       "\n",
       "    .dataframe tbody tr th {\n",
       "        vertical-align: top;\n",
       "    }\n",
       "\n",
       "    .dataframe thead th {\n",
       "        text-align: right;\n",
       "    }\n",
       "</style>\n",
       "<table border=\"1\" class=\"dataframe\">\n",
       "  <thead>\n",
       "    <tr style=\"text-align: right;\">\n",
       "      <th></th>\n",
       "      <th>name</th>\n",
       "      <th>age</th>\n",
       "      <th>city</th>\n",
       "      <th>score</th>\n",
       "    </tr>\n",
       "  </thead>\n",
       "  <tbody>\n",
       "    <tr>\n",
       "      <th>0</th>\n",
       "      <td>alexander</td>\n",
       "      <td>32</td>\n",
       "      <td>alexandria</td>\n",
       "      <td>90.0</td>\n",
       "    </tr>\n",
       "    <tr>\n",
       "      <th>1</th>\n",
       "      <td>akbar</td>\n",
       "      <td>sixty three</td>\n",
       "      <td>NaN</td>\n",
       "      <td>23.0</td>\n",
       "    </tr>\n",
       "    <tr>\n",
       "      <th>2</th>\n",
       "      <td>ashok</td>\n",
       "      <td>72</td>\n",
       "      <td>patna</td>\n",
       "      <td>NaN</td>\n",
       "    </tr>\n",
       "    <tr>\n",
       "      <th>3</th>\n",
       "      <td>shah jahan</td>\n",
       "      <td>74</td>\n",
       "      <td>agra</td>\n",
       "      <td>14.0</td>\n",
       "    </tr>\n",
       "    <tr>\n",
       "      <th>4</th>\n",
       "      <td>tipu sulthan</td>\n",
       "      <td>47</td>\n",
       "      <td>srirangapatna</td>\n",
       "      <td>88.0</td>\n",
       "    </tr>\n",
       "  </tbody>\n",
       "</table>\n",
       "</div>"
      ],
      "text/plain": [
       "           name          age           city  score\n",
       "0     alexander           32     alexandria   90.0\n",
       "1         akbar  sixty three            NaN   23.0\n",
       "2         ashok           72          patna    NaN\n",
       "3    shah jahan           74           agra   14.0\n",
       "4  tipu sulthan           47  srirangapatna   88.0"
      ]
     },
     "execution_count": 243,
     "metadata": {},
     "output_type": "execute_result"
    }
   ],
   "source": [
    "data1={\n",
    "    \"name\":['alexander','akbar','ashok','shah jahan','tipu sulthan'],\n",
    "    \"age\":[32,'sixty three',72,74,47],\n",
    "    \"city\":['alexandria',np.nan,'patna','agra','srirangapatna'],\n",
    "    'score':[90,23,None,14,88]\n",
    "}\n",
    "df1=pd.DataFrame(data1)\n",
    "df1"
   ]
  },
  {
   "cell_type": "code",
   "execution_count": 244,
   "id": "15b92d7a",
   "metadata": {},
   "outputs": [
    {
     "data": {
      "text/html": [
       "<div>\n",
       "<style scoped>\n",
       "    .dataframe tbody tr th:only-of-type {\n",
       "        vertical-align: middle;\n",
       "    }\n",
       "\n",
       "    .dataframe tbody tr th {\n",
       "        vertical-align: top;\n",
       "    }\n",
       "\n",
       "    .dataframe thead th {\n",
       "        text-align: right;\n",
       "    }\n",
       "</style>\n",
       "<table border=\"1\" class=\"dataframe\">\n",
       "  <thead>\n",
       "    <tr style=\"text-align: right;\">\n",
       "      <th></th>\n",
       "      <th>name</th>\n",
       "      <th>age</th>\n",
       "      <th>city</th>\n",
       "      <th>score</th>\n",
       "    </tr>\n",
       "  </thead>\n",
       "  <tbody>\n",
       "    <tr>\n",
       "      <th>0</th>\n",
       "      <td>False</td>\n",
       "      <td>False</td>\n",
       "      <td>False</td>\n",
       "      <td>False</td>\n",
       "    </tr>\n",
       "    <tr>\n",
       "      <th>1</th>\n",
       "      <td>False</td>\n",
       "      <td>False</td>\n",
       "      <td>True</td>\n",
       "      <td>False</td>\n",
       "    </tr>\n",
       "    <tr>\n",
       "      <th>2</th>\n",
       "      <td>False</td>\n",
       "      <td>False</td>\n",
       "      <td>False</td>\n",
       "      <td>True</td>\n",
       "    </tr>\n",
       "    <tr>\n",
       "      <th>3</th>\n",
       "      <td>False</td>\n",
       "      <td>False</td>\n",
       "      <td>False</td>\n",
       "      <td>False</td>\n",
       "    </tr>\n",
       "    <tr>\n",
       "      <th>4</th>\n",
       "      <td>False</td>\n",
       "      <td>False</td>\n",
       "      <td>False</td>\n",
       "      <td>False</td>\n",
       "    </tr>\n",
       "  </tbody>\n",
       "</table>\n",
       "</div>"
      ],
      "text/plain": [
       "    name    age   city  score\n",
       "0  False  False  False  False\n",
       "1  False  False   True  False\n",
       "2  False  False  False   True\n",
       "3  False  False  False  False\n",
       "4  False  False  False  False"
      ]
     },
     "execution_count": 244,
     "metadata": {},
     "output_type": "execute_result"
    }
   ],
   "source": [
    "df1.isnull()\n"
   ]
  },
  {
   "cell_type": "code",
   "execution_count": 245,
   "id": "28ecfcdf",
   "metadata": {},
   "outputs": [
    {
     "data": {
      "text/plain": [
       "name     0\n",
       "age      0\n",
       "city     1\n",
       "score    1\n",
       "dtype: int64"
      ]
     },
     "execution_count": 245,
     "metadata": {},
     "output_type": "execute_result"
    }
   ],
   "source": [
    "df1.isnull().sum()\n"
   ]
  },
  {
   "cell_type": "code",
   "execution_count": 246,
   "id": "2b58c5c9",
   "metadata": {},
   "outputs": [
    {
     "name": "stderr",
     "output_type": "stream",
     "text": [
      "C:\\Users\\Admin\\AppData\\Local\\Temp\\ipykernel_16284\\4284537063.py:1: FutureWarning: A value is trying to be set on a copy of a DataFrame or Series through chained assignment using an inplace method.\n",
      "The behavior will change in pandas 3.0. This inplace method will never work because the intermediate object on which we are setting values always behaves as a copy.\n",
      "\n",
      "For example, when doing 'df[col].method(value, inplace=True)', try using 'df.method({col: value}, inplace=True)' or df[col] = df[col].method(value) instead, to perform the operation inplace on the original object.\n",
      "\n",
      "\n",
      "  df1['city'].fillna('unknown',inplace=True)\n",
      "C:\\Users\\Admin\\AppData\\Local\\Temp\\ipykernel_16284\\4284537063.py:2: FutureWarning: A value is trying to be set on a copy of a DataFrame or Series through chained assignment using an inplace method.\n",
      "The behavior will change in pandas 3.0. This inplace method will never work because the intermediate object on which we are setting values always behaves as a copy.\n",
      "\n",
      "For example, when doing 'df[col].method(value, inplace=True)', try using 'df.method({col: value}, inplace=True)' or df[col] = df[col].method(value) instead, to perform the operation inplace on the original object.\n",
      "\n",
      "\n",
      "  df1['score'].fillna(df1['score'].mean(), inplace=True)\n"
     ]
    },
    {
     "data": {
      "text/html": [
       "<div>\n",
       "<style scoped>\n",
       "    .dataframe tbody tr th:only-of-type {\n",
       "        vertical-align: middle;\n",
       "    }\n",
       "\n",
       "    .dataframe tbody tr th {\n",
       "        vertical-align: top;\n",
       "    }\n",
       "\n",
       "    .dataframe thead th {\n",
       "        text-align: right;\n",
       "    }\n",
       "</style>\n",
       "<table border=\"1\" class=\"dataframe\">\n",
       "  <thead>\n",
       "    <tr style=\"text-align: right;\">\n",
       "      <th></th>\n",
       "      <th>name</th>\n",
       "      <th>age</th>\n",
       "      <th>city</th>\n",
       "      <th>score</th>\n",
       "    </tr>\n",
       "  </thead>\n",
       "  <tbody>\n",
       "    <tr>\n",
       "      <th>0</th>\n",
       "      <td>alexander</td>\n",
       "      <td>32</td>\n",
       "      <td>alexandria</td>\n",
       "      <td>90.00</td>\n",
       "    </tr>\n",
       "    <tr>\n",
       "      <th>1</th>\n",
       "      <td>akbar</td>\n",
       "      <td>sixty three</td>\n",
       "      <td>unknown</td>\n",
       "      <td>23.00</td>\n",
       "    </tr>\n",
       "    <tr>\n",
       "      <th>2</th>\n",
       "      <td>ashok</td>\n",
       "      <td>72</td>\n",
       "      <td>patna</td>\n",
       "      <td>53.75</td>\n",
       "    </tr>\n",
       "    <tr>\n",
       "      <th>3</th>\n",
       "      <td>shah jahan</td>\n",
       "      <td>74</td>\n",
       "      <td>agra</td>\n",
       "      <td>14.00</td>\n",
       "    </tr>\n",
       "    <tr>\n",
       "      <th>4</th>\n",
       "      <td>tipu sulthan</td>\n",
       "      <td>47</td>\n",
       "      <td>srirangapatna</td>\n",
       "      <td>88.00</td>\n",
       "    </tr>\n",
       "  </tbody>\n",
       "</table>\n",
       "</div>"
      ],
      "text/plain": [
       "           name          age           city  score\n",
       "0     alexander           32     alexandria  90.00\n",
       "1         akbar  sixty three        unknown  23.00\n",
       "2         ashok           72          patna  53.75\n",
       "3    shah jahan           74           agra  14.00\n",
       "4  tipu sulthan           47  srirangapatna  88.00"
      ]
     },
     "execution_count": 246,
     "metadata": {},
     "output_type": "execute_result"
    }
   ],
   "source": [
    "df1['city'].fillna('unknown',inplace=True)\n",
    "df1['score'].fillna(df1['score'].mean(), inplace=True)\n",
    "df1"
   ]
  },
  {
   "cell_type": "code",
   "execution_count": 247,
   "id": "cf63660f",
   "metadata": {},
   "outputs": [
    {
     "data": {
      "text/html": [
       "<div>\n",
       "<style scoped>\n",
       "    .dataframe tbody tr th:only-of-type {\n",
       "        vertical-align: middle;\n",
       "    }\n",
       "\n",
       "    .dataframe tbody tr th {\n",
       "        vertical-align: top;\n",
       "    }\n",
       "\n",
       "    .dataframe thead th {\n",
       "        text-align: right;\n",
       "    }\n",
       "</style>\n",
       "<table border=\"1\" class=\"dataframe\">\n",
       "  <thead>\n",
       "    <tr style=\"text-align: right;\">\n",
       "      <th></th>\n",
       "      <th>name</th>\n",
       "      <th>age</th>\n",
       "      <th>city</th>\n",
       "      <th>score</th>\n",
       "    </tr>\n",
       "  </thead>\n",
       "  <tbody>\n",
       "    <tr>\n",
       "      <th>0</th>\n",
       "      <td>alexander</td>\n",
       "      <td>32.0</td>\n",
       "      <td>alexandria</td>\n",
       "      <td>90.00</td>\n",
       "    </tr>\n",
       "    <tr>\n",
       "      <th>1</th>\n",
       "      <td>akbar</td>\n",
       "      <td>NaN</td>\n",
       "      <td>unknown</td>\n",
       "      <td>23.00</td>\n",
       "    </tr>\n",
       "    <tr>\n",
       "      <th>2</th>\n",
       "      <td>ashok</td>\n",
       "      <td>72.0</td>\n",
       "      <td>patna</td>\n",
       "      <td>53.75</td>\n",
       "    </tr>\n",
       "    <tr>\n",
       "      <th>3</th>\n",
       "      <td>shah jahan</td>\n",
       "      <td>74.0</td>\n",
       "      <td>agra</td>\n",
       "      <td>14.00</td>\n",
       "    </tr>\n",
       "    <tr>\n",
       "      <th>4</th>\n",
       "      <td>tipu sulthan</td>\n",
       "      <td>47.0</td>\n",
       "      <td>srirangapatna</td>\n",
       "      <td>88.00</td>\n",
       "    </tr>\n",
       "  </tbody>\n",
       "</table>\n",
       "</div>"
      ],
      "text/plain": [
       "           name   age           city  score\n",
       "0     alexander  32.0     alexandria  90.00\n",
       "1         akbar   NaN        unknown  23.00\n",
       "2         ashok  72.0          patna  53.75\n",
       "3    shah jahan  74.0           agra  14.00\n",
       "4  tipu sulthan  47.0  srirangapatna  88.00"
      ]
     },
     "execution_count": 247,
     "metadata": {},
     "output_type": "execute_result"
    }
   ],
   "source": [
    "df1['age']=pd.to_numeric(df1['age'], errors='coerce')\n",
    "df1"
   ]
  },
  {
   "cell_type": "code",
   "execution_count": 248,
   "id": "6e43eb0d",
   "metadata": {},
   "outputs": [
    {
     "name": "stderr",
     "output_type": "stream",
     "text": [
      "C:\\Users\\Admin\\AppData\\Local\\Temp\\ipykernel_16284\\3245229526.py:1: FutureWarning: A value is trying to be set on a copy of a DataFrame or Series through chained assignment using an inplace method.\n",
      "The behavior will change in pandas 3.0. This inplace method will never work because the intermediate object on which we are setting values always behaves as a copy.\n",
      "\n",
      "For example, when doing 'df[col].method(value, inplace=True)', try using 'df.method({col: value}, inplace=True)' or df[col] = df[col].method(value) instead, to perform the operation inplace on the original object.\n",
      "\n",
      "\n",
      "  df1['age'].fillna(df1['age'].median(),inplace=True)\n"
     ]
    },
    {
     "data": {
      "text/html": [
       "<div>\n",
       "<style scoped>\n",
       "    .dataframe tbody tr th:only-of-type {\n",
       "        vertical-align: middle;\n",
       "    }\n",
       "\n",
       "    .dataframe tbody tr th {\n",
       "        vertical-align: top;\n",
       "    }\n",
       "\n",
       "    .dataframe thead th {\n",
       "        text-align: right;\n",
       "    }\n",
       "</style>\n",
       "<table border=\"1\" class=\"dataframe\">\n",
       "  <thead>\n",
       "    <tr style=\"text-align: right;\">\n",
       "      <th></th>\n",
       "      <th>name</th>\n",
       "      <th>age</th>\n",
       "      <th>city</th>\n",
       "      <th>score</th>\n",
       "    </tr>\n",
       "  </thead>\n",
       "  <tbody>\n",
       "    <tr>\n",
       "      <th>0</th>\n",
       "      <td>alexander</td>\n",
       "      <td>32.0</td>\n",
       "      <td>alexandria</td>\n",
       "      <td>90.00</td>\n",
       "    </tr>\n",
       "    <tr>\n",
       "      <th>1</th>\n",
       "      <td>akbar</td>\n",
       "      <td>59.5</td>\n",
       "      <td>unknown</td>\n",
       "      <td>23.00</td>\n",
       "    </tr>\n",
       "    <tr>\n",
       "      <th>2</th>\n",
       "      <td>ashok</td>\n",
       "      <td>72.0</td>\n",
       "      <td>patna</td>\n",
       "      <td>53.75</td>\n",
       "    </tr>\n",
       "    <tr>\n",
       "      <th>3</th>\n",
       "      <td>shah jahan</td>\n",
       "      <td>74.0</td>\n",
       "      <td>agra</td>\n",
       "      <td>14.00</td>\n",
       "    </tr>\n",
       "    <tr>\n",
       "      <th>4</th>\n",
       "      <td>tipu sulthan</td>\n",
       "      <td>47.0</td>\n",
       "      <td>srirangapatna</td>\n",
       "      <td>88.00</td>\n",
       "    </tr>\n",
       "  </tbody>\n",
       "</table>\n",
       "</div>"
      ],
      "text/plain": [
       "           name   age           city  score\n",
       "0     alexander  32.0     alexandria  90.00\n",
       "1         akbar  59.5        unknown  23.00\n",
       "2         ashok  72.0          patna  53.75\n",
       "3    shah jahan  74.0           agra  14.00\n",
       "4  tipu sulthan  47.0  srirangapatna  88.00"
      ]
     },
     "execution_count": 248,
     "metadata": {},
     "output_type": "execute_result"
    }
   ],
   "source": [
    "df1['age'].fillna(df1['age'].median(),inplace=True)\n",
    "df1"
   ]
  },
  {
   "cell_type": "code",
   "execution_count": 249,
   "id": "8ad5c91d",
   "metadata": {},
   "outputs": [
    {
     "name": "stderr",
     "output_type": "stream",
     "text": [
      "C:\\Users\\Admin\\AppData\\Local\\Temp\\ipykernel_16284\\418708295.py:1: FutureWarning: A value is trying to be set on a copy of a DataFrame or Series through chained assignment using an inplace method.\n",
      "The behavior will change in pandas 3.0. This inplace method will never work because the intermediate object on which we are setting values always behaves as a copy.\n",
      "\n",
      "For example, when doing 'df[col].method(value, inplace=True)', try using 'df.method({col: value}, inplace=True)' or df[col] = df[col].method(value) instead, to perform the operation inplace on the original object.\n",
      "\n",
      "\n",
      "  df1['city'].replace('unknown','not specified',inplace=True)\n"
     ]
    },
    {
     "data": {
      "text/html": [
       "<div>\n",
       "<style scoped>\n",
       "    .dataframe tbody tr th:only-of-type {\n",
       "        vertical-align: middle;\n",
       "    }\n",
       "\n",
       "    .dataframe tbody tr th {\n",
       "        vertical-align: top;\n",
       "    }\n",
       "\n",
       "    .dataframe thead th {\n",
       "        text-align: right;\n",
       "    }\n",
       "</style>\n",
       "<table border=\"1\" class=\"dataframe\">\n",
       "  <thead>\n",
       "    <tr style=\"text-align: right;\">\n",
       "      <th></th>\n",
       "      <th>name</th>\n",
       "      <th>age</th>\n",
       "      <th>city</th>\n",
       "      <th>score</th>\n",
       "    </tr>\n",
       "  </thead>\n",
       "  <tbody>\n",
       "    <tr>\n",
       "      <th>0</th>\n",
       "      <td>alexander</td>\n",
       "      <td>32.0</td>\n",
       "      <td>alexandria</td>\n",
       "      <td>90.00</td>\n",
       "    </tr>\n",
       "    <tr>\n",
       "      <th>1</th>\n",
       "      <td>akbar</td>\n",
       "      <td>59.5</td>\n",
       "      <td>not specified</td>\n",
       "      <td>23.00</td>\n",
       "    </tr>\n",
       "    <tr>\n",
       "      <th>2</th>\n",
       "      <td>ashok</td>\n",
       "      <td>72.0</td>\n",
       "      <td>patna</td>\n",
       "      <td>53.75</td>\n",
       "    </tr>\n",
       "    <tr>\n",
       "      <th>3</th>\n",
       "      <td>shah jahan</td>\n",
       "      <td>74.0</td>\n",
       "      <td>agra</td>\n",
       "      <td>14.00</td>\n",
       "    </tr>\n",
       "    <tr>\n",
       "      <th>4</th>\n",
       "      <td>tipu sulthan</td>\n",
       "      <td>47.0</td>\n",
       "      <td>srirangapatna</td>\n",
       "      <td>88.00</td>\n",
       "    </tr>\n",
       "  </tbody>\n",
       "</table>\n",
       "</div>"
      ],
      "text/plain": [
       "           name   age           city  score\n",
       "0     alexander  32.0     alexandria  90.00\n",
       "1         akbar  59.5  not specified  23.00\n",
       "2         ashok  72.0          patna  53.75\n",
       "3    shah jahan  74.0           agra  14.00\n",
       "4  tipu sulthan  47.0  srirangapatna  88.00"
      ]
     },
     "execution_count": 249,
     "metadata": {},
     "output_type": "execute_result"
    }
   ],
   "source": [
    "df1['city'].replace('unknown','not specified',inplace=True)\n",
    "df1"
   ]
  },
  {
   "cell_type": "code",
   "execution_count": 250,
   "id": "e228969c",
   "metadata": {},
   "outputs": [
    {
     "data": {
      "text/html": [
       "<div>\n",
       "<style scoped>\n",
       "    .dataframe tbody tr th:only-of-type {\n",
       "        vertical-align: middle;\n",
       "    }\n",
       "\n",
       "    .dataframe tbody tr th {\n",
       "        vertical-align: top;\n",
       "    }\n",
       "\n",
       "    .dataframe thead th {\n",
       "        text-align: right;\n",
       "    }\n",
       "</style>\n",
       "<table border=\"1\" class=\"dataframe\">\n",
       "  <thead>\n",
       "    <tr style=\"text-align: right;\">\n",
       "      <th></th>\n",
       "      <th>name</th>\n",
       "      <th>age</th>\n",
       "      <th>city</th>\n",
       "      <th>score</th>\n",
       "    </tr>\n",
       "  </thead>\n",
       "  <tbody>\n",
       "    <tr>\n",
       "      <th>0</th>\n",
       "      <td>alexander</td>\n",
       "      <td>32.0</td>\n",
       "      <td>Alexandria</td>\n",
       "      <td>90.00</td>\n",
       "    </tr>\n",
       "    <tr>\n",
       "      <th>1</th>\n",
       "      <td>akbar</td>\n",
       "      <td>59.5</td>\n",
       "      <td>Not Specified</td>\n",
       "      <td>23.00</td>\n",
       "    </tr>\n",
       "    <tr>\n",
       "      <th>2</th>\n",
       "      <td>ashok</td>\n",
       "      <td>72.0</td>\n",
       "      <td>Patna</td>\n",
       "      <td>53.75</td>\n",
       "    </tr>\n",
       "    <tr>\n",
       "      <th>3</th>\n",
       "      <td>shah jahan</td>\n",
       "      <td>74.0</td>\n",
       "      <td>Agra</td>\n",
       "      <td>14.00</td>\n",
       "    </tr>\n",
       "    <tr>\n",
       "      <th>4</th>\n",
       "      <td>tipu sulthan</td>\n",
       "      <td>47.0</td>\n",
       "      <td>Srirangapatna</td>\n",
       "      <td>88.00</td>\n",
       "    </tr>\n",
       "  </tbody>\n",
       "</table>\n",
       "</div>"
      ],
      "text/plain": [
       "           name   age           city  score\n",
       "0     alexander  32.0     Alexandria  90.00\n",
       "1         akbar  59.5  Not Specified  23.00\n",
       "2         ashok  72.0          Patna  53.75\n",
       "3    shah jahan  74.0           Agra  14.00\n",
       "4  tipu sulthan  47.0  Srirangapatna  88.00"
      ]
     },
     "execution_count": 250,
     "metadata": {},
     "output_type": "execute_result"
    }
   ],
   "source": [
    "df1['city']=df1['city'].str.title()\n",
    "df1"
   ]
  },
  {
   "cell_type": "code",
   "execution_count": 251,
   "id": "41db1579",
   "metadata": {},
   "outputs": [
    {
     "name": "stderr",
     "output_type": "stream",
     "text": [
      "C:\\Users\\Admin\\AppData\\Local\\Temp\\ipykernel_16284\\3055484546.py:1: FutureWarning: A value is trying to be set on a copy of a DataFrame or Series through chained assignment using an inplace method.\n",
      "The behavior will change in pandas 3.0. This inplace method will never work because the intermediate object on which we are setting values always behaves as a copy.\n",
      "\n",
      "For example, when doing 'df[col].method(value, inplace=True)', try using 'df.method({col: value}, inplace=True)' or df[col] = df[col].method(value) instead, to perform the operation inplace on the original object.\n",
      "\n",
      "\n",
      "  df1['city'].replace('Not Specified','Fatehpur Sikri',inplace=True)\n"
     ]
    }
   ],
   "source": [
    "df1['city'].replace('Not Specified','Fatehpur Sikri',inplace=True)"
   ]
  },
  {
   "cell_type": "code",
   "execution_count": 252,
   "id": "8d8966bf",
   "metadata": {},
   "outputs": [
    {
     "name": "stdout",
     "output_type": "stream",
     "text": [
      "           name   age            city  score\n",
      "0     alexander  32.0      Alexandria  90.00\n",
      "1         akbar  59.5  Fatehpur Sikri  23.00\n",
      "2         ashok  72.0           Patna  53.75\n",
      "3    shah jahan  74.0            Agra  14.00\n",
      "4  tipu sulthan  47.0   Srirangapatna  88.00\n"
     ]
    }
   ],
   "source": [
    "print(df1)"
   ]
  },
  {
   "cell_type": "markdown",
   "id": "43e7f18d",
   "metadata": {},
   "source": [
    "#### Day 4\n",
    "#####  Sorting & Operations\n"
   ]
  },
  {
   "cell_type": "markdown",
   "id": "1bb121df",
   "metadata": {},
   "source": [
    "##### 1.Sorting by index"
   ]
  },
  {
   "cell_type": "code",
   "execution_count": 253,
   "id": "3066a8f5",
   "metadata": {},
   "outputs": [
    {
     "name": "stdout",
     "output_type": "stream",
     "text": [
      "           name   age            city  score\n",
      "0     alexander  32.0      Alexandria  90.00\n",
      "1         akbar  59.5  Fatehpur Sikri  23.00\n",
      "2         ashok  72.0           Patna  53.75\n",
      "3    shah jahan  74.0            Agra  14.00\n",
      "4  tipu sulthan  47.0   Srirangapatna  88.00\n"
     ]
    }
   ],
   "source": [
    "print(df1)"
   ]
  },
  {
   "cell_type": "code",
   "execution_count": 254,
   "id": "84ac1b77",
   "metadata": {},
   "outputs": [
    {
     "data": {
      "text/html": [
       "<div>\n",
       "<style scoped>\n",
       "    .dataframe tbody tr th:only-of-type {\n",
       "        vertical-align: middle;\n",
       "    }\n",
       "\n",
       "    .dataframe tbody tr th {\n",
       "        vertical-align: top;\n",
       "    }\n",
       "\n",
       "    .dataframe thead th {\n",
       "        text-align: right;\n",
       "    }\n",
       "</style>\n",
       "<table border=\"1\" class=\"dataframe\">\n",
       "  <thead>\n",
       "    <tr style=\"text-align: right;\">\n",
       "      <th></th>\n",
       "      <th>name</th>\n",
       "      <th>age</th>\n",
       "      <th>city</th>\n",
       "      <th>score</th>\n",
       "    </tr>\n",
       "  </thead>\n",
       "  <tbody>\n",
       "    <tr>\n",
       "      <th>a</th>\n",
       "      <td>alexander</td>\n",
       "      <td>32.0</td>\n",
       "      <td>Alexandria</td>\n",
       "      <td>90.00</td>\n",
       "    </tr>\n",
       "    <tr>\n",
       "      <th>d</th>\n",
       "      <td>akbar</td>\n",
       "      <td>59.5</td>\n",
       "      <td>Fatehpur Sikri</td>\n",
       "      <td>23.00</td>\n",
       "    </tr>\n",
       "    <tr>\n",
       "      <th>e</th>\n",
       "      <td>ashok</td>\n",
       "      <td>72.0</td>\n",
       "      <td>Patna</td>\n",
       "      <td>53.75</td>\n",
       "    </tr>\n",
       "    <tr>\n",
       "      <th>c</th>\n",
       "      <td>shah jahan</td>\n",
       "      <td>74.0</td>\n",
       "      <td>Agra</td>\n",
       "      <td>14.00</td>\n",
       "    </tr>\n",
       "    <tr>\n",
       "      <th>b</th>\n",
       "      <td>tipu sulthan</td>\n",
       "      <td>47.0</td>\n",
       "      <td>Srirangapatna</td>\n",
       "      <td>88.00</td>\n",
       "    </tr>\n",
       "  </tbody>\n",
       "</table>\n",
       "</div>"
      ],
      "text/plain": [
       "           name   age            city  score\n",
       "a     alexander  32.0      Alexandria  90.00\n",
       "d         akbar  59.5  Fatehpur Sikri  23.00\n",
       "e         ashok  72.0           Patna  53.75\n",
       "c    shah jahan  74.0            Agra  14.00\n",
       "b  tipu sulthan  47.0   Srirangapatna  88.00"
      ]
     },
     "execution_count": 254,
     "metadata": {},
     "output_type": "execute_result"
    }
   ],
   "source": [
    "df1.index=['a','d','e','c','b']\n",
    "df1"
   ]
  },
  {
   "cell_type": "code",
   "execution_count": 255,
   "id": "d9ccc754",
   "metadata": {},
   "outputs": [
    {
     "name": "stdout",
     "output_type": "stream",
     "text": [
      "Sorted by index: \n",
      "\n",
      "           name   age            city  score\n",
      "a     alexander  32.0      Alexandria  90.00\n",
      "b  tipu sulthan  47.0   Srirangapatna  88.00\n",
      "c    shah jahan  74.0            Agra  14.00\n",
      "d         akbar  59.5  Fatehpur Sikri  23.00\n",
      "e         ashok  72.0           Patna  53.75\n"
     ]
    }
   ],
   "source": [
    "print(\"Sorted by index: \\n\")\n",
    "print(df1.sort_index())"
   ]
  },
  {
   "cell_type": "markdown",
   "id": "b46b37e5",
   "metadata": {},
   "source": [
    "##### 2.Sorting by column values"
   ]
  },
  {
   "cell_type": "code",
   "execution_count": 256,
   "id": "844af9d3",
   "metadata": {},
   "outputs": [
    {
     "name": "stdout",
     "output_type": "stream",
     "text": [
      "           name   age            city  score\n",
      "a     alexander  32.0      Alexandria  90.00\n",
      "b  tipu sulthan  47.0   Srirangapatna  88.00\n",
      "d         akbar  59.5  Fatehpur Sikri  23.00\n",
      "e         ashok  72.0           Patna  53.75\n",
      "c    shah jahan  74.0            Agra  14.00\n"
     ]
    }
   ],
   "source": [
    "print(df1.sort_values(by='age'))\n"
   ]
  },
  {
   "cell_type": "markdown",
   "id": "aa86ddcf",
   "metadata": {},
   "source": [
    "##### sorting by column values in descending order"
   ]
  },
  {
   "cell_type": "code",
   "execution_count": 257,
   "id": "856f3c60",
   "metadata": {},
   "outputs": [
    {
     "name": "stdout",
     "output_type": "stream",
     "text": [
      "           name   age            city  score\n",
      "c    shah jahan  74.0            Agra  14.00\n",
      "e         ashok  72.0           Patna  53.75\n",
      "d         akbar  59.5  Fatehpur Sikri  23.00\n",
      "b  tipu sulthan  47.0   Srirangapatna  88.00\n",
      "a     alexander  32.0      Alexandria  90.00\n"
     ]
    }
   ],
   "source": [
    "print(df1.sort_values(by='age',ascending=False))"
   ]
  },
  {
   "cell_type": "markdown",
   "id": "433d50dd",
   "metadata": {},
   "source": [
    "##### 3.Sorting by multiple columns"
   ]
  },
  {
   "cell_type": "code",
   "execution_count": 258,
   "id": "ef4ddb3f",
   "metadata": {},
   "outputs": [
    {
     "name": "stdout",
     "output_type": "stream",
     "text": [
      "           name   age            city  score\n",
      "a     alexander  32.0      Alexandria  90.00\n",
      "b  tipu sulthan  47.0   Srirangapatna  88.00\n",
      "d         akbar  59.5  Fatehpur Sikri  23.00\n",
      "e         ashok  72.0           Patna  53.75\n",
      "c    shah jahan  74.0            Agra  14.00\n"
     ]
    }
   ],
   "source": [
    "print(df1.sort_values(by=['age','score'],ascending=True))"
   ]
  },
  {
   "cell_type": "markdown",
   "id": "fe891332",
   "metadata": {},
   "source": [
    "##### 3.Using nlargest() and nsmallest()\n",
    "###### useful when you need top n or bottom n rows by a column"
   ]
  },
  {
   "cell_type": "code",
   "execution_count": 259,
   "id": "1b9ed86a",
   "metadata": {},
   "outputs": [
    {
     "name": "stdout",
     "output_type": "stream",
     "text": [
      "           name   age           city  score\n",
      "a     alexander  32.0     Alexandria   90.0\n",
      "b  tipu sulthan  47.0  Srirangapatna   88.0\n"
     ]
    }
   ],
   "source": [
    "print(df1.nsmallest(2,'age'))"
   ]
  },
  {
   "cell_type": "code",
   "execution_count": 260,
   "id": "8b4c6bd2",
   "metadata": {},
   "outputs": [
    {
     "name": "stdout",
     "output_type": "stream",
     "text": [
      "           name   age           city  score\n",
      "a     alexander  32.0     Alexandria  90.00\n",
      "b  tipu sulthan  47.0  Srirangapatna  88.00\n",
      "e         ashok  72.0          Patna  53.75\n"
     ]
    }
   ],
   "source": [
    "print(df1.nlargest(3,'score'))"
   ]
  },
  {
   "cell_type": "markdown",
   "id": "426cfc63",
   "metadata": {},
   "source": [
    "##### 4.Sorting using rank()"
   ]
  },
  {
   "cell_type": "code",
   "execution_count": 261,
   "id": "90e99554",
   "metadata": {},
   "outputs": [
    {
     "name": "stdout",
     "output_type": "stream",
     "text": [
      "           name   age            city  score  score_rank\n",
      "a     alexander  32.0      Alexandria  90.00         5.0\n",
      "d         akbar  59.5  Fatehpur Sikri  23.00         2.0\n",
      "e         ashok  72.0           Patna  53.75         3.0\n",
      "c    shah jahan  74.0            Agra  14.00         1.0\n",
      "b  tipu sulthan  47.0   Srirangapatna  88.00         4.0\n"
     ]
    }
   ],
   "source": [
    "df1['score_rank']=df1['score'].rank()\n",
    "print(df1)"
   ]
  },
  {
   "cell_type": "code",
   "execution_count": 262,
   "id": "1428afa5",
   "metadata": {},
   "outputs": [
    {
     "name": "stdout",
     "output_type": "stream",
     "text": [
      "           name   age            city  score  score_rank\n",
      "a     alexander  32.0      Alexandria  90.00         5.0\n",
      "b  tipu sulthan  47.0   Srirangapatna  88.00         4.0\n",
      "c    shah jahan  74.0            Agra  14.00         1.0\n",
      "d         akbar  59.5  Fatehpur Sikri  23.00         2.0\n",
      "e         ashok  72.0           Patna  53.75         3.0\n"
     ]
    }
   ],
   "source": [
    "\n",
    "print(df1.sort_index())"
   ]
  },
  {
   "cell_type": "markdown",
   "id": "5d38892a",
   "metadata": {},
   "source": [
    "##### Operations in pandas"
   ]
  },
  {
   "cell_type": "markdown",
   "id": "ea828af4",
   "metadata": {},
   "source": [
    "##### Arithmatic operations on columns"
   ]
  },
  {
   "cell_type": "code",
   "execution_count": 263,
   "id": "c4b8b88c",
   "metadata": {},
   "outputs": [
    {
     "data": {
      "text/html": [
       "<div>\n",
       "<style scoped>\n",
       "    .dataframe tbody tr th:only-of-type {\n",
       "        vertical-align: middle;\n",
       "    }\n",
       "\n",
       "    .dataframe tbody tr th {\n",
       "        vertical-align: top;\n",
       "    }\n",
       "\n",
       "    .dataframe thead th {\n",
       "        text-align: right;\n",
       "    }\n",
       "</style>\n",
       "<table border=\"1\" class=\"dataframe\">\n",
       "  <thead>\n",
       "    <tr style=\"text-align: right;\">\n",
       "      <th></th>\n",
       "      <th>name</th>\n",
       "      <th>age</th>\n",
       "      <th>city</th>\n",
       "      <th>score</th>\n",
       "      <th>score_rank</th>\n",
       "      <th>double score</th>\n",
       "      <th>age plus 5</th>\n",
       "    </tr>\n",
       "  </thead>\n",
       "  <tbody>\n",
       "    <tr>\n",
       "      <th>a</th>\n",
       "      <td>alexander</td>\n",
       "      <td>32.0</td>\n",
       "      <td>Alexandria</td>\n",
       "      <td>90.00</td>\n",
       "      <td>5.0</td>\n",
       "      <td>180.0</td>\n",
       "      <td>37.0</td>\n",
       "    </tr>\n",
       "    <tr>\n",
       "      <th>d</th>\n",
       "      <td>akbar</td>\n",
       "      <td>59.5</td>\n",
       "      <td>Fatehpur Sikri</td>\n",
       "      <td>23.00</td>\n",
       "      <td>2.0</td>\n",
       "      <td>46.0</td>\n",
       "      <td>64.5</td>\n",
       "    </tr>\n",
       "    <tr>\n",
       "      <th>e</th>\n",
       "      <td>ashok</td>\n",
       "      <td>72.0</td>\n",
       "      <td>Patna</td>\n",
       "      <td>53.75</td>\n",
       "      <td>3.0</td>\n",
       "      <td>107.5</td>\n",
       "      <td>77.0</td>\n",
       "    </tr>\n",
       "    <tr>\n",
       "      <th>c</th>\n",
       "      <td>shah jahan</td>\n",
       "      <td>74.0</td>\n",
       "      <td>Agra</td>\n",
       "      <td>14.00</td>\n",
       "      <td>1.0</td>\n",
       "      <td>28.0</td>\n",
       "      <td>79.0</td>\n",
       "    </tr>\n",
       "    <tr>\n",
       "      <th>b</th>\n",
       "      <td>tipu sulthan</td>\n",
       "      <td>47.0</td>\n",
       "      <td>Srirangapatna</td>\n",
       "      <td>88.00</td>\n",
       "      <td>4.0</td>\n",
       "      <td>176.0</td>\n",
       "      <td>52.0</td>\n",
       "    </tr>\n",
       "  </tbody>\n",
       "</table>\n",
       "</div>"
      ],
      "text/plain": [
       "           name   age            city  score  score_rank  double score  \\\n",
       "a     alexander  32.0      Alexandria  90.00         5.0         180.0   \n",
       "d         akbar  59.5  Fatehpur Sikri  23.00         2.0          46.0   \n",
       "e         ashok  72.0           Patna  53.75         3.0         107.5   \n",
       "c    shah jahan  74.0            Agra  14.00         1.0          28.0   \n",
       "b  tipu sulthan  47.0   Srirangapatna  88.00         4.0         176.0   \n",
       "\n",
       "   age plus 5  \n",
       "a        37.0  \n",
       "d        64.5  \n",
       "e        77.0  \n",
       "c        79.0  \n",
       "b        52.0  "
      ]
     },
     "execution_count": 263,
     "metadata": {},
     "output_type": "execute_result"
    }
   ],
   "source": [
    "df1['double score']=df1['score']*2\n",
    "df1['age plus 5']=df1['age']+5\n",
    "df1"
   ]
  },
  {
   "cell_type": "markdown",
   "id": "2ed78c22",
   "metadata": {},
   "source": [
    "##### Operations between columns\n"
   ]
  },
  {
   "cell_type": "code",
   "execution_count": 264,
   "id": "d38bb885",
   "metadata": {},
   "outputs": [
    {
     "data": {
      "text/html": [
       "<div>\n",
       "<style scoped>\n",
       "    .dataframe tbody tr th:only-of-type {\n",
       "        vertical-align: middle;\n",
       "    }\n",
       "\n",
       "    .dataframe tbody tr th {\n",
       "        vertical-align: top;\n",
       "    }\n",
       "\n",
       "    .dataframe thead th {\n",
       "        text-align: right;\n",
       "    }\n",
       "</style>\n",
       "<table border=\"1\" class=\"dataframe\">\n",
       "  <thead>\n",
       "    <tr style=\"text-align: right;\">\n",
       "      <th></th>\n",
       "      <th>name</th>\n",
       "      <th>age</th>\n",
       "      <th>city</th>\n",
       "      <th>score</th>\n",
       "      <th>score_rank</th>\n",
       "      <th>double score</th>\n",
       "      <th>age plus 5</th>\n",
       "      <th>age + score</th>\n",
       "    </tr>\n",
       "  </thead>\n",
       "  <tbody>\n",
       "    <tr>\n",
       "      <th>a</th>\n",
       "      <td>alexander</td>\n",
       "      <td>32.0</td>\n",
       "      <td>Alexandria</td>\n",
       "      <td>90.00</td>\n",
       "      <td>5.0</td>\n",
       "      <td>180.0</td>\n",
       "      <td>37.0</td>\n",
       "      <td>122.00</td>\n",
       "    </tr>\n",
       "    <tr>\n",
       "      <th>d</th>\n",
       "      <td>akbar</td>\n",
       "      <td>59.5</td>\n",
       "      <td>Fatehpur Sikri</td>\n",
       "      <td>23.00</td>\n",
       "      <td>2.0</td>\n",
       "      <td>46.0</td>\n",
       "      <td>64.5</td>\n",
       "      <td>82.50</td>\n",
       "    </tr>\n",
       "    <tr>\n",
       "      <th>e</th>\n",
       "      <td>ashok</td>\n",
       "      <td>72.0</td>\n",
       "      <td>Patna</td>\n",
       "      <td>53.75</td>\n",
       "      <td>3.0</td>\n",
       "      <td>107.5</td>\n",
       "      <td>77.0</td>\n",
       "      <td>125.75</td>\n",
       "    </tr>\n",
       "    <tr>\n",
       "      <th>c</th>\n",
       "      <td>shah jahan</td>\n",
       "      <td>74.0</td>\n",
       "      <td>Agra</td>\n",
       "      <td>14.00</td>\n",
       "      <td>1.0</td>\n",
       "      <td>28.0</td>\n",
       "      <td>79.0</td>\n",
       "      <td>88.00</td>\n",
       "    </tr>\n",
       "    <tr>\n",
       "      <th>b</th>\n",
       "      <td>tipu sulthan</td>\n",
       "      <td>47.0</td>\n",
       "      <td>Srirangapatna</td>\n",
       "      <td>88.00</td>\n",
       "      <td>4.0</td>\n",
       "      <td>176.0</td>\n",
       "      <td>52.0</td>\n",
       "      <td>135.00</td>\n",
       "    </tr>\n",
       "  </tbody>\n",
       "</table>\n",
       "</div>"
      ],
      "text/plain": [
       "           name   age            city  score  score_rank  double score  \\\n",
       "a     alexander  32.0      Alexandria  90.00         5.0         180.0   \n",
       "d         akbar  59.5  Fatehpur Sikri  23.00         2.0          46.0   \n",
       "e         ashok  72.0           Patna  53.75         3.0         107.5   \n",
       "c    shah jahan  74.0            Agra  14.00         1.0          28.0   \n",
       "b  tipu sulthan  47.0   Srirangapatna  88.00         4.0         176.0   \n",
       "\n",
       "   age plus 5  age + score  \n",
       "a        37.0       122.00  \n",
       "d        64.5        82.50  \n",
       "e        77.0       125.75  \n",
       "c        79.0        88.00  \n",
       "b        52.0       135.00  "
      ]
     },
     "execution_count": 264,
     "metadata": {},
     "output_type": "execute_result"
    }
   ],
   "source": [
    "df1['age + score']=df1['age']+df1['score']\n",
    "df1"
   ]
  },
  {
   "cell_type": "markdown",
   "id": "fb171bc0",
   "metadata": {},
   "source": [
    "##### Applying functions\n",
    "##### can use .apply() function to run custom functions on a column or row"
   ]
  },
  {
   "cell_type": "code",
   "execution_count": 265,
   "id": "d5e956de",
   "metadata": {},
   "outputs": [
    {
     "data": {
      "text/html": [
       "<div>\n",
       "<style scoped>\n",
       "    .dataframe tbody tr th:only-of-type {\n",
       "        vertical-align: middle;\n",
       "    }\n",
       "\n",
       "    .dataframe tbody tr th {\n",
       "        vertical-align: top;\n",
       "    }\n",
       "\n",
       "    .dataframe thead th {\n",
       "        text-align: right;\n",
       "    }\n",
       "</style>\n",
       "<table border=\"1\" class=\"dataframe\">\n",
       "  <thead>\n",
       "    <tr style=\"text-align: right;\">\n",
       "      <th></th>\n",
       "      <th>name</th>\n",
       "      <th>age</th>\n",
       "      <th>city</th>\n",
       "      <th>score</th>\n",
       "      <th>score_rank</th>\n",
       "      <th>double score</th>\n",
       "      <th>age plus 5</th>\n",
       "      <th>age + score</th>\n",
       "      <th>age squared</th>\n",
       "    </tr>\n",
       "  </thead>\n",
       "  <tbody>\n",
       "    <tr>\n",
       "      <th>a</th>\n",
       "      <td>alexander</td>\n",
       "      <td>32.0</td>\n",
       "      <td>Alexandria</td>\n",
       "      <td>90.00</td>\n",
       "      <td>5.0</td>\n",
       "      <td>180.0</td>\n",
       "      <td>37.0</td>\n",
       "      <td>122.00</td>\n",
       "      <td>1024.00</td>\n",
       "    </tr>\n",
       "    <tr>\n",
       "      <th>d</th>\n",
       "      <td>akbar</td>\n",
       "      <td>59.5</td>\n",
       "      <td>Fatehpur Sikri</td>\n",
       "      <td>23.00</td>\n",
       "      <td>2.0</td>\n",
       "      <td>46.0</td>\n",
       "      <td>64.5</td>\n",
       "      <td>82.50</td>\n",
       "      <td>3540.25</td>\n",
       "    </tr>\n",
       "    <tr>\n",
       "      <th>e</th>\n",
       "      <td>ashok</td>\n",
       "      <td>72.0</td>\n",
       "      <td>Patna</td>\n",
       "      <td>53.75</td>\n",
       "      <td>3.0</td>\n",
       "      <td>107.5</td>\n",
       "      <td>77.0</td>\n",
       "      <td>125.75</td>\n",
       "      <td>5184.00</td>\n",
       "    </tr>\n",
       "    <tr>\n",
       "      <th>c</th>\n",
       "      <td>shah jahan</td>\n",
       "      <td>74.0</td>\n",
       "      <td>Agra</td>\n",
       "      <td>14.00</td>\n",
       "      <td>1.0</td>\n",
       "      <td>28.0</td>\n",
       "      <td>79.0</td>\n",
       "      <td>88.00</td>\n",
       "      <td>5476.00</td>\n",
       "    </tr>\n",
       "    <tr>\n",
       "      <th>b</th>\n",
       "      <td>tipu sulthan</td>\n",
       "      <td>47.0</td>\n",
       "      <td>Srirangapatna</td>\n",
       "      <td>88.00</td>\n",
       "      <td>4.0</td>\n",
       "      <td>176.0</td>\n",
       "      <td>52.0</td>\n",
       "      <td>135.00</td>\n",
       "      <td>2209.00</td>\n",
       "    </tr>\n",
       "  </tbody>\n",
       "</table>\n",
       "</div>"
      ],
      "text/plain": [
       "           name   age            city  score  score_rank  double score  \\\n",
       "a     alexander  32.0      Alexandria  90.00         5.0         180.0   \n",
       "d         akbar  59.5  Fatehpur Sikri  23.00         2.0          46.0   \n",
       "e         ashok  72.0           Patna  53.75         3.0         107.5   \n",
       "c    shah jahan  74.0            Agra  14.00         1.0          28.0   \n",
       "b  tipu sulthan  47.0   Srirangapatna  88.00         4.0         176.0   \n",
       "\n",
       "   age plus 5  age + score  age squared  \n",
       "a        37.0       122.00      1024.00  \n",
       "d        64.5        82.50      3540.25  \n",
       "e        77.0       125.75      5184.00  \n",
       "c        79.0        88.00      5476.00  \n",
       "b        52.0       135.00      2209.00  "
      ]
     },
     "execution_count": 265,
     "metadata": {},
     "output_type": "execute_result"
    }
   ],
   "source": [
    "df1['age squared']=df1['age'].apply(lambda x:x**2)\n",
    "df1"
   ]
  },
  {
   "cell_type": "markdown",
   "id": "6f14b975",
   "metadata": {},
   "source": [
    "##### Aggregation functions"
   ]
  },
  {
   "cell_type": "code",
   "execution_count": 266,
   "id": "48bde261",
   "metadata": {},
   "outputs": [
    {
     "data": {
      "text/html": [
       "<div>\n",
       "<style scoped>\n",
       "    .dataframe tbody tr th:only-of-type {\n",
       "        vertical-align: middle;\n",
       "    }\n",
       "\n",
       "    .dataframe tbody tr th {\n",
       "        vertical-align: top;\n",
       "    }\n",
       "\n",
       "    .dataframe thead th {\n",
       "        text-align: right;\n",
       "    }\n",
       "</style>\n",
       "<table border=\"1\" class=\"dataframe\">\n",
       "  <thead>\n",
       "    <tr style=\"text-align: right;\">\n",
       "      <th></th>\n",
       "      <th>name</th>\n",
       "      <th>age</th>\n",
       "      <th>score</th>\n",
       "    </tr>\n",
       "  </thead>\n",
       "  <tbody>\n",
       "    <tr>\n",
       "      <th>0</th>\n",
       "      <td>Alice</td>\n",
       "      <td>25</td>\n",
       "      <td>90</td>\n",
       "    </tr>\n",
       "    <tr>\n",
       "      <th>1</th>\n",
       "      <td>Bob</td>\n",
       "      <td>30</td>\n",
       "      <td>80</td>\n",
       "    </tr>\n",
       "    <tr>\n",
       "      <th>2</th>\n",
       "      <td>Charlie</td>\n",
       "      <td>35</td>\n",
       "      <td>95</td>\n",
       "    </tr>\n",
       "    <tr>\n",
       "      <th>3</th>\n",
       "      <td>David</td>\n",
       "      <td>40</td>\n",
       "      <td>70</td>\n",
       "    </tr>\n",
       "  </tbody>\n",
       "</table>\n",
       "</div>"
      ],
      "text/plain": [
       "      name  age  score\n",
       "0    Alice   25     90\n",
       "1      Bob   30     80\n",
       "2  Charlie   35     95\n",
       "3    David   40     70"
      ]
     },
     "execution_count": 266,
     "metadata": {},
     "output_type": "execute_result"
    }
   ],
   "source": [
    "df2 = pd.DataFrame({\n",
    "    \"name\": [\"Alice\", \"Bob\", \"Charlie\", \"David\"],\n",
    "    \"age\": [25, 30, 35, 40],\n",
    "    \"score\": [90, 80, 95, 70]\n",
    "})\n",
    "df2"
   ]
  },
  {
   "cell_type": "code",
   "execution_count": 267,
   "id": "da7ccf8e",
   "metadata": {},
   "outputs": [
    {
     "name": "stdout",
     "output_type": "stream",
     "text": [
      "sum of age:  130\n",
      "mean score:  83.75\n",
      "minimum age:  25\n",
      "maximum score:  95\n",
      "count of people:  4\n",
      "standard deviation of age:  6.454972243679028\n",
      "varience of score:  122.91666666666667\n"
     ]
    }
   ],
   "source": [
    "print(\"sum of age: \",df2['age'].sum())\n",
    "print(\"mean score: \",df2['score'].mean())\n",
    "print(\"minimum age: \",df2['age'].min())\n",
    "print(\"maximum score: \",df2['score'].max())\n",
    "print(\"count of people: \",df2['name'].count())\n",
    "print(\"standard deviation of age: \",df2['age'].std())\n",
    "print(\"varience of score: \",df2['score'].var())"
   ]
  },
  {
   "cell_type": "code",
   "execution_count": 268,
   "id": "926b603c",
   "metadata": {},
   "outputs": [
    {
     "name": "stdout",
     "output_type": "stream",
     "text": [
      "<bound method DataFrame.mean of       name  age  score\n",
      "0    Alice   25     90\n",
      "1      Bob   30     80\n",
      "2  Charlie   35     95\n",
      "3    David   40     70>\n"
     ]
    }
   ],
   "source": [
    "print(df2.mean)"
   ]
  },
  {
   "cell_type": "markdown",
   "id": "b5c399c0",
   "metadata": {},
   "source": [
    "##### Using .agg() for multiple aggregations"
   ]
  },
  {
   "cell_type": "code",
   "execution_count": 269,
   "id": "54421d37",
   "metadata": {},
   "outputs": [
    {
     "name": "stdout",
     "output_type": "stream",
     "text": [
      "min       25.000000\n",
      "max       40.000000\n",
      "mean      32.500000\n",
      "median    32.500000\n",
      "count      4.000000\n",
      "std        6.454972\n",
      "Name: age, dtype: float64\n"
     ]
    }
   ],
   "source": [
    "print(df2['age'].agg(['min','max','mean','median','count','std']))"
   ]
  }
 ],
 "metadata": {
  "kernelspec": {
   "display_name": ".venv",
   "language": "python",
   "name": "python3"
  },
  "language_info": {
   "codemirror_mode": {
    "name": "ipython",
    "version": 3
   },
   "file_extension": ".py",
   "mimetype": "text/x-python",
   "name": "python",
   "nbconvert_exporter": "python",
   "pygments_lexer": "ipython3",
   "version": "3.13.7"
  }
 },
 "nbformat": 4,
 "nbformat_minor": 5
}
