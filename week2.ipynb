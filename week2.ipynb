{
 "cells": [
  {
   "cell_type": "code",
   "execution_count": 1,
   "id": "fbe4c053",
   "metadata": {},
   "outputs": [],
   "source": [
    "import pandas as pd\n",
    "import numpy as np"
   ]
  },
  {
   "cell_type": "markdown",
   "id": "e477a600",
   "metadata": {},
   "source": [
    "## DAY 1\n",
    "#### Basics of DATAFRAME and SERIES"
   ]
  },
  {
   "cell_type": "code",
   "execution_count": 2,
   "id": "d581b8e1",
   "metadata": {},
   "outputs": [
    {
     "data": {
      "text/html": [
       "<div>\n",
       "<style scoped>\n",
       "    .dataframe tbody tr th:only-of-type {\n",
       "        vertical-align: middle;\n",
       "    }\n",
       "\n",
       "    .dataframe tbody tr th {\n",
       "        vertical-align: top;\n",
       "    }\n",
       "\n",
       "    .dataframe thead th {\n",
       "        text-align: right;\n",
       "    }\n",
       "</style>\n",
       "<table border=\"1\" class=\"dataframe\">\n",
       "  <thead>\n",
       "    <tr style=\"text-align: right;\">\n",
       "      <th></th>\n",
       "      <th>name</th>\n",
       "      <th>age</th>\n",
       "    </tr>\n",
       "  </thead>\n",
       "  <tbody>\n",
       "    <tr>\n",
       "      <th>0</th>\n",
       "      <td>hbhh</td>\n",
       "      <td>88</td>\n",
       "    </tr>\n",
       "    <tr>\n",
       "      <th>1</th>\n",
       "      <td>uhbj</td>\n",
       "      <td>77</td>\n",
       "    </tr>\n",
       "    <tr>\n",
       "      <th>2</th>\n",
       "      <td>jhj</td>\n",
       "      <td>9</td>\n",
       "    </tr>\n",
       "  </tbody>\n",
       "</table>\n",
       "</div>"
      ],
      "text/plain": [
       "   name  age\n",
       "0  hbhh   88\n",
       "1  uhbj   77\n",
       "2   jhj    9"
      ]
     },
     "execution_count": 2,
     "metadata": {},
     "output_type": "execute_result"
    }
   ],
   "source": [
    "dict={\"name\":[\"hbhh\",\"uhbj\",\"jhj\"],\n",
    "      \"age\":[88,77,9]}\n",
    "\n",
    "df=pd.DataFrame(dict)\n",
    "df"
   ]
  },
  {
   "cell_type": "code",
   "execution_count": 3,
   "id": "9ca2107b",
   "metadata": {},
   "outputs": [
    {
     "data": {
      "text/plain": [
       "0    7\n",
       "1    9\n",
       "2    7\n",
       "dtype: int64"
      ]
     },
     "execution_count": 3,
     "metadata": {},
     "output_type": "execute_result"
    }
   ],
   "source": [
    "arr = [7,9,7]\n",
    "s = pd.Series(arr)\n",
    "s"
   ]
  },
  {
   "cell_type": "code",
   "execution_count": 4,
   "id": "b2194dc2",
   "metadata": {},
   "outputs": [
    {
     "name": "stdout",
     "output_type": "stream",
     "text": [
      "a    10\n",
      "b    20\n",
      "c    30\n",
      "dtype: int64\n",
      "     name  age\n",
      "0    naja   22\n",
      "1  naseef   23\n",
      "2   akash   24\n",
      "3   husna   21\n",
      "4  swalih   21\n"
     ]
    }
   ],
   "source": [
    "s=pd.Series([10,20,30],index=['a','b','c'])\n",
    "d=pd.DataFrame({\"name\":[\"naja\",\"naseef\",\"akash\",\"husna\",\"swalih\"],\"age\":[22,23,24,21,21]})\n",
    "print(s)\n",
    "print(d)"
   ]
  },
  {
   "cell_type": "code",
   "execution_count": 5,
   "id": "4beb1b31",
   "metadata": {},
   "outputs": [
    {
     "name": "stdout",
     "output_type": "stream",
     "text": [
      "  name  roll_no\n",
      "a  abc        1\n",
      "b  xyz        3\n",
      "c  uvw        2\n",
      "Index(['a', 'b', 'c'], dtype='object')\n"
     ]
    }
   ],
   "source": [
    "#DataFrame from dictionary \n",
    "data={\"name\":[\"abc\",\"xyz\",\"uvw\"],\"roll_no\":[1,3,2]}\n",
    "df=pd.DataFrame(data,index=['a','b','c'])\n",
    "print(df)\n",
    "print(df.index)"
   ]
  },
  {
   "cell_type": "code",
   "execution_count": 6,
   "id": "8a24ac6a",
   "metadata": {},
   "outputs": [
    {
     "name": "stdout",
     "output_type": "stream",
     "text": [
      "   col1  col2  col3\n",
      "0     1     2     3\n",
      "1     4     5     6\n",
      "RangeIndex(start=0, stop=2, step=1)\n"
     ]
    }
   ],
   "source": [
    "#data frame from numpy array\n",
    "arr=np.array([[1,2,3],[4,5,6]])\n",
    "df2=pd.DataFrame(arr,columns=['col1','col2','col3'])\n",
    "print(df2)\n",
    "print(df2.index)"
   ]
  },
  {
   "cell_type": "code",
   "execution_count": 7,
   "id": "76a28a3c",
   "metadata": {},
   "outputs": [
    {
     "data": {
      "text/html": [
       "<div>\n",
       "<style scoped>\n",
       "    .dataframe tbody tr th:only-of-type {\n",
       "        vertical-align: middle;\n",
       "    }\n",
       "\n",
       "    .dataframe tbody tr th {\n",
       "        vertical-align: top;\n",
       "    }\n",
       "\n",
       "    .dataframe thead th {\n",
       "        text-align: right;\n",
       "    }\n",
       "</style>\n",
       "<table border=\"1\" class=\"dataframe\">\n",
       "  <thead>\n",
       "    <tr style=\"text-align: right;\">\n",
       "      <th></th>\n",
       "      <th>Title</th>\n",
       "      <th>First Name</th>\n",
       "      <th>Middle Name</th>\n",
       "      <th>Last Name</th>\n",
       "      <th>Suffix</th>\n",
       "      <th>Company</th>\n",
       "      <th>Department</th>\n",
       "      <th>Job Title</th>\n",
       "      <th>Business Street</th>\n",
       "      <th>Business Street 2</th>\n",
       "      <th>...</th>\n",
       "      <th>Private</th>\n",
       "      <th>Profession</th>\n",
       "      <th>Referred By</th>\n",
       "      <th>Sensitivity</th>\n",
       "      <th>Spouse</th>\n",
       "      <th>User 1</th>\n",
       "      <th>User 2</th>\n",
       "      <th>User 3</th>\n",
       "      <th>User 4</th>\n",
       "      <th>Web Page</th>\n",
       "    </tr>\n",
       "  </thead>\n",
       "  <tbody>\n",
       "    <tr>\n",
       "      <th>0</th>\n",
       "      <td>NaN</td>\n",
       "      <td>Anita</td>\n",
       "      <td>NaN</td>\n",
       "      <td>Jorgensen</td>\n",
       "      <td>NaN</td>\n",
       "      <td>Contoso</td>\n",
       "      <td>NaN</td>\n",
       "      <td>NaN</td>\n",
       "      <td>NaN</td>\n",
       "      <td>NaN</td>\n",
       "      <td>...</td>\n",
       "      <td>NaN</td>\n",
       "      <td>NaN</td>\n",
       "      <td>NaN</td>\n",
       "      <td>NaN</td>\n",
       "      <td>NaN</td>\n",
       "      <td>NaN</td>\n",
       "      <td>NaN</td>\n",
       "      <td>NaN</td>\n",
       "      <td>NaN</td>\n",
       "      <td>http://www.microsoft.com/</td>\n",
       "    </tr>\n",
       "    <tr>\n",
       "      <th>1</th>\n",
       "      <td>NaN</td>\n",
       "      <td>Anne-Mette</td>\n",
       "      <td>NaN</td>\n",
       "      <td>Olesen</td>\n",
       "      <td>NaN</td>\n",
       "      <td>Contoso</td>\n",
       "      <td>NaN</td>\n",
       "      <td>NaN</td>\n",
       "      <td>NaN</td>\n",
       "      <td>NaN</td>\n",
       "      <td>...</td>\n",
       "      <td>NaN</td>\n",
       "      <td>NaN</td>\n",
       "      <td>NaN</td>\n",
       "      <td>NaN</td>\n",
       "      <td>NaN</td>\n",
       "      <td>NaN</td>\n",
       "      <td>NaN</td>\n",
       "      <td>NaN</td>\n",
       "      <td>NaN</td>\n",
       "      <td>NaN</td>\n",
       "    </tr>\n",
       "    <tr>\n",
       "      <th>2</th>\n",
       "      <td>NaN</td>\n",
       "      <td>Dorena</td>\n",
       "      <td>NaN</td>\n",
       "      <td>Paschke</td>\n",
       "      <td>NaN</td>\n",
       "      <td>Contoso</td>\n",
       "      <td>NaN</td>\n",
       "      <td>NaN</td>\n",
       "      <td>NaN</td>\n",
       "      <td>NaN</td>\n",
       "      <td>...</td>\n",
       "      <td>NaN</td>\n",
       "      <td>NaN</td>\n",
       "      <td>NaN</td>\n",
       "      <td>NaN</td>\n",
       "      <td>NaN</td>\n",
       "      <td>NaN</td>\n",
       "      <td>NaN</td>\n",
       "      <td>NaN</td>\n",
       "      <td>NaN</td>\n",
       "      <td>NaN</td>\n",
       "    </tr>\n",
       "    <tr>\n",
       "      <th>3</th>\n",
       "      <td>NaN</td>\n",
       "      <td>Kemal</td>\n",
       "      <td>NaN</td>\n",
       "      <td>Celik</td>\n",
       "      <td>NaN</td>\n",
       "      <td>Contoso</td>\n",
       "      <td>NaN</td>\n",
       "      <td>NaN</td>\n",
       "      <td>NaN</td>\n",
       "      <td>NaN</td>\n",
       "      <td>...</td>\n",
       "      <td>NaN</td>\n",
       "      <td>NaN</td>\n",
       "      <td>NaN</td>\n",
       "      <td>NaN</td>\n",
       "      <td>NaN</td>\n",
       "      <td>NaN</td>\n",
       "      <td>NaN</td>\n",
       "      <td>NaN</td>\n",
       "      <td>NaN</td>\n",
       "      <td>NaN</td>\n",
       "    </tr>\n",
       "    <tr>\n",
       "      <th>4</th>\n",
       "      <td>NaN</td>\n",
       "      <td>Shiori</td>\n",
       "      <td>NaN</td>\n",
       "      <td>Inoue</td>\n",
       "      <td>NaN</td>\n",
       "      <td>Contoso</td>\n",
       "      <td>NaN</td>\n",
       "      <td>NaN</td>\n",
       "      <td>NaN</td>\n",
       "      <td>NaN</td>\n",
       "      <td>...</td>\n",
       "      <td>NaN</td>\n",
       "      <td>NaN</td>\n",
       "      <td>NaN</td>\n",
       "      <td>NaN</td>\n",
       "      <td>NaN</td>\n",
       "      <td>NaN</td>\n",
       "      <td>NaN</td>\n",
       "      <td>NaN</td>\n",
       "      <td>NaN</td>\n",
       "      <td>NaN</td>\n",
       "    </tr>\n",
       "  </tbody>\n",
       "</table>\n",
       "<p>5 rows × 92 columns</p>\n",
       "</div>"
      ],
      "text/plain": [
       "   Title  First Name  Middle Name  Last Name  Suffix  Company  Department  \\\n",
       "0    NaN       Anita          NaN  Jorgensen     NaN  Contoso         NaN   \n",
       "1    NaN  Anne-Mette          NaN     Olesen     NaN  Contoso         NaN   \n",
       "2    NaN      Dorena          NaN    Paschke     NaN  Contoso         NaN   \n",
       "3    NaN       Kemal          NaN      Celik     NaN  Contoso         NaN   \n",
       "4    NaN      Shiori          NaN      Inoue     NaN  Contoso         NaN   \n",
       "\n",
       "   Job Title  Business Street  Business Street 2  ...  Private  Profession  \\\n",
       "0        NaN              NaN                NaN  ...      NaN         NaN   \n",
       "1        NaN              NaN                NaN  ...      NaN         NaN   \n",
       "2        NaN              NaN                NaN  ...      NaN         NaN   \n",
       "3        NaN              NaN                NaN  ...      NaN         NaN   \n",
       "4        NaN              NaN                NaN  ...      NaN         NaN   \n",
       "\n",
       "   Referred By  Sensitivity  Spouse  User 1  User 2  User 3  User 4  \\\n",
       "0          NaN          NaN     NaN     NaN     NaN     NaN     NaN   \n",
       "1          NaN          NaN     NaN     NaN     NaN     NaN     NaN   \n",
       "2          NaN          NaN     NaN     NaN     NaN     NaN     NaN   \n",
       "3          NaN          NaN     NaN     NaN     NaN     NaN     NaN   \n",
       "4          NaN          NaN     NaN     NaN     NaN     NaN     NaN   \n",
       "\n",
       "                    Web Page  \n",
       "0  http://www.microsoft.com/  \n",
       "1                        NaN  \n",
       "2                        NaN  \n",
       "3                        NaN  \n",
       "4                        NaN  \n",
       "\n",
       "[5 rows x 92 columns]"
      ]
     },
     "execution_count": 7,
     "metadata": {},
     "output_type": "execute_result"
    }
   ],
   "source": [
    "#dataframe from csv file\n",
    "df3=pd.read_csv('Sample CSV file for importing contacts.csv')\n",
    "df3"
   ]
  },
  {
   "cell_type": "markdown",
   "id": "1bc625c8",
   "metadata": {},
   "source": [
    "#### .index\n",
    "##### gives the indices like in the format (start,stop,step)"
   ]
  },
  {
   "cell_type": "code",
   "execution_count": 8,
   "id": "89d15c77",
   "metadata": {},
   "outputs": [
    {
     "name": "stdout",
     "output_type": "stream",
     "text": [
      "RangeIndex(start=0, stop=5, step=1)\n"
     ]
    }
   ],
   "source": [
    "print(df3.index)"
   ]
  },
  {
   "cell_type": "markdown",
   "id": "1264a285",
   "metadata": {},
   "source": [
    "#### .axes\n",
    "##### returns a list of rows and column indexes or both row + column labels"
   ]
  },
  {
   "cell_type": "code",
   "execution_count": 9,
   "id": "5711202b",
   "metadata": {},
   "outputs": [
    {
     "name": "stdout",
     "output_type": "stream",
     "text": [
      "[RangeIndex(start=0, stop=2, step=1), Index(['col1', 'col2', 'col3'], dtype='object')]\n",
      "[Index(['a', 'b', 'c'], dtype='object')]\n"
     ]
    }
   ],
   "source": [
    "print(df2.axes)\n",
    "print(s.axes)"
   ]
  },
  {
   "cell_type": "markdown",
   "id": "b7021f1c",
   "metadata": {},
   "source": [
    "#### .columns\n",
    "##### shows all column labels or\n",
    "##### can be used to give the column labels while creating a Dataframe"
   ]
  },
  {
   "cell_type": "code",
   "execution_count": 10,
   "id": "119018cf",
   "metadata": {},
   "outputs": [
    {
     "name": "stdout",
     "output_type": "stream",
     "text": [
      "Index(['name', 'roll_no'], dtype='object')\n"
     ]
    }
   ],
   "source": [
    "print(df.columns)"
   ]
  },
  {
   "cell_type": "code",
   "execution_count": 11,
   "id": "71df15c4",
   "metadata": {},
   "outputs": [
    {
     "name": "stdout",
     "output_type": "stream",
     "text": [
      "Index(['col1', 'col2', 'col3'], dtype='object')\n"
     ]
    }
   ],
   "source": [
    "arr=np.array([[1,2,3],[4,5,6]])\n",
    "df2=pd.DataFrame(arr,columns=['col1','col2','col3'])\n",
    "print(df2.columns)"
   ]
  },
  {
   "cell_type": "markdown",
   "id": "f371aedc",
   "metadata": {},
   "source": [
    "#### .shape\n",
    "##### gives the dimensions of the DataFrame -> (rows,columns)"
   ]
  },
  {
   "cell_type": "code",
   "execution_count": 12,
   "id": "9b559c41",
   "metadata": {},
   "outputs": [
    {
     "name": "stdout",
     "output_type": "stream",
     "text": [
      "(5, 92)\n",
      "(3, 2)\n"
     ]
    }
   ],
   "source": [
    "print(df3.shape)\n",
    "print(df.shape)"
   ]
  },
  {
   "cell_type": "markdown",
   "id": "9a95b395",
   "metadata": {},
   "source": [
    "#### .ndim\n",
    "##### returns the number of dimensions\n",
    "##### DataFrame -> 2\n",
    "##### Series -> 1"
   ]
  },
  {
   "cell_type": "code",
   "execution_count": 13,
   "id": "72b4af20",
   "metadata": {},
   "outputs": [
    {
     "name": "stdout",
     "output_type": "stream",
     "text": [
      "2\n",
      "2\n",
      "1\n"
     ]
    }
   ],
   "source": [
    "print(df3.ndim)\n",
    "print(df.ndim)\n",
    "print(s.ndim)"
   ]
  },
  {
   "cell_type": "markdown",
   "id": "21a8bb66",
   "metadata": {},
   "source": [
    "#### .size\n",
    "##### returns the total no.of elements(rows x columns)"
   ]
  },
  {
   "cell_type": "code",
   "execution_count": 14,
   "id": "04c8b90f",
   "metadata": {},
   "outputs": [
    {
     "name": "stdout",
     "output_type": "stream",
     "text": [
      "6\n",
      "460\n",
      "3\n"
     ]
    }
   ],
   "source": [
    "print(df.size)\n",
    "print(df3.size)\n",
    "print(s.size)"
   ]
  },
  {
   "cell_type": "markdown",
   "id": "20fac640",
   "metadata": {},
   "source": [
    "#### .dtype\n",
    "##### it shows the data type of each column"
   ]
  },
  {
   "cell_type": "code",
   "execution_count": 15,
   "id": "bd9029bc",
   "metadata": {},
   "outputs": [
    {
     "name": "stdout",
     "output_type": "stream",
     "text": [
      "name       object\n",
      "roll_no     int64\n",
      "dtype: object\n"
     ]
    }
   ],
   "source": [
    "print(df.dtypes)"
   ]
  },
  {
   "cell_type": "markdown",
   "id": "023f9326",
   "metadata": {},
   "source": [
    "#### .T\n",
    "###### this function returns the transpose of the Data frame (rows <-> colums)"
   ]
  },
  {
   "cell_type": "code",
   "execution_count": 16,
   "id": "bf1fe4a0",
   "metadata": {},
   "outputs": [
    {
     "name": "stdout",
     "output_type": "stream",
     "text": [
      "           a    b    c\n",
      "name     abc  xyz  uvw\n",
      "roll_no    1    3    2\n"
     ]
    }
   ],
   "source": [
    "print(df.T)"
   ]
  },
  {
   "cell_type": "code",
   "execution_count": 17,
   "id": "156ac424",
   "metadata": {},
   "outputs": [
    {
     "data": {
      "text/plain": [
       "0     1\n",
       "1     2\n",
       "2     3\n",
       "3     4\n",
       "4     5\n",
       "5     6\n",
       "6     7\n",
       "7     8\n",
       "8     9\n",
       "9    10\n",
       "dtype: int64"
      ]
     },
     "execution_count": 17,
     "metadata": {},
     "output_type": "execute_result"
    }
   ],
   "source": [
    "li=np.arange(1,11)\n",
    "sl=pd.Series(li)\n",
    "sl"
   ]
  },
  {
   "cell_type": "code",
   "execution_count": 18,
   "id": "a1d404e5",
   "metadata": {},
   "outputs": [
    {
     "data": {
      "text/html": [
       "<div>\n",
       "<style scoped>\n",
       "    .dataframe tbody tr th:only-of-type {\n",
       "        vertical-align: middle;\n",
       "    }\n",
       "\n",
       "    .dataframe tbody tr th {\n",
       "        vertical-align: top;\n",
       "    }\n",
       "\n",
       "    .dataframe thead th {\n",
       "        text-align: right;\n",
       "    }\n",
       "</style>\n",
       "<table border=\"1\" class=\"dataframe\">\n",
       "  <thead>\n",
       "    <tr style=\"text-align: right;\">\n",
       "      <th></th>\n",
       "      <th>country</th>\n",
       "      <th>capital</th>\n",
       "    </tr>\n",
       "  </thead>\n",
       "  <tbody>\n",
       "    <tr>\n",
       "      <th>0</th>\n",
       "      <td>USA</td>\n",
       "      <td>Washington D C</td>\n",
       "    </tr>\n",
       "    <tr>\n",
       "      <th>1</th>\n",
       "      <td>Canada</td>\n",
       "      <td>Ottawa</td>\n",
       "    </tr>\n",
       "    <tr>\n",
       "      <th>2</th>\n",
       "      <td>India</td>\n",
       "      <td>Delhi</td>\n",
       "    </tr>\n",
       "    <tr>\n",
       "      <th>3</th>\n",
       "      <td>Japan</td>\n",
       "      <td>Tokyo</td>\n",
       "    </tr>\n",
       "  </tbody>\n",
       "</table>\n",
       "</div>"
      ],
      "text/plain": [
       "  country         capital\n",
       "0     USA  Washington D C\n",
       "1  Canada          Ottawa\n",
       "2   India           Delhi\n",
       "3   Japan           Tokyo"
      ]
     },
     "execution_count": 18,
     "metadata": {},
     "output_type": "execute_result"
    }
   ],
   "source": [
    "dd=pd.DataFrame({\"country\":[\"USA\",\"Canada\",\"India\",\"Japan\"],\"capital\":[\"Washington D C\",\"Ottawa\",\"Delhi\",\"Tokyo\"]})\n",
    "dd"
   ]
  },
  {
   "cell_type": "code",
   "execution_count": 19,
   "id": "462efcaf",
   "metadata": {},
   "outputs": [
    {
     "name": "stdout",
     "output_type": "stream",
     "text": [
      "(4, 2)\n",
      "Index(['country', 'capital'], dtype='object')\n"
     ]
    }
   ],
   "source": [
    "print(dd.shape)\n",
    "print(dd.columns)"
   ]
  },
  {
   "cell_type": "code",
   "execution_count": 20,
   "id": "2aa0fb7b",
   "metadata": {},
   "outputs": [
    {
     "data": {
      "text/html": [
       "<div>\n",
       "<style scoped>\n",
       "    .dataframe tbody tr th:only-of-type {\n",
       "        vertical-align: middle;\n",
       "    }\n",
       "\n",
       "    .dataframe tbody tr th {\n",
       "        vertical-align: top;\n",
       "    }\n",
       "\n",
       "    .dataframe thead th {\n",
       "        text-align: right;\n",
       "    }\n",
       "</style>\n",
       "<table border=\"1\" class=\"dataframe\">\n",
       "  <thead>\n",
       "    <tr style=\"text-align: right;\">\n",
       "      <th></th>\n",
       "      <th>0</th>\n",
       "      <th>1</th>\n",
       "      <th>2</th>\n",
       "      <th>3</th>\n",
       "      <th>4</th>\n",
       "    </tr>\n",
       "  </thead>\n",
       "  <tbody>\n",
       "    <tr>\n",
       "      <th>0</th>\n",
       "      <td>11</td>\n",
       "      <td>12</td>\n",
       "      <td>13</td>\n",
       "      <td>14</td>\n",
       "      <td>15</td>\n",
       "    </tr>\n",
       "    <tr>\n",
       "      <th>1</th>\n",
       "      <td>1</td>\n",
       "      <td>2</td>\n",
       "      <td>3</td>\n",
       "      <td>4</td>\n",
       "      <td>5</td>\n",
       "    </tr>\n",
       "  </tbody>\n",
       "</table>\n",
       "</div>"
      ],
      "text/plain": [
       "    0   1   2   3   4\n",
       "0  11  12  13  14  15\n",
       "1   1   2   3   4   5"
      ]
     },
     "execution_count": 20,
     "metadata": {},
     "output_type": "execute_result"
    }
   ],
   "source": [
    "ar=np.array([[11,12,13,14,15],[1,2,3,4,5]])\n",
    "ad=pd.DataFrame(ar)\n",
    "ad"
   ]
  },
  {
   "cell_type": "code",
   "execution_count": 21,
   "id": "5f6a3ec4",
   "metadata": {},
   "outputs": [
    {
     "name": "stdout",
     "output_type": "stream",
     "text": [
      "RangeIndex(start=0, stop=5, step=1)\n"
     ]
    }
   ],
   "source": [
    "print(ad.columns)"
   ]
  },
  {
   "cell_type": "code",
   "execution_count": 22,
   "id": "803a3c20",
   "metadata": {},
   "outputs": [
    {
     "name": "stdout",
     "output_type": "stream",
     "text": [
      "[RangeIndex(start=0, stop=2, step=1), RangeIndex(start=0, stop=5, step=1)]\n"
     ]
    }
   ],
   "source": [
    "print(ad.axes)"
   ]
  },
  {
   "cell_type": "markdown",
   "id": "cd37afef",
   "metadata": {},
   "source": [
    "##### there are many ways to rename a column name of a dataframe in pandas\n",
    "##### here shows the way to rename multiple column name at once using key value pairs"
   ]
  },
  {
   "cell_type": "code",
   "execution_count": 23,
   "id": "5e51e49f",
   "metadata": {},
   "outputs": [
    {
     "data": {
      "text/html": [
       "<div>\n",
       "<style scoped>\n",
       "    .dataframe tbody tr th:only-of-type {\n",
       "        vertical-align: middle;\n",
       "    }\n",
       "\n",
       "    .dataframe tbody tr th {\n",
       "        vertical-align: top;\n",
       "    }\n",
       "\n",
       "    .dataframe thead th {\n",
       "        text-align: right;\n",
       "    }\n",
       "</style>\n",
       "<table border=\"1\" class=\"dataframe\">\n",
       "  <thead>\n",
       "    <tr style=\"text-align: right;\">\n",
       "      <th></th>\n",
       "      <th>country name</th>\n",
       "      <th>country capital</th>\n",
       "    </tr>\n",
       "  </thead>\n",
       "  <tbody>\n",
       "    <tr>\n",
       "      <th>0</th>\n",
       "      <td>USA</td>\n",
       "      <td>Washington D C</td>\n",
       "    </tr>\n",
       "    <tr>\n",
       "      <th>1</th>\n",
       "      <td>Canada</td>\n",
       "      <td>Ottawa</td>\n",
       "    </tr>\n",
       "    <tr>\n",
       "      <th>2</th>\n",
       "      <td>India</td>\n",
       "      <td>Delhi</td>\n",
       "    </tr>\n",
       "    <tr>\n",
       "      <th>3</th>\n",
       "      <td>Japan</td>\n",
       "      <td>Tokyo</td>\n",
       "    </tr>\n",
       "  </tbody>\n",
       "</table>\n",
       "</div>"
      ],
      "text/plain": [
       "  country name country capital\n",
       "0          USA  Washington D C\n",
       "1       Canada          Ottawa\n",
       "2        India           Delhi\n",
       "3        Japan           Tokyo"
      ]
     },
     "execution_count": 23,
     "metadata": {},
     "output_type": "execute_result"
    }
   ],
   "source": [
    "dd=dd.rename(columns={\"country\":\"country name\",\"capital\":\"country capital\"})\n",
    "dd"
   ]
  },
  {
   "cell_type": "code",
   "execution_count": 24,
   "id": "7f9213f1",
   "metadata": {},
   "outputs": [
    {
     "name": "stdout",
     "output_type": "stream",
     "text": [
      "  name  roll_no  squared_roll_no\n",
      "a  abc        1                1\n",
      "b  xyz        3                9\n",
      "c  uvw        2                4\n"
     ]
    }
   ],
   "source": [
    "df['squared_roll_no']=df['roll_no']**2\n",
    "print(df)"
   ]
  },
  {
   "cell_type": "markdown",
   "id": "6702a01e",
   "metadata": {},
   "source": [
    "## DAY 2\n",
    "### Indexing and Selection"
   ]
  },
  {
   "cell_type": "code",
   "execution_count": 25,
   "id": "a89ce883",
   "metadata": {},
   "outputs": [
    {
     "name": "stdout",
     "output_type": "stream",
     "text": [
      "  name  roll_no  squared_roll_no\n",
      "a  abc        1                1\n",
      "b  xyz        3                9\n",
      "c  uvw        2                4\n",
      "a    1\n",
      "b    3\n",
      "c    2\n",
      "Name: roll_no, dtype: int64\n"
     ]
    }
   ],
   "source": [
    "print(df)\n",
    "print(df['roll_no'])"
   ]
  },
  {
   "cell_type": "code",
   "execution_count": 26,
   "id": "9dccbd27",
   "metadata": {},
   "outputs": [
    {
     "name": "stdout",
     "output_type": "stream",
     "text": [
      "a    1\n",
      "b    3\n",
      "c    2\n",
      "Name: roll_no, dtype: int64\n"
     ]
    }
   ],
   "source": [
    "roll_column=df.roll_no\n",
    "print(roll_column)"
   ]
  },
  {
   "cell_type": "markdown",
   "id": "2420c398",
   "metadata": {},
   "source": [
    "#### .loc[] — label-based selection\n",
    "##### Use .loc[row_labels, column_labels]\n",
    "##### Works with row/column names (not positions)\n",
    "##### Can select single rows/columns, slices, or boolean conditions"
   ]
  },
  {
   "cell_type": "code",
   "execution_count": 27,
   "id": "6c73a573",
   "metadata": {},
   "outputs": [
    {
     "name": "stdout",
     "output_type": "stream",
     "text": [
      "name               xyz\n",
      "roll_no              3\n",
      "squared_roll_no      9\n",
      "Name: b, dtype: object\n"
     ]
    }
   ],
   "source": [
    "print(df.loc['b'])"
   ]
  },
  {
   "cell_type": "code",
   "execution_count": 28,
   "id": "60c5b85d",
   "metadata": {},
   "outputs": [
    {
     "name": "stdout",
     "output_type": "stream",
     "text": [
      "name    akash\n",
      "age        24\n",
      "Name: 03, dtype: object\n"
     ]
    }
   ],
   "source": [
    "d1=pd.DataFrame({'name':[\"naja\",\"naseef\",\"akash\",\"husna\",\"swalih\"],'age':[22,23,24,21,21]},index=['01','02','03','04','05'])\n",
    "print(d1.loc['03'])"
   ]
  },
  {
   "cell_type": "code",
   "execution_count": 29,
   "id": "5d1f5ced",
   "metadata": {},
   "outputs": [
    {
     "data": {
      "text/plain": [
       "Index(['01', '02', '03', '04', '05'], dtype='object')"
      ]
     },
     "execution_count": 29,
     "metadata": {},
     "output_type": "execute_result"
    }
   ],
   "source": [
    "d1.index"
   ]
  },
  {
   "cell_type": "code",
   "execution_count": 30,
   "id": "e66a2880",
   "metadata": {},
   "outputs": [
    {
     "data": {
      "text/html": [
       "<div>\n",
       "<style scoped>\n",
       "    .dataframe tbody tr th:only-of-type {\n",
       "        vertical-align: middle;\n",
       "    }\n",
       "\n",
       "    .dataframe tbody tr th {\n",
       "        vertical-align: top;\n",
       "    }\n",
       "\n",
       "    .dataframe thead th {\n",
       "        text-align: right;\n",
       "    }\n",
       "</style>\n",
       "<table border=\"1\" class=\"dataframe\">\n",
       "  <thead>\n",
       "    <tr style=\"text-align: right;\">\n",
       "      <th></th>\n",
       "      <th>name</th>\n",
       "    </tr>\n",
       "  </thead>\n",
       "  <tbody>\n",
       "    <tr>\n",
       "      <th>01</th>\n",
       "      <td>naja</td>\n",
       "    </tr>\n",
       "    <tr>\n",
       "      <th>04</th>\n",
       "      <td>husna</td>\n",
       "    </tr>\n",
       "  </tbody>\n",
       "</table>\n",
       "</div>"
      ],
      "text/plain": [
       "     name\n",
       "01   naja\n",
       "04  husna"
      ]
     },
     "execution_count": 30,
     "metadata": {},
     "output_type": "execute_result"
    }
   ],
   "source": [
    "d1.loc[['01','04'],['name']]"
   ]
  },
  {
   "cell_type": "code",
   "execution_count": 31,
   "id": "98a6b384",
   "metadata": {},
   "outputs": [
    {
     "data": {
      "text/plain": [
       "01    22\n",
       "02    23\n",
       "03    24\n",
       "Name: age, dtype: int64"
      ]
     },
     "execution_count": 31,
     "metadata": {},
     "output_type": "execute_result"
    }
   ],
   "source": [
    "d1.loc['01':'03','age']"
   ]
  },
  {
   "cell_type": "code",
   "execution_count": 32,
   "id": "5480bfe1",
   "metadata": {},
   "outputs": [
    {
     "name": "stdout",
     "output_type": "stream",
     "text": [
      "      name  age      place\n",
      "01    naja   22    Calicut\n",
      "02  naseef   23  Kottakkal\n",
      "03   akash   24    kutyadi\n",
      "04   husna   21    Manjeri\n",
      "05  swalih   21    Vandoor\n"
     ]
    }
   ],
   "source": [
    "d1['place']=['Calicut','Kottakkal','kutyadi','Manjeri','Vandoor']\n",
    "print(d1)"
   ]
  },
  {
   "cell_type": "code",
   "execution_count": 33,
   "id": "8b6a3f06",
   "metadata": {},
   "outputs": [
    {
     "data": {
      "text/html": [
       "<div>\n",
       "<style scoped>\n",
       "    .dataframe tbody tr th:only-of-type {\n",
       "        vertical-align: middle;\n",
       "    }\n",
       "\n",
       "    .dataframe tbody tr th {\n",
       "        vertical-align: top;\n",
       "    }\n",
       "\n",
       "    .dataframe thead th {\n",
       "        text-align: right;\n",
       "    }\n",
       "</style>\n",
       "<table border=\"1\" class=\"dataframe\">\n",
       "  <thead>\n",
       "    <tr style=\"text-align: right;\">\n",
       "      <th></th>\n",
       "      <th>name</th>\n",
       "      <th>place</th>\n",
       "    </tr>\n",
       "  </thead>\n",
       "  <tbody>\n",
       "    <tr>\n",
       "      <th>01</th>\n",
       "      <td>naja</td>\n",
       "      <td>Calicut</td>\n",
       "    </tr>\n",
       "    <tr>\n",
       "      <th>03</th>\n",
       "      <td>akash</td>\n",
       "      <td>kutyadi</td>\n",
       "    </tr>\n",
       "  </tbody>\n",
       "</table>\n",
       "</div>"
      ],
      "text/plain": [
       "     name    place\n",
       "01   naja  Calicut\n",
       "03  akash  kutyadi"
      ]
     },
     "execution_count": 33,
     "metadata": {},
     "output_type": "execute_result"
    }
   ],
   "source": [
    "d1.loc[['01','03'],['name','place']]"
   ]
  },
  {
   "cell_type": "code",
   "execution_count": 34,
   "id": "6756b987",
   "metadata": {},
   "outputs": [
    {
     "data": {
      "text/plain": [
       "01    22\n",
       "02    23\n",
       "03    24\n",
       "04    21\n",
       "05    21\n",
       "Name: age, dtype: int64"
      ]
     },
     "execution_count": 34,
     "metadata": {},
     "output_type": "execute_result"
    }
   ],
   "source": [
    "d1.loc[:,'age']"
   ]
  },
  {
   "cell_type": "markdown",
   "id": "915da932",
   "metadata": {},
   "source": [
    "#### .iloc[] — position-based selection\n",
    "##### Use .iloc[row_positions, column_positions]\n",
    "##### Works with integer positions (like Python lists)"
   ]
  },
  {
   "cell_type": "code",
   "execution_count": 35,
   "id": "8b6f79ac",
   "metadata": {},
   "outputs": [
    {
     "name": "stdout",
     "output_type": "stream",
     "text": [
      "name      swalih\n",
      "age           21\n",
      "place    Vandoor\n",
      "Name: 05, dtype: object\n"
     ]
    }
   ],
   "source": [
    "# to print a specific row\n",
    "print(d1.iloc[4]) "
   ]
  },
  {
   "cell_type": "code",
   "execution_count": 36,
   "id": "1e1222ab",
   "metadata": {},
   "outputs": [
    {
     "name": "stdout",
     "output_type": "stream",
     "text": [
      "01      Calicut\n",
      "02    Kottakkal\n",
      "03      kutyadi\n",
      "04      Manjeri\n",
      "05      Vandoor\n",
      "Name: place, dtype: object\n"
     ]
    }
   ],
   "source": [
    "#to print specific column\n",
    "print(d1.iloc[:,2])"
   ]
  },
  {
   "cell_type": "code",
   "execution_count": 37,
   "id": "ea79cbb8",
   "metadata": {},
   "outputs": [
    {
     "name": "stdout",
     "output_type": "stream",
     "text": [
      "    age      place\n",
      "02   23  Kottakkal\n",
      "03   24    kutyadi\n",
      "04   21    Manjeri\n"
     ]
    }
   ],
   "source": [
    "print(d1.iloc[1:4,1:3])"
   ]
  },
  {
   "cell_type": "code",
   "execution_count": 38,
   "id": "171e8cb3",
   "metadata": {},
   "outputs": [
    {
     "name": "stdout",
     "output_type": "stream",
     "text": [
      "Vandoor\n"
     ]
    }
   ],
   "source": [
    "#printing last row , last column\n",
    "print(d1.iloc[-1,-1])"
   ]
  },
  {
   "cell_type": "markdown",
   "id": "e3686164",
   "metadata": {},
   "source": [
    "#### Boolean Indexing\n",
    "##### Boolean indexing = selecting rows based on conditions that give True or False.\n",
    "##### The condition produces a Boolean Series (array of True/False values).\n",
    "##### Pandas keeps only the rows where the condition is True."
   ]
  },
  {
   "cell_type": "code",
   "execution_count": 39,
   "id": "32624fb0",
   "metadata": {},
   "outputs": [
    {
     "data": {
      "text/plain": [
       "01    False\n",
       "02     True\n",
       "03     True\n",
       "04    False\n",
       "05    False\n",
       "Name: age, dtype: bool"
      ]
     },
     "execution_count": 39,
     "metadata": {},
     "output_type": "execute_result"
    }
   ],
   "source": [
    "d1['age']>22"
   ]
  },
  {
   "cell_type": "code",
   "execution_count": 40,
   "id": "f2135d48",
   "metadata": {},
   "outputs": [
    {
     "data": {
      "text/html": [
       "<div>\n",
       "<style scoped>\n",
       "    .dataframe tbody tr th:only-of-type {\n",
       "        vertical-align: middle;\n",
       "    }\n",
       "\n",
       "    .dataframe tbody tr th {\n",
       "        vertical-align: top;\n",
       "    }\n",
       "\n",
       "    .dataframe thead th {\n",
       "        text-align: right;\n",
       "    }\n",
       "</style>\n",
       "<table border=\"1\" class=\"dataframe\">\n",
       "  <thead>\n",
       "    <tr style=\"text-align: right;\">\n",
       "      <th></th>\n",
       "      <th>name</th>\n",
       "      <th>age</th>\n",
       "      <th>place</th>\n",
       "    </tr>\n",
       "  </thead>\n",
       "  <tbody>\n",
       "    <tr>\n",
       "      <th>02</th>\n",
       "      <td>naseef</td>\n",
       "      <td>23</td>\n",
       "      <td>Kottakkal</td>\n",
       "    </tr>\n",
       "    <tr>\n",
       "      <th>03</th>\n",
       "      <td>akash</td>\n",
       "      <td>24</td>\n",
       "      <td>kutyadi</td>\n",
       "    </tr>\n",
       "  </tbody>\n",
       "</table>\n",
       "</div>"
      ],
      "text/plain": [
       "      name  age      place\n",
       "02  naseef   23  Kottakkal\n",
       "03   akash   24    kutyadi"
      ]
     },
     "execution_count": 40,
     "metadata": {},
     "output_type": "execute_result"
    }
   ],
   "source": [
    "#Apply mask to filter rows\n",
    "d1[d1['age']>22] # onlt rows where age>22 is shown"
   ]
  },
  {
   "cell_type": "code",
   "execution_count": 41,
   "id": "cd189d34",
   "metadata": {},
   "outputs": [
    {
     "data": {
      "text/html": [
       "<div>\n",
       "<style scoped>\n",
       "    .dataframe tbody tr th:only-of-type {\n",
       "        vertical-align: middle;\n",
       "    }\n",
       "\n",
       "    .dataframe tbody tr th {\n",
       "        vertical-align: top;\n",
       "    }\n",
       "\n",
       "    .dataframe thead th {\n",
       "        text-align: right;\n",
       "    }\n",
       "</style>\n",
       "<table border=\"1\" class=\"dataframe\">\n",
       "  <thead>\n",
       "    <tr style=\"text-align: right;\">\n",
       "      <th></th>\n",
       "      <th>name</th>\n",
       "      <th>age</th>\n",
       "      <th>place</th>\n",
       "    </tr>\n",
       "  </thead>\n",
       "  <tbody>\n",
       "    <tr>\n",
       "      <th>03</th>\n",
       "      <td>akash</td>\n",
       "      <td>24</td>\n",
       "      <td>kutyadi</td>\n",
       "    </tr>\n",
       "  </tbody>\n",
       "</table>\n",
       "</div>"
      ],
      "text/plain": [
       "     name  age    place\n",
       "03  akash   24  kutyadi"
      ]
     },
     "execution_count": 41,
     "metadata": {},
     "output_type": "execute_result"
    }
   ],
   "source": [
    "#combining multiple conditions\n",
    "masked=(d1['age']>22) & (d1['place']=='kutyadi')\n",
    "d1[masked]"
   ]
  },
  {
   "cell_type": "markdown",
   "id": "1c204bd7",
   "metadata": {},
   "source": [
    "##### Boolean Indexing with .loc[]"
   ]
  },
  {
   "cell_type": "code",
   "execution_count": 42,
   "id": "d814baa3",
   "metadata": {},
   "outputs": [
    {
     "data": {
      "text/html": [
       "<div>\n",
       "<style scoped>\n",
       "    .dataframe tbody tr th:only-of-type {\n",
       "        vertical-align: middle;\n",
       "    }\n",
       "\n",
       "    .dataframe tbody tr th {\n",
       "        vertical-align: top;\n",
       "    }\n",
       "\n",
       "    .dataframe thead th {\n",
       "        text-align: right;\n",
       "    }\n",
       "</style>\n",
       "<table border=\"1\" class=\"dataframe\">\n",
       "  <thead>\n",
       "    <tr style=\"text-align: right;\">\n",
       "      <th></th>\n",
       "      <th>name</th>\n",
       "      <th>place</th>\n",
       "    </tr>\n",
       "  </thead>\n",
       "  <tbody>\n",
       "    <tr>\n",
       "      <th>02</th>\n",
       "      <td>naseef</td>\n",
       "      <td>Kottakkal</td>\n",
       "    </tr>\n",
       "    <tr>\n",
       "      <th>03</th>\n",
       "      <td>akash</td>\n",
       "      <td>kutyadi</td>\n",
       "    </tr>\n",
       "  </tbody>\n",
       "</table>\n",
       "</div>"
      ],
      "text/plain": [
       "      name      place\n",
       "02  naseef  Kottakkal\n",
       "03   akash    kutyadi"
      ]
     },
     "execution_count": 42,
     "metadata": {},
     "output_type": "execute_result"
    }
   ],
   "source": [
    "d1.loc[d1['age']>22,['name','place']] \n",
    "# Rows where age>22 , but show only name and place"
   ]
  },
  {
   "cell_type": "code",
   "execution_count": 43,
   "id": "f34ef6e3",
   "metadata": {},
   "outputs": [
    {
     "name": "stdout",
     "output_type": "stream",
     "text": [
      "      name  age      place   salary\n",
      "01    naja   22    Calicut  2000000\n",
      "02  naseef   23  Kottakkal  2600000\n",
      "03   akash   24    kutyadi  2000000\n",
      "04   husna   21    Manjeri  1500000\n",
      "05  swalih   21    Vandoor  1700000\n"
     ]
    }
   ],
   "source": [
    "\n",
    "d1['salary']=[2000000,2600000,2000000,1500000,1700000]\n",
    "print(d1)"
   ]
  },
  {
   "cell_type": "code",
   "execution_count": 44,
   "id": "cc53fb1b",
   "metadata": {},
   "outputs": [
    {
     "data": {
      "text/html": [
       "<div>\n",
       "<style scoped>\n",
       "    .dataframe tbody tr th:only-of-type {\n",
       "        vertical-align: middle;\n",
       "    }\n",
       "\n",
       "    .dataframe tbody tr th {\n",
       "        vertical-align: top;\n",
       "    }\n",
       "\n",
       "    .dataframe thead th {\n",
       "        text-align: right;\n",
       "    }\n",
       "</style>\n",
       "<table border=\"1\" class=\"dataframe\">\n",
       "  <thead>\n",
       "    <tr style=\"text-align: right;\">\n",
       "      <th></th>\n",
       "      <th>name</th>\n",
       "      <th>age</th>\n",
       "      <th>place</th>\n",
       "      <th>salary</th>\n",
       "    </tr>\n",
       "  </thead>\n",
       "  <tbody>\n",
       "    <tr>\n",
       "      <th>01</th>\n",
       "      <td>naja</td>\n",
       "      <td>22</td>\n",
       "      <td>Calicut</td>\n",
       "      <td>2000000</td>\n",
       "    </tr>\n",
       "    <tr>\n",
       "      <th>02</th>\n",
       "      <td>naseef</td>\n",
       "      <td>23</td>\n",
       "      <td>Kottakkal</td>\n",
       "      <td>2600000</td>\n",
       "    </tr>\n",
       "    <tr>\n",
       "      <th>03</th>\n",
       "      <td>akash</td>\n",
       "      <td>24</td>\n",
       "      <td>kutyadi</td>\n",
       "      <td>2000000</td>\n",
       "    </tr>\n",
       "  </tbody>\n",
       "</table>\n",
       "</div>"
      ],
      "text/plain": [
       "      name  age      place   salary\n",
       "01    naja   22    Calicut  2000000\n",
       "02  naseef   23  Kottakkal  2600000\n",
       "03   akash   24    kutyadi  2000000"
      ]
     },
     "execution_count": 44,
     "metadata": {},
     "output_type": "execute_result"
    }
   ],
   "source": [
    "#Select the first 3 rows of a DataFrame\n",
    "d1.loc['01':'03']"
   ]
  },
  {
   "cell_type": "code",
   "execution_count": 45,
   "id": "9e1bfda1",
   "metadata": {},
   "outputs": [
    {
     "data": {
      "text/plain": [
       "01      naja\n",
       "02    naseef\n",
       "03     akash\n",
       "04     husna\n",
       "05    swalih\n",
       "Name: name, dtype: object"
      ]
     },
     "execution_count": 45,
     "metadata": {},
     "output_type": "execute_result"
    }
   ],
   "source": [
    "#Select only the Name column.\n",
    "d1.loc[:,'name']"
   ]
  },
  {
   "cell_type": "code",
   "execution_count": 46,
   "id": "ed133dd8",
   "metadata": {},
   "outputs": [
    {
     "name": "stdout",
     "output_type": "stream",
     "text": [
      "      name  age      place   salary\n",
      "01    naja   22    Calicut  2000000\n",
      "02  naseef   23  Kottakkal  2600000\n",
      "03   akash   24    kutyadi  2000000\n"
     ]
    }
   ],
   "source": [
    "#Filter rows where Age > 21.\n",
    "mask=d1['age']>21\n",
    "print(d1[mask])"
   ]
  },
  {
   "cell_type": "code",
   "execution_count": 47,
   "id": "4b94a990",
   "metadata": {},
   "outputs": [
    {
     "data": {
      "text/html": [
       "<div>\n",
       "<style scoped>\n",
       "    .dataframe tbody tr th:only-of-type {\n",
       "        vertical-align: middle;\n",
       "    }\n",
       "\n",
       "    .dataframe tbody tr th {\n",
       "        vertical-align: top;\n",
       "    }\n",
       "\n",
       "    .dataframe thead th {\n",
       "        text-align: right;\n",
       "    }\n",
       "</style>\n",
       "<table border=\"1\" class=\"dataframe\">\n",
       "  <thead>\n",
       "    <tr style=\"text-align: right;\">\n",
       "      <th></th>\n",
       "      <th>name</th>\n",
       "      <th>age</th>\n",
       "    </tr>\n",
       "  </thead>\n",
       "  <tbody>\n",
       "    <tr>\n",
       "      <th>03</th>\n",
       "      <td>akash</td>\n",
       "      <td>24</td>\n",
       "    </tr>\n",
       "    <tr>\n",
       "      <th>04</th>\n",
       "      <td>husna</td>\n",
       "      <td>21</td>\n",
       "    </tr>\n",
       "  </tbody>\n",
       "</table>\n",
       "</div>"
      ],
      "text/plain": [
       "     name  age\n",
       "03  akash   24\n",
       "04  husna   21"
      ]
     },
     "execution_count": 47,
     "metadata": {},
     "output_type": "execute_result"
    }
   ],
   "source": [
    "#Select rows 2–4 and columns Name and Age using iloc[].\n",
    "d1.iloc[2:4,0:2]"
   ]
  },
  {
   "cell_type": "code",
   "execution_count": 48,
   "id": "0cd6bb83",
   "metadata": {},
   "outputs": [
    {
     "data": {
      "text/html": [
       "<div>\n",
       "<style scoped>\n",
       "    .dataframe tbody tr th:only-of-type {\n",
       "        vertical-align: middle;\n",
       "    }\n",
       "\n",
       "    .dataframe tbody tr th {\n",
       "        vertical-align: top;\n",
       "    }\n",
       "\n",
       "    .dataframe thead th {\n",
       "        text-align: right;\n",
       "    }\n",
       "</style>\n",
       "<table border=\"1\" class=\"dataframe\">\n",
       "  <thead>\n",
       "    <tr style=\"text-align: right;\">\n",
       "      <th></th>\n",
       "      <th>name</th>\n",
       "      <th>age</th>\n",
       "      <th>place</th>\n",
       "      <th>salary</th>\n",
       "    </tr>\n",
       "  </thead>\n",
       "  <tbody>\n",
       "    <tr>\n",
       "      <th>01</th>\n",
       "      <td>naja</td>\n",
       "      <td>22</td>\n",
       "      <td>Calicut</td>\n",
       "      <td>2000000</td>\n",
       "    </tr>\n",
       "    <tr>\n",
       "      <th>02</th>\n",
       "      <td>naseef</td>\n",
       "      <td>23</td>\n",
       "      <td>Kottakkal</td>\n",
       "      <td>2600000</td>\n",
       "    </tr>\n",
       "    <tr>\n",
       "      <th>03</th>\n",
       "      <td>akash</td>\n",
       "      <td>24</td>\n",
       "      <td>kutyadi</td>\n",
       "      <td>2000000</td>\n",
       "    </tr>\n",
       "  </tbody>\n",
       "</table>\n",
       "</div>"
      ],
      "text/plain": [
       "      name  age      place   salary\n",
       "01    naja   22    Calicut  2000000\n",
       "02  naseef   23  Kottakkal  2600000\n",
       "03   akash   24    kutyadi  2000000"
      ]
     },
     "execution_count": 48,
     "metadata": {},
     "output_type": "execute_result"
    }
   ],
   "source": [
    "d1[(d1['salary']>1700000) & (d1['salary']<8000000)]\n"
   ]
  },
  {
   "cell_type": "markdown",
   "id": "0a8640a1",
   "metadata": {},
   "source": [
    "### DAY 3\n",
    "#### Data cleaning and Missing values"
   ]
  },
  {
   "cell_type": "code",
   "execution_count": 49,
   "id": "5ae65f86",
   "metadata": {},
   "outputs": [
    {
     "name": "stdout",
     "output_type": "stream",
     "text": [
      "       Name   Age      Place       salary\n",
      "0      mary  22.0      Kochi        25000\n",
      "1     james  32.0      Kochi        30000\n",
      "2      alex   NaN  Alappuzha        32000\n",
      "3      ravi  22.0    calicut  twenty five\n",
      "4  musthafa  32.0       None        35000\n"
     ]
    }
   ],
   "source": [
    "data={'Name':['mary','james','alex','ravi','musthafa'],\n",
    "      'Age':[22,32,None,22,32],\n",
    "      'Place':['Kochi','Kochi','Alappuzha','calicut',None],\n",
    "      'salary':[25000,30000,32000,'twenty five',35000]}\n",
    "df=pd.DataFrame(data)\n",
    "print(df)"
   ]
  },
  {
   "cell_type": "code",
   "execution_count": 50,
   "id": "f2d32d57",
   "metadata": {},
   "outputs": [
    {
     "name": "stdout",
     "output_type": "stream",
     "text": [
      "    Name    Age  Place  salary\n",
      "0  False  False  False   False\n",
      "1  False  False  False   False\n",
      "2  False   True  False   False\n",
      "3  False  False  False   False\n",
      "4  False  False   True   False\n"
     ]
    }
   ],
   "source": [
    "#FINDING MISSING VALUES\n",
    "print(df.isnull())"
   ]
  },
  {
   "cell_type": "code",
   "execution_count": 51,
   "id": "9e4d7bbd",
   "metadata": {},
   "outputs": [
    {
     "name": "stdout",
     "output_type": "stream",
     "text": [
      "Name      0\n",
      "Age       1\n",
      "Place     1\n",
      "salary    0\n",
      "dtype: int64\n"
     ]
    }
   ],
   "source": [
    "#FINDING COLUMN WISE TOTAL NO.OF MISSING VALUES\n",
    "print(df.isnull().sum())"
   ]
  },
  {
   "cell_type": "code",
   "execution_count": 52,
   "id": "fc7bf35c",
   "metadata": {},
   "outputs": [
    {
     "data": {
      "text/html": [
       "<div>\n",
       "<style scoped>\n",
       "    .dataframe tbody tr th:only-of-type {\n",
       "        vertical-align: middle;\n",
       "    }\n",
       "\n",
       "    .dataframe tbody tr th {\n",
       "        vertical-align: top;\n",
       "    }\n",
       "\n",
       "    .dataframe thead th {\n",
       "        text-align: right;\n",
       "    }\n",
       "</style>\n",
       "<table border=\"1\" class=\"dataframe\">\n",
       "  <thead>\n",
       "    <tr style=\"text-align: right;\">\n",
       "      <th></th>\n",
       "      <th>Name</th>\n",
       "      <th>Age</th>\n",
       "      <th>Place</th>\n",
       "      <th>salary</th>\n",
       "    </tr>\n",
       "  </thead>\n",
       "  <tbody>\n",
       "    <tr>\n",
       "      <th>0</th>\n",
       "      <td>mary</td>\n",
       "      <td>22.0</td>\n",
       "      <td>Kochi</td>\n",
       "      <td>25000</td>\n",
       "    </tr>\n",
       "    <tr>\n",
       "      <th>1</th>\n",
       "      <td>james</td>\n",
       "      <td>32.0</td>\n",
       "      <td>Kochi</td>\n",
       "      <td>30000</td>\n",
       "    </tr>\n",
       "    <tr>\n",
       "      <th>2</th>\n",
       "      <td>alex</td>\n",
       "      <td>NaN</td>\n",
       "      <td>Alappuzha</td>\n",
       "      <td>32000</td>\n",
       "    </tr>\n",
       "    <tr>\n",
       "      <th>3</th>\n",
       "      <td>ravi</td>\n",
       "      <td>22.0</td>\n",
       "      <td>calicut</td>\n",
       "      <td>twenty five</td>\n",
       "    </tr>\n",
       "    <tr>\n",
       "      <th>4</th>\n",
       "      <td>musthafa</td>\n",
       "      <td>32.0</td>\n",
       "      <td>None</td>\n",
       "      <td>35000</td>\n",
       "    </tr>\n",
       "  </tbody>\n",
       "</table>\n",
       "</div>"
      ],
      "text/plain": [
       "       Name   Age      Place       salary\n",
       "0      mary  22.0      Kochi        25000\n",
       "1     james  32.0      Kochi        30000\n",
       "2      alex   NaN  Alappuzha        32000\n",
       "3      ravi  22.0    calicut  twenty five\n",
       "4  musthafa  32.0       None        35000"
      ]
     },
     "execution_count": 52,
     "metadata": {},
     "output_type": "execute_result"
    }
   ],
   "source": [
    "#DROPPING MISSING VALUES\n",
    "#df.dropna(inplace=True)\n",
    "df"
   ]
  },
  {
   "cell_type": "code",
   "execution_count": 53,
   "id": "f786bf99",
   "metadata": {},
   "outputs": [
    {
     "name": "stderr",
     "output_type": "stream",
     "text": [
      "C:\\Users\\Admin\\AppData\\Local\\Temp\\ipykernel_21376\\1565131261.py:2: FutureWarning: A value is trying to be set on a copy of a DataFrame or Series through chained assignment using an inplace method.\n",
      "The behavior will change in pandas 3.0. This inplace method will never work because the intermediate object on which we are setting values always behaves as a copy.\n",
      "\n",
      "For example, when doing 'df[col].method(value, inplace=True)', try using 'df.method({col: value}, inplace=True)' or df[col] = df[col].method(value) instead, to perform the operation inplace on the original object.\n",
      "\n",
      "\n",
      "  df['Age'].fillna(df['Age'].mean(),inplace=True)\n",
      "C:\\Users\\Admin\\AppData\\Local\\Temp\\ipykernel_21376\\1565131261.py:3: FutureWarning: A value is trying to be set on a copy of a DataFrame or Series through chained assignment using an inplace method.\n",
      "The behavior will change in pandas 3.0. This inplace method will never work because the intermediate object on which we are setting values always behaves as a copy.\n",
      "\n",
      "For example, when doing 'df[col].method(value, inplace=True)', try using 'df.method({col: value}, inplace=True)' or df[col] = df[col].method(value) instead, to perform the operation inplace on the original object.\n",
      "\n",
      "\n",
      "  df['Place'].fillna('unknown',inplace=True)\n"
     ]
    },
    {
     "data": {
      "text/html": [
       "<div>\n",
       "<style scoped>\n",
       "    .dataframe tbody tr th:only-of-type {\n",
       "        vertical-align: middle;\n",
       "    }\n",
       "\n",
       "    .dataframe tbody tr th {\n",
       "        vertical-align: top;\n",
       "    }\n",
       "\n",
       "    .dataframe thead th {\n",
       "        text-align: right;\n",
       "    }\n",
       "</style>\n",
       "<table border=\"1\" class=\"dataframe\">\n",
       "  <thead>\n",
       "    <tr style=\"text-align: right;\">\n",
       "      <th></th>\n",
       "      <th>Name</th>\n",
       "      <th>Age</th>\n",
       "      <th>Place</th>\n",
       "      <th>salary</th>\n",
       "    </tr>\n",
       "  </thead>\n",
       "  <tbody>\n",
       "    <tr>\n",
       "      <th>0</th>\n",
       "      <td>mary</td>\n",
       "      <td>22.0</td>\n",
       "      <td>Kochi</td>\n",
       "      <td>25000</td>\n",
       "    </tr>\n",
       "    <tr>\n",
       "      <th>1</th>\n",
       "      <td>james</td>\n",
       "      <td>32.0</td>\n",
       "      <td>Kochi</td>\n",
       "      <td>30000</td>\n",
       "    </tr>\n",
       "    <tr>\n",
       "      <th>2</th>\n",
       "      <td>alex</td>\n",
       "      <td>27.0</td>\n",
       "      <td>Alappuzha</td>\n",
       "      <td>32000</td>\n",
       "    </tr>\n",
       "    <tr>\n",
       "      <th>3</th>\n",
       "      <td>ravi</td>\n",
       "      <td>22.0</td>\n",
       "      <td>calicut</td>\n",
       "      <td>twenty five</td>\n",
       "    </tr>\n",
       "    <tr>\n",
       "      <th>4</th>\n",
       "      <td>musthafa</td>\n",
       "      <td>32.0</td>\n",
       "      <td>unknown</td>\n",
       "      <td>35000</td>\n",
       "    </tr>\n",
       "  </tbody>\n",
       "</table>\n",
       "</div>"
      ],
      "text/plain": [
       "       Name   Age      Place       salary\n",
       "0      mary  22.0      Kochi        25000\n",
       "1     james  32.0      Kochi        30000\n",
       "2      alex  27.0  Alappuzha        32000\n",
       "3      ravi  22.0    calicut  twenty five\n",
       "4  musthafa  32.0    unknown        35000"
      ]
     },
     "execution_count": 53,
     "metadata": {},
     "output_type": "execute_result"
    }
   ],
   "source": [
    "# FILL MISSING VALUES\n",
    "df['Age'].fillna(df['Age'].mean(),inplace=True)\n",
    "df['Place'].fillna('unknown',inplace=True)\n",
    "df"
   ]
  },
  {
   "cell_type": "code",
   "execution_count": 54,
   "id": "09fdb87e",
   "metadata": {},
   "outputs": [
    {
     "data": {
      "text/html": [
       "<div>\n",
       "<style scoped>\n",
       "    .dataframe tbody tr th:only-of-type {\n",
       "        vertical-align: middle;\n",
       "    }\n",
       "\n",
       "    .dataframe tbody tr th {\n",
       "        vertical-align: top;\n",
       "    }\n",
       "\n",
       "    .dataframe thead th {\n",
       "        text-align: right;\n",
       "    }\n",
       "</style>\n",
       "<table border=\"1\" class=\"dataframe\">\n",
       "  <thead>\n",
       "    <tr style=\"text-align: right;\">\n",
       "      <th></th>\n",
       "      <th>Name</th>\n",
       "      <th>Age</th>\n",
       "      <th>Place</th>\n",
       "      <th>salary</th>\n",
       "    </tr>\n",
       "  </thead>\n",
       "  <tbody>\n",
       "    <tr>\n",
       "      <th>0</th>\n",
       "      <td>mary</td>\n",
       "      <td>22.0</td>\n",
       "      <td>Kochi</td>\n",
       "      <td>25000</td>\n",
       "    </tr>\n",
       "    <tr>\n",
       "      <th>1</th>\n",
       "      <td>james</td>\n",
       "      <td>32.0</td>\n",
       "      <td>Kochi</td>\n",
       "      <td>30000</td>\n",
       "    </tr>\n",
       "    <tr>\n",
       "      <th>2</th>\n",
       "      <td>alex</td>\n",
       "      <td>27.0</td>\n",
       "      <td>Alappuzha</td>\n",
       "      <td>32000</td>\n",
       "    </tr>\n",
       "    <tr>\n",
       "      <th>3</th>\n",
       "      <td>ravi</td>\n",
       "      <td>22.0</td>\n",
       "      <td>calicut</td>\n",
       "      <td>twenty five</td>\n",
       "    </tr>\n",
       "    <tr>\n",
       "      <th>4</th>\n",
       "      <td>musthafa</td>\n",
       "      <td>32.0</td>\n",
       "      <td>unknown</td>\n",
       "      <td>35000</td>\n",
       "    </tr>\n",
       "  </tbody>\n",
       "</table>\n",
       "</div>"
      ],
      "text/plain": [
       "       Name   Age      Place       salary\n",
       "0      mary  22.0      Kochi        25000\n",
       "1     james  32.0      Kochi        30000\n",
       "2      alex  27.0  Alappuzha        32000\n",
       "3      ravi  22.0    calicut  twenty five\n",
       "4  musthafa  32.0    unknown        35000"
      ]
     },
     "execution_count": 54,
     "metadata": {},
     "output_type": "execute_result"
    }
   ],
   "source": [
    "#REMOVE DUPLICATES\n",
    "df.drop_duplicates(inplace=True)\n",
    "df"
   ]
  },
  {
   "cell_type": "code",
   "execution_count": 55,
   "id": "6f8425f9",
   "metadata": {},
   "outputs": [
    {
     "data": {
      "text/html": [
       "<div>\n",
       "<style scoped>\n",
       "    .dataframe tbody tr th:only-of-type {\n",
       "        vertical-align: middle;\n",
       "    }\n",
       "\n",
       "    .dataframe tbody tr th {\n",
       "        vertical-align: top;\n",
       "    }\n",
       "\n",
       "    .dataframe thead th {\n",
       "        text-align: right;\n",
       "    }\n",
       "</style>\n",
       "<table border=\"1\" class=\"dataframe\">\n",
       "  <thead>\n",
       "    <tr style=\"text-align: right;\">\n",
       "      <th></th>\n",
       "      <th>Name</th>\n",
       "      <th>Age</th>\n",
       "      <th>Place</th>\n",
       "      <th>salary</th>\n",
       "    </tr>\n",
       "  </thead>\n",
       "  <tbody>\n",
       "    <tr>\n",
       "      <th>0</th>\n",
       "      <td>mary</td>\n",
       "      <td>22.0</td>\n",
       "      <td>Kochi</td>\n",
       "      <td>25000.0</td>\n",
       "    </tr>\n",
       "    <tr>\n",
       "      <th>1</th>\n",
       "      <td>james</td>\n",
       "      <td>32.0</td>\n",
       "      <td>Kochi</td>\n",
       "      <td>30000.0</td>\n",
       "    </tr>\n",
       "    <tr>\n",
       "      <th>2</th>\n",
       "      <td>alex</td>\n",
       "      <td>27.0</td>\n",
       "      <td>Alappuzha</td>\n",
       "      <td>32000.0</td>\n",
       "    </tr>\n",
       "    <tr>\n",
       "      <th>3</th>\n",
       "      <td>ravi</td>\n",
       "      <td>22.0</td>\n",
       "      <td>calicut</td>\n",
       "      <td>NaN</td>\n",
       "    </tr>\n",
       "    <tr>\n",
       "      <th>4</th>\n",
       "      <td>musthafa</td>\n",
       "      <td>32.0</td>\n",
       "      <td>unknown</td>\n",
       "      <td>35000.0</td>\n",
       "    </tr>\n",
       "  </tbody>\n",
       "</table>\n",
       "</div>"
      ],
      "text/plain": [
       "       Name   Age      Place   salary\n",
       "0      mary  22.0      Kochi  25000.0\n",
       "1     james  32.0      Kochi  30000.0\n",
       "2      alex  27.0  Alappuzha  32000.0\n",
       "3      ravi  22.0    calicut      NaN\n",
       "4  musthafa  32.0    unknown  35000.0"
      ]
     },
     "execution_count": 55,
     "metadata": {},
     "output_type": "execute_result"
    }
   ],
   "source": [
    "#FIX DATA TYPES\n",
    "df['salary']=pd.to_numeric(df['salary'],errors='coerce')\n",
    "df\n",
    "# errors='coerce' turns invalid entries (mismatched data types etc) into NaN"
   ]
  },
  {
   "cell_type": "code",
   "execution_count": 56,
   "id": "461e15b5",
   "metadata": {},
   "outputs": [
    {
     "name": "stderr",
     "output_type": "stream",
     "text": [
      "C:\\Users\\Admin\\AppData\\Local\\Temp\\ipykernel_21376\\3257859425.py:2: FutureWarning: A value is trying to be set on a copy of a DataFrame or Series through chained assignment using an inplace method.\n",
      "The behavior will change in pandas 3.0. This inplace method will never work because the intermediate object on which we are setting values always behaves as a copy.\n",
      "\n",
      "For example, when doing 'df[col].method(value, inplace=True)', try using 'df.method({col: value}, inplace=True)' or df[col] = df[col].method(value) instead, to perform the operation inplace on the original object.\n",
      "\n",
      "\n",
      "  df['salary'].fillna(df['salary'].median(),inplace=True)\n"
     ]
    },
    {
     "data": {
      "text/html": [
       "<div>\n",
       "<style scoped>\n",
       "    .dataframe tbody tr th:only-of-type {\n",
       "        vertical-align: middle;\n",
       "    }\n",
       "\n",
       "    .dataframe tbody tr th {\n",
       "        vertical-align: top;\n",
       "    }\n",
       "\n",
       "    .dataframe thead th {\n",
       "        text-align: right;\n",
       "    }\n",
       "</style>\n",
       "<table border=\"1\" class=\"dataframe\">\n",
       "  <thead>\n",
       "    <tr style=\"text-align: right;\">\n",
       "      <th></th>\n",
       "      <th>Name</th>\n",
       "      <th>Age</th>\n",
       "      <th>Place</th>\n",
       "      <th>salary</th>\n",
       "    </tr>\n",
       "  </thead>\n",
       "  <tbody>\n",
       "    <tr>\n",
       "      <th>0</th>\n",
       "      <td>mary</td>\n",
       "      <td>22.0</td>\n",
       "      <td>Kochi</td>\n",
       "      <td>25000.0</td>\n",
       "    </tr>\n",
       "    <tr>\n",
       "      <th>1</th>\n",
       "      <td>james</td>\n",
       "      <td>32.0</td>\n",
       "      <td>Kochi</td>\n",
       "      <td>30000.0</td>\n",
       "    </tr>\n",
       "    <tr>\n",
       "      <th>2</th>\n",
       "      <td>alex</td>\n",
       "      <td>27.0</td>\n",
       "      <td>Alappuzha</td>\n",
       "      <td>32000.0</td>\n",
       "    </tr>\n",
       "    <tr>\n",
       "      <th>3</th>\n",
       "      <td>ravi</td>\n",
       "      <td>22.0</td>\n",
       "      <td>calicut</td>\n",
       "      <td>31000.0</td>\n",
       "    </tr>\n",
       "    <tr>\n",
       "      <th>4</th>\n",
       "      <td>musthafa</td>\n",
       "      <td>32.0</td>\n",
       "      <td>unknown</td>\n",
       "      <td>35000.0</td>\n",
       "    </tr>\n",
       "  </tbody>\n",
       "</table>\n",
       "</div>"
      ],
      "text/plain": [
       "       Name   Age      Place   salary\n",
       "0      mary  22.0      Kochi  25000.0\n",
       "1     james  32.0      Kochi  30000.0\n",
       "2      alex  27.0  Alappuzha  32000.0\n",
       "3      ravi  22.0    calicut  31000.0\n",
       "4  musthafa  32.0    unknown  35000.0"
      ]
     },
     "execution_count": 56,
     "metadata": {},
     "output_type": "execute_result"
    }
   ],
   "source": [
    "#FILLING MISMATCHED DATA TYPE IN SALARY COLUMN\n",
    "df['salary'].fillna(df['salary'].median(),inplace=True)\n",
    "df"
   ]
  },
  {
   "cell_type": "code",
   "execution_count": 57,
   "id": "6d5427a7",
   "metadata": {},
   "outputs": [
    {
     "data": {
      "text/html": [
       "<div>\n",
       "<style scoped>\n",
       "    .dataframe tbody tr th:only-of-type {\n",
       "        vertical-align: middle;\n",
       "    }\n",
       "\n",
       "    .dataframe tbody tr th {\n",
       "        vertical-align: top;\n",
       "    }\n",
       "\n",
       "    .dataframe thead th {\n",
       "        text-align: right;\n",
       "    }\n",
       "</style>\n",
       "<table border=\"1\" class=\"dataframe\">\n",
       "  <thead>\n",
       "    <tr style=\"text-align: right;\">\n",
       "      <th></th>\n",
       "      <th>Name</th>\n",
       "      <th>Age</th>\n",
       "      <th>Place</th>\n",
       "      <th>salary</th>\n",
       "    </tr>\n",
       "  </thead>\n",
       "  <tbody>\n",
       "    <tr>\n",
       "      <th>0</th>\n",
       "      <td>mary</td>\n",
       "      <td>22.0</td>\n",
       "      <td>Kochi</td>\n",
       "      <td>25000.0</td>\n",
       "    </tr>\n",
       "    <tr>\n",
       "      <th>1</th>\n",
       "      <td>james</td>\n",
       "      <td>32.0</td>\n",
       "      <td>Kochi</td>\n",
       "      <td>30000.0</td>\n",
       "    </tr>\n",
       "    <tr>\n",
       "      <th>2</th>\n",
       "      <td>alex</td>\n",
       "      <td>27.0</td>\n",
       "      <td>Alappuzha</td>\n",
       "      <td>32000.0</td>\n",
       "    </tr>\n",
       "    <tr>\n",
       "      <th>3</th>\n",
       "      <td>ravi</td>\n",
       "      <td>22.0</td>\n",
       "      <td>Calicut</td>\n",
       "      <td>31000.0</td>\n",
       "    </tr>\n",
       "    <tr>\n",
       "      <th>4</th>\n",
       "      <td>musthafa</td>\n",
       "      <td>32.0</td>\n",
       "      <td>Unknown</td>\n",
       "      <td>35000.0</td>\n",
       "    </tr>\n",
       "  </tbody>\n",
       "</table>\n",
       "</div>"
      ],
      "text/plain": [
       "       Name   Age      Place   salary\n",
       "0      mary  22.0      Kochi  25000.0\n",
       "1     james  32.0      Kochi  30000.0\n",
       "2      alex  27.0  Alappuzha  32000.0\n",
       "3      ravi  22.0    Calicut  31000.0\n",
       "4  musthafa  32.0    Unknown  35000.0"
      ]
     },
     "execution_count": 57,
     "metadata": {},
     "output_type": "execute_result"
    }
   ],
   "source": [
    "#STANDARDIZED TEXT FORMATTING\n",
    "df['Place']=df['Place'].str.title()\n",
    "df"
   ]
  },
  {
   "cell_type": "code",
   "execution_count": 58,
   "id": "7ffbfb83",
   "metadata": {},
   "outputs": [
    {
     "data": {
      "text/html": [
       "<div>\n",
       "<style scoped>\n",
       "    .dataframe tbody tr th:only-of-type {\n",
       "        vertical-align: middle;\n",
       "    }\n",
       "\n",
       "    .dataframe tbody tr th {\n",
       "        vertical-align: top;\n",
       "    }\n",
       "\n",
       "    .dataframe thead th {\n",
       "        text-align: right;\n",
       "    }\n",
       "</style>\n",
       "<table border=\"1\" class=\"dataframe\">\n",
       "  <thead>\n",
       "    <tr style=\"text-align: right;\">\n",
       "      <th></th>\n",
       "      <th>name</th>\n",
       "      <th>age</th>\n",
       "      <th>city</th>\n",
       "      <th>score</th>\n",
       "    </tr>\n",
       "  </thead>\n",
       "  <tbody>\n",
       "    <tr>\n",
       "      <th>0</th>\n",
       "      <td>alexander</td>\n",
       "      <td>32</td>\n",
       "      <td>alexandria</td>\n",
       "      <td>90.0</td>\n",
       "    </tr>\n",
       "    <tr>\n",
       "      <th>1</th>\n",
       "      <td>akbar</td>\n",
       "      <td>sixty three</td>\n",
       "      <td>NaN</td>\n",
       "      <td>23.0</td>\n",
       "    </tr>\n",
       "    <tr>\n",
       "      <th>2</th>\n",
       "      <td>ashok</td>\n",
       "      <td>72</td>\n",
       "      <td>patna</td>\n",
       "      <td>NaN</td>\n",
       "    </tr>\n",
       "    <tr>\n",
       "      <th>3</th>\n",
       "      <td>shah jahan</td>\n",
       "      <td>74</td>\n",
       "      <td>agra</td>\n",
       "      <td>14.0</td>\n",
       "    </tr>\n",
       "    <tr>\n",
       "      <th>4</th>\n",
       "      <td>tipu sulthan</td>\n",
       "      <td>47</td>\n",
       "      <td>srirangapatna</td>\n",
       "      <td>88.0</td>\n",
       "    </tr>\n",
       "  </tbody>\n",
       "</table>\n",
       "</div>"
      ],
      "text/plain": [
       "           name          age           city  score\n",
       "0     alexander           32     alexandria   90.0\n",
       "1         akbar  sixty three            NaN   23.0\n",
       "2         ashok           72          patna    NaN\n",
       "3    shah jahan           74           agra   14.0\n",
       "4  tipu sulthan           47  srirangapatna   88.0"
      ]
     },
     "execution_count": 58,
     "metadata": {},
     "output_type": "execute_result"
    }
   ],
   "source": [
    "data1={\n",
    "    \"name\":['alexander','akbar','ashok','shah jahan','tipu sulthan'],\n",
    "    \"age\":[32,'sixty three',72,74,47],\n",
    "    \"city\":['alexandria',np.nan,'patna','agra','srirangapatna'],\n",
    "    'score':[90,23,None,14,88]\n",
    "}\n",
    "df1=pd.DataFrame(data1)\n",
    "df1"
   ]
  },
  {
   "cell_type": "code",
   "execution_count": 59,
   "id": "15b92d7a",
   "metadata": {},
   "outputs": [
    {
     "data": {
      "text/html": [
       "<div>\n",
       "<style scoped>\n",
       "    .dataframe tbody tr th:only-of-type {\n",
       "        vertical-align: middle;\n",
       "    }\n",
       "\n",
       "    .dataframe tbody tr th {\n",
       "        vertical-align: top;\n",
       "    }\n",
       "\n",
       "    .dataframe thead th {\n",
       "        text-align: right;\n",
       "    }\n",
       "</style>\n",
       "<table border=\"1\" class=\"dataframe\">\n",
       "  <thead>\n",
       "    <tr style=\"text-align: right;\">\n",
       "      <th></th>\n",
       "      <th>name</th>\n",
       "      <th>age</th>\n",
       "      <th>city</th>\n",
       "      <th>score</th>\n",
       "    </tr>\n",
       "  </thead>\n",
       "  <tbody>\n",
       "    <tr>\n",
       "      <th>0</th>\n",
       "      <td>False</td>\n",
       "      <td>False</td>\n",
       "      <td>False</td>\n",
       "      <td>False</td>\n",
       "    </tr>\n",
       "    <tr>\n",
       "      <th>1</th>\n",
       "      <td>False</td>\n",
       "      <td>False</td>\n",
       "      <td>True</td>\n",
       "      <td>False</td>\n",
       "    </tr>\n",
       "    <tr>\n",
       "      <th>2</th>\n",
       "      <td>False</td>\n",
       "      <td>False</td>\n",
       "      <td>False</td>\n",
       "      <td>True</td>\n",
       "    </tr>\n",
       "    <tr>\n",
       "      <th>3</th>\n",
       "      <td>False</td>\n",
       "      <td>False</td>\n",
       "      <td>False</td>\n",
       "      <td>False</td>\n",
       "    </tr>\n",
       "    <tr>\n",
       "      <th>4</th>\n",
       "      <td>False</td>\n",
       "      <td>False</td>\n",
       "      <td>False</td>\n",
       "      <td>False</td>\n",
       "    </tr>\n",
       "  </tbody>\n",
       "</table>\n",
       "</div>"
      ],
      "text/plain": [
       "    name    age   city  score\n",
       "0  False  False  False  False\n",
       "1  False  False   True  False\n",
       "2  False  False  False   True\n",
       "3  False  False  False  False\n",
       "4  False  False  False  False"
      ]
     },
     "execution_count": 59,
     "metadata": {},
     "output_type": "execute_result"
    }
   ],
   "source": [
    "df1.isnull()\n"
   ]
  },
  {
   "cell_type": "code",
   "execution_count": 60,
   "id": "28ecfcdf",
   "metadata": {},
   "outputs": [
    {
     "data": {
      "text/plain": [
       "name     0\n",
       "age      0\n",
       "city     1\n",
       "score    1\n",
       "dtype: int64"
      ]
     },
     "execution_count": 60,
     "metadata": {},
     "output_type": "execute_result"
    }
   ],
   "source": [
    "df1.isnull().sum()\n"
   ]
  },
  {
   "cell_type": "code",
   "execution_count": 61,
   "id": "2b58c5c9",
   "metadata": {},
   "outputs": [
    {
     "name": "stderr",
     "output_type": "stream",
     "text": [
      "C:\\Users\\Admin\\AppData\\Local\\Temp\\ipykernel_21376\\4284537063.py:1: FutureWarning: A value is trying to be set on a copy of a DataFrame or Series through chained assignment using an inplace method.\n",
      "The behavior will change in pandas 3.0. This inplace method will never work because the intermediate object on which we are setting values always behaves as a copy.\n",
      "\n",
      "For example, when doing 'df[col].method(value, inplace=True)', try using 'df.method({col: value}, inplace=True)' or df[col] = df[col].method(value) instead, to perform the operation inplace on the original object.\n",
      "\n",
      "\n",
      "  df1['city'].fillna('unknown',inplace=True)\n",
      "C:\\Users\\Admin\\AppData\\Local\\Temp\\ipykernel_21376\\4284537063.py:2: FutureWarning: A value is trying to be set on a copy of a DataFrame or Series through chained assignment using an inplace method.\n",
      "The behavior will change in pandas 3.0. This inplace method will never work because the intermediate object on which we are setting values always behaves as a copy.\n",
      "\n",
      "For example, when doing 'df[col].method(value, inplace=True)', try using 'df.method({col: value}, inplace=True)' or df[col] = df[col].method(value) instead, to perform the operation inplace on the original object.\n",
      "\n",
      "\n",
      "  df1['score'].fillna(df1['score'].mean(), inplace=True)\n"
     ]
    },
    {
     "data": {
      "text/html": [
       "<div>\n",
       "<style scoped>\n",
       "    .dataframe tbody tr th:only-of-type {\n",
       "        vertical-align: middle;\n",
       "    }\n",
       "\n",
       "    .dataframe tbody tr th {\n",
       "        vertical-align: top;\n",
       "    }\n",
       "\n",
       "    .dataframe thead th {\n",
       "        text-align: right;\n",
       "    }\n",
       "</style>\n",
       "<table border=\"1\" class=\"dataframe\">\n",
       "  <thead>\n",
       "    <tr style=\"text-align: right;\">\n",
       "      <th></th>\n",
       "      <th>name</th>\n",
       "      <th>age</th>\n",
       "      <th>city</th>\n",
       "      <th>score</th>\n",
       "    </tr>\n",
       "  </thead>\n",
       "  <tbody>\n",
       "    <tr>\n",
       "      <th>0</th>\n",
       "      <td>alexander</td>\n",
       "      <td>32</td>\n",
       "      <td>alexandria</td>\n",
       "      <td>90.00</td>\n",
       "    </tr>\n",
       "    <tr>\n",
       "      <th>1</th>\n",
       "      <td>akbar</td>\n",
       "      <td>sixty three</td>\n",
       "      <td>unknown</td>\n",
       "      <td>23.00</td>\n",
       "    </tr>\n",
       "    <tr>\n",
       "      <th>2</th>\n",
       "      <td>ashok</td>\n",
       "      <td>72</td>\n",
       "      <td>patna</td>\n",
       "      <td>53.75</td>\n",
       "    </tr>\n",
       "    <tr>\n",
       "      <th>3</th>\n",
       "      <td>shah jahan</td>\n",
       "      <td>74</td>\n",
       "      <td>agra</td>\n",
       "      <td>14.00</td>\n",
       "    </tr>\n",
       "    <tr>\n",
       "      <th>4</th>\n",
       "      <td>tipu sulthan</td>\n",
       "      <td>47</td>\n",
       "      <td>srirangapatna</td>\n",
       "      <td>88.00</td>\n",
       "    </tr>\n",
       "  </tbody>\n",
       "</table>\n",
       "</div>"
      ],
      "text/plain": [
       "           name          age           city  score\n",
       "0     alexander           32     alexandria  90.00\n",
       "1         akbar  sixty three        unknown  23.00\n",
       "2         ashok           72          patna  53.75\n",
       "3    shah jahan           74           agra  14.00\n",
       "4  tipu sulthan           47  srirangapatna  88.00"
      ]
     },
     "execution_count": 61,
     "metadata": {},
     "output_type": "execute_result"
    }
   ],
   "source": [
    "df1['city'].fillna('unknown',inplace=True)\n",
    "df1['score'].fillna(df1['score'].mean(), inplace=True)\n",
    "df1"
   ]
  },
  {
   "cell_type": "code",
   "execution_count": 62,
   "id": "cf63660f",
   "metadata": {},
   "outputs": [
    {
     "data": {
      "text/html": [
       "<div>\n",
       "<style scoped>\n",
       "    .dataframe tbody tr th:only-of-type {\n",
       "        vertical-align: middle;\n",
       "    }\n",
       "\n",
       "    .dataframe tbody tr th {\n",
       "        vertical-align: top;\n",
       "    }\n",
       "\n",
       "    .dataframe thead th {\n",
       "        text-align: right;\n",
       "    }\n",
       "</style>\n",
       "<table border=\"1\" class=\"dataframe\">\n",
       "  <thead>\n",
       "    <tr style=\"text-align: right;\">\n",
       "      <th></th>\n",
       "      <th>name</th>\n",
       "      <th>age</th>\n",
       "      <th>city</th>\n",
       "      <th>score</th>\n",
       "    </tr>\n",
       "  </thead>\n",
       "  <tbody>\n",
       "    <tr>\n",
       "      <th>0</th>\n",
       "      <td>alexander</td>\n",
       "      <td>32.0</td>\n",
       "      <td>alexandria</td>\n",
       "      <td>90.00</td>\n",
       "    </tr>\n",
       "    <tr>\n",
       "      <th>1</th>\n",
       "      <td>akbar</td>\n",
       "      <td>NaN</td>\n",
       "      <td>unknown</td>\n",
       "      <td>23.00</td>\n",
       "    </tr>\n",
       "    <tr>\n",
       "      <th>2</th>\n",
       "      <td>ashok</td>\n",
       "      <td>72.0</td>\n",
       "      <td>patna</td>\n",
       "      <td>53.75</td>\n",
       "    </tr>\n",
       "    <tr>\n",
       "      <th>3</th>\n",
       "      <td>shah jahan</td>\n",
       "      <td>74.0</td>\n",
       "      <td>agra</td>\n",
       "      <td>14.00</td>\n",
       "    </tr>\n",
       "    <tr>\n",
       "      <th>4</th>\n",
       "      <td>tipu sulthan</td>\n",
       "      <td>47.0</td>\n",
       "      <td>srirangapatna</td>\n",
       "      <td>88.00</td>\n",
       "    </tr>\n",
       "  </tbody>\n",
       "</table>\n",
       "</div>"
      ],
      "text/plain": [
       "           name   age           city  score\n",
       "0     alexander  32.0     alexandria  90.00\n",
       "1         akbar   NaN        unknown  23.00\n",
       "2         ashok  72.0          patna  53.75\n",
       "3    shah jahan  74.0           agra  14.00\n",
       "4  tipu sulthan  47.0  srirangapatna  88.00"
      ]
     },
     "execution_count": 62,
     "metadata": {},
     "output_type": "execute_result"
    }
   ],
   "source": [
    "df1['age']=pd.to_numeric(df1['age'], errors='coerce')\n",
    "df1"
   ]
  },
  {
   "cell_type": "code",
   "execution_count": 63,
   "id": "6e43eb0d",
   "metadata": {},
   "outputs": [
    {
     "name": "stderr",
     "output_type": "stream",
     "text": [
      "C:\\Users\\Admin\\AppData\\Local\\Temp\\ipykernel_21376\\3245229526.py:1: FutureWarning: A value is trying to be set on a copy of a DataFrame or Series through chained assignment using an inplace method.\n",
      "The behavior will change in pandas 3.0. This inplace method will never work because the intermediate object on which we are setting values always behaves as a copy.\n",
      "\n",
      "For example, when doing 'df[col].method(value, inplace=True)', try using 'df.method({col: value}, inplace=True)' or df[col] = df[col].method(value) instead, to perform the operation inplace on the original object.\n",
      "\n",
      "\n",
      "  df1['age'].fillna(df1['age'].median(),inplace=True)\n"
     ]
    },
    {
     "data": {
      "text/html": [
       "<div>\n",
       "<style scoped>\n",
       "    .dataframe tbody tr th:only-of-type {\n",
       "        vertical-align: middle;\n",
       "    }\n",
       "\n",
       "    .dataframe tbody tr th {\n",
       "        vertical-align: top;\n",
       "    }\n",
       "\n",
       "    .dataframe thead th {\n",
       "        text-align: right;\n",
       "    }\n",
       "</style>\n",
       "<table border=\"1\" class=\"dataframe\">\n",
       "  <thead>\n",
       "    <tr style=\"text-align: right;\">\n",
       "      <th></th>\n",
       "      <th>name</th>\n",
       "      <th>age</th>\n",
       "      <th>city</th>\n",
       "      <th>score</th>\n",
       "    </tr>\n",
       "  </thead>\n",
       "  <tbody>\n",
       "    <tr>\n",
       "      <th>0</th>\n",
       "      <td>alexander</td>\n",
       "      <td>32.0</td>\n",
       "      <td>alexandria</td>\n",
       "      <td>90.00</td>\n",
       "    </tr>\n",
       "    <tr>\n",
       "      <th>1</th>\n",
       "      <td>akbar</td>\n",
       "      <td>59.5</td>\n",
       "      <td>unknown</td>\n",
       "      <td>23.00</td>\n",
       "    </tr>\n",
       "    <tr>\n",
       "      <th>2</th>\n",
       "      <td>ashok</td>\n",
       "      <td>72.0</td>\n",
       "      <td>patna</td>\n",
       "      <td>53.75</td>\n",
       "    </tr>\n",
       "    <tr>\n",
       "      <th>3</th>\n",
       "      <td>shah jahan</td>\n",
       "      <td>74.0</td>\n",
       "      <td>agra</td>\n",
       "      <td>14.00</td>\n",
       "    </tr>\n",
       "    <tr>\n",
       "      <th>4</th>\n",
       "      <td>tipu sulthan</td>\n",
       "      <td>47.0</td>\n",
       "      <td>srirangapatna</td>\n",
       "      <td>88.00</td>\n",
       "    </tr>\n",
       "  </tbody>\n",
       "</table>\n",
       "</div>"
      ],
      "text/plain": [
       "           name   age           city  score\n",
       "0     alexander  32.0     alexandria  90.00\n",
       "1         akbar  59.5        unknown  23.00\n",
       "2         ashok  72.0          patna  53.75\n",
       "3    shah jahan  74.0           agra  14.00\n",
       "4  tipu sulthan  47.0  srirangapatna  88.00"
      ]
     },
     "execution_count": 63,
     "metadata": {},
     "output_type": "execute_result"
    }
   ],
   "source": [
    "df1['age'].fillna(df1['age'].median(),inplace=True)\n",
    "df1"
   ]
  },
  {
   "cell_type": "code",
   "execution_count": 64,
   "id": "8ad5c91d",
   "metadata": {},
   "outputs": [
    {
     "name": "stderr",
     "output_type": "stream",
     "text": [
      "C:\\Users\\Admin\\AppData\\Local\\Temp\\ipykernel_21376\\418708295.py:1: FutureWarning: A value is trying to be set on a copy of a DataFrame or Series through chained assignment using an inplace method.\n",
      "The behavior will change in pandas 3.0. This inplace method will never work because the intermediate object on which we are setting values always behaves as a copy.\n",
      "\n",
      "For example, when doing 'df[col].method(value, inplace=True)', try using 'df.method({col: value}, inplace=True)' or df[col] = df[col].method(value) instead, to perform the operation inplace on the original object.\n",
      "\n",
      "\n",
      "  df1['city'].replace('unknown','not specified',inplace=True)\n"
     ]
    },
    {
     "data": {
      "text/html": [
       "<div>\n",
       "<style scoped>\n",
       "    .dataframe tbody tr th:only-of-type {\n",
       "        vertical-align: middle;\n",
       "    }\n",
       "\n",
       "    .dataframe tbody tr th {\n",
       "        vertical-align: top;\n",
       "    }\n",
       "\n",
       "    .dataframe thead th {\n",
       "        text-align: right;\n",
       "    }\n",
       "</style>\n",
       "<table border=\"1\" class=\"dataframe\">\n",
       "  <thead>\n",
       "    <tr style=\"text-align: right;\">\n",
       "      <th></th>\n",
       "      <th>name</th>\n",
       "      <th>age</th>\n",
       "      <th>city</th>\n",
       "      <th>score</th>\n",
       "    </tr>\n",
       "  </thead>\n",
       "  <tbody>\n",
       "    <tr>\n",
       "      <th>0</th>\n",
       "      <td>alexander</td>\n",
       "      <td>32.0</td>\n",
       "      <td>alexandria</td>\n",
       "      <td>90.00</td>\n",
       "    </tr>\n",
       "    <tr>\n",
       "      <th>1</th>\n",
       "      <td>akbar</td>\n",
       "      <td>59.5</td>\n",
       "      <td>not specified</td>\n",
       "      <td>23.00</td>\n",
       "    </tr>\n",
       "    <tr>\n",
       "      <th>2</th>\n",
       "      <td>ashok</td>\n",
       "      <td>72.0</td>\n",
       "      <td>patna</td>\n",
       "      <td>53.75</td>\n",
       "    </tr>\n",
       "    <tr>\n",
       "      <th>3</th>\n",
       "      <td>shah jahan</td>\n",
       "      <td>74.0</td>\n",
       "      <td>agra</td>\n",
       "      <td>14.00</td>\n",
       "    </tr>\n",
       "    <tr>\n",
       "      <th>4</th>\n",
       "      <td>tipu sulthan</td>\n",
       "      <td>47.0</td>\n",
       "      <td>srirangapatna</td>\n",
       "      <td>88.00</td>\n",
       "    </tr>\n",
       "  </tbody>\n",
       "</table>\n",
       "</div>"
      ],
      "text/plain": [
       "           name   age           city  score\n",
       "0     alexander  32.0     alexandria  90.00\n",
       "1         akbar  59.5  not specified  23.00\n",
       "2         ashok  72.0          patna  53.75\n",
       "3    shah jahan  74.0           agra  14.00\n",
       "4  tipu sulthan  47.0  srirangapatna  88.00"
      ]
     },
     "execution_count": 64,
     "metadata": {},
     "output_type": "execute_result"
    }
   ],
   "source": [
    "df1['city'].replace('unknown','not specified',inplace=True)\n",
    "df1"
   ]
  },
  {
   "cell_type": "code",
   "execution_count": 65,
   "id": "e228969c",
   "metadata": {},
   "outputs": [
    {
     "data": {
      "text/html": [
       "<div>\n",
       "<style scoped>\n",
       "    .dataframe tbody tr th:only-of-type {\n",
       "        vertical-align: middle;\n",
       "    }\n",
       "\n",
       "    .dataframe tbody tr th {\n",
       "        vertical-align: top;\n",
       "    }\n",
       "\n",
       "    .dataframe thead th {\n",
       "        text-align: right;\n",
       "    }\n",
       "</style>\n",
       "<table border=\"1\" class=\"dataframe\">\n",
       "  <thead>\n",
       "    <tr style=\"text-align: right;\">\n",
       "      <th></th>\n",
       "      <th>name</th>\n",
       "      <th>age</th>\n",
       "      <th>city</th>\n",
       "      <th>score</th>\n",
       "    </tr>\n",
       "  </thead>\n",
       "  <tbody>\n",
       "    <tr>\n",
       "      <th>0</th>\n",
       "      <td>alexander</td>\n",
       "      <td>32.0</td>\n",
       "      <td>Alexandria</td>\n",
       "      <td>90.00</td>\n",
       "    </tr>\n",
       "    <tr>\n",
       "      <th>1</th>\n",
       "      <td>akbar</td>\n",
       "      <td>59.5</td>\n",
       "      <td>Not Specified</td>\n",
       "      <td>23.00</td>\n",
       "    </tr>\n",
       "    <tr>\n",
       "      <th>2</th>\n",
       "      <td>ashok</td>\n",
       "      <td>72.0</td>\n",
       "      <td>Patna</td>\n",
       "      <td>53.75</td>\n",
       "    </tr>\n",
       "    <tr>\n",
       "      <th>3</th>\n",
       "      <td>shah jahan</td>\n",
       "      <td>74.0</td>\n",
       "      <td>Agra</td>\n",
       "      <td>14.00</td>\n",
       "    </tr>\n",
       "    <tr>\n",
       "      <th>4</th>\n",
       "      <td>tipu sulthan</td>\n",
       "      <td>47.0</td>\n",
       "      <td>Srirangapatna</td>\n",
       "      <td>88.00</td>\n",
       "    </tr>\n",
       "  </tbody>\n",
       "</table>\n",
       "</div>"
      ],
      "text/plain": [
       "           name   age           city  score\n",
       "0     alexander  32.0     Alexandria  90.00\n",
       "1         akbar  59.5  Not Specified  23.00\n",
       "2         ashok  72.0          Patna  53.75\n",
       "3    shah jahan  74.0           Agra  14.00\n",
       "4  tipu sulthan  47.0  Srirangapatna  88.00"
      ]
     },
     "execution_count": 65,
     "metadata": {},
     "output_type": "execute_result"
    }
   ],
   "source": [
    "df1['city']=df1['city'].str.title()\n",
    "df1"
   ]
  },
  {
   "cell_type": "code",
   "execution_count": 66,
   "id": "41db1579",
   "metadata": {},
   "outputs": [
    {
     "name": "stderr",
     "output_type": "stream",
     "text": [
      "C:\\Users\\Admin\\AppData\\Local\\Temp\\ipykernel_21376\\3055484546.py:1: FutureWarning: A value is trying to be set on a copy of a DataFrame or Series through chained assignment using an inplace method.\n",
      "The behavior will change in pandas 3.0. This inplace method will never work because the intermediate object on which we are setting values always behaves as a copy.\n",
      "\n",
      "For example, when doing 'df[col].method(value, inplace=True)', try using 'df.method({col: value}, inplace=True)' or df[col] = df[col].method(value) instead, to perform the operation inplace on the original object.\n",
      "\n",
      "\n",
      "  df1['city'].replace('Not Specified','Fatehpur Sikri',inplace=True)\n"
     ]
    }
   ],
   "source": [
    "df1['city'].replace('Not Specified','Fatehpur Sikri',inplace=True)"
   ]
  },
  {
   "cell_type": "code",
   "execution_count": 67,
   "id": "8d8966bf",
   "metadata": {},
   "outputs": [
    {
     "name": "stdout",
     "output_type": "stream",
     "text": [
      "           name   age            city  score\n",
      "0     alexander  32.0      Alexandria  90.00\n",
      "1         akbar  59.5  Fatehpur Sikri  23.00\n",
      "2         ashok  72.0           Patna  53.75\n",
      "3    shah jahan  74.0            Agra  14.00\n",
      "4  tipu sulthan  47.0   Srirangapatna  88.00\n"
     ]
    }
   ],
   "source": [
    "print(df1)"
   ]
  },
  {
   "cell_type": "markdown",
   "id": "43e7f18d",
   "metadata": {},
   "source": [
    "#### Day 4\n",
    "#####  Sorting & Operations\n"
   ]
  },
  {
   "cell_type": "markdown",
   "id": "1bb121df",
   "metadata": {},
   "source": [
    "##### 1.Sorting by index"
   ]
  },
  {
   "cell_type": "code",
   "execution_count": 68,
   "id": "3066a8f5",
   "metadata": {},
   "outputs": [
    {
     "name": "stdout",
     "output_type": "stream",
     "text": [
      "           name   age            city  score\n",
      "0     alexander  32.0      Alexandria  90.00\n",
      "1         akbar  59.5  Fatehpur Sikri  23.00\n",
      "2         ashok  72.0           Patna  53.75\n",
      "3    shah jahan  74.0            Agra  14.00\n",
      "4  tipu sulthan  47.0   Srirangapatna  88.00\n"
     ]
    }
   ],
   "source": [
    "print(df1)"
   ]
  },
  {
   "cell_type": "code",
   "execution_count": 69,
   "id": "84ac1b77",
   "metadata": {},
   "outputs": [
    {
     "data": {
      "text/html": [
       "<div>\n",
       "<style scoped>\n",
       "    .dataframe tbody tr th:only-of-type {\n",
       "        vertical-align: middle;\n",
       "    }\n",
       "\n",
       "    .dataframe tbody tr th {\n",
       "        vertical-align: top;\n",
       "    }\n",
       "\n",
       "    .dataframe thead th {\n",
       "        text-align: right;\n",
       "    }\n",
       "</style>\n",
       "<table border=\"1\" class=\"dataframe\">\n",
       "  <thead>\n",
       "    <tr style=\"text-align: right;\">\n",
       "      <th></th>\n",
       "      <th>name</th>\n",
       "      <th>age</th>\n",
       "      <th>city</th>\n",
       "      <th>score</th>\n",
       "    </tr>\n",
       "  </thead>\n",
       "  <tbody>\n",
       "    <tr>\n",
       "      <th>a</th>\n",
       "      <td>alexander</td>\n",
       "      <td>32.0</td>\n",
       "      <td>Alexandria</td>\n",
       "      <td>90.00</td>\n",
       "    </tr>\n",
       "    <tr>\n",
       "      <th>d</th>\n",
       "      <td>akbar</td>\n",
       "      <td>59.5</td>\n",
       "      <td>Fatehpur Sikri</td>\n",
       "      <td>23.00</td>\n",
       "    </tr>\n",
       "    <tr>\n",
       "      <th>e</th>\n",
       "      <td>ashok</td>\n",
       "      <td>72.0</td>\n",
       "      <td>Patna</td>\n",
       "      <td>53.75</td>\n",
       "    </tr>\n",
       "    <tr>\n",
       "      <th>c</th>\n",
       "      <td>shah jahan</td>\n",
       "      <td>74.0</td>\n",
       "      <td>Agra</td>\n",
       "      <td>14.00</td>\n",
       "    </tr>\n",
       "    <tr>\n",
       "      <th>b</th>\n",
       "      <td>tipu sulthan</td>\n",
       "      <td>47.0</td>\n",
       "      <td>Srirangapatna</td>\n",
       "      <td>88.00</td>\n",
       "    </tr>\n",
       "  </tbody>\n",
       "</table>\n",
       "</div>"
      ],
      "text/plain": [
       "           name   age            city  score\n",
       "a     alexander  32.0      Alexandria  90.00\n",
       "d         akbar  59.5  Fatehpur Sikri  23.00\n",
       "e         ashok  72.0           Patna  53.75\n",
       "c    shah jahan  74.0            Agra  14.00\n",
       "b  tipu sulthan  47.0   Srirangapatna  88.00"
      ]
     },
     "execution_count": 69,
     "metadata": {},
     "output_type": "execute_result"
    }
   ],
   "source": [
    "df1.index=['a','d','e','c','b']\n",
    "df1"
   ]
  },
  {
   "cell_type": "code",
   "execution_count": 70,
   "id": "d9ccc754",
   "metadata": {},
   "outputs": [
    {
     "name": "stdout",
     "output_type": "stream",
     "text": [
      "Sorted by index: \n",
      "\n",
      "           name   age            city  score\n",
      "a     alexander  32.0      Alexandria  90.00\n",
      "b  tipu sulthan  47.0   Srirangapatna  88.00\n",
      "c    shah jahan  74.0            Agra  14.00\n",
      "d         akbar  59.5  Fatehpur Sikri  23.00\n",
      "e         ashok  72.0           Patna  53.75\n"
     ]
    }
   ],
   "source": [
    "print(\"Sorted by index: \\n\")\n",
    "print(df1.sort_index())"
   ]
  },
  {
   "cell_type": "markdown",
   "id": "b46b37e5",
   "metadata": {},
   "source": [
    "##### 2.Sorting by column values"
   ]
  },
  {
   "cell_type": "code",
   "execution_count": 71,
   "id": "844af9d3",
   "metadata": {},
   "outputs": [
    {
     "name": "stdout",
     "output_type": "stream",
     "text": [
      "           name   age            city  score\n",
      "a     alexander  32.0      Alexandria  90.00\n",
      "b  tipu sulthan  47.0   Srirangapatna  88.00\n",
      "d         akbar  59.5  Fatehpur Sikri  23.00\n",
      "e         ashok  72.0           Patna  53.75\n",
      "c    shah jahan  74.0            Agra  14.00\n"
     ]
    }
   ],
   "source": [
    "print(df1.sort_values(by='age'))\n"
   ]
  },
  {
   "cell_type": "markdown",
   "id": "aa86ddcf",
   "metadata": {},
   "source": [
    "##### sorting by column values in descending order"
   ]
  },
  {
   "cell_type": "code",
   "execution_count": 72,
   "id": "856f3c60",
   "metadata": {},
   "outputs": [
    {
     "name": "stdout",
     "output_type": "stream",
     "text": [
      "           name   age            city  score\n",
      "c    shah jahan  74.0            Agra  14.00\n",
      "e         ashok  72.0           Patna  53.75\n",
      "d         akbar  59.5  Fatehpur Sikri  23.00\n",
      "b  tipu sulthan  47.0   Srirangapatna  88.00\n",
      "a     alexander  32.0      Alexandria  90.00\n"
     ]
    }
   ],
   "source": [
    "print(df1.sort_values(by='age',ascending=False))"
   ]
  },
  {
   "cell_type": "markdown",
   "id": "433d50dd",
   "metadata": {},
   "source": [
    "##### 3.Sorting by multiple columns"
   ]
  },
  {
   "cell_type": "code",
   "execution_count": 73,
   "id": "ef4ddb3f",
   "metadata": {},
   "outputs": [
    {
     "name": "stdout",
     "output_type": "stream",
     "text": [
      "           name   age            city  score\n",
      "a     alexander  32.0      Alexandria  90.00\n",
      "b  tipu sulthan  47.0   Srirangapatna  88.00\n",
      "d         akbar  59.5  Fatehpur Sikri  23.00\n",
      "e         ashok  72.0           Patna  53.75\n",
      "c    shah jahan  74.0            Agra  14.00\n"
     ]
    }
   ],
   "source": [
    "print(df1.sort_values(by=['age','score'],ascending=True))"
   ]
  },
  {
   "cell_type": "markdown",
   "id": "fe891332",
   "metadata": {},
   "source": [
    "##### 3.Using nlargest() and nsmallest()\n",
    "###### useful when you need top n or bottom n rows by a column"
   ]
  },
  {
   "cell_type": "code",
   "execution_count": 74,
   "id": "1b9ed86a",
   "metadata": {},
   "outputs": [
    {
     "name": "stdout",
     "output_type": "stream",
     "text": [
      "           name   age           city  score\n",
      "a     alexander  32.0     Alexandria   90.0\n",
      "b  tipu sulthan  47.0  Srirangapatna   88.0\n"
     ]
    }
   ],
   "source": [
    "print(df1.nsmallest(2,'age'))"
   ]
  },
  {
   "cell_type": "code",
   "execution_count": 75,
   "id": "8b4c6bd2",
   "metadata": {},
   "outputs": [
    {
     "name": "stdout",
     "output_type": "stream",
     "text": [
      "           name   age           city  score\n",
      "a     alexander  32.0     Alexandria  90.00\n",
      "b  tipu sulthan  47.0  Srirangapatna  88.00\n",
      "e         ashok  72.0          Patna  53.75\n"
     ]
    }
   ],
   "source": [
    "print(df1.nlargest(3,'score'))"
   ]
  },
  {
   "cell_type": "markdown",
   "id": "426cfc63",
   "metadata": {},
   "source": [
    "##### 4.Sorting using rank()"
   ]
  },
  {
   "cell_type": "code",
   "execution_count": 76,
   "id": "90e99554",
   "metadata": {},
   "outputs": [
    {
     "name": "stdout",
     "output_type": "stream",
     "text": [
      "           name   age            city  score  score_rank\n",
      "a     alexander  32.0      Alexandria  90.00         5.0\n",
      "d         akbar  59.5  Fatehpur Sikri  23.00         2.0\n",
      "e         ashok  72.0           Patna  53.75         3.0\n",
      "c    shah jahan  74.0            Agra  14.00         1.0\n",
      "b  tipu sulthan  47.0   Srirangapatna  88.00         4.0\n"
     ]
    }
   ],
   "source": [
    "df1['score_rank']=df1['score'].rank()\n",
    "print(df1)"
   ]
  },
  {
   "cell_type": "code",
   "execution_count": 77,
   "id": "1428afa5",
   "metadata": {},
   "outputs": [
    {
     "name": "stdout",
     "output_type": "stream",
     "text": [
      "           name   age            city  score  score_rank\n",
      "a     alexander  32.0      Alexandria  90.00         5.0\n",
      "b  tipu sulthan  47.0   Srirangapatna  88.00         4.0\n",
      "c    shah jahan  74.0            Agra  14.00         1.0\n",
      "d         akbar  59.5  Fatehpur Sikri  23.00         2.0\n",
      "e         ashok  72.0           Patna  53.75         3.0\n"
     ]
    }
   ],
   "source": [
    "\n",
    "print(df1.sort_index())"
   ]
  },
  {
   "cell_type": "markdown",
   "id": "5d38892a",
   "metadata": {},
   "source": [
    "##### Operations in pandas"
   ]
  },
  {
   "cell_type": "markdown",
   "id": "ea828af4",
   "metadata": {},
   "source": [
    "##### Arithmatic operations on columns"
   ]
  },
  {
   "cell_type": "code",
   "execution_count": 78,
   "id": "c4b8b88c",
   "metadata": {},
   "outputs": [
    {
     "data": {
      "text/html": [
       "<div>\n",
       "<style scoped>\n",
       "    .dataframe tbody tr th:only-of-type {\n",
       "        vertical-align: middle;\n",
       "    }\n",
       "\n",
       "    .dataframe tbody tr th {\n",
       "        vertical-align: top;\n",
       "    }\n",
       "\n",
       "    .dataframe thead th {\n",
       "        text-align: right;\n",
       "    }\n",
       "</style>\n",
       "<table border=\"1\" class=\"dataframe\">\n",
       "  <thead>\n",
       "    <tr style=\"text-align: right;\">\n",
       "      <th></th>\n",
       "      <th>name</th>\n",
       "      <th>age</th>\n",
       "      <th>city</th>\n",
       "      <th>score</th>\n",
       "      <th>score_rank</th>\n",
       "      <th>double score</th>\n",
       "      <th>age plus 5</th>\n",
       "    </tr>\n",
       "  </thead>\n",
       "  <tbody>\n",
       "    <tr>\n",
       "      <th>a</th>\n",
       "      <td>alexander</td>\n",
       "      <td>32.0</td>\n",
       "      <td>Alexandria</td>\n",
       "      <td>90.00</td>\n",
       "      <td>5.0</td>\n",
       "      <td>180.0</td>\n",
       "      <td>37.0</td>\n",
       "    </tr>\n",
       "    <tr>\n",
       "      <th>d</th>\n",
       "      <td>akbar</td>\n",
       "      <td>59.5</td>\n",
       "      <td>Fatehpur Sikri</td>\n",
       "      <td>23.00</td>\n",
       "      <td>2.0</td>\n",
       "      <td>46.0</td>\n",
       "      <td>64.5</td>\n",
       "    </tr>\n",
       "    <tr>\n",
       "      <th>e</th>\n",
       "      <td>ashok</td>\n",
       "      <td>72.0</td>\n",
       "      <td>Patna</td>\n",
       "      <td>53.75</td>\n",
       "      <td>3.0</td>\n",
       "      <td>107.5</td>\n",
       "      <td>77.0</td>\n",
       "    </tr>\n",
       "    <tr>\n",
       "      <th>c</th>\n",
       "      <td>shah jahan</td>\n",
       "      <td>74.0</td>\n",
       "      <td>Agra</td>\n",
       "      <td>14.00</td>\n",
       "      <td>1.0</td>\n",
       "      <td>28.0</td>\n",
       "      <td>79.0</td>\n",
       "    </tr>\n",
       "    <tr>\n",
       "      <th>b</th>\n",
       "      <td>tipu sulthan</td>\n",
       "      <td>47.0</td>\n",
       "      <td>Srirangapatna</td>\n",
       "      <td>88.00</td>\n",
       "      <td>4.0</td>\n",
       "      <td>176.0</td>\n",
       "      <td>52.0</td>\n",
       "    </tr>\n",
       "  </tbody>\n",
       "</table>\n",
       "</div>"
      ],
      "text/plain": [
       "           name   age            city  score  score_rank  double score  \\\n",
       "a     alexander  32.0      Alexandria  90.00         5.0         180.0   \n",
       "d         akbar  59.5  Fatehpur Sikri  23.00         2.0          46.0   \n",
       "e         ashok  72.0           Patna  53.75         3.0         107.5   \n",
       "c    shah jahan  74.0            Agra  14.00         1.0          28.0   \n",
       "b  tipu sulthan  47.0   Srirangapatna  88.00         4.0         176.0   \n",
       "\n",
       "   age plus 5  \n",
       "a        37.0  \n",
       "d        64.5  \n",
       "e        77.0  \n",
       "c        79.0  \n",
       "b        52.0  "
      ]
     },
     "execution_count": 78,
     "metadata": {},
     "output_type": "execute_result"
    }
   ],
   "source": [
    "df1['double score']=df1['score']*2\n",
    "df1['age plus 5']=df1['age']+5\n",
    "df1"
   ]
  },
  {
   "cell_type": "markdown",
   "id": "2ed78c22",
   "metadata": {},
   "source": [
    "##### Operations between columns\n"
   ]
  },
  {
   "cell_type": "code",
   "execution_count": 79,
   "id": "d38bb885",
   "metadata": {},
   "outputs": [
    {
     "data": {
      "text/html": [
       "<div>\n",
       "<style scoped>\n",
       "    .dataframe tbody tr th:only-of-type {\n",
       "        vertical-align: middle;\n",
       "    }\n",
       "\n",
       "    .dataframe tbody tr th {\n",
       "        vertical-align: top;\n",
       "    }\n",
       "\n",
       "    .dataframe thead th {\n",
       "        text-align: right;\n",
       "    }\n",
       "</style>\n",
       "<table border=\"1\" class=\"dataframe\">\n",
       "  <thead>\n",
       "    <tr style=\"text-align: right;\">\n",
       "      <th></th>\n",
       "      <th>name</th>\n",
       "      <th>age</th>\n",
       "      <th>city</th>\n",
       "      <th>score</th>\n",
       "      <th>score_rank</th>\n",
       "      <th>double score</th>\n",
       "      <th>age plus 5</th>\n",
       "      <th>age + score</th>\n",
       "    </tr>\n",
       "  </thead>\n",
       "  <tbody>\n",
       "    <tr>\n",
       "      <th>a</th>\n",
       "      <td>alexander</td>\n",
       "      <td>32.0</td>\n",
       "      <td>Alexandria</td>\n",
       "      <td>90.00</td>\n",
       "      <td>5.0</td>\n",
       "      <td>180.0</td>\n",
       "      <td>37.0</td>\n",
       "      <td>122.00</td>\n",
       "    </tr>\n",
       "    <tr>\n",
       "      <th>d</th>\n",
       "      <td>akbar</td>\n",
       "      <td>59.5</td>\n",
       "      <td>Fatehpur Sikri</td>\n",
       "      <td>23.00</td>\n",
       "      <td>2.0</td>\n",
       "      <td>46.0</td>\n",
       "      <td>64.5</td>\n",
       "      <td>82.50</td>\n",
       "    </tr>\n",
       "    <tr>\n",
       "      <th>e</th>\n",
       "      <td>ashok</td>\n",
       "      <td>72.0</td>\n",
       "      <td>Patna</td>\n",
       "      <td>53.75</td>\n",
       "      <td>3.0</td>\n",
       "      <td>107.5</td>\n",
       "      <td>77.0</td>\n",
       "      <td>125.75</td>\n",
       "    </tr>\n",
       "    <tr>\n",
       "      <th>c</th>\n",
       "      <td>shah jahan</td>\n",
       "      <td>74.0</td>\n",
       "      <td>Agra</td>\n",
       "      <td>14.00</td>\n",
       "      <td>1.0</td>\n",
       "      <td>28.0</td>\n",
       "      <td>79.0</td>\n",
       "      <td>88.00</td>\n",
       "    </tr>\n",
       "    <tr>\n",
       "      <th>b</th>\n",
       "      <td>tipu sulthan</td>\n",
       "      <td>47.0</td>\n",
       "      <td>Srirangapatna</td>\n",
       "      <td>88.00</td>\n",
       "      <td>4.0</td>\n",
       "      <td>176.0</td>\n",
       "      <td>52.0</td>\n",
       "      <td>135.00</td>\n",
       "    </tr>\n",
       "  </tbody>\n",
       "</table>\n",
       "</div>"
      ],
      "text/plain": [
       "           name   age            city  score  score_rank  double score  \\\n",
       "a     alexander  32.0      Alexandria  90.00         5.0         180.0   \n",
       "d         akbar  59.5  Fatehpur Sikri  23.00         2.0          46.0   \n",
       "e         ashok  72.0           Patna  53.75         3.0         107.5   \n",
       "c    shah jahan  74.0            Agra  14.00         1.0          28.0   \n",
       "b  tipu sulthan  47.0   Srirangapatna  88.00         4.0         176.0   \n",
       "\n",
       "   age plus 5  age + score  \n",
       "a        37.0       122.00  \n",
       "d        64.5        82.50  \n",
       "e        77.0       125.75  \n",
       "c        79.0        88.00  \n",
       "b        52.0       135.00  "
      ]
     },
     "execution_count": 79,
     "metadata": {},
     "output_type": "execute_result"
    }
   ],
   "source": [
    "df1['age + score']=df1['age']+df1['score']\n",
    "df1"
   ]
  },
  {
   "cell_type": "markdown",
   "id": "fb171bc0",
   "metadata": {},
   "source": [
    "##### Applying functions\n",
    "##### can use .apply() function to run custom functions on a column or row"
   ]
  },
  {
   "cell_type": "markdown",
   "id": "8e7604ca",
   "metadata": {},
   "source": []
  },
  {
   "cell_type": "code",
   "execution_count": 80,
   "id": "d5e956de",
   "metadata": {},
   "outputs": [
    {
     "data": {
      "text/html": [
       "<div>\n",
       "<style scoped>\n",
       "    .dataframe tbody tr th:only-of-type {\n",
       "        vertical-align: middle;\n",
       "    }\n",
       "\n",
       "    .dataframe tbody tr th {\n",
       "        vertical-align: top;\n",
       "    }\n",
       "\n",
       "    .dataframe thead th {\n",
       "        text-align: right;\n",
       "    }\n",
       "</style>\n",
       "<table border=\"1\" class=\"dataframe\">\n",
       "  <thead>\n",
       "    <tr style=\"text-align: right;\">\n",
       "      <th></th>\n",
       "      <th>name</th>\n",
       "      <th>age</th>\n",
       "      <th>city</th>\n",
       "      <th>score</th>\n",
       "      <th>score_rank</th>\n",
       "      <th>double score</th>\n",
       "      <th>age plus 5</th>\n",
       "      <th>age + score</th>\n",
       "      <th>age squared</th>\n",
       "    </tr>\n",
       "  </thead>\n",
       "  <tbody>\n",
       "    <tr>\n",
       "      <th>a</th>\n",
       "      <td>alexander</td>\n",
       "      <td>32.0</td>\n",
       "      <td>Alexandria</td>\n",
       "      <td>90.00</td>\n",
       "      <td>5.0</td>\n",
       "      <td>180.0</td>\n",
       "      <td>37.0</td>\n",
       "      <td>122.00</td>\n",
       "      <td>1024.00</td>\n",
       "    </tr>\n",
       "    <tr>\n",
       "      <th>d</th>\n",
       "      <td>akbar</td>\n",
       "      <td>59.5</td>\n",
       "      <td>Fatehpur Sikri</td>\n",
       "      <td>23.00</td>\n",
       "      <td>2.0</td>\n",
       "      <td>46.0</td>\n",
       "      <td>64.5</td>\n",
       "      <td>82.50</td>\n",
       "      <td>3540.25</td>\n",
       "    </tr>\n",
       "    <tr>\n",
       "      <th>e</th>\n",
       "      <td>ashok</td>\n",
       "      <td>72.0</td>\n",
       "      <td>Patna</td>\n",
       "      <td>53.75</td>\n",
       "      <td>3.0</td>\n",
       "      <td>107.5</td>\n",
       "      <td>77.0</td>\n",
       "      <td>125.75</td>\n",
       "      <td>5184.00</td>\n",
       "    </tr>\n",
       "    <tr>\n",
       "      <th>c</th>\n",
       "      <td>shah jahan</td>\n",
       "      <td>74.0</td>\n",
       "      <td>Agra</td>\n",
       "      <td>14.00</td>\n",
       "      <td>1.0</td>\n",
       "      <td>28.0</td>\n",
       "      <td>79.0</td>\n",
       "      <td>88.00</td>\n",
       "      <td>5476.00</td>\n",
       "    </tr>\n",
       "    <tr>\n",
       "      <th>b</th>\n",
       "      <td>tipu sulthan</td>\n",
       "      <td>47.0</td>\n",
       "      <td>Srirangapatna</td>\n",
       "      <td>88.00</td>\n",
       "      <td>4.0</td>\n",
       "      <td>176.0</td>\n",
       "      <td>52.0</td>\n",
       "      <td>135.00</td>\n",
       "      <td>2209.00</td>\n",
       "    </tr>\n",
       "  </tbody>\n",
       "</table>\n",
       "</div>"
      ],
      "text/plain": [
       "           name   age            city  score  score_rank  double score  \\\n",
       "a     alexander  32.0      Alexandria  90.00         5.0         180.0   \n",
       "d         akbar  59.5  Fatehpur Sikri  23.00         2.0          46.0   \n",
       "e         ashok  72.0           Patna  53.75         3.0         107.5   \n",
       "c    shah jahan  74.0            Agra  14.00         1.0          28.0   \n",
       "b  tipu sulthan  47.0   Srirangapatna  88.00         4.0         176.0   \n",
       "\n",
       "   age plus 5  age + score  age squared  \n",
       "a        37.0       122.00      1024.00  \n",
       "d        64.5        82.50      3540.25  \n",
       "e        77.0       125.75      5184.00  \n",
       "c        79.0        88.00      5476.00  \n",
       "b        52.0       135.00      2209.00  "
      ]
     },
     "execution_count": 80,
     "metadata": {},
     "output_type": "execute_result"
    }
   ],
   "source": [
    "df1['age squared']=df1['age'].apply(lambda x:x**2)\n",
    "df1"
   ]
  },
  {
   "cell_type": "markdown",
   "id": "6f14b975",
   "metadata": {},
   "source": [
    "##### Aggregation functions"
   ]
  },
  {
   "cell_type": "code",
   "execution_count": 81,
   "id": "48bde261",
   "metadata": {},
   "outputs": [
    {
     "data": {
      "text/html": [
       "<div>\n",
       "<style scoped>\n",
       "    .dataframe tbody tr th:only-of-type {\n",
       "        vertical-align: middle;\n",
       "    }\n",
       "\n",
       "    .dataframe tbody tr th {\n",
       "        vertical-align: top;\n",
       "    }\n",
       "\n",
       "    .dataframe thead th {\n",
       "        text-align: right;\n",
       "    }\n",
       "</style>\n",
       "<table border=\"1\" class=\"dataframe\">\n",
       "  <thead>\n",
       "    <tr style=\"text-align: right;\">\n",
       "      <th></th>\n",
       "      <th>name</th>\n",
       "      <th>age</th>\n",
       "      <th>score</th>\n",
       "    </tr>\n",
       "  </thead>\n",
       "  <tbody>\n",
       "    <tr>\n",
       "      <th>0</th>\n",
       "      <td>Alice</td>\n",
       "      <td>25</td>\n",
       "      <td>90</td>\n",
       "    </tr>\n",
       "    <tr>\n",
       "      <th>1</th>\n",
       "      <td>Bob</td>\n",
       "      <td>30</td>\n",
       "      <td>80</td>\n",
       "    </tr>\n",
       "    <tr>\n",
       "      <th>2</th>\n",
       "      <td>Charlie</td>\n",
       "      <td>35</td>\n",
       "      <td>95</td>\n",
       "    </tr>\n",
       "    <tr>\n",
       "      <th>3</th>\n",
       "      <td>David</td>\n",
       "      <td>40</td>\n",
       "      <td>70</td>\n",
       "    </tr>\n",
       "  </tbody>\n",
       "</table>\n",
       "</div>"
      ],
      "text/plain": [
       "      name  age  score\n",
       "0    Alice   25     90\n",
       "1      Bob   30     80\n",
       "2  Charlie   35     95\n",
       "3    David   40     70"
      ]
     },
     "execution_count": 81,
     "metadata": {},
     "output_type": "execute_result"
    }
   ],
   "source": [
    "df2 = pd.DataFrame({\n",
    "    \"name\": [\"Alice\", \"Bob\", \"Charlie\", \"David\"],\n",
    "    \"age\": [25, 30, 35, 40],\n",
    "    \"score\": [90, 80, 95, 70]\n",
    "})\n",
    "df2"
   ]
  },
  {
   "cell_type": "code",
   "execution_count": 82,
   "id": "da7ccf8e",
   "metadata": {},
   "outputs": [
    {
     "name": "stdout",
     "output_type": "stream",
     "text": [
      "sum of age:  130\n",
      "mean score:  83.75\n",
      "minimum age:  25\n",
      "maximum score:  95\n",
      "count of people:  4\n",
      "standard deviation of age:  6.454972243679028\n",
      "varience of score:  122.91666666666667\n"
     ]
    }
   ],
   "source": [
    "print(\"sum of age: \",df2['age'].sum())\n",
    "print(\"mean score: \",df2['score'].mean())\n",
    "print(\"minimum age: \",df2['age'].min())\n",
    "print(\"maximum score: \",df2['score'].max())\n",
    "print(\"count of people: \",df2['name'].count())\n",
    "print(\"standard deviation of age: \",df2['age'].std())\n",
    "print(\"varience of score: \",df2['score'].var())"
   ]
  },
  {
   "cell_type": "code",
   "execution_count": 83,
   "id": "926b603c",
   "metadata": {},
   "outputs": [
    {
     "name": "stdout",
     "output_type": "stream",
     "text": [
      "<bound method DataFrame.mean of       name  age  score\n",
      "0    Alice   25     90\n",
      "1      Bob   30     80\n",
      "2  Charlie   35     95\n",
      "3    David   40     70>\n"
     ]
    }
   ],
   "source": [
    "print(df2.mean)"
   ]
  },
  {
   "cell_type": "markdown",
   "id": "b5c399c0",
   "metadata": {},
   "source": [
    "##### Using .agg() for multiple aggregations"
   ]
  },
  {
   "cell_type": "code",
   "execution_count": 84,
   "id": "54421d37",
   "metadata": {},
   "outputs": [
    {
     "name": "stdout",
     "output_type": "stream",
     "text": [
      "min       25.000000\n",
      "max       40.000000\n",
      "mean      32.500000\n",
      "median    32.500000\n",
      "count      4.000000\n",
      "std        6.454972\n",
      "Name: age, dtype: float64\n"
     ]
    }
   ],
   "source": [
    "print(df2['age'].agg(['min','max','mean','median','count','std']))"
   ]
  },
  {
   "cell_type": "markdown",
   "id": "6048925a",
   "metadata": {},
   "source": [
    "#### DAY 5\n",
    "##### Combining and Advanced filtering"
   ]
  },
  {
   "cell_type": "markdown",
   "id": "6562521b",
   "metadata": {},
   "source": [
    "##### 1.concat()\n",
    "##### used to stack DataFrames either vertically(rows) or horizontally(columns)"
   ]
  },
  {
   "cell_type": "code",
   "execution_count": 85,
   "id": "cd6ccc9c",
   "metadata": {},
   "outputs": [
    {
     "name": "stdout",
     "output_type": "stream",
     "text": [
      "   A  B\n",
      "0  1  4\n",
      "1  2  5\n",
      "2  3  6\n",
      "    A   B\n",
      "0  11  44\n",
      "1  22  55\n",
      "2  33  66\n"
     ]
    }
   ],
   "source": [
    "df4=pd.DataFrame({\"A\":[1,2,3],\"B\":[4,5,6]})\n",
    "df5=pd.DataFrame({\"A\":[11,22,33],\"B\":[44,55,66]})\n",
    "print(df4)\n",
    "print(df5)"
   ]
  },
  {
   "cell_type": "code",
   "execution_count": 86,
   "id": "6dc5ccd7",
   "metadata": {},
   "outputs": [
    {
     "data": {
      "text/html": [
       "<div>\n",
       "<style scoped>\n",
       "    .dataframe tbody tr th:only-of-type {\n",
       "        vertical-align: middle;\n",
       "    }\n",
       "\n",
       "    .dataframe tbody tr th {\n",
       "        vertical-align: top;\n",
       "    }\n",
       "\n",
       "    .dataframe thead th {\n",
       "        text-align: right;\n",
       "    }\n",
       "</style>\n",
       "<table border=\"1\" class=\"dataframe\">\n",
       "  <thead>\n",
       "    <tr style=\"text-align: right;\">\n",
       "      <th></th>\n",
       "      <th>A</th>\n",
       "      <th>B</th>\n",
       "    </tr>\n",
       "  </thead>\n",
       "  <tbody>\n",
       "    <tr>\n",
       "      <th>0</th>\n",
       "      <td>1</td>\n",
       "      <td>4</td>\n",
       "    </tr>\n",
       "    <tr>\n",
       "      <th>1</th>\n",
       "      <td>2</td>\n",
       "      <td>5</td>\n",
       "    </tr>\n",
       "    <tr>\n",
       "      <th>2</th>\n",
       "      <td>3</td>\n",
       "      <td>6</td>\n",
       "    </tr>\n",
       "    <tr>\n",
       "      <th>0</th>\n",
       "      <td>11</td>\n",
       "      <td>44</td>\n",
       "    </tr>\n",
       "    <tr>\n",
       "      <th>1</th>\n",
       "      <td>22</td>\n",
       "      <td>55</td>\n",
       "    </tr>\n",
       "    <tr>\n",
       "      <th>2</th>\n",
       "      <td>33</td>\n",
       "      <td>66</td>\n",
       "    </tr>\n",
       "  </tbody>\n",
       "</table>\n",
       "</div>"
      ],
      "text/plain": [
       "    A   B\n",
       "0   1   4\n",
       "1   2   5\n",
       "2   3   6\n",
       "0  11  44\n",
       "1  22  55\n",
       "2  33  66"
      ]
     },
     "execution_count": 86,
     "metadata": {},
     "output_type": "execute_result"
    }
   ],
   "source": [
    "pd.concat([df4,df5])"
   ]
  },
  {
   "cell_type": "code",
   "execution_count": 87,
   "id": "8e8250f1",
   "metadata": {},
   "outputs": [
    {
     "data": {
      "text/html": [
       "<div>\n",
       "<style scoped>\n",
       "    .dataframe tbody tr th:only-of-type {\n",
       "        vertical-align: middle;\n",
       "    }\n",
       "\n",
       "    .dataframe tbody tr th {\n",
       "        vertical-align: top;\n",
       "    }\n",
       "\n",
       "    .dataframe thead th {\n",
       "        text-align: right;\n",
       "    }\n",
       "</style>\n",
       "<table border=\"1\" class=\"dataframe\">\n",
       "  <thead>\n",
       "    <tr style=\"text-align: right;\">\n",
       "      <th></th>\n",
       "      <th>A</th>\n",
       "      <th>B</th>\n",
       "      <th>A</th>\n",
       "      <th>B</th>\n",
       "    </tr>\n",
       "  </thead>\n",
       "  <tbody>\n",
       "    <tr>\n",
       "      <th>0</th>\n",
       "      <td>1</td>\n",
       "      <td>4</td>\n",
       "      <td>11</td>\n",
       "      <td>44</td>\n",
       "    </tr>\n",
       "    <tr>\n",
       "      <th>1</th>\n",
       "      <td>2</td>\n",
       "      <td>5</td>\n",
       "      <td>22</td>\n",
       "      <td>55</td>\n",
       "    </tr>\n",
       "    <tr>\n",
       "      <th>2</th>\n",
       "      <td>3</td>\n",
       "      <td>6</td>\n",
       "      <td>33</td>\n",
       "      <td>66</td>\n",
       "    </tr>\n",
       "  </tbody>\n",
       "</table>\n",
       "</div>"
      ],
      "text/plain": [
       "   A  B   A   B\n",
       "0  1  4  11  44\n",
       "1  2  5  22  55\n",
       "2  3  6  33  66"
      ]
     },
     "execution_count": 87,
     "metadata": {},
     "output_type": "execute_result"
    }
   ],
   "source": [
    "pd.concat([df4,df5],axis=1)"
   ]
  },
  {
   "cell_type": "markdown",
   "id": "0cf674bf",
   "metadata": {},
   "source": [
    "##### 2.merge() (like SQL queries)\n",
    "##### Default is an inner join on matching column"
   ]
  },
  {
   "cell_type": "code",
   "execution_count": 88,
   "id": "374186ea",
   "metadata": {},
   "outputs": [
    {
     "name": "stdout",
     "output_type": "stream",
     "text": [
      "   id name\n",
      "0   1    A\n",
      "1   2    B\n",
      "2   3    C\n",
      "   id  score\n",
      "0   1     90\n",
      "1   2     80\n",
      "2   4     70\n"
     ]
    }
   ],
   "source": [
    "df6 = pd.DataFrame({\"id\":[1,2,3], \"name\":[\"A\",\"B\",\"C\"]})\n",
    "df7 = pd.DataFrame({\"id\":[1,2,4], \"score\":[90,80,70]})\n",
    "print(df6)\n",
    "print(df7)"
   ]
  },
  {
   "cell_type": "code",
   "execution_count": 89,
   "id": "452dd8bb",
   "metadata": {},
   "outputs": [
    {
     "data": {
      "text/html": [
       "<div>\n",
       "<style scoped>\n",
       "    .dataframe tbody tr th:only-of-type {\n",
       "        vertical-align: middle;\n",
       "    }\n",
       "\n",
       "    .dataframe tbody tr th {\n",
       "        vertical-align: top;\n",
       "    }\n",
       "\n",
       "    .dataframe thead th {\n",
       "        text-align: right;\n",
       "    }\n",
       "</style>\n",
       "<table border=\"1\" class=\"dataframe\">\n",
       "  <thead>\n",
       "    <tr style=\"text-align: right;\">\n",
       "      <th></th>\n",
       "      <th>id</th>\n",
       "      <th>name</th>\n",
       "      <th>score</th>\n",
       "    </tr>\n",
       "  </thead>\n",
       "  <tbody>\n",
       "    <tr>\n",
       "      <th>0</th>\n",
       "      <td>1</td>\n",
       "      <td>A</td>\n",
       "      <td>90</td>\n",
       "    </tr>\n",
       "    <tr>\n",
       "      <th>1</th>\n",
       "      <td>2</td>\n",
       "      <td>B</td>\n",
       "      <td>80</td>\n",
       "    </tr>\n",
       "  </tbody>\n",
       "</table>\n",
       "</div>"
      ],
      "text/plain": [
       "   id name  score\n",
       "0   1    A     90\n",
       "1   2    B     80"
      ]
     },
     "execution_count": 89,
     "metadata": {},
     "output_type": "execute_result"
    }
   ],
   "source": [
    "#inner join\n",
    "pd.merge(df6,df7,on='id')"
   ]
  },
  {
   "cell_type": "code",
   "execution_count": 90,
   "id": "ceb69b46",
   "metadata": {},
   "outputs": [
    {
     "data": {
      "text/html": [
       "<div>\n",
       "<style scoped>\n",
       "    .dataframe tbody tr th:only-of-type {\n",
       "        vertical-align: middle;\n",
       "    }\n",
       "\n",
       "    .dataframe tbody tr th {\n",
       "        vertical-align: top;\n",
       "    }\n",
       "\n",
       "    .dataframe thead th {\n",
       "        text-align: right;\n",
       "    }\n",
       "</style>\n",
       "<table border=\"1\" class=\"dataframe\">\n",
       "  <thead>\n",
       "    <tr style=\"text-align: right;\">\n",
       "      <th></th>\n",
       "      <th>id</th>\n",
       "      <th>name</th>\n",
       "      <th>score</th>\n",
       "    </tr>\n",
       "  </thead>\n",
       "  <tbody>\n",
       "    <tr>\n",
       "      <th>0</th>\n",
       "      <td>1</td>\n",
       "      <td>A</td>\n",
       "      <td>90.0</td>\n",
       "    </tr>\n",
       "    <tr>\n",
       "      <th>1</th>\n",
       "      <td>2</td>\n",
       "      <td>B</td>\n",
       "      <td>80.0</td>\n",
       "    </tr>\n",
       "    <tr>\n",
       "      <th>2</th>\n",
       "      <td>3</td>\n",
       "      <td>C</td>\n",
       "      <td>NaN</td>\n",
       "    </tr>\n",
       "  </tbody>\n",
       "</table>\n",
       "</div>"
      ],
      "text/plain": [
       "   id name  score\n",
       "0   1    A   90.0\n",
       "1   2    B   80.0\n",
       "2   3    C    NaN"
      ]
     },
     "execution_count": 90,
     "metadata": {},
     "output_type": "execute_result"
    }
   ],
   "source": [
    "#left join\n",
    "pd.merge(df6,df7,on='id',how='left')"
   ]
  },
  {
   "cell_type": "code",
   "execution_count": 91,
   "id": "6d03801e",
   "metadata": {},
   "outputs": [
    {
     "data": {
      "text/html": [
       "<div>\n",
       "<style scoped>\n",
       "    .dataframe tbody tr th:only-of-type {\n",
       "        vertical-align: middle;\n",
       "    }\n",
       "\n",
       "    .dataframe tbody tr th {\n",
       "        vertical-align: top;\n",
       "    }\n",
       "\n",
       "    .dataframe thead th {\n",
       "        text-align: right;\n",
       "    }\n",
       "</style>\n",
       "<table border=\"1\" class=\"dataframe\">\n",
       "  <thead>\n",
       "    <tr style=\"text-align: right;\">\n",
       "      <th></th>\n",
       "      <th>id</th>\n",
       "      <th>name</th>\n",
       "      <th>score</th>\n",
       "    </tr>\n",
       "  </thead>\n",
       "  <tbody>\n",
       "    <tr>\n",
       "      <th>0</th>\n",
       "      <td>1</td>\n",
       "      <td>A</td>\n",
       "      <td>90</td>\n",
       "    </tr>\n",
       "    <tr>\n",
       "      <th>1</th>\n",
       "      <td>2</td>\n",
       "      <td>B</td>\n",
       "      <td>80</td>\n",
       "    </tr>\n",
       "    <tr>\n",
       "      <th>2</th>\n",
       "      <td>4</td>\n",
       "      <td>NaN</td>\n",
       "      <td>70</td>\n",
       "    </tr>\n",
       "  </tbody>\n",
       "</table>\n",
       "</div>"
      ],
      "text/plain": [
       "   id name  score\n",
       "0   1    A     90\n",
       "1   2    B     80\n",
       "2   4  NaN     70"
      ]
     },
     "execution_count": 91,
     "metadata": {},
     "output_type": "execute_result"
    }
   ],
   "source": [
    "#outer join\n",
    "pd.merge(df6,df7,on='id',how='right')"
   ]
  },
  {
   "cell_type": "code",
   "execution_count": 92,
   "id": "5385d2c8",
   "metadata": {},
   "outputs": [
    {
     "name": "stdout",
     "output_type": "stream",
     "text": [
      "   id name\n",
      "0   1    A\n",
      "1   2    B\n",
      "2   3    C \n",
      "    id  score\n",
      "0   1     90\n",
      "1   2     80\n",
      "2   4     70\n"
     ]
    },
    {
     "data": {
      "text/html": [
       "<div>\n",
       "<style scoped>\n",
       "    .dataframe tbody tr th:only-of-type {\n",
       "        vertical-align: middle;\n",
       "    }\n",
       "\n",
       "    .dataframe tbody tr th {\n",
       "        vertical-align: top;\n",
       "    }\n",
       "\n",
       "    .dataframe thead th {\n",
       "        text-align: right;\n",
       "    }\n",
       "</style>\n",
       "<table border=\"1\" class=\"dataframe\">\n",
       "  <thead>\n",
       "    <tr style=\"text-align: right;\">\n",
       "      <th></th>\n",
       "      <th>idleft</th>\n",
       "      <th>name</th>\n",
       "      <th>idright</th>\n",
       "      <th>score</th>\n",
       "    </tr>\n",
       "  </thead>\n",
       "  <tbody>\n",
       "    <tr>\n",
       "      <th>0</th>\n",
       "      <td>1</td>\n",
       "      <td>A</td>\n",
       "      <td>1</td>\n",
       "      <td>90</td>\n",
       "    </tr>\n",
       "    <tr>\n",
       "      <th>1</th>\n",
       "      <td>2</td>\n",
       "      <td>B</td>\n",
       "      <td>2</td>\n",
       "      <td>80</td>\n",
       "    </tr>\n",
       "    <tr>\n",
       "      <th>2</th>\n",
       "      <td>3</td>\n",
       "      <td>C</td>\n",
       "      <td>4</td>\n",
       "      <td>70</td>\n",
       "    </tr>\n",
       "  </tbody>\n",
       "</table>\n",
       "</div>"
      ],
      "text/plain": [
       "   idleft name  idright  score\n",
       "0       1    A        1     90\n",
       "1       2    B        2     80\n",
       "2       3    C        4     70"
      ]
     },
     "execution_count": 92,
     "metadata": {},
     "output_type": "execute_result"
    }
   ],
   "source": [
    "\n",
    "print(df6,'\\n',df7)\n",
    "df6.join(df7,how='left',lsuffix='left',rsuffix='right')"
   ]
  },
  {
   "cell_type": "code",
   "execution_count": 93,
   "id": "1d92253f",
   "metadata": {},
   "outputs": [
    {
     "data": {
      "text/plain": [
       "0    10\n",
       "1    20\n",
       "2    30\n",
       "3    40\n",
       "dtype: int64"
      ]
     },
     "execution_count": 93,
     "metadata": {},
     "output_type": "execute_result"
    }
   ],
   "source": [
    "s= pd.Series([10,20,30,40])\n",
    "s"
   ]
  },
  {
   "cell_type": "code",
   "execution_count": 94,
   "id": "00753f52",
   "metadata": {},
   "outputs": [
    {
     "data": {
      "text/plain": [
       "a    100\n",
       "b    200\n",
       "c    300\n",
       "d    400\n",
       "dtype: int64"
      ]
     },
     "execution_count": 94,
     "metadata": {},
     "output_type": "execute_result"
    }
   ],
   "source": [
    "sd=pd.Series(\n",
    "    {'a':100,'b':200,'c':300,'d':400}\n",
    ")\n",
    "sd"
   ]
  },
  {
   "cell_type": "code",
   "execution_count": 95,
   "id": "3c09a748",
   "metadata": {},
   "outputs": [
    {
     "data": {
      "text/plain": [
       "w    1\n",
       "x    2\n",
       "y    3\n",
       "z    4\n",
       "dtype: int64"
      ]
     },
     "execution_count": 95,
     "metadata": {},
     "output_type": "execute_result"
    }
   ],
   "source": [
    "sdi=pd.Series([1,2,3,4],index=['w','x','y','z'])\n",
    "sdi"
   ]
  },
  {
   "cell_type": "code",
   "execution_count": 96,
   "id": "0abebb91",
   "metadata": {},
   "outputs": [
    {
     "data": {
      "text/html": [
       "<div>\n",
       "<style scoped>\n",
       "    .dataframe tbody tr th:only-of-type {\n",
       "        vertical-align: middle;\n",
       "    }\n",
       "\n",
       "    .dataframe tbody tr th {\n",
       "        vertical-align: top;\n",
       "    }\n",
       "\n",
       "    .dataframe thead th {\n",
       "        text-align: right;\n",
       "    }\n",
       "</style>\n",
       "<table border=\"1\" class=\"dataframe\">\n",
       "  <thead>\n",
       "    <tr style=\"text-align: right;\">\n",
       "      <th></th>\n",
       "      <th>name</th>\n",
       "      <th>age</th>\n",
       "      <th>place</th>\n",
       "    </tr>\n",
       "  </thead>\n",
       "  <tbody>\n",
       "    <tr>\n",
       "      <th>0</th>\n",
       "      <td>ali</td>\n",
       "      <td>28</td>\n",
       "      <td>tirur</td>\n",
       "    </tr>\n",
       "    <tr>\n",
       "      <th>1</th>\n",
       "      <td>amar</td>\n",
       "      <td>25</td>\n",
       "      <td>tirur</td>\n",
       "    </tr>\n",
       "    <tr>\n",
       "      <th>2</th>\n",
       "      <td>sinan</td>\n",
       "      <td>22</td>\n",
       "      <td>kozhikode</td>\n",
       "    </tr>\n",
       "    <tr>\n",
       "      <th>3</th>\n",
       "      <td>sara</td>\n",
       "      <td>22</td>\n",
       "      <td>tirur</td>\n",
       "    </tr>\n",
       "  </tbody>\n",
       "</table>\n",
       "</div>"
      ],
      "text/plain": [
       "    name  age      place\n",
       "0    ali   28      tirur\n",
       "1   amar   25      tirur\n",
       "2  sinan   22  kozhikode\n",
       "3   sara   22      tirur"
      ]
     },
     "execution_count": 96,
     "metadata": {},
     "output_type": "execute_result"
    }
   ],
   "source": [
    "data11={\n",
    "    'name':['ali','amar','sinan','sara'],\n",
    "    'age':np.random.randint(22,30,size=4),\n",
    "    'place':np.random.choice(['kozhikode','tirur'],size=4)\n",
    "}\n",
    "d11=pd.DataFrame(data11)\n",
    "d11"
   ]
  },
  {
   "cell_type": "code",
   "execution_count": 97,
   "id": "f3f9cafb",
   "metadata": {},
   "outputs": [
    {
     "name": "stdout",
     "output_type": "stream",
     "text": [
      "   ID Label\n",
      "0   1     A\n",
      "1   2     B\n",
      "2   3     C\n"
     ]
    }
   ],
   "source": [
    "# From 2D list\n",
    "data3 = [[1, 'A'], [2, 'B'], [3, 'C']]\n",
    "df3 = pd.DataFrame(data3, columns=['ID', 'Label'])\n",
    "print(df3)"
   ]
  },
  {
   "cell_type": "code",
   "execution_count": 98,
   "id": "93205bce",
   "metadata": {},
   "outputs": [
    {
     "name": "stdout",
     "output_type": "stream",
     "text": [
      "(3, 2)\n",
      "RangeIndex(start=0, stop=3, step=1)\n",
      "Index(['ID', 'Label'], dtype='object')\n",
      "ID        int64\n",
      "Label    object\n",
      "dtype: object\n"
     ]
    }
   ],
   "source": [
    "print(df3.shape)\n",
    "print(df3.index)\n",
    "print(df3.columns)\n",
    "print(df3.dtypes)"
   ]
  },
  {
   "cell_type": "markdown",
   "id": "90181e01",
   "metadata": {},
   "source": [
    "##### Viewing Data"
   ]
  },
  {
   "cell_type": "code",
   "execution_count": 99,
   "id": "91e8dfa1",
   "metadata": {},
   "outputs": [
    {
     "name": "stdout",
     "output_type": "stream",
     "text": [
      "head\n",
      "     name  age      place\n",
      "0    ali   28      tirur\n",
      "1   amar   25      tirur\n",
      "2  sinan   22  kozhikode\n",
      "3   sara   22      tirur\n",
      "tail\n",
      "     name  age      place\n",
      "2  sinan   22  kozhikode\n",
      "3   sara   22      tirur\n",
      "<class 'pandas.core.frame.DataFrame'>\n",
      "RangeIndex: 4 entries, 0 to 3\n",
      "Data columns (total 3 columns):\n",
      " #   Column  Non-Null Count  Dtype \n",
      "---  ------  --------------  ----- \n",
      " 0   name    4 non-null      object\n",
      " 1   age     4 non-null      int32 \n",
      " 2   place   4 non-null      object\n",
      "dtypes: int32(1), object(2)\n",
      "memory usage: 212.0+ bytes\n",
      "info\n",
      " None\n",
      "describe\n",
      "         Age        salary\n",
      "count   5.0      5.000000\n",
      "mean   27.0  30600.000000\n",
      "std     5.0   3646.916506\n",
      "min    22.0  25000.000000\n",
      "25%    22.0  30000.000000\n",
      "50%    27.0  31000.000000\n",
      "75%    32.0  32000.000000\n",
      "max    32.0  35000.000000\n"
     ]
    }
   ],
   "source": [
    "print(\"head\\n\",d11.head())\n",
    "print(\"tail\\n\",d11.tail(2))\n",
    "print(\"info\\n\",d11.info())\n",
    "print(\"describe\\n\",df.describe())"
   ]
  },
  {
   "cell_type": "code",
   "execution_count": 100,
   "id": "f3c22080",
   "metadata": {},
   "outputs": [
    {
     "data": {
      "text/html": [
       "<div>\n",
       "<style scoped>\n",
       "    .dataframe tbody tr th:only-of-type {\n",
       "        vertical-align: middle;\n",
       "    }\n",
       "\n",
       "    .dataframe tbody tr th {\n",
       "        vertical-align: top;\n",
       "    }\n",
       "\n",
       "    .dataframe thead th {\n",
       "        text-align: right;\n",
       "    }\n",
       "</style>\n",
       "<table border=\"1\" class=\"dataframe\">\n",
       "  <thead>\n",
       "    <tr style=\"text-align: right;\">\n",
       "      <th></th>\n",
       "      <th>name</th>\n",
       "      <th>age</th>\n",
       "      <th>place</th>\n",
       "      <th>salary</th>\n",
       "    </tr>\n",
       "  </thead>\n",
       "  <tbody>\n",
       "    <tr>\n",
       "      <th>0</th>\n",
       "      <td>naja</td>\n",
       "      <td>21</td>\n",
       "      <td>kozhikode</td>\n",
       "      <td>1504407</td>\n",
       "    </tr>\n",
       "    <tr>\n",
       "      <th>1</th>\n",
       "      <td>alex</td>\n",
       "      <td>26</td>\n",
       "      <td>tirur</td>\n",
       "      <td>1595059</td>\n",
       "    </tr>\n",
       "    <tr>\n",
       "      <th>2</th>\n",
       "      <td>naseef</td>\n",
       "      <td>23</td>\n",
       "      <td>tirur</td>\n",
       "      <td>1699803</td>\n",
       "    </tr>\n",
       "    <tr>\n",
       "      <th>3</th>\n",
       "      <td>husna</td>\n",
       "      <td>20</td>\n",
       "      <td>manjeri</td>\n",
       "      <td>1565082</td>\n",
       "    </tr>\n",
       "    <tr>\n",
       "      <th>4</th>\n",
       "      <td>akash</td>\n",
       "      <td>26</td>\n",
       "      <td>kozhikode</td>\n",
       "      <td>1624161</td>\n",
       "    </tr>\n",
       "    <tr>\n",
       "      <th>5</th>\n",
       "      <td>swalih</td>\n",
       "      <td>22</td>\n",
       "      <td>kozhikode</td>\n",
       "      <td>1586837</td>\n",
       "    </tr>\n",
       "    <tr>\n",
       "      <th>6</th>\n",
       "      <td>maqbool</td>\n",
       "      <td>26</td>\n",
       "      <td>manjeri</td>\n",
       "      <td>1508933</td>\n",
       "    </tr>\n",
       "    <tr>\n",
       "      <th>7</th>\n",
       "      <td>nida</td>\n",
       "      <td>23</td>\n",
       "      <td>manjeri</td>\n",
       "      <td>1583905</td>\n",
       "    </tr>\n",
       "    <tr>\n",
       "      <th>8</th>\n",
       "      <td>thafneem</td>\n",
       "      <td>26</td>\n",
       "      <td>kozhikode</td>\n",
       "      <td>1670062</td>\n",
       "    </tr>\n",
       "    <tr>\n",
       "      <th>9</th>\n",
       "      <td>karthik</td>\n",
       "      <td>20</td>\n",
       "      <td>tirur</td>\n",
       "      <td>1632474</td>\n",
       "    </tr>\n",
       "  </tbody>\n",
       "</table>\n",
       "</div>"
      ],
      "text/plain": [
       "       name  age      place   salary\n",
       "0      naja   21  kozhikode  1504407\n",
       "1      alex   26      tirur  1595059\n",
       "2    naseef   23      tirur  1699803\n",
       "3     husna   20    manjeri  1565082\n",
       "4     akash   26  kozhikode  1624161\n",
       "5    swalih   22  kozhikode  1586837\n",
       "6   maqbool   26    manjeri  1508933\n",
       "7      nida   23    manjeri  1583905\n",
       "8  thafneem   26  kozhikode  1670062\n",
       "9   karthik   20      tirur  1632474"
      ]
     },
     "execution_count": 100,
     "metadata": {},
     "output_type": "execute_result"
    }
   ],
   "source": [
    "name= ['naja','alex','naseef','husna','akash','swalih','maqbool','nida','thafneem','karthik']\n",
    "nm=pd.DataFrame({\n",
    "    'name': name,\n",
    "    'age': np.random.randint(20,27,size=10),\n",
    "    'place':np.random.choice(['kozhikode','tirur','manjeri'],size=10),\n",
    "    'salary':np.random.randint(1500000,1700000,size=10)\n",
    "}\n",
    ")\n",
    "nm"
   ]
  },
  {
   "cell_type": "markdown",
   "id": "e42914c3",
   "metadata": {},
   "source": [
    "##### Slicing"
   ]
  },
  {
   "cell_type": "code",
   "execution_count": 101,
   "id": "1562b2a3",
   "metadata": {},
   "outputs": [
    {
     "data": {
      "text/html": [
       "<div>\n",
       "<style scoped>\n",
       "    .dataframe tbody tr th:only-of-type {\n",
       "        vertical-align: middle;\n",
       "    }\n",
       "\n",
       "    .dataframe tbody tr th {\n",
       "        vertical-align: top;\n",
       "    }\n",
       "\n",
       "    .dataframe thead th {\n",
       "        text-align: right;\n",
       "    }\n",
       "</style>\n",
       "<table border=\"1\" class=\"dataframe\">\n",
       "  <thead>\n",
       "    <tr style=\"text-align: right;\">\n",
       "      <th></th>\n",
       "      <th>name</th>\n",
       "      <th>age</th>\n",
       "      <th>place</th>\n",
       "      <th>salary</th>\n",
       "    </tr>\n",
       "  </thead>\n",
       "  <tbody>\n",
       "    <tr>\n",
       "      <th>0</th>\n",
       "      <td>naja</td>\n",
       "      <td>21</td>\n",
       "      <td>kozhikode</td>\n",
       "      <td>1504407</td>\n",
       "    </tr>\n",
       "    <tr>\n",
       "      <th>1</th>\n",
       "      <td>alex</td>\n",
       "      <td>26</td>\n",
       "      <td>tirur</td>\n",
       "      <td>1595059</td>\n",
       "    </tr>\n",
       "    <tr>\n",
       "      <th>2</th>\n",
       "      <td>naseef</td>\n",
       "      <td>23</td>\n",
       "      <td>tirur</td>\n",
       "      <td>1699803</td>\n",
       "    </tr>\n",
       "  </tbody>\n",
       "</table>\n",
       "</div>"
      ],
      "text/plain": [
       "     name  age      place   salary\n",
       "0    naja   21  kozhikode  1504407\n",
       "1    alex   26      tirur  1595059\n",
       "2  naseef   23      tirur  1699803"
      ]
     },
     "execution_count": 101,
     "metadata": {},
     "output_type": "execute_result"
    }
   ],
   "source": [
    "nm[0:3]"
   ]
  },
  {
   "cell_type": "code",
   "execution_count": 102,
   "id": "b798d896",
   "metadata": {},
   "outputs": [
    {
     "data": {
      "text/html": [
       "<div>\n",
       "<style scoped>\n",
       "    .dataframe tbody tr th:only-of-type {\n",
       "        vertical-align: middle;\n",
       "    }\n",
       "\n",
       "    .dataframe tbody tr th {\n",
       "        vertical-align: top;\n",
       "    }\n",
       "\n",
       "    .dataframe thead th {\n",
       "        text-align: right;\n",
       "    }\n",
       "</style>\n",
       "<table border=\"1\" class=\"dataframe\">\n",
       "  <thead>\n",
       "    <tr style=\"text-align: right;\">\n",
       "      <th></th>\n",
       "      <th>name</th>\n",
       "      <th>age</th>\n",
       "      <th>place</th>\n",
       "      <th>salary</th>\n",
       "    </tr>\n",
       "  </thead>\n",
       "  <tbody>\n",
       "    <tr>\n",
       "      <th>5</th>\n",
       "      <td>swalih</td>\n",
       "      <td>22</td>\n",
       "      <td>kozhikode</td>\n",
       "      <td>1586837</td>\n",
       "    </tr>\n",
       "    <tr>\n",
       "      <th>6</th>\n",
       "      <td>maqbool</td>\n",
       "      <td>26</td>\n",
       "      <td>manjeri</td>\n",
       "      <td>1508933</td>\n",
       "    </tr>\n",
       "  </tbody>\n",
       "</table>\n",
       "</div>"
      ],
      "text/plain": [
       "      name  age      place   salary\n",
       "5   swalih   22  kozhikode  1586837\n",
       "6  maqbool   26    manjeri  1508933"
      ]
     },
     "execution_count": 102,
     "metadata": {},
     "output_type": "execute_result"
    }
   ],
   "source": [
    "nm[5:7]"
   ]
  },
  {
   "cell_type": "code",
   "execution_count": 103,
   "id": "58c6fce6",
   "metadata": {},
   "outputs": [
    {
     "data": {
      "text/html": [
       "<div>\n",
       "<style scoped>\n",
       "    .dataframe tbody tr th:only-of-type {\n",
       "        vertical-align: middle;\n",
       "    }\n",
       "\n",
       "    .dataframe tbody tr th {\n",
       "        vertical-align: top;\n",
       "    }\n",
       "\n",
       "    .dataframe thead th {\n",
       "        text-align: right;\n",
       "    }\n",
       "</style>\n",
       "<table border=\"1\" class=\"dataframe\">\n",
       "  <thead>\n",
       "    <tr style=\"text-align: right;\">\n",
       "      <th></th>\n",
       "      <th>name</th>\n",
       "      <th>age</th>\n",
       "      <th>place</th>\n",
       "      <th>salary</th>\n",
       "    </tr>\n",
       "  </thead>\n",
       "  <tbody>\n",
       "    <tr>\n",
       "      <th>3</th>\n",
       "      <td>husna</td>\n",
       "      <td>20</td>\n",
       "      <td>manjeri</td>\n",
       "      <td>1565082</td>\n",
       "    </tr>\n",
       "    <tr>\n",
       "      <th>4</th>\n",
       "      <td>akash</td>\n",
       "      <td>26</td>\n",
       "      <td>kozhikode</td>\n",
       "      <td>1624161</td>\n",
       "    </tr>\n",
       "    <tr>\n",
       "      <th>5</th>\n",
       "      <td>swalih</td>\n",
       "      <td>22</td>\n",
       "      <td>kozhikode</td>\n",
       "      <td>1586837</td>\n",
       "    </tr>\n",
       "    <tr>\n",
       "      <th>6</th>\n",
       "      <td>maqbool</td>\n",
       "      <td>26</td>\n",
       "      <td>manjeri</td>\n",
       "      <td>1508933</td>\n",
       "    </tr>\n",
       "    <tr>\n",
       "      <th>7</th>\n",
       "      <td>nida</td>\n",
       "      <td>23</td>\n",
       "      <td>manjeri</td>\n",
       "      <td>1583905</td>\n",
       "    </tr>\n",
       "  </tbody>\n",
       "</table>\n",
       "</div>"
      ],
      "text/plain": [
       "      name  age      place   salary\n",
       "3    husna   20    manjeri  1565082\n",
       "4    akash   26  kozhikode  1624161\n",
       "5   swalih   22  kozhikode  1586837\n",
       "6  maqbool   26    manjeri  1508933\n",
       "7     nida   23    manjeri  1583905"
      ]
     },
     "execution_count": 103,
     "metadata": {},
     "output_type": "execute_result"
    }
   ],
   "source": [
    "nm[3:8]"
   ]
  },
  {
   "cell_type": "markdown",
   "id": "03abe789",
   "metadata": {},
   "source": [
    "##### .loc[row_labels, column_labels]"
   ]
  },
  {
   "cell_type": "code",
   "execution_count": 104,
   "id": "179d8f18",
   "metadata": {},
   "outputs": [
    {
     "name": "stdout",
     "output_type": "stream",
     "text": [
      "name        husna\n",
      "age            20\n",
      "place     manjeri\n",
      "salary    1565082\n",
      "Name: 3, dtype: object\n"
     ]
    }
   ],
   "source": [
    "print(nm.loc[3])"
   ]
  },
  {
   "cell_type": "code",
   "execution_count": 105,
   "id": "b88c884e",
   "metadata": {},
   "outputs": [
    {
     "data": {
      "text/plain": [
       "'swalih'"
      ]
     },
     "execution_count": 105,
     "metadata": {},
     "output_type": "execute_result"
    }
   ],
   "source": [
    "nm.loc[5,'name']"
   ]
  },
  {
   "cell_type": "code",
   "execution_count": 106,
   "id": "d181982d",
   "metadata": {},
   "outputs": [
    {
     "data": {
      "text/html": [
       "<div>\n",
       "<style scoped>\n",
       "    .dataframe tbody tr th:only-of-type {\n",
       "        vertical-align: middle;\n",
       "    }\n",
       "\n",
       "    .dataframe tbody tr th {\n",
       "        vertical-align: top;\n",
       "    }\n",
       "\n",
       "    .dataframe thead th {\n",
       "        text-align: right;\n",
       "    }\n",
       "</style>\n",
       "<table border=\"1\" class=\"dataframe\">\n",
       "  <thead>\n",
       "    <tr style=\"text-align: right;\">\n",
       "      <th></th>\n",
       "      <th>name</th>\n",
       "      <th>age</th>\n",
       "    </tr>\n",
       "  </thead>\n",
       "  <tbody>\n",
       "    <tr>\n",
       "      <th>3</th>\n",
       "      <td>husna</td>\n",
       "      <td>20</td>\n",
       "    </tr>\n",
       "    <tr>\n",
       "      <th>6</th>\n",
       "      <td>maqbool</td>\n",
       "      <td>26</td>\n",
       "    </tr>\n",
       "    <tr>\n",
       "      <th>4</th>\n",
       "      <td>akash</td>\n",
       "      <td>26</td>\n",
       "    </tr>\n",
       "    <tr>\n",
       "      <th>8</th>\n",
       "      <td>thafneem</td>\n",
       "      <td>26</td>\n",
       "    </tr>\n",
       "  </tbody>\n",
       "</table>\n",
       "</div>"
      ],
      "text/plain": [
       "       name  age\n",
       "3     husna   20\n",
       "6   maqbool   26\n",
       "4     akash   26\n",
       "8  thafneem   26"
      ]
     },
     "execution_count": 106,
     "metadata": {},
     "output_type": "execute_result"
    }
   ],
   "source": [
    "nm.loc[[3,6,4,8],['name','age']]"
   ]
  },
  {
   "cell_type": "code",
   "execution_count": 107,
   "id": "f985749c",
   "metadata": {},
   "outputs": [
    {
     "data": {
      "text/plain": [
       "np.int32(23)"
      ]
     },
     "execution_count": 107,
     "metadata": {},
     "output_type": "execute_result"
    }
   ],
   "source": [
    "nm.loc[2,'age']"
   ]
  },
  {
   "cell_type": "code",
   "execution_count": 108,
   "id": "6212623b",
   "metadata": {},
   "outputs": [
    {
     "data": {
      "text/html": [
       "<div>\n",
       "<style scoped>\n",
       "    .dataframe tbody tr th:only-of-type {\n",
       "        vertical-align: middle;\n",
       "    }\n",
       "\n",
       "    .dataframe tbody tr th {\n",
       "        vertical-align: top;\n",
       "    }\n",
       "\n",
       "    .dataframe thead th {\n",
       "        text-align: right;\n",
       "    }\n",
       "</style>\n",
       "<table border=\"1\" class=\"dataframe\">\n",
       "  <thead>\n",
       "    <tr style=\"text-align: right;\">\n",
       "      <th></th>\n",
       "      <th>name</th>\n",
       "      <th>age</th>\n",
       "      <th>place</th>\n",
       "      <th>salary</th>\n",
       "    </tr>\n",
       "  </thead>\n",
       "  <tbody>\n",
       "    <tr>\n",
       "      <th>2</th>\n",
       "      <td>naseef</td>\n",
       "      <td>23</td>\n",
       "      <td>tirur</td>\n",
       "      <td>1699803</td>\n",
       "    </tr>\n",
       "    <tr>\n",
       "      <th>8</th>\n",
       "      <td>thafneem</td>\n",
       "      <td>26</td>\n",
       "      <td>kozhikode</td>\n",
       "      <td>1670062</td>\n",
       "    </tr>\n",
       "    <tr>\n",
       "      <th>4</th>\n",
       "      <td>akash</td>\n",
       "      <td>26</td>\n",
       "      <td>kozhikode</td>\n",
       "      <td>1624161</td>\n",
       "    </tr>\n",
       "    <tr>\n",
       "      <th>1</th>\n",
       "      <td>alex</td>\n",
       "      <td>26</td>\n",
       "      <td>tirur</td>\n",
       "      <td>1595059</td>\n",
       "    </tr>\n",
       "  </tbody>\n",
       "</table>\n",
       "</div>"
      ],
      "text/plain": [
       "       name  age      place   salary\n",
       "2    naseef   23      tirur  1699803\n",
       "8  thafneem   26  kozhikode  1670062\n",
       "4     akash   26  kozhikode  1624161\n",
       "1      alex   26      tirur  1595059"
      ]
     },
     "execution_count": 108,
     "metadata": {},
     "output_type": "execute_result"
    }
   ],
   "source": [
    "nm.loc[[2,8,4,1]]"
   ]
  },
  {
   "cell_type": "markdown",
   "id": "045e1955",
   "metadata": {},
   "source": [
    "##### .iloc[row_positions, column_positions]"
   ]
  },
  {
   "cell_type": "code",
   "execution_count": 109,
   "id": "767620f5",
   "metadata": {},
   "outputs": [
    {
     "data": {
      "text/html": [
       "<div>\n",
       "<style scoped>\n",
       "    .dataframe tbody tr th:only-of-type {\n",
       "        vertical-align: middle;\n",
       "    }\n",
       "\n",
       "    .dataframe tbody tr th {\n",
       "        vertical-align: top;\n",
       "    }\n",
       "\n",
       "    .dataframe thead th {\n",
       "        text-align: right;\n",
       "    }\n",
       "</style>\n",
       "<table border=\"1\" class=\"dataframe\">\n",
       "  <thead>\n",
       "    <tr style=\"text-align: right;\">\n",
       "      <th></th>\n",
       "      <th>place</th>\n",
       "      <th>salary</th>\n",
       "    </tr>\n",
       "  </thead>\n",
       "  <tbody>\n",
       "    <tr>\n",
       "      <th>0</th>\n",
       "      <td>kozhikode</td>\n",
       "      <td>1504407</td>\n",
       "    </tr>\n",
       "    <tr>\n",
       "      <th>1</th>\n",
       "      <td>tirur</td>\n",
       "      <td>1595059</td>\n",
       "    </tr>\n",
       "    <tr>\n",
       "      <th>2</th>\n",
       "      <td>tirur</td>\n",
       "      <td>1699803</td>\n",
       "    </tr>\n",
       "  </tbody>\n",
       "</table>\n",
       "</div>"
      ],
      "text/plain": [
       "       place   salary\n",
       "0  kozhikode  1504407\n",
       "1      tirur  1595059\n",
       "2      tirur  1699803"
      ]
     },
     "execution_count": 109,
     "metadata": {},
     "output_type": "execute_result"
    }
   ],
   "source": [
    "nm.iloc[0:3,2:]"
   ]
  },
  {
   "cell_type": "code",
   "execution_count": 110,
   "id": "a87113ad",
   "metadata": {},
   "outputs": [
    {
     "data": {
      "text/plain": [
       "'naja'"
      ]
     },
     "execution_count": 110,
     "metadata": {},
     "output_type": "execute_result"
    }
   ],
   "source": [
    "nm.iloc[0,0] #0th row and 0th column"
   ]
  },
  {
   "cell_type": "code",
   "execution_count": 111,
   "id": "0b0d8842",
   "metadata": {},
   "outputs": [
    {
     "data": {
      "text/html": [
       "<div>\n",
       "<style scoped>\n",
       "    .dataframe tbody tr th:only-of-type {\n",
       "        vertical-align: middle;\n",
       "    }\n",
       "\n",
       "    .dataframe tbody tr th {\n",
       "        vertical-align: top;\n",
       "    }\n",
       "\n",
       "    .dataframe thead th {\n",
       "        text-align: right;\n",
       "    }\n",
       "</style>\n",
       "<table border=\"1\" class=\"dataframe\">\n",
       "  <thead>\n",
       "    <tr style=\"text-align: right;\">\n",
       "      <th></th>\n",
       "      <th>name</th>\n",
       "      <th>age</th>\n",
       "      <th>place</th>\n",
       "      <th>salary</th>\n",
       "    </tr>\n",
       "  </thead>\n",
       "  <tbody>\n",
       "    <tr>\n",
       "      <th>1</th>\n",
       "      <td>alex</td>\n",
       "      <td>26</td>\n",
       "      <td>tirur</td>\n",
       "      <td>1595059</td>\n",
       "    </tr>\n",
       "    <tr>\n",
       "      <th>4</th>\n",
       "      <td>akash</td>\n",
       "      <td>26</td>\n",
       "      <td>kozhikode</td>\n",
       "      <td>1624161</td>\n",
       "    </tr>\n",
       "    <tr>\n",
       "      <th>6</th>\n",
       "      <td>maqbool</td>\n",
       "      <td>26</td>\n",
       "      <td>manjeri</td>\n",
       "      <td>1508933</td>\n",
       "    </tr>\n",
       "    <tr>\n",
       "      <th>8</th>\n",
       "      <td>thafneem</td>\n",
       "      <td>26</td>\n",
       "      <td>kozhikode</td>\n",
       "      <td>1670062</td>\n",
       "    </tr>\n",
       "  </tbody>\n",
       "</table>\n",
       "</div>"
      ],
      "text/plain": [
       "       name  age      place   salary\n",
       "1      alex   26      tirur  1595059\n",
       "4     akash   26  kozhikode  1624161\n",
       "6   maqbool   26    manjeri  1508933\n",
       "8  thafneem   26  kozhikode  1670062"
      ]
     },
     "execution_count": 111,
     "metadata": {},
     "output_type": "execute_result"
    }
   ],
   "source": [
    "nm[nm['age']>25]"
   ]
  },
  {
   "cell_type": "code",
   "execution_count": 112,
   "id": "3231affa",
   "metadata": {},
   "outputs": [
    {
     "data": {
      "text/html": [
       "<div>\n",
       "<style scoped>\n",
       "    .dataframe tbody tr th:only-of-type {\n",
       "        vertical-align: middle;\n",
       "    }\n",
       "\n",
       "    .dataframe tbody tr th {\n",
       "        vertical-align: top;\n",
       "    }\n",
       "\n",
       "    .dataframe thead th {\n",
       "        text-align: right;\n",
       "    }\n",
       "</style>\n",
       "<table border=\"1\" class=\"dataframe\">\n",
       "  <thead>\n",
       "    <tr style=\"text-align: right;\">\n",
       "      <th></th>\n",
       "      <th>name</th>\n",
       "      <th>age</th>\n",
       "      <th>place</th>\n",
       "      <th>salary</th>\n",
       "    </tr>\n",
       "  </thead>\n",
       "  <tbody>\n",
       "    <tr>\n",
       "      <th>1</th>\n",
       "      <td>alex</td>\n",
       "      <td>26</td>\n",
       "      <td>tirur</td>\n",
       "      <td>1595059</td>\n",
       "    </tr>\n",
       "  </tbody>\n",
       "</table>\n",
       "</div>"
      ],
      "text/plain": [
       "   name  age  place   salary\n",
       "1  alex   26  tirur  1595059"
      ]
     },
     "execution_count": 112,
     "metadata": {},
     "output_type": "execute_result"
    }
   ],
   "source": [
    "nm[(nm['age']>23)&(nm['place']=='tirur')]"
   ]
  },
  {
   "cell_type": "markdown",
   "id": "a67dc46c",
   "metadata": {},
   "source": [
    "###### Create a DataFrame with 6 students (name, age, marks, city).\n",
    "\n",
    "###### Select only the name and marks columns.\n",
    "\n",
    "###### Get rows where marks > 80.\n",
    "\n",
    "###### Get rows where city = \"kozhikode\" AND marks > 70.\n",
    "\n",
    "###### Select the first 3 rows and first 2 columns using .iloc."
   ]
  },
  {
   "cell_type": "code",
   "execution_count": 113,
   "id": "eaaebb2e",
   "metadata": {},
   "outputs": [
    {
     "data": {
      "text/html": [
       "<div>\n",
       "<style scoped>\n",
       "    .dataframe tbody tr th:only-of-type {\n",
       "        vertical-align: middle;\n",
       "    }\n",
       "\n",
       "    .dataframe tbody tr th {\n",
       "        vertical-align: top;\n",
       "    }\n",
       "\n",
       "    .dataframe thead th {\n",
       "        text-align: right;\n",
       "    }\n",
       "</style>\n",
       "<table border=\"1\" class=\"dataframe\">\n",
       "  <thead>\n",
       "    <tr style=\"text-align: right;\">\n",
       "      <th></th>\n",
       "      <th>name</th>\n",
       "      <th>age</th>\n",
       "      <th>marks</th>\n",
       "      <th>city</th>\n",
       "    </tr>\n",
       "  </thead>\n",
       "  <tbody>\n",
       "    <tr>\n",
       "      <th>0</th>\n",
       "      <td>swalih</td>\n",
       "      <td>23</td>\n",
       "      <td>23</td>\n",
       "      <td>calicut</td>\n",
       "    </tr>\n",
       "    <tr>\n",
       "      <th>1</th>\n",
       "      <td>swalih</td>\n",
       "      <td>25</td>\n",
       "      <td>20</td>\n",
       "      <td>kochi</td>\n",
       "    </tr>\n",
       "    <tr>\n",
       "      <th>2</th>\n",
       "      <td>swalih</td>\n",
       "      <td>20</td>\n",
       "      <td>30</td>\n",
       "      <td>calicut</td>\n",
       "    </tr>\n",
       "    <tr>\n",
       "      <th>3</th>\n",
       "      <td>naja</td>\n",
       "      <td>20</td>\n",
       "      <td>36</td>\n",
       "      <td>tirur</td>\n",
       "    </tr>\n",
       "    <tr>\n",
       "      <th>4</th>\n",
       "      <td>karthik</td>\n",
       "      <td>23</td>\n",
       "      <td>22</td>\n",
       "      <td>kochi</td>\n",
       "    </tr>\n",
       "    <tr>\n",
       "      <th>5</th>\n",
       "      <td>alex</td>\n",
       "      <td>26</td>\n",
       "      <td>32</td>\n",
       "      <td>calicut</td>\n",
       "    </tr>\n",
       "  </tbody>\n",
       "</table>\n",
       "</div>"
      ],
      "text/plain": [
       "      name  age  marks     city\n",
       "0   swalih   23     23  calicut\n",
       "1   swalih   25     20    kochi\n",
       "2   swalih   20     30  calicut\n",
       "3     naja   20     36    tirur\n",
       "4  karthik   23     22    kochi\n",
       "5     alex   26     32  calicut"
      ]
     },
     "execution_count": 113,
     "metadata": {},
     "output_type": "execute_result"
    }
   ],
   "source": [
    "pr=pd.DataFrame({\n",
    "    'name':np.random.choice(name,size=6),\n",
    "    'age':np.random.randint(20,29,size=6),\n",
    "    'marks':np.random.randint(20,50,size=6),\n",
    "    'city':np.random.choice(['calicut','kochi','tirur'],size=6)    \n",
    "})\n",
    "pr"
   ]
  },
  {
   "cell_type": "code",
   "execution_count": 114,
   "id": "ae0b3cfd",
   "metadata": {},
   "outputs": [
    {
     "data": {
      "text/html": [
       "<div>\n",
       "<style scoped>\n",
       "    .dataframe tbody tr th:only-of-type {\n",
       "        vertical-align: middle;\n",
       "    }\n",
       "\n",
       "    .dataframe tbody tr th {\n",
       "        vertical-align: top;\n",
       "    }\n",
       "\n",
       "    .dataframe thead th {\n",
       "        text-align: right;\n",
       "    }\n",
       "</style>\n",
       "<table border=\"1\" class=\"dataframe\">\n",
       "  <thead>\n",
       "    <tr style=\"text-align: right;\">\n",
       "      <th></th>\n",
       "      <th>name</th>\n",
       "      <th>marks</th>\n",
       "    </tr>\n",
       "  </thead>\n",
       "  <tbody>\n",
       "    <tr>\n",
       "      <th>0</th>\n",
       "      <td>swalih</td>\n",
       "      <td>23</td>\n",
       "    </tr>\n",
       "    <tr>\n",
       "      <th>1</th>\n",
       "      <td>swalih</td>\n",
       "      <td>20</td>\n",
       "    </tr>\n",
       "    <tr>\n",
       "      <th>2</th>\n",
       "      <td>swalih</td>\n",
       "      <td>30</td>\n",
       "    </tr>\n",
       "    <tr>\n",
       "      <th>3</th>\n",
       "      <td>naja</td>\n",
       "      <td>36</td>\n",
       "    </tr>\n",
       "    <tr>\n",
       "      <th>4</th>\n",
       "      <td>karthik</td>\n",
       "      <td>22</td>\n",
       "    </tr>\n",
       "    <tr>\n",
       "      <th>5</th>\n",
       "      <td>alex</td>\n",
       "      <td>32</td>\n",
       "    </tr>\n",
       "  </tbody>\n",
       "</table>\n",
       "</div>"
      ],
      "text/plain": [
       "      name  marks\n",
       "0   swalih     23\n",
       "1   swalih     20\n",
       "2   swalih     30\n",
       "3     naja     36\n",
       "4  karthik     22\n",
       "5     alex     32"
      ]
     },
     "execution_count": 114,
     "metadata": {},
     "output_type": "execute_result"
    }
   ],
   "source": [
    "pr.loc[0:,['name','marks']]"
   ]
  },
  {
   "cell_type": "code",
   "execution_count": 115,
   "id": "f486e8b7",
   "metadata": {},
   "outputs": [
    {
     "data": {
      "text/html": [
       "<div>\n",
       "<style scoped>\n",
       "    .dataframe tbody tr th:only-of-type {\n",
       "        vertical-align: middle;\n",
       "    }\n",
       "\n",
       "    .dataframe tbody tr th {\n",
       "        vertical-align: top;\n",
       "    }\n",
       "\n",
       "    .dataframe thead th {\n",
       "        text-align: right;\n",
       "    }\n",
       "</style>\n",
       "<table border=\"1\" class=\"dataframe\">\n",
       "  <thead>\n",
       "    <tr style=\"text-align: right;\">\n",
       "      <th></th>\n",
       "      <th>name</th>\n",
       "      <th>age</th>\n",
       "      <th>marks</th>\n",
       "      <th>city</th>\n",
       "    </tr>\n",
       "  </thead>\n",
       "  <tbody>\n",
       "    <tr>\n",
       "      <th>3</th>\n",
       "      <td>naja</td>\n",
       "      <td>20</td>\n",
       "      <td>36</td>\n",
       "      <td>tirur</td>\n",
       "    </tr>\n",
       "    <tr>\n",
       "      <th>5</th>\n",
       "      <td>alex</td>\n",
       "      <td>26</td>\n",
       "      <td>32</td>\n",
       "      <td>calicut</td>\n",
       "    </tr>\n",
       "  </tbody>\n",
       "</table>\n",
       "</div>"
      ],
      "text/plain": [
       "   name  age  marks     city\n",
       "3  naja   20     36    tirur\n",
       "5  alex   26     32  calicut"
      ]
     },
     "execution_count": 115,
     "metadata": {},
     "output_type": "execute_result"
    }
   ],
   "source": [
    "pr[pr['marks']>30]"
   ]
  },
  {
   "cell_type": "code",
   "execution_count": 116,
   "id": "97c1d92e",
   "metadata": {},
   "outputs": [
    {
     "data": {
      "text/html": [
       "<div>\n",
       "<style scoped>\n",
       "    .dataframe tbody tr th:only-of-type {\n",
       "        vertical-align: middle;\n",
       "    }\n",
       "\n",
       "    .dataframe tbody tr th {\n",
       "        vertical-align: top;\n",
       "    }\n",
       "\n",
       "    .dataframe thead th {\n",
       "        text-align: right;\n",
       "    }\n",
       "</style>\n",
       "<table border=\"1\" class=\"dataframe\">\n",
       "  <thead>\n",
       "    <tr style=\"text-align: right;\">\n",
       "      <th></th>\n",
       "      <th>name</th>\n",
       "      <th>age</th>\n",
       "      <th>marks</th>\n",
       "      <th>city</th>\n",
       "    </tr>\n",
       "  </thead>\n",
       "  <tbody>\n",
       "    <tr>\n",
       "      <th>2</th>\n",
       "      <td>swalih</td>\n",
       "      <td>20</td>\n",
       "      <td>30</td>\n",
       "      <td>calicut</td>\n",
       "    </tr>\n",
       "    <tr>\n",
       "      <th>5</th>\n",
       "      <td>alex</td>\n",
       "      <td>26</td>\n",
       "      <td>32</td>\n",
       "      <td>calicut</td>\n",
       "    </tr>\n",
       "  </tbody>\n",
       "</table>\n",
       "</div>"
      ],
      "text/plain": [
       "     name  age  marks     city\n",
       "2  swalih   20     30  calicut\n",
       "5    alex   26     32  calicut"
      ]
     },
     "execution_count": 116,
     "metadata": {},
     "output_type": "execute_result"
    }
   ],
   "source": [
    "pr[(pr['city']=='calicut') & (pr['marks']>28)]"
   ]
  },
  {
   "cell_type": "code",
   "execution_count": 117,
   "id": "9939b805",
   "metadata": {},
   "outputs": [
    {
     "data": {
      "text/html": [
       "<div>\n",
       "<style scoped>\n",
       "    .dataframe tbody tr th:only-of-type {\n",
       "        vertical-align: middle;\n",
       "    }\n",
       "\n",
       "    .dataframe tbody tr th {\n",
       "        vertical-align: top;\n",
       "    }\n",
       "\n",
       "    .dataframe thead th {\n",
       "        text-align: right;\n",
       "    }\n",
       "</style>\n",
       "<table border=\"1\" class=\"dataframe\">\n",
       "  <thead>\n",
       "    <tr style=\"text-align: right;\">\n",
       "      <th></th>\n",
       "      <th>name</th>\n",
       "      <th>age</th>\n",
       "    </tr>\n",
       "  </thead>\n",
       "  <tbody>\n",
       "    <tr>\n",
       "      <th>0</th>\n",
       "      <td>swalih</td>\n",
       "      <td>23</td>\n",
       "    </tr>\n",
       "    <tr>\n",
       "      <th>1</th>\n",
       "      <td>swalih</td>\n",
       "      <td>25</td>\n",
       "    </tr>\n",
       "    <tr>\n",
       "      <th>2</th>\n",
       "      <td>swalih</td>\n",
       "      <td>20</td>\n",
       "    </tr>\n",
       "  </tbody>\n",
       "</table>\n",
       "</div>"
      ],
      "text/plain": [
       "     name  age\n",
       "0  swalih   23\n",
       "1  swalih   25\n",
       "2  swalih   20"
      ]
     },
     "execution_count": 117,
     "metadata": {},
     "output_type": "execute_result"
    }
   ],
   "source": [
    "pr.iloc[0:3,0:2]"
   ]
  },
  {
   "cell_type": "code",
   "execution_count": 118,
   "id": "c9b22247",
   "metadata": {},
   "outputs": [
    {
     "data": {
      "text/html": [
       "<div>\n",
       "<style scoped>\n",
       "    .dataframe tbody tr th:only-of-type {\n",
       "        vertical-align: middle;\n",
       "    }\n",
       "\n",
       "    .dataframe tbody tr th {\n",
       "        vertical-align: top;\n",
       "    }\n",
       "\n",
       "    .dataframe thead th {\n",
       "        text-align: right;\n",
       "    }\n",
       "</style>\n",
       "<table border=\"1\" class=\"dataframe\">\n",
       "  <thead>\n",
       "    <tr style=\"text-align: right;\">\n",
       "      <th></th>\n",
       "      <th>name</th>\n",
       "      <th>age</th>\n",
       "      <th>city</th>\n",
       "      <th>score</th>\n",
       "    </tr>\n",
       "  </thead>\n",
       "  <tbody>\n",
       "    <tr>\n",
       "      <th>0</th>\n",
       "      <td>akash</td>\n",
       "      <td>24</td>\n",
       "      <td>calicut</td>\n",
       "      <td>18.0</td>\n",
       "    </tr>\n",
       "    <tr>\n",
       "      <th>1</th>\n",
       "      <td>maqbool</td>\n",
       "      <td>32</td>\n",
       "      <td>calicut</td>\n",
       "      <td>NaN</td>\n",
       "    </tr>\n",
       "    <tr>\n",
       "      <th>2</th>\n",
       "      <td>nida</td>\n",
       "      <td>NaN</td>\n",
       "      <td>calicut</td>\n",
       "      <td>30.0</td>\n",
       "    </tr>\n",
       "    <tr>\n",
       "      <th>3</th>\n",
       "      <td>alex</td>\n",
       "      <td>twenty two</td>\n",
       "      <td>calicut</td>\n",
       "      <td>40.0</td>\n",
       "    </tr>\n",
       "    <tr>\n",
       "      <th>4</th>\n",
       "      <td>husna</td>\n",
       "      <td>21</td>\n",
       "      <td>palakad</td>\n",
       "      <td>50.0</td>\n",
       "    </tr>\n",
       "    <tr>\n",
       "      <th>5</th>\n",
       "      <td>akash</td>\n",
       "      <td>22</td>\n",
       "      <td>palakad</td>\n",
       "      <td>43.0</td>\n",
       "    </tr>\n",
       "    <tr>\n",
       "      <th>6</th>\n",
       "      <td>nida</td>\n",
       "      <td>NaN</td>\n",
       "      <td>calicut</td>\n",
       "      <td>NaN</td>\n",
       "    </tr>\n",
       "    <tr>\n",
       "      <th>7</th>\n",
       "      <td>nida</td>\n",
       "      <td>27</td>\n",
       "      <td>calicut</td>\n",
       "      <td>25.0</td>\n",
       "    </tr>\n",
       "    <tr>\n",
       "      <th>8</th>\n",
       "      <td>naseef</td>\n",
       "      <td>28</td>\n",
       "      <td>palakad</td>\n",
       "      <td>44.0</td>\n",
       "    </tr>\n",
       "    <tr>\n",
       "      <th>9</th>\n",
       "      <td>alex</td>\n",
       "      <td>20</td>\n",
       "      <td>palakad</td>\n",
       "      <td>36.0</td>\n",
       "    </tr>\n",
       "  </tbody>\n",
       "</table>\n",
       "</div>"
      ],
      "text/plain": [
       "      name         age     city  score\n",
       "0    akash          24  calicut   18.0\n",
       "1  maqbool          32  calicut    NaN\n",
       "2     nida         NaN  calicut   30.0\n",
       "3     alex  twenty two  calicut   40.0\n",
       "4    husna          21  palakad   50.0\n",
       "5    akash          22  palakad   43.0\n",
       "6     nida         NaN  calicut    NaN\n",
       "7     nida          27  calicut   25.0\n",
       "8   naseef          28  palakad   44.0\n",
       "9     alex          20  palakad   36.0"
      ]
     },
     "execution_count": 118,
     "metadata": {},
     "output_type": "execute_result"
    }
   ],
   "source": [
    "data={\n",
    "    'name':np.random.choice(name, size=10),\n",
    "    'age':[24,32,np.nan,'twenty two',21,22,np.nan,27,28,20],\n",
    "    'city':np.random.choice(['calicut','tirur','kochi','palakad'],size=10),\n",
    "    'score':[18,np.nan,30,40,50,43,np.nan,25,44,36]\n",
    "}\n",
    "df=pd.DataFrame(data)\n",
    "df"
   ]
  },
  {
   "cell_type": "code",
   "execution_count": 119,
   "id": "976c4597",
   "metadata": {},
   "outputs": [
    {
     "data": {
      "text/html": [
       "<div>\n",
       "<style scoped>\n",
       "    .dataframe tbody tr th:only-of-type {\n",
       "        vertical-align: middle;\n",
       "    }\n",
       "\n",
       "    .dataframe tbody tr th {\n",
       "        vertical-align: top;\n",
       "    }\n",
       "\n",
       "    .dataframe thead th {\n",
       "        text-align: right;\n",
       "    }\n",
       "</style>\n",
       "<table border=\"1\" class=\"dataframe\">\n",
       "  <thead>\n",
       "    <tr style=\"text-align: right;\">\n",
       "      <th></th>\n",
       "      <th>name</th>\n",
       "      <th>age</th>\n",
       "      <th>city</th>\n",
       "      <th>score</th>\n",
       "    </tr>\n",
       "  </thead>\n",
       "  <tbody>\n",
       "    <tr>\n",
       "      <th>0</th>\n",
       "      <td>False</td>\n",
       "      <td>False</td>\n",
       "      <td>False</td>\n",
       "      <td>False</td>\n",
       "    </tr>\n",
       "    <tr>\n",
       "      <th>1</th>\n",
       "      <td>False</td>\n",
       "      <td>False</td>\n",
       "      <td>False</td>\n",
       "      <td>True</td>\n",
       "    </tr>\n",
       "    <tr>\n",
       "      <th>2</th>\n",
       "      <td>False</td>\n",
       "      <td>True</td>\n",
       "      <td>False</td>\n",
       "      <td>False</td>\n",
       "    </tr>\n",
       "    <tr>\n",
       "      <th>3</th>\n",
       "      <td>False</td>\n",
       "      <td>False</td>\n",
       "      <td>False</td>\n",
       "      <td>False</td>\n",
       "    </tr>\n",
       "    <tr>\n",
       "      <th>4</th>\n",
       "      <td>False</td>\n",
       "      <td>False</td>\n",
       "      <td>False</td>\n",
       "      <td>False</td>\n",
       "    </tr>\n",
       "    <tr>\n",
       "      <th>5</th>\n",
       "      <td>False</td>\n",
       "      <td>False</td>\n",
       "      <td>False</td>\n",
       "      <td>False</td>\n",
       "    </tr>\n",
       "    <tr>\n",
       "      <th>6</th>\n",
       "      <td>False</td>\n",
       "      <td>True</td>\n",
       "      <td>False</td>\n",
       "      <td>True</td>\n",
       "    </tr>\n",
       "    <tr>\n",
       "      <th>7</th>\n",
       "      <td>False</td>\n",
       "      <td>False</td>\n",
       "      <td>False</td>\n",
       "      <td>False</td>\n",
       "    </tr>\n",
       "    <tr>\n",
       "      <th>8</th>\n",
       "      <td>False</td>\n",
       "      <td>False</td>\n",
       "      <td>False</td>\n",
       "      <td>False</td>\n",
       "    </tr>\n",
       "    <tr>\n",
       "      <th>9</th>\n",
       "      <td>False</td>\n",
       "      <td>False</td>\n",
       "      <td>False</td>\n",
       "      <td>False</td>\n",
       "    </tr>\n",
       "  </tbody>\n",
       "</table>\n",
       "</div>"
      ],
      "text/plain": [
       "    name    age   city  score\n",
       "0  False  False  False  False\n",
       "1  False  False  False   True\n",
       "2  False   True  False  False\n",
       "3  False  False  False  False\n",
       "4  False  False  False  False\n",
       "5  False  False  False  False\n",
       "6  False   True  False   True\n",
       "7  False  False  False  False\n",
       "8  False  False  False  False\n",
       "9  False  False  False  False"
      ]
     },
     "execution_count": 119,
     "metadata": {},
     "output_type": "execute_result"
    }
   ],
   "source": [
    "df.isnull()"
   ]
  },
  {
   "cell_type": "code",
   "execution_count": 120,
   "id": "c9c8c35f",
   "metadata": {},
   "outputs": [
    {
     "data": {
      "text/plain": [
       "name     0\n",
       "age      2\n",
       "city     0\n",
       "score    2\n",
       "dtype: int64"
      ]
     },
     "execution_count": 120,
     "metadata": {},
     "output_type": "execute_result"
    }
   ],
   "source": [
    "df.isnull().sum()"
   ]
  },
  {
   "cell_type": "code",
   "execution_count": 121,
   "id": "51be1175",
   "metadata": {},
   "outputs": [
    {
     "data": {
      "text/plain": [
       "np.True_"
      ]
     },
     "execution_count": 121,
     "metadata": {},
     "output_type": "execute_result"
    }
   ],
   "source": [
    "df.isnull().values.any()"
   ]
  },
  {
   "cell_type": "code",
   "execution_count": 122,
   "id": "7dbbc61a",
   "metadata": {},
   "outputs": [
    {
     "data": {
      "text/html": [
       "<div>\n",
       "<style scoped>\n",
       "    .dataframe tbody tr th:only-of-type {\n",
       "        vertical-align: middle;\n",
       "    }\n",
       "\n",
       "    .dataframe tbody tr th {\n",
       "        vertical-align: top;\n",
       "    }\n",
       "\n",
       "    .dataframe thead th {\n",
       "        text-align: right;\n",
       "    }\n",
       "</style>\n",
       "<table border=\"1\" class=\"dataframe\">\n",
       "  <thead>\n",
       "    <tr style=\"text-align: right;\">\n",
       "      <th></th>\n",
       "      <th>name</th>\n",
       "      <th>age</th>\n",
       "      <th>city</th>\n",
       "    </tr>\n",
       "  </thead>\n",
       "  <tbody>\n",
       "    <tr>\n",
       "      <th>3</th>\n",
       "      <td>alex</td>\n",
       "      <td>NaN</td>\n",
       "      <td>calicut</td>\n",
       "    </tr>\n",
       "  </tbody>\n",
       "</table>\n",
       "</div>"
      ],
      "text/plain": [
       "   name  age     city\n",
       "3  alex  NaN  calicut"
      ]
     },
     "execution_count": 122,
     "metadata": {},
     "output_type": "execute_result"
    }
   ],
   "source": [
    "df['age']=pd.to_numeric(df['age'],errors='coerce')\n",
    "df.iloc[3:4,0:3]"
   ]
  },
  {
   "cell_type": "code",
   "execution_count": 123,
   "id": "75775e66",
   "metadata": {},
   "outputs": [
    {
     "name": "stderr",
     "output_type": "stream",
     "text": [
      "C:\\Users\\Admin\\AppData\\Local\\Temp\\ipykernel_21376\\2332234661.py:1: FutureWarning: A value is trying to be set on a copy of a DataFrame or Series through chained assignment using an inplace method.\n",
      "The behavior will change in pandas 3.0. This inplace method will never work because the intermediate object on which we are setting values always behaves as a copy.\n",
      "\n",
      "For example, when doing 'df[col].method(value, inplace=True)', try using 'df.method({col: value}, inplace=True)' or df[col] = df[col].method(value) instead, to perform the operation inplace on the original object.\n",
      "\n",
      "\n",
      "  df['age'].fillna(df['age'].mean(), inplace=True)\n"
     ]
    },
    {
     "data": {
      "text/html": [
       "<div>\n",
       "<style scoped>\n",
       "    .dataframe tbody tr th:only-of-type {\n",
       "        vertical-align: middle;\n",
       "    }\n",
       "\n",
       "    .dataframe tbody tr th {\n",
       "        vertical-align: top;\n",
       "    }\n",
       "\n",
       "    .dataframe thead th {\n",
       "        text-align: right;\n",
       "    }\n",
       "</style>\n",
       "<table border=\"1\" class=\"dataframe\">\n",
       "  <thead>\n",
       "    <tr style=\"text-align: right;\">\n",
       "      <th></th>\n",
       "      <th>name</th>\n",
       "      <th>age</th>\n",
       "      <th>city</th>\n",
       "      <th>score</th>\n",
       "    </tr>\n",
       "  </thead>\n",
       "  <tbody>\n",
       "    <tr>\n",
       "      <th>0</th>\n",
       "      <td>akash</td>\n",
       "      <td>24.000000</td>\n",
       "      <td>calicut</td>\n",
       "      <td>18.0</td>\n",
       "    </tr>\n",
       "    <tr>\n",
       "      <th>1</th>\n",
       "      <td>maqbool</td>\n",
       "      <td>32.000000</td>\n",
       "      <td>calicut</td>\n",
       "      <td>NaN</td>\n",
       "    </tr>\n",
       "    <tr>\n",
       "      <th>2</th>\n",
       "      <td>nida</td>\n",
       "      <td>24.857143</td>\n",
       "      <td>calicut</td>\n",
       "      <td>30.0</td>\n",
       "    </tr>\n",
       "    <tr>\n",
       "      <th>3</th>\n",
       "      <td>alex</td>\n",
       "      <td>24.857143</td>\n",
       "      <td>calicut</td>\n",
       "      <td>40.0</td>\n",
       "    </tr>\n",
       "    <tr>\n",
       "      <th>4</th>\n",
       "      <td>husna</td>\n",
       "      <td>21.000000</td>\n",
       "      <td>palakad</td>\n",
       "      <td>50.0</td>\n",
       "    </tr>\n",
       "    <tr>\n",
       "      <th>5</th>\n",
       "      <td>akash</td>\n",
       "      <td>22.000000</td>\n",
       "      <td>palakad</td>\n",
       "      <td>43.0</td>\n",
       "    </tr>\n",
       "    <tr>\n",
       "      <th>6</th>\n",
       "      <td>nida</td>\n",
       "      <td>24.857143</td>\n",
       "      <td>calicut</td>\n",
       "      <td>NaN</td>\n",
       "    </tr>\n",
       "    <tr>\n",
       "      <th>7</th>\n",
       "      <td>nida</td>\n",
       "      <td>27.000000</td>\n",
       "      <td>calicut</td>\n",
       "      <td>25.0</td>\n",
       "    </tr>\n",
       "    <tr>\n",
       "      <th>8</th>\n",
       "      <td>naseef</td>\n",
       "      <td>28.000000</td>\n",
       "      <td>palakad</td>\n",
       "      <td>44.0</td>\n",
       "    </tr>\n",
       "    <tr>\n",
       "      <th>9</th>\n",
       "      <td>alex</td>\n",
       "      <td>20.000000</td>\n",
       "      <td>palakad</td>\n",
       "      <td>36.0</td>\n",
       "    </tr>\n",
       "  </tbody>\n",
       "</table>\n",
       "</div>"
      ],
      "text/plain": [
       "      name        age     city  score\n",
       "0    akash  24.000000  calicut   18.0\n",
       "1  maqbool  32.000000  calicut    NaN\n",
       "2     nida  24.857143  calicut   30.0\n",
       "3     alex  24.857143  calicut   40.0\n",
       "4    husna  21.000000  palakad   50.0\n",
       "5    akash  22.000000  palakad   43.0\n",
       "6     nida  24.857143  calicut    NaN\n",
       "7     nida  27.000000  calicut   25.0\n",
       "8   naseef  28.000000  palakad   44.0\n",
       "9     alex  20.000000  palakad   36.0"
      ]
     },
     "execution_count": 123,
     "metadata": {},
     "output_type": "execute_result"
    }
   ],
   "source": [
    "df['age'].fillna(df['age'].mean(), inplace=True)\n",
    "df"
   ]
  },
  {
   "cell_type": "code",
   "execution_count": 124,
   "id": "4cbe5423",
   "metadata": {},
   "outputs": [
    {
     "data": {
      "text/html": [
       "<div>\n",
       "<style scoped>\n",
       "    .dataframe tbody tr th:only-of-type {\n",
       "        vertical-align: middle;\n",
       "    }\n",
       "\n",
       "    .dataframe tbody tr th {\n",
       "        vertical-align: top;\n",
       "    }\n",
       "\n",
       "    .dataframe thead th {\n",
       "        text-align: right;\n",
       "    }\n",
       "</style>\n",
       "<table border=\"1\" class=\"dataframe\">\n",
       "  <thead>\n",
       "    <tr style=\"text-align: right;\">\n",
       "      <th></th>\n",
       "      <th>name</th>\n",
       "      <th>age</th>\n",
       "      <th>city</th>\n",
       "      <th>score</th>\n",
       "    </tr>\n",
       "  </thead>\n",
       "  <tbody>\n",
       "    <tr>\n",
       "      <th>0</th>\n",
       "      <td>akash</td>\n",
       "      <td>24</td>\n",
       "      <td>calicut</td>\n",
       "      <td>18.0</td>\n",
       "    </tr>\n",
       "    <tr>\n",
       "      <th>1</th>\n",
       "      <td>maqbool</td>\n",
       "      <td>32</td>\n",
       "      <td>calicut</td>\n",
       "      <td>NaN</td>\n",
       "    </tr>\n",
       "    <tr>\n",
       "      <th>2</th>\n",
       "      <td>nida</td>\n",
       "      <td>25</td>\n",
       "      <td>calicut</td>\n",
       "      <td>30.0</td>\n",
       "    </tr>\n",
       "    <tr>\n",
       "      <th>3</th>\n",
       "      <td>alex</td>\n",
       "      <td>25</td>\n",
       "      <td>calicut</td>\n",
       "      <td>40.0</td>\n",
       "    </tr>\n",
       "    <tr>\n",
       "      <th>4</th>\n",
       "      <td>husna</td>\n",
       "      <td>21</td>\n",
       "      <td>palakad</td>\n",
       "      <td>50.0</td>\n",
       "    </tr>\n",
       "    <tr>\n",
       "      <th>5</th>\n",
       "      <td>akash</td>\n",
       "      <td>22</td>\n",
       "      <td>palakad</td>\n",
       "      <td>43.0</td>\n",
       "    </tr>\n",
       "    <tr>\n",
       "      <th>6</th>\n",
       "      <td>nida</td>\n",
       "      <td>25</td>\n",
       "      <td>calicut</td>\n",
       "      <td>NaN</td>\n",
       "    </tr>\n",
       "    <tr>\n",
       "      <th>7</th>\n",
       "      <td>nida</td>\n",
       "      <td>27</td>\n",
       "      <td>calicut</td>\n",
       "      <td>25.0</td>\n",
       "    </tr>\n",
       "    <tr>\n",
       "      <th>8</th>\n",
       "      <td>naseef</td>\n",
       "      <td>28</td>\n",
       "      <td>palakad</td>\n",
       "      <td>44.0</td>\n",
       "    </tr>\n",
       "    <tr>\n",
       "      <th>9</th>\n",
       "      <td>alex</td>\n",
       "      <td>20</td>\n",
       "      <td>palakad</td>\n",
       "      <td>36.0</td>\n",
       "    </tr>\n",
       "  </tbody>\n",
       "</table>\n",
       "</div>"
      ],
      "text/plain": [
       "      name  age     city  score\n",
       "0    akash   24  calicut   18.0\n",
       "1  maqbool   32  calicut    NaN\n",
       "2     nida   25  calicut   30.0\n",
       "3     alex   25  calicut   40.0\n",
       "4    husna   21  palakad   50.0\n",
       "5    akash   22  palakad   43.0\n",
       "6     nida   25  calicut    NaN\n",
       "7     nida   27  calicut   25.0\n",
       "8   naseef   28  palakad   44.0\n",
       "9     alex   20  palakad   36.0"
      ]
     },
     "execution_count": 124,
     "metadata": {},
     "output_type": "execute_result"
    }
   ],
   "source": [
    "df['age']=df['age'].round().astype(int)\n",
    "df"
   ]
  },
  {
   "cell_type": "code",
   "execution_count": 125,
   "id": "fb655f2c",
   "metadata": {},
   "outputs": [
    {
     "name": "stderr",
     "output_type": "stream",
     "text": [
      "C:\\Users\\Admin\\AppData\\Local\\Temp\\ipykernel_21376\\1736097112.py:1: FutureWarning: A value is trying to be set on a copy of a DataFrame or Series through chained assignment using an inplace method.\n",
      "The behavior will change in pandas 3.0. This inplace method will never work because the intermediate object on which we are setting values always behaves as a copy.\n",
      "\n",
      "For example, when doing 'df[col].method(value, inplace=True)', try using 'df.method({col: value}, inplace=True)' or df[col] = df[col].method(value) instead, to perform the operation inplace on the original object.\n",
      "\n",
      "\n",
      "  df['score'].fillna(df['score'].median(),inplace=True)\n"
     ]
    },
    {
     "data": {
      "text/html": [
       "<div>\n",
       "<style scoped>\n",
       "    .dataframe tbody tr th:only-of-type {\n",
       "        vertical-align: middle;\n",
       "    }\n",
       "\n",
       "    .dataframe tbody tr th {\n",
       "        vertical-align: top;\n",
       "    }\n",
       "\n",
       "    .dataframe thead th {\n",
       "        text-align: right;\n",
       "    }\n",
       "</style>\n",
       "<table border=\"1\" class=\"dataframe\">\n",
       "  <thead>\n",
       "    <tr style=\"text-align: right;\">\n",
       "      <th></th>\n",
       "      <th>name</th>\n",
       "      <th>age</th>\n",
       "      <th>city</th>\n",
       "      <th>score</th>\n",
       "    </tr>\n",
       "  </thead>\n",
       "  <tbody>\n",
       "    <tr>\n",
       "      <th>0</th>\n",
       "      <td>akash</td>\n",
       "      <td>24</td>\n",
       "      <td>calicut</td>\n",
       "      <td>18.0</td>\n",
       "    </tr>\n",
       "    <tr>\n",
       "      <th>1</th>\n",
       "      <td>maqbool</td>\n",
       "      <td>32</td>\n",
       "      <td>calicut</td>\n",
       "      <td>38.0</td>\n",
       "    </tr>\n",
       "    <tr>\n",
       "      <th>2</th>\n",
       "      <td>nida</td>\n",
       "      <td>25</td>\n",
       "      <td>calicut</td>\n",
       "      <td>30.0</td>\n",
       "    </tr>\n",
       "    <tr>\n",
       "      <th>3</th>\n",
       "      <td>alex</td>\n",
       "      <td>25</td>\n",
       "      <td>calicut</td>\n",
       "      <td>40.0</td>\n",
       "    </tr>\n",
       "    <tr>\n",
       "      <th>4</th>\n",
       "      <td>husna</td>\n",
       "      <td>21</td>\n",
       "      <td>palakad</td>\n",
       "      <td>50.0</td>\n",
       "    </tr>\n",
       "    <tr>\n",
       "      <th>5</th>\n",
       "      <td>akash</td>\n",
       "      <td>22</td>\n",
       "      <td>palakad</td>\n",
       "      <td>43.0</td>\n",
       "    </tr>\n",
       "    <tr>\n",
       "      <th>6</th>\n",
       "      <td>nida</td>\n",
       "      <td>25</td>\n",
       "      <td>calicut</td>\n",
       "      <td>38.0</td>\n",
       "    </tr>\n",
       "    <tr>\n",
       "      <th>7</th>\n",
       "      <td>nida</td>\n",
       "      <td>27</td>\n",
       "      <td>calicut</td>\n",
       "      <td>25.0</td>\n",
       "    </tr>\n",
       "    <tr>\n",
       "      <th>8</th>\n",
       "      <td>naseef</td>\n",
       "      <td>28</td>\n",
       "      <td>palakad</td>\n",
       "      <td>44.0</td>\n",
       "    </tr>\n",
       "    <tr>\n",
       "      <th>9</th>\n",
       "      <td>alex</td>\n",
       "      <td>20</td>\n",
       "      <td>palakad</td>\n",
       "      <td>36.0</td>\n",
       "    </tr>\n",
       "  </tbody>\n",
       "</table>\n",
       "</div>"
      ],
      "text/plain": [
       "      name  age     city  score\n",
       "0    akash   24  calicut   18.0\n",
       "1  maqbool   32  calicut   38.0\n",
       "2     nida   25  calicut   30.0\n",
       "3     alex   25  calicut   40.0\n",
       "4    husna   21  palakad   50.0\n",
       "5    akash   22  palakad   43.0\n",
       "6     nida   25  calicut   38.0\n",
       "7     nida   27  calicut   25.0\n",
       "8   naseef   28  palakad   44.0\n",
       "9     alex   20  palakad   36.0"
      ]
     },
     "execution_count": 125,
     "metadata": {},
     "output_type": "execute_result"
    }
   ],
   "source": [
    "df['score'].fillna(df['score'].median(),inplace=True)\n",
    "df['score'].astype(int)\n",
    "df"
   ]
  },
  {
   "cell_type": "code",
   "execution_count": 126,
   "id": "8432f21e",
   "metadata": {},
   "outputs": [
    {
     "data": {
      "text/html": [
       "<div>\n",
       "<style scoped>\n",
       "    .dataframe tbody tr th:only-of-type {\n",
       "        vertical-align: middle;\n",
       "    }\n",
       "\n",
       "    .dataframe tbody tr th {\n",
       "        vertical-align: top;\n",
       "    }\n",
       "\n",
       "    .dataframe thead th {\n",
       "        text-align: right;\n",
       "    }\n",
       "</style>\n",
       "<table border=\"1\" class=\"dataframe\">\n",
       "  <thead>\n",
       "    <tr style=\"text-align: right;\">\n",
       "      <th></th>\n",
       "      <th>name</th>\n",
       "      <th>age</th>\n",
       "      <th>city</th>\n",
       "      <th>score</th>\n",
       "    </tr>\n",
       "  </thead>\n",
       "  <tbody>\n",
       "    <tr>\n",
       "      <th>0</th>\n",
       "      <td>akash</td>\n",
       "      <td>24</td>\n",
       "      <td>calicut</td>\n",
       "      <td>18.0</td>\n",
       "    </tr>\n",
       "    <tr>\n",
       "      <th>1</th>\n",
       "      <td>maqbool</td>\n",
       "      <td>32</td>\n",
       "      <td>calicut</td>\n",
       "      <td>38.0</td>\n",
       "    </tr>\n",
       "    <tr>\n",
       "      <th>2</th>\n",
       "      <td>nida</td>\n",
       "      <td>25</td>\n",
       "      <td>calicut</td>\n",
       "      <td>30.0</td>\n",
       "    </tr>\n",
       "    <tr>\n",
       "      <th>3</th>\n",
       "      <td>alex</td>\n",
       "      <td>25</td>\n",
       "      <td>calicut</td>\n",
       "      <td>40.0</td>\n",
       "    </tr>\n",
       "    <tr>\n",
       "      <th>4</th>\n",
       "      <td>husna</td>\n",
       "      <td>21</td>\n",
       "      <td>palakad</td>\n",
       "      <td>50.0</td>\n",
       "    </tr>\n",
       "    <tr>\n",
       "      <th>5</th>\n",
       "      <td>akash</td>\n",
       "      <td>22</td>\n",
       "      <td>palakad</td>\n",
       "      <td>43.0</td>\n",
       "    </tr>\n",
       "    <tr>\n",
       "      <th>6</th>\n",
       "      <td>nida</td>\n",
       "      <td>25</td>\n",
       "      <td>calicut</td>\n",
       "      <td>38.0</td>\n",
       "    </tr>\n",
       "    <tr>\n",
       "      <th>7</th>\n",
       "      <td>nida</td>\n",
       "      <td>27</td>\n",
       "      <td>calicut</td>\n",
       "      <td>25.0</td>\n",
       "    </tr>\n",
       "    <tr>\n",
       "      <th>8</th>\n",
       "      <td>naseef</td>\n",
       "      <td>28</td>\n",
       "      <td>palakad</td>\n",
       "      <td>44.0</td>\n",
       "    </tr>\n",
       "    <tr>\n",
       "      <th>9</th>\n",
       "      <td>alex</td>\n",
       "      <td>20</td>\n",
       "      <td>palakad</td>\n",
       "      <td>36.0</td>\n",
       "    </tr>\n",
       "    <tr>\n",
       "      <th>10</th>\n",
       "      <td>akash</td>\n",
       "      <td>24</td>\n",
       "      <td>calicut</td>\n",
       "      <td>18.0</td>\n",
       "    </tr>\n",
       "  </tbody>\n",
       "</table>\n",
       "</div>"
      ],
      "text/plain": [
       "       name  age     city  score\n",
       "0     akash   24  calicut   18.0\n",
       "1   maqbool   32  calicut   38.0\n",
       "2      nida   25  calicut   30.0\n",
       "3      alex   25  calicut   40.0\n",
       "4     husna   21  palakad   50.0\n",
       "5     akash   22  palakad   43.0\n",
       "6      nida   25  calicut   38.0\n",
       "7      nida   27  calicut   25.0\n",
       "8    naseef   28  palakad   44.0\n",
       "9      alex   20  palakad   36.0\n",
       "10    akash   24  calicut   18.0"
      ]
     },
     "execution_count": 126,
     "metadata": {},
     "output_type": "execute_result"
    }
   ],
   "source": [
    "df.loc[10]=df.loc[0]\n",
    "df"
   ]
  },
  {
   "cell_type": "code",
   "execution_count": 127,
   "id": "530d7321",
   "metadata": {},
   "outputs": [
    {
     "data": {
      "text/html": [
       "<div>\n",
       "<style scoped>\n",
       "    .dataframe tbody tr th:only-of-type {\n",
       "        vertical-align: middle;\n",
       "    }\n",
       "\n",
       "    .dataframe tbody tr th {\n",
       "        vertical-align: top;\n",
       "    }\n",
       "\n",
       "    .dataframe thead th {\n",
       "        text-align: right;\n",
       "    }\n",
       "</style>\n",
       "<table border=\"1\" class=\"dataframe\">\n",
       "  <thead>\n",
       "    <tr style=\"text-align: right;\">\n",
       "      <th></th>\n",
       "      <th>name</th>\n",
       "      <th>age</th>\n",
       "      <th>city</th>\n",
       "      <th>score</th>\n",
       "    </tr>\n",
       "  </thead>\n",
       "  <tbody>\n",
       "    <tr>\n",
       "      <th>0</th>\n",
       "      <td>akash</td>\n",
       "      <td>24</td>\n",
       "      <td>calicut</td>\n",
       "      <td>18.0</td>\n",
       "    </tr>\n",
       "    <tr>\n",
       "      <th>1</th>\n",
       "      <td>maqbool</td>\n",
       "      <td>32</td>\n",
       "      <td>calicut</td>\n",
       "      <td>38.0</td>\n",
       "    </tr>\n",
       "    <tr>\n",
       "      <th>2</th>\n",
       "      <td>nida</td>\n",
       "      <td>25</td>\n",
       "      <td>calicut</td>\n",
       "      <td>30.0</td>\n",
       "    </tr>\n",
       "    <tr>\n",
       "      <th>3</th>\n",
       "      <td>alex</td>\n",
       "      <td>25</td>\n",
       "      <td>calicut</td>\n",
       "      <td>40.0</td>\n",
       "    </tr>\n",
       "    <tr>\n",
       "      <th>4</th>\n",
       "      <td>husna</td>\n",
       "      <td>21</td>\n",
       "      <td>palakad</td>\n",
       "      <td>50.0</td>\n",
       "    </tr>\n",
       "    <tr>\n",
       "      <th>5</th>\n",
       "      <td>akash</td>\n",
       "      <td>22</td>\n",
       "      <td>palakad</td>\n",
       "      <td>43.0</td>\n",
       "    </tr>\n",
       "    <tr>\n",
       "      <th>6</th>\n",
       "      <td>nida</td>\n",
       "      <td>25</td>\n",
       "      <td>calicut</td>\n",
       "      <td>38.0</td>\n",
       "    </tr>\n",
       "    <tr>\n",
       "      <th>7</th>\n",
       "      <td>nida</td>\n",
       "      <td>27</td>\n",
       "      <td>calicut</td>\n",
       "      <td>25.0</td>\n",
       "    </tr>\n",
       "    <tr>\n",
       "      <th>8</th>\n",
       "      <td>naseef</td>\n",
       "      <td>28</td>\n",
       "      <td>palakad</td>\n",
       "      <td>44.0</td>\n",
       "    </tr>\n",
       "    <tr>\n",
       "      <th>9</th>\n",
       "      <td>alex</td>\n",
       "      <td>20</td>\n",
       "      <td>palakad</td>\n",
       "      <td>36.0</td>\n",
       "    </tr>\n",
       "  </tbody>\n",
       "</table>\n",
       "</div>"
      ],
      "text/plain": [
       "      name  age     city  score\n",
       "0    akash   24  calicut   18.0\n",
       "1  maqbool   32  calicut   38.0\n",
       "2     nida   25  calicut   30.0\n",
       "3     alex   25  calicut   40.0\n",
       "4    husna   21  palakad   50.0\n",
       "5    akash   22  palakad   43.0\n",
       "6     nida   25  calicut   38.0\n",
       "7     nida   27  calicut   25.0\n",
       "8   naseef   28  palakad   44.0\n",
       "9     alex   20  palakad   36.0"
      ]
     },
     "execution_count": 127,
     "metadata": {},
     "output_type": "execute_result"
    }
   ],
   "source": [
    "df.drop_duplicates(inplace=True)\n",
    "df"
   ]
  },
  {
   "cell_type": "code",
   "execution_count": 128,
   "id": "f618c8b5",
   "metadata": {},
   "outputs": [
    {
     "data": {
      "text/plain": [
       "<Axes: ylabel='age'>"
      ]
     },
     "execution_count": 128,
     "metadata": {},
     "output_type": "execute_result"
    },
    {
     "data": {
      "image/png": "[encoded data removed]",
      "text/plain": [
       "<Figure size 640x480 with 1 Axes>"
      ]
     },
     "metadata": {},
     "output_type": "display_data"
    }
   ],
   "source": [
    "df['age'].plot(kind='pie')\n"
   ]
  },
  {
   "cell_type": "code",
   "execution_count": 129,
   "id": "7a05edf2",
   "metadata": {},
   "outputs": [
    {
     "data": {
      "text/html": [
       "<div>\n",
       "<style scoped>\n",
       "    .dataframe tbody tr th:only-of-type {\n",
       "        vertical-align: middle;\n",
       "    }\n",
       "\n",
       "    .dataframe tbody tr th {\n",
       "        vertical-align: top;\n",
       "    }\n",
       "\n",
       "    .dataframe thead th {\n",
       "        text-align: right;\n",
       "    }\n",
       "</style>\n",
       "<table border=\"1\" class=\"dataframe\">\n",
       "  <thead>\n",
       "    <tr style=\"text-align: right;\">\n",
       "      <th></th>\n",
       "      <th>name</th>\n",
       "      <th>age</th>\n",
       "      <th>city</th>\n",
       "      <th>score</th>\n",
       "    </tr>\n",
       "  </thead>\n",
       "  <tbody>\n",
       "    <tr>\n",
       "      <th>0</th>\n",
       "      <td>akash</td>\n",
       "      <td>24</td>\n",
       "      <td>calicut</td>\n",
       "      <td>18.0</td>\n",
       "    </tr>\n",
       "    <tr>\n",
       "      <th>1</th>\n",
       "      <td>maqbool</td>\n",
       "      <td>32</td>\n",
       "      <td>calicut</td>\n",
       "      <td>38.0</td>\n",
       "    </tr>\n",
       "    <tr>\n",
       "      <th>2</th>\n",
       "      <td>nida</td>\n",
       "      <td>25</td>\n",
       "      <td>calicut</td>\n",
       "      <td>30.0</td>\n",
       "    </tr>\n",
       "    <tr>\n",
       "      <th>3</th>\n",
       "      <td>alex</td>\n",
       "      <td>25</td>\n",
       "      <td>calicut</td>\n",
       "      <td>40.0</td>\n",
       "    </tr>\n",
       "    <tr>\n",
       "      <th>4</th>\n",
       "      <td>husna</td>\n",
       "      <td>21</td>\n",
       "      <td>palakad</td>\n",
       "      <td>50.0</td>\n",
       "    </tr>\n",
       "    <tr>\n",
       "      <th>5</th>\n",
       "      <td>akash</td>\n",
       "      <td>22</td>\n",
       "      <td>palakad</td>\n",
       "      <td>43.0</td>\n",
       "    </tr>\n",
       "    <tr>\n",
       "      <th>6</th>\n",
       "      <td>nida</td>\n",
       "      <td>25</td>\n",
       "      <td>calicut</td>\n",
       "      <td>38.0</td>\n",
       "    </tr>\n",
       "    <tr>\n",
       "      <th>7</th>\n",
       "      <td>nida</td>\n",
       "      <td>27</td>\n",
       "      <td>calicut</td>\n",
       "      <td>25.0</td>\n",
       "    </tr>\n",
       "    <tr>\n",
       "      <th>8</th>\n",
       "      <td>naseef</td>\n",
       "      <td>28</td>\n",
       "      <td>palakad</td>\n",
       "      <td>44.0</td>\n",
       "    </tr>\n",
       "    <tr>\n",
       "      <th>9</th>\n",
       "      <td>alex</td>\n",
       "      <td>20</td>\n",
       "      <td>palakad</td>\n",
       "      <td>36.0</td>\n",
       "    </tr>\n",
       "  </tbody>\n",
       "</table>\n",
       "</div>"
      ],
      "text/plain": [
       "      name  age     city  score\n",
       "0    akash   24  calicut   18.0\n",
       "1  maqbool   32  calicut   38.0\n",
       "2     nida   25  calicut   30.0\n",
       "3     alex   25  calicut   40.0\n",
       "4    husna   21  palakad   50.0\n",
       "5    akash   22  palakad   43.0\n",
       "6     nida   25  calicut   38.0\n",
       "7     nida   27  calicut   25.0\n",
       "8   naseef   28  palakad   44.0\n",
       "9     alex   20  palakad   36.0"
      ]
     },
     "execution_count": 129,
     "metadata": {},
     "output_type": "execute_result"
    }
   ],
   "source": [
    "df"
   ]
  },
  {
   "cell_type": "code",
   "execution_count": 130,
   "id": "eb40641c",
   "metadata": {},
   "outputs": [
    {
     "name": "stderr",
     "output_type": "stream",
     "text": [
      "C:\\Users\\Admin\\AppData\\Local\\Temp\\ipykernel_21376\\89934718.py:1: FutureWarning: A value is trying to be set on a copy of a DataFrame or Series through chained assignment using an inplace method.\n",
      "The behavior will change in pandas 3.0. This inplace method will never work because the intermediate object on which we are setting values always behaves as a copy.\n",
      "\n",
      "For example, when doing 'df[col].method(value, inplace=True)', try using 'df.method({col: value}, inplace=True)' or df[col] = df[col].method(value) instead, to perform the operation inplace on the original object.\n",
      "\n",
      "\n",
      "  df['city'].replace({'unknown':'Not Specified'},inplace=True)\n"
     ]
    },
    {
     "data": {
      "text/html": [
       "<div>\n",
       "<style scoped>\n",
       "    .dataframe tbody tr th:only-of-type {\n",
       "        vertical-align: middle;\n",
       "    }\n",
       "\n",
       "    .dataframe tbody tr th {\n",
       "        vertical-align: top;\n",
       "    }\n",
       "\n",
       "    .dataframe thead th {\n",
       "        text-align: right;\n",
       "    }\n",
       "</style>\n",
       "<table border=\"1\" class=\"dataframe\">\n",
       "  <thead>\n",
       "    <tr style=\"text-align: right;\">\n",
       "      <th></th>\n",
       "      <th>name</th>\n",
       "      <th>age</th>\n",
       "      <th>city</th>\n",
       "      <th>score</th>\n",
       "    </tr>\n",
       "  </thead>\n",
       "  <tbody>\n",
       "    <tr>\n",
       "      <th>0</th>\n",
       "      <td>akash</td>\n",
       "      <td>24</td>\n",
       "      <td>calicut</td>\n",
       "      <td>18.0</td>\n",
       "    </tr>\n",
       "    <tr>\n",
       "      <th>1</th>\n",
       "      <td>maqbool</td>\n",
       "      <td>32</td>\n",
       "      <td>calicut</td>\n",
       "      <td>38.0</td>\n",
       "    </tr>\n",
       "    <tr>\n",
       "      <th>2</th>\n",
       "      <td>nida</td>\n",
       "      <td>25</td>\n",
       "      <td>calicut</td>\n",
       "      <td>30.0</td>\n",
       "    </tr>\n",
       "    <tr>\n",
       "      <th>3</th>\n",
       "      <td>alex</td>\n",
       "      <td>25</td>\n",
       "      <td>calicut</td>\n",
       "      <td>40.0</td>\n",
       "    </tr>\n",
       "    <tr>\n",
       "      <th>4</th>\n",
       "      <td>husna</td>\n",
       "      <td>21</td>\n",
       "      <td>palakad</td>\n",
       "      <td>50.0</td>\n",
       "    </tr>\n",
       "    <tr>\n",
       "      <th>5</th>\n",
       "      <td>akash</td>\n",
       "      <td>22</td>\n",
       "      <td>palakad</td>\n",
       "      <td>43.0</td>\n",
       "    </tr>\n",
       "    <tr>\n",
       "      <th>6</th>\n",
       "      <td>nida</td>\n",
       "      <td>25</td>\n",
       "      <td>calicut</td>\n",
       "      <td>38.0</td>\n",
       "    </tr>\n",
       "    <tr>\n",
       "      <th>7</th>\n",
       "      <td>nida</td>\n",
       "      <td>27</td>\n",
       "      <td>calicut</td>\n",
       "      <td>25.0</td>\n",
       "    </tr>\n",
       "    <tr>\n",
       "      <th>8</th>\n",
       "      <td>naseef</td>\n",
       "      <td>28</td>\n",
       "      <td>palakad</td>\n",
       "      <td>44.0</td>\n",
       "    </tr>\n",
       "    <tr>\n",
       "      <th>9</th>\n",
       "      <td>alex</td>\n",
       "      <td>20</td>\n",
       "      <td>palakad</td>\n",
       "      <td>36.0</td>\n",
       "    </tr>\n",
       "  </tbody>\n",
       "</table>\n",
       "</div>"
      ],
      "text/plain": [
       "      name  age     city  score\n",
       "0    akash   24  calicut   18.0\n",
       "1  maqbool   32  calicut   38.0\n",
       "2     nida   25  calicut   30.0\n",
       "3     alex   25  calicut   40.0\n",
       "4    husna   21  palakad   50.0\n",
       "5    akash   22  palakad   43.0\n",
       "6     nida   25  calicut   38.0\n",
       "7     nida   27  calicut   25.0\n",
       "8   naseef   28  palakad   44.0\n",
       "9     alex   20  palakad   36.0"
      ]
     },
     "execution_count": 130,
     "metadata": {},
     "output_type": "execute_result"
    }
   ],
   "source": [
    "df['city'].replace({'unknown':'Not Specified'},inplace=True)\n",
    "df"
   ]
  },
  {
   "cell_type": "code",
   "execution_count": 131,
   "id": "83b3a020",
   "metadata": {},
   "outputs": [
    {
     "name": "stdout",
     "output_type": "stream",
     "text": [
      "0      akash\n",
      "1    maqbool\n",
      "2       nida\n",
      "3       alex\n",
      "4      husna\n",
      "5      akash\n",
      "6       nida\n",
      "7       nida\n",
      "8     naseef\n",
      "9       alex\n",
      "Name: name, dtype: object\n"
     ]
    }
   ],
   "source": [
    "print(df['name'])"
   ]
  },
  {
   "cell_type": "code",
   "execution_count": 132,
   "id": "6d3a4bb1",
   "metadata": {},
   "outputs": [
    {
     "name": "stdout",
     "output_type": "stream",
     "text": [
      "      name  age\n",
      "0    akash   24\n",
      "1  maqbool   32\n",
      "2     nida   25\n",
      "3     alex   25\n",
      "4    husna   21\n",
      "5    akash   22\n",
      "6     nida   25\n",
      "7     nida   27\n",
      "8   naseef   28\n",
      "9     alex   20\n"
     ]
    }
   ],
   "source": [
    "print(df[['name','age']])"
   ]
  },
  {
   "cell_type": "code",
   "execution_count": 133,
   "id": "e3a940a0",
   "metadata": {},
   "outputs": [
    {
     "name": "stdout",
     "output_type": "stream",
     "text": [
      "name     maqbool\n",
      "age           32\n",
      "city     calicut\n",
      "score       38.0\n",
      "Name: 1, dtype: object\n"
     ]
    }
   ],
   "source": [
    "print(df.loc[1])"
   ]
  },
  {
   "cell_type": "code",
   "execution_count": 134,
   "id": "a03d4458",
   "metadata": {},
   "outputs": [
    {
     "name": "stdout",
     "output_type": "stream",
     "text": [
      "    name  age     city  score\n",
      "0  akash   24  calicut   18.0\n",
      "4  husna   21  palakad   50.0\n",
      "2   nida   25  calicut   30.0\n"
     ]
    }
   ],
   "source": [
    "print(df.loc[[0,4,2]])"
   ]
  },
  {
   "cell_type": "code",
   "execution_count": 135,
   "id": "5fdf0d6d",
   "metadata": {},
   "outputs": [
    {
     "name": "stdout",
     "output_type": "stream",
     "text": [
      "      city  score\n",
      "0  calicut   18.0\n",
      "1  calicut   38.0\n",
      "2  calicut   30.0\n",
      "3  calicut   40.0\n",
      "4  palakad   50.0\n",
      "5  palakad   43.0\n",
      "6  calicut   38.0\n",
      "7  calicut   25.0\n",
      "8  palakad   44.0\n"
     ]
    }
   ],
   "source": [
    "print(df.iloc[0:9,2:])"
   ]
  },
  {
   "cell_type": "code",
   "execution_count": 136,
   "id": "f67ed465",
   "metadata": {},
   "outputs": [
    {
     "name": "stdout",
     "output_type": "stream",
     "text": [
      "      name  age     city  score\n",
      "1  maqbool   32  calicut   38.0\n",
      "7     nida   27  calicut   25.0\n",
      "8   naseef   28  palakad   44.0\n"
     ]
    }
   ],
   "source": [
    "print(df[(df['age']>26)|(df['city']=='tirur')])"
   ]
  },
  {
   "cell_type": "code",
   "execution_count": 137,
   "id": "c44f32df",
   "metadata": {},
   "outputs": [
    {
     "data": {
      "text/html": [
       "<div>\n",
       "<style scoped>\n",
       "    .dataframe tbody tr th:only-of-type {\n",
       "        vertical-align: middle;\n",
       "    }\n",
       "\n",
       "    .dataframe tbody tr th {\n",
       "        vertical-align: top;\n",
       "    }\n",
       "\n",
       "    .dataframe thead th {\n",
       "        text-align: right;\n",
       "    }\n",
       "</style>\n",
       "<table border=\"1\" class=\"dataframe\">\n",
       "  <thead>\n",
       "    <tr style=\"text-align: right;\">\n",
       "      <th></th>\n",
       "      <th>name</th>\n",
       "      <th>age</th>\n",
       "      <th>city</th>\n",
       "      <th>score</th>\n",
       "    </tr>\n",
       "  </thead>\n",
       "  <tbody>\n",
       "    <tr>\n",
       "      <th>0</th>\n",
       "      <td>akash</td>\n",
       "      <td>24</td>\n",
       "      <td>calicut</td>\n",
       "      <td>18.0</td>\n",
       "    </tr>\n",
       "    <tr>\n",
       "      <th>1</th>\n",
       "      <td>maqbool</td>\n",
       "      <td>32</td>\n",
       "      <td>calicut</td>\n",
       "      <td>38.0</td>\n",
       "    </tr>\n",
       "    <tr>\n",
       "      <th>2</th>\n",
       "      <td>nida</td>\n",
       "      <td>25</td>\n",
       "      <td>calicut</td>\n",
       "      <td>30.0</td>\n",
       "    </tr>\n",
       "    <tr>\n",
       "      <th>3</th>\n",
       "      <td>alex</td>\n",
       "      <td>25</td>\n",
       "      <td>calicut</td>\n",
       "      <td>40.0</td>\n",
       "    </tr>\n",
       "    <tr>\n",
       "      <th>6</th>\n",
       "      <td>nida</td>\n",
       "      <td>25</td>\n",
       "      <td>calicut</td>\n",
       "      <td>38.0</td>\n",
       "    </tr>\n",
       "    <tr>\n",
       "      <th>7</th>\n",
       "      <td>nida</td>\n",
       "      <td>27</td>\n",
       "      <td>calicut</td>\n",
       "      <td>25.0</td>\n",
       "    </tr>\n",
       "  </tbody>\n",
       "</table>\n",
       "</div>"
      ],
      "text/plain": [
       "      name  age     city  score\n",
       "0    akash   24  calicut   18.0\n",
       "1  maqbool   32  calicut   38.0\n",
       "2     nida   25  calicut   30.0\n",
       "3     alex   25  calicut   40.0\n",
       "6     nida   25  calicut   38.0\n",
       "7     nida   27  calicut   25.0"
      ]
     },
     "execution_count": 137,
     "metadata": {},
     "output_type": "execute_result"
    }
   ],
   "source": [
    "df[df['city'].isin(['calicut','kochi'])]"
   ]
  },
  {
   "cell_type": "code",
   "execution_count": 138,
   "id": "8ac7772c",
   "metadata": {},
   "outputs": [
    {
     "data": {
      "text/html": [
       "<div>\n",
       "<style scoped>\n",
       "    .dataframe tbody tr th:only-of-type {\n",
       "        vertical-align: middle;\n",
       "    }\n",
       "\n",
       "    .dataframe tbody tr th {\n",
       "        vertical-align: top;\n",
       "    }\n",
       "\n",
       "    .dataframe thead th {\n",
       "        text-align: right;\n",
       "    }\n",
       "</style>\n",
       "<table border=\"1\" class=\"dataframe\">\n",
       "  <thead>\n",
       "    <tr style=\"text-align: right;\">\n",
       "      <th></th>\n",
       "      <th>name</th>\n",
       "      <th>age</th>\n",
       "      <th>city</th>\n",
       "      <th>score</th>\n",
       "    </tr>\n",
       "  </thead>\n",
       "  <tbody>\n",
       "    <tr>\n",
       "      <th>0</th>\n",
       "      <td>akash</td>\n",
       "      <td>24</td>\n",
       "      <td>calicut</td>\n",
       "      <td>18.0</td>\n",
       "    </tr>\n",
       "    <tr>\n",
       "      <th>1</th>\n",
       "      <td>maqbool</td>\n",
       "      <td>32</td>\n",
       "      <td>calicut</td>\n",
       "      <td>38.0</td>\n",
       "    </tr>\n",
       "    <tr>\n",
       "      <th>2</th>\n",
       "      <td>nida</td>\n",
       "      <td>25</td>\n",
       "      <td>calicut</td>\n",
       "      <td>30.0</td>\n",
       "    </tr>\n",
       "    <tr>\n",
       "      <th>3</th>\n",
       "      <td>alex</td>\n",
       "      <td>25</td>\n",
       "      <td>calicut</td>\n",
       "      <td>40.0</td>\n",
       "    </tr>\n",
       "    <tr>\n",
       "      <th>4</th>\n",
       "      <td>husna</td>\n",
       "      <td>21</td>\n",
       "      <td>palakad</td>\n",
       "      <td>50.0</td>\n",
       "    </tr>\n",
       "    <tr>\n",
       "      <th>5</th>\n",
       "      <td>akash</td>\n",
       "      <td>22</td>\n",
       "      <td>palakad</td>\n",
       "      <td>43.0</td>\n",
       "    </tr>\n",
       "    <tr>\n",
       "      <th>6</th>\n",
       "      <td>nida</td>\n",
       "      <td>25</td>\n",
       "      <td>calicut</td>\n",
       "      <td>38.0</td>\n",
       "    </tr>\n",
       "    <tr>\n",
       "      <th>7</th>\n",
       "      <td>nida</td>\n",
       "      <td>27</td>\n",
       "      <td>calicut</td>\n",
       "      <td>25.0</td>\n",
       "    </tr>\n",
       "    <tr>\n",
       "      <th>8</th>\n",
       "      <td>naseef</td>\n",
       "      <td>28</td>\n",
       "      <td>palakad</td>\n",
       "      <td>44.0</td>\n",
       "    </tr>\n",
       "    <tr>\n",
       "      <th>9</th>\n",
       "      <td>alex</td>\n",
       "      <td>20</td>\n",
       "      <td>palakad</td>\n",
       "      <td>36.0</td>\n",
       "    </tr>\n",
       "  </tbody>\n",
       "</table>\n",
       "</div>"
      ],
      "text/plain": [
       "      name  age     city  score\n",
       "0    akash   24  calicut   18.0\n",
       "1  maqbool   32  calicut   38.0\n",
       "2     nida   25  calicut   30.0\n",
       "3     alex   25  calicut   40.0\n",
       "4    husna   21  palakad   50.0\n",
       "5    akash   22  palakad   43.0\n",
       "6     nida   25  calicut   38.0\n",
       "7     nida   27  calicut   25.0\n",
       "8   naseef   28  palakad   44.0\n",
       "9     alex   20  palakad   36.0"
      ]
     },
     "execution_count": 138,
     "metadata": {},
     "output_type": "execute_result"
    }
   ],
   "source": [
    "df"
   ]
  },
  {
   "cell_type": "code",
   "execution_count": 139,
   "id": "c5da3a27",
   "metadata": {},
   "outputs": [
    {
     "data": {
      "text/html": [
       "<div>\n",
       "<style scoped>\n",
       "    .dataframe tbody tr th:only-of-type {\n",
       "        vertical-align: middle;\n",
       "    }\n",
       "\n",
       "    .dataframe tbody tr th {\n",
       "        vertical-align: top;\n",
       "    }\n",
       "\n",
       "    .dataframe thead th {\n",
       "        text-align: right;\n",
       "    }\n",
       "</style>\n",
       "<table border=\"1\" class=\"dataframe\">\n",
       "  <thead>\n",
       "    <tr style=\"text-align: right;\">\n",
       "      <th></th>\n",
       "      <th>name</th>\n",
       "      <th>age</th>\n",
       "      <th>city</th>\n",
       "      <th>score</th>\n",
       "    </tr>\n",
       "  </thead>\n",
       "  <tbody>\n",
       "    <tr>\n",
       "      <th>9</th>\n",
       "      <td>alex</td>\n",
       "      <td>20</td>\n",
       "      <td>palakad</td>\n",
       "      <td>36.0</td>\n",
       "    </tr>\n",
       "    <tr>\n",
       "      <th>4</th>\n",
       "      <td>husna</td>\n",
       "      <td>21</td>\n",
       "      <td>palakad</td>\n",
       "      <td>50.0</td>\n",
       "    </tr>\n",
       "    <tr>\n",
       "      <th>5</th>\n",
       "      <td>akash</td>\n",
       "      <td>22</td>\n",
       "      <td>palakad</td>\n",
       "      <td>43.0</td>\n",
       "    </tr>\n",
       "    <tr>\n",
       "      <th>0</th>\n",
       "      <td>akash</td>\n",
       "      <td>24</td>\n",
       "      <td>calicut</td>\n",
       "      <td>18.0</td>\n",
       "    </tr>\n",
       "    <tr>\n",
       "      <th>6</th>\n",
       "      <td>nida</td>\n",
       "      <td>25</td>\n",
       "      <td>calicut</td>\n",
       "      <td>38.0</td>\n",
       "    </tr>\n",
       "    <tr>\n",
       "      <th>3</th>\n",
       "      <td>alex</td>\n",
       "      <td>25</td>\n",
       "      <td>calicut</td>\n",
       "      <td>40.0</td>\n",
       "    </tr>\n",
       "    <tr>\n",
       "      <th>2</th>\n",
       "      <td>nida</td>\n",
       "      <td>25</td>\n",
       "      <td>calicut</td>\n",
       "      <td>30.0</td>\n",
       "    </tr>\n",
       "    <tr>\n",
       "      <th>7</th>\n",
       "      <td>nida</td>\n",
       "      <td>27</td>\n",
       "      <td>calicut</td>\n",
       "      <td>25.0</td>\n",
       "    </tr>\n",
       "    <tr>\n",
       "      <th>8</th>\n",
       "      <td>naseef</td>\n",
       "      <td>28</td>\n",
       "      <td>palakad</td>\n",
       "      <td>44.0</td>\n",
       "    </tr>\n",
       "    <tr>\n",
       "      <th>1</th>\n",
       "      <td>maqbool</td>\n",
       "      <td>32</td>\n",
       "      <td>calicut</td>\n",
       "      <td>38.0</td>\n",
       "    </tr>\n",
       "  </tbody>\n",
       "</table>\n",
       "</div>"
      ],
      "text/plain": [
       "      name  age     city  score\n",
       "9     alex   20  palakad   36.0\n",
       "4    husna   21  palakad   50.0\n",
       "5    akash   22  palakad   43.0\n",
       "0    akash   24  calicut   18.0\n",
       "6     nida   25  calicut   38.0\n",
       "3     alex   25  calicut   40.0\n",
       "2     nida   25  calicut   30.0\n",
       "7     nida   27  calicut   25.0\n",
       "8   naseef   28  palakad   44.0\n",
       "1  maqbool   32  calicut   38.0"
      ]
     },
     "execution_count": 139,
     "metadata": {},
     "output_type": "execute_result"
    }
   ],
   "source": [
    "df.sort_values(by='age')"
   ]
  },
  {
   "cell_type": "code",
   "execution_count": 140,
   "id": "102a78e7",
   "metadata": {},
   "outputs": [
    {
     "data": {
      "text/html": [
       "<div>\n",
       "<style scoped>\n",
       "    .dataframe tbody tr th:only-of-type {\n",
       "        vertical-align: middle;\n",
       "    }\n",
       "\n",
       "    .dataframe tbody tr th {\n",
       "        vertical-align: top;\n",
       "    }\n",
       "\n",
       "    .dataframe thead th {\n",
       "        text-align: right;\n",
       "    }\n",
       "</style>\n",
       "<table border=\"1\" class=\"dataframe\">\n",
       "  <thead>\n",
       "    <tr style=\"text-align: right;\">\n",
       "      <th></th>\n",
       "      <th>name</th>\n",
       "      <th>age</th>\n",
       "      <th>city</th>\n",
       "      <th>score</th>\n",
       "    </tr>\n",
       "  </thead>\n",
       "  <tbody>\n",
       "    <tr>\n",
       "      <th>1</th>\n",
       "      <td>maqbool</td>\n",
       "      <td>32</td>\n",
       "      <td>calicut</td>\n",
       "      <td>38.0</td>\n",
       "    </tr>\n",
       "    <tr>\n",
       "      <th>8</th>\n",
       "      <td>naseef</td>\n",
       "      <td>28</td>\n",
       "      <td>palakad</td>\n",
       "      <td>44.0</td>\n",
       "    </tr>\n",
       "    <tr>\n",
       "      <th>7</th>\n",
       "      <td>nida</td>\n",
       "      <td>27</td>\n",
       "      <td>calicut</td>\n",
       "      <td>25.0</td>\n",
       "    </tr>\n",
       "    <tr>\n",
       "      <th>6</th>\n",
       "      <td>nida</td>\n",
       "      <td>25</td>\n",
       "      <td>calicut</td>\n",
       "      <td>38.0</td>\n",
       "    </tr>\n",
       "    <tr>\n",
       "      <th>2</th>\n",
       "      <td>nida</td>\n",
       "      <td>25</td>\n",
       "      <td>calicut</td>\n",
       "      <td>30.0</td>\n",
       "    </tr>\n",
       "    <tr>\n",
       "      <th>3</th>\n",
       "      <td>alex</td>\n",
       "      <td>25</td>\n",
       "      <td>calicut</td>\n",
       "      <td>40.0</td>\n",
       "    </tr>\n",
       "    <tr>\n",
       "      <th>0</th>\n",
       "      <td>akash</td>\n",
       "      <td>24</td>\n",
       "      <td>calicut</td>\n",
       "      <td>18.0</td>\n",
       "    </tr>\n",
       "    <tr>\n",
       "      <th>5</th>\n",
       "      <td>akash</td>\n",
       "      <td>22</td>\n",
       "      <td>palakad</td>\n",
       "      <td>43.0</td>\n",
       "    </tr>\n",
       "    <tr>\n",
       "      <th>4</th>\n",
       "      <td>husna</td>\n",
       "      <td>21</td>\n",
       "      <td>palakad</td>\n",
       "      <td>50.0</td>\n",
       "    </tr>\n",
       "    <tr>\n",
       "      <th>9</th>\n",
       "      <td>alex</td>\n",
       "      <td>20</td>\n",
       "      <td>palakad</td>\n",
       "      <td>36.0</td>\n",
       "    </tr>\n",
       "  </tbody>\n",
       "</table>\n",
       "</div>"
      ],
      "text/plain": [
       "      name  age     city  score\n",
       "1  maqbool   32  calicut   38.0\n",
       "8   naseef   28  palakad   44.0\n",
       "7     nida   27  calicut   25.0\n",
       "6     nida   25  calicut   38.0\n",
       "2     nida   25  calicut   30.0\n",
       "3     alex   25  calicut   40.0\n",
       "0    akash   24  calicut   18.0\n",
       "5    akash   22  palakad   43.0\n",
       "4    husna   21  palakad   50.0\n",
       "9     alex   20  palakad   36.0"
      ]
     },
     "execution_count": 140,
     "metadata": {},
     "output_type": "execute_result"
    }
   ],
   "source": [
    "df.sort_values(by='age',ascending=False)"
   ]
  },
  {
   "cell_type": "code",
   "execution_count": 141,
   "id": "bd16e9b6",
   "metadata": {},
   "outputs": [
    {
     "data": {
      "text/html": [
       "<div>\n",
       "<style scoped>\n",
       "    .dataframe tbody tr th:only-of-type {\n",
       "        vertical-align: middle;\n",
       "    }\n",
       "\n",
       "    .dataframe tbody tr th {\n",
       "        vertical-align: top;\n",
       "    }\n",
       "\n",
       "    .dataframe thead th {\n",
       "        text-align: right;\n",
       "    }\n",
       "</style>\n",
       "<table border=\"1\" class=\"dataframe\">\n",
       "  <thead>\n",
       "    <tr style=\"text-align: right;\">\n",
       "      <th></th>\n",
       "      <th>name</th>\n",
       "      <th>age</th>\n",
       "      <th>city</th>\n",
       "      <th>score</th>\n",
       "    </tr>\n",
       "  </thead>\n",
       "  <tbody>\n",
       "    <tr>\n",
       "      <th>1</th>\n",
       "      <td>maqbool</td>\n",
       "      <td>32</td>\n",
       "      <td>calicut</td>\n",
       "      <td>38.0</td>\n",
       "    </tr>\n",
       "    <tr>\n",
       "      <th>7</th>\n",
       "      <td>nida</td>\n",
       "      <td>27</td>\n",
       "      <td>calicut</td>\n",
       "      <td>25.0</td>\n",
       "    </tr>\n",
       "    <tr>\n",
       "      <th>2</th>\n",
       "      <td>nida</td>\n",
       "      <td>25</td>\n",
       "      <td>calicut</td>\n",
       "      <td>30.0</td>\n",
       "    </tr>\n",
       "    <tr>\n",
       "      <th>3</th>\n",
       "      <td>alex</td>\n",
       "      <td>25</td>\n",
       "      <td>calicut</td>\n",
       "      <td>40.0</td>\n",
       "    </tr>\n",
       "    <tr>\n",
       "      <th>6</th>\n",
       "      <td>nida</td>\n",
       "      <td>25</td>\n",
       "      <td>calicut</td>\n",
       "      <td>38.0</td>\n",
       "    </tr>\n",
       "    <tr>\n",
       "      <th>0</th>\n",
       "      <td>akash</td>\n",
       "      <td>24</td>\n",
       "      <td>calicut</td>\n",
       "      <td>18.0</td>\n",
       "    </tr>\n",
       "    <tr>\n",
       "      <th>8</th>\n",
       "      <td>naseef</td>\n",
       "      <td>28</td>\n",
       "      <td>palakad</td>\n",
       "      <td>44.0</td>\n",
       "    </tr>\n",
       "    <tr>\n",
       "      <th>5</th>\n",
       "      <td>akash</td>\n",
       "      <td>22</td>\n",
       "      <td>palakad</td>\n",
       "      <td>43.0</td>\n",
       "    </tr>\n",
       "    <tr>\n",
       "      <th>4</th>\n",
       "      <td>husna</td>\n",
       "      <td>21</td>\n",
       "      <td>palakad</td>\n",
       "      <td>50.0</td>\n",
       "    </tr>\n",
       "    <tr>\n",
       "      <th>9</th>\n",
       "      <td>alex</td>\n",
       "      <td>20</td>\n",
       "      <td>palakad</td>\n",
       "      <td>36.0</td>\n",
       "    </tr>\n",
       "  </tbody>\n",
       "</table>\n",
       "</div>"
      ],
      "text/plain": [
       "      name  age     city  score\n",
       "1  maqbool   32  calicut   38.0\n",
       "7     nida   27  calicut   25.0\n",
       "2     nida   25  calicut   30.0\n",
       "3     alex   25  calicut   40.0\n",
       "6     nida   25  calicut   38.0\n",
       "0    akash   24  calicut   18.0\n",
       "8   naseef   28  palakad   44.0\n",
       "5    akash   22  palakad   43.0\n",
       "4    husna   21  palakad   50.0\n",
       "9     alex   20  palakad   36.0"
      ]
     },
     "execution_count": 141,
     "metadata": {},
     "output_type": "execute_result"
    }
   ],
   "source": [
    "df.sort_values(by=['city','age'],ascending=[True,False])"
   ]
  },
  {
   "cell_type": "code",
   "execution_count": 142,
   "id": "6d0cce72",
   "metadata": {},
   "outputs": [
    {
     "data": {
      "text/html": [
       "<div>\n",
       "<style scoped>\n",
       "    .dataframe tbody tr th:only-of-type {\n",
       "        vertical-align: middle;\n",
       "    }\n",
       "\n",
       "    .dataframe tbody tr th {\n",
       "        vertical-align: top;\n",
       "    }\n",
       "\n",
       "    .dataframe thead th {\n",
       "        text-align: right;\n",
       "    }\n",
       "</style>\n",
       "<table border=\"1\" class=\"dataframe\">\n",
       "  <thead>\n",
       "    <tr style=\"text-align: right;\">\n",
       "      <th></th>\n",
       "      <th>name</th>\n",
       "      <th>age</th>\n",
       "      <th>city</th>\n",
       "      <th>score</th>\n",
       "    </tr>\n",
       "  </thead>\n",
       "  <tbody>\n",
       "    <tr>\n",
       "      <th>0</th>\n",
       "      <td>akash</td>\n",
       "      <td>24</td>\n",
       "      <td>calicut</td>\n",
       "      <td>18.0</td>\n",
       "    </tr>\n",
       "    <tr>\n",
       "      <th>1</th>\n",
       "      <td>maqbool</td>\n",
       "      <td>32</td>\n",
       "      <td>calicut</td>\n",
       "      <td>38.0</td>\n",
       "    </tr>\n",
       "    <tr>\n",
       "      <th>2</th>\n",
       "      <td>nida</td>\n",
       "      <td>25</td>\n",
       "      <td>calicut</td>\n",
       "      <td>30.0</td>\n",
       "    </tr>\n",
       "    <tr>\n",
       "      <th>3</th>\n",
       "      <td>alex</td>\n",
       "      <td>25</td>\n",
       "      <td>calicut</td>\n",
       "      <td>40.0</td>\n",
       "    </tr>\n",
       "    <tr>\n",
       "      <th>4</th>\n",
       "      <td>husna</td>\n",
       "      <td>21</td>\n",
       "      <td>palakad</td>\n",
       "      <td>50.0</td>\n",
       "    </tr>\n",
       "    <tr>\n",
       "      <th>5</th>\n",
       "      <td>akash</td>\n",
       "      <td>22</td>\n",
       "      <td>palakad</td>\n",
       "      <td>43.0</td>\n",
       "    </tr>\n",
       "    <tr>\n",
       "      <th>6</th>\n",
       "      <td>nida</td>\n",
       "      <td>25</td>\n",
       "      <td>calicut</td>\n",
       "      <td>38.0</td>\n",
       "    </tr>\n",
       "    <tr>\n",
       "      <th>7</th>\n",
       "      <td>nida</td>\n",
       "      <td>27</td>\n",
       "      <td>calicut</td>\n",
       "      <td>25.0</td>\n",
       "    </tr>\n",
       "    <tr>\n",
       "      <th>8</th>\n",
       "      <td>naseef</td>\n",
       "      <td>28</td>\n",
       "      <td>palakad</td>\n",
       "      <td>44.0</td>\n",
       "    </tr>\n",
       "    <tr>\n",
       "      <th>9</th>\n",
       "      <td>alex</td>\n",
       "      <td>20</td>\n",
       "      <td>palakad</td>\n",
       "      <td>36.0</td>\n",
       "    </tr>\n",
       "  </tbody>\n",
       "</table>\n",
       "</div>"
      ],
      "text/plain": [
       "      name  age     city  score\n",
       "0    akash   24  calicut   18.0\n",
       "1  maqbool   32  calicut   38.0\n",
       "2     nida   25  calicut   30.0\n",
       "3     alex   25  calicut   40.0\n",
       "4    husna   21  palakad   50.0\n",
       "5    akash   22  palakad   43.0\n",
       "6     nida   25  calicut   38.0\n",
       "7     nida   27  calicut   25.0\n",
       "8   naseef   28  palakad   44.0\n",
       "9     alex   20  palakad   36.0"
      ]
     },
     "execution_count": 142,
     "metadata": {},
     "output_type": "execute_result"
    }
   ],
   "source": [
    "df.sort_index()"
   ]
  },
  {
   "cell_type": "markdown",
   "id": "ef931e42",
   "metadata": {},
   "source": [
    "##### .groupby()"
   ]
  },
  {
   "cell_type": "code",
   "execution_count": 143,
   "id": "3d140b7e",
   "metadata": {},
   "outputs": [
    {
     "data": {
      "text/plain": [
       "city\n",
       "calicut    189.0\n",
       "palakad    173.0\n",
       "Name: score, dtype: float64"
      ]
     },
     "execution_count": 143,
     "metadata": {},
     "output_type": "execute_result"
    }
   ],
   "source": [
    "df.groupby('city')['score'].sum()"
   ]
  },
  {
   "cell_type": "code",
   "execution_count": 144,
   "id": "da32b4b8",
   "metadata": {},
   "outputs": [
    {
     "data": {
      "text/html": [
       "<div>\n",
       "<style scoped>\n",
       "    .dataframe tbody tr th:only-of-type {\n",
       "        vertical-align: middle;\n",
       "    }\n",
       "\n",
       "    .dataframe tbody tr th {\n",
       "        vertical-align: top;\n",
       "    }\n",
       "\n",
       "    .dataframe thead th {\n",
       "        text-align: right;\n",
       "    }\n",
       "</style>\n",
       "<table border=\"1\" class=\"dataframe\">\n",
       "  <thead>\n",
       "    <tr style=\"text-align: right;\">\n",
       "      <th></th>\n",
       "      <th>sum</th>\n",
       "      <th>mean</th>\n",
       "      <th>max</th>\n",
       "    </tr>\n",
       "    <tr>\n",
       "      <th>name</th>\n",
       "      <th></th>\n",
       "      <th></th>\n",
       "      <th></th>\n",
       "    </tr>\n",
       "  </thead>\n",
       "  <tbody>\n",
       "    <tr>\n",
       "      <th>akash</th>\n",
       "      <td>46</td>\n",
       "      <td>23.000000</td>\n",
       "      <td>24</td>\n",
       "    </tr>\n",
       "    <tr>\n",
       "      <th>alex</th>\n",
       "      <td>45</td>\n",
       "      <td>22.500000</td>\n",
       "      <td>25</td>\n",
       "    </tr>\n",
       "    <tr>\n",
       "      <th>husna</th>\n",
       "      <td>21</td>\n",
       "      <td>21.000000</td>\n",
       "      <td>21</td>\n",
       "    </tr>\n",
       "    <tr>\n",
       "      <th>maqbool</th>\n",
       "      <td>32</td>\n",
       "      <td>32.000000</td>\n",
       "      <td>32</td>\n",
       "    </tr>\n",
       "    <tr>\n",
       "      <th>naseef</th>\n",
       "      <td>28</td>\n",
       "      <td>28.000000</td>\n",
       "      <td>28</td>\n",
       "    </tr>\n",
       "    <tr>\n",
       "      <th>nida</th>\n",
       "      <td>77</td>\n",
       "      <td>25.666667</td>\n",
       "      <td>27</td>\n",
       "    </tr>\n",
       "  </tbody>\n",
       "</table>\n",
       "</div>"
      ],
      "text/plain": [
       "         sum       mean  max\n",
       "name                        \n",
       "akash     46  23.000000   24\n",
       "alex      45  22.500000   25\n",
       "husna     21  21.000000   21\n",
       "maqbool   32  32.000000   32\n",
       "naseef    28  28.000000   28\n",
       "nida      77  25.666667   27"
      ]
     },
     "execution_count": 144,
     "metadata": {},
     "output_type": "execute_result"
    }
   ],
   "source": [
    "df.groupby('name')['age'].agg(['sum','mean','max'])"
   ]
  },
  {
   "cell_type": "code",
   "execution_count": 145,
   "id": "f1e3c1d3",
   "metadata": {},
   "outputs": [
    {
     "data": {
      "text/html": [
       "<div>\n",
       "<style scoped>\n",
       "    .dataframe tbody tr th:only-of-type {\n",
       "        vertical-align: middle;\n",
       "    }\n",
       "\n",
       "    .dataframe tbody tr th {\n",
       "        vertical-align: top;\n",
       "    }\n",
       "\n",
       "    .dataframe thead th {\n",
       "        text-align: right;\n",
       "    }\n",
       "</style>\n",
       "<table border=\"1\" class=\"dataframe\">\n",
       "  <thead>\n",
       "    <tr style=\"text-align: right;\">\n",
       "      <th></th>\n",
       "      <th>age</th>\n",
       "      <th>score</th>\n",
       "    </tr>\n",
       "  </thead>\n",
       "  <tbody>\n",
       "    <tr>\n",
       "      <th>count</th>\n",
       "      <td>10.000000</td>\n",
       "      <td>10.000000</td>\n",
       "    </tr>\n",
       "    <tr>\n",
       "      <th>mean</th>\n",
       "      <td>24.900000</td>\n",
       "      <td>36.200000</td>\n",
       "    </tr>\n",
       "    <tr>\n",
       "      <th>std</th>\n",
       "      <td>3.541814</td>\n",
       "      <td>9.507891</td>\n",
       "    </tr>\n",
       "    <tr>\n",
       "      <th>min</th>\n",
       "      <td>20.000000</td>\n",
       "      <td>18.000000</td>\n",
       "    </tr>\n",
       "    <tr>\n",
       "      <th>25%</th>\n",
       "      <td>22.500000</td>\n",
       "      <td>31.500000</td>\n",
       "    </tr>\n",
       "    <tr>\n",
       "      <th>50%</th>\n",
       "      <td>25.000000</td>\n",
       "      <td>38.000000</td>\n",
       "    </tr>\n",
       "    <tr>\n",
       "      <th>75%</th>\n",
       "      <td>26.500000</td>\n",
       "      <td>42.250000</td>\n",
       "    </tr>\n",
       "    <tr>\n",
       "      <th>max</th>\n",
       "      <td>32.000000</td>\n",
       "      <td>50.000000</td>\n",
       "    </tr>\n",
       "  </tbody>\n",
       "</table>\n",
       "</div>"
      ],
      "text/plain": [
       "             age      score\n",
       "count  10.000000  10.000000\n",
       "mean   24.900000  36.200000\n",
       "std     3.541814   9.507891\n",
       "min    20.000000  18.000000\n",
       "25%    22.500000  31.500000\n",
       "50%    25.000000  38.000000\n",
       "75%    26.500000  42.250000\n",
       "max    32.000000  50.000000"
      ]
     },
     "execution_count": 145,
     "metadata": {},
     "output_type": "execute_result"
    }
   ],
   "source": [
    "df.describe()"
   ]
  },
  {
   "cell_type": "markdown",
   "id": "bcf95615",
   "metadata": {},
   "source": [
    "##### Named Aggregations (Clean Format)"
   ]
  },
  {
   "cell_type": "code",
   "execution_count": 146,
   "id": "ef3afd79",
   "metadata": {},
   "outputs": [
    {
     "data": {
      "text/html": [
       "<div>\n",
       "<style scoped>\n",
       "    .dataframe tbody tr th:only-of-type {\n",
       "        vertical-align: middle;\n",
       "    }\n",
       "\n",
       "    .dataframe tbody tr th {\n",
       "        vertical-align: top;\n",
       "    }\n",
       "\n",
       "    .dataframe thead th {\n",
       "        text-align: right;\n",
       "    }\n",
       "</style>\n",
       "<table border=\"1\" class=\"dataframe\">\n",
       "  <thead>\n",
       "    <tr style=\"text-align: right;\">\n",
       "      <th></th>\n",
       "      <th>total_age</th>\n",
       "      <th>mean_score</th>\n",
       "    </tr>\n",
       "    <tr>\n",
       "      <th>name</th>\n",
       "      <th></th>\n",
       "      <th></th>\n",
       "    </tr>\n",
       "  </thead>\n",
       "  <tbody>\n",
       "    <tr>\n",
       "      <th>akash</th>\n",
       "      <td>46</td>\n",
       "      <td>30.5</td>\n",
       "    </tr>\n",
       "    <tr>\n",
       "      <th>alex</th>\n",
       "      <td>45</td>\n",
       "      <td>38.0</td>\n",
       "    </tr>\n",
       "    <tr>\n",
       "      <th>husna</th>\n",
       "      <td>21</td>\n",
       "      <td>50.0</td>\n",
       "    </tr>\n",
       "    <tr>\n",
       "      <th>maqbool</th>\n",
       "      <td>32</td>\n",
       "      <td>38.0</td>\n",
       "    </tr>\n",
       "    <tr>\n",
       "      <th>naseef</th>\n",
       "      <td>28</td>\n",
       "      <td>44.0</td>\n",
       "    </tr>\n",
       "    <tr>\n",
       "      <th>nida</th>\n",
       "      <td>77</td>\n",
       "      <td>31.0</td>\n",
       "    </tr>\n",
       "  </tbody>\n",
       "</table>\n",
       "</div>"
      ],
      "text/plain": [
       "         total_age  mean_score\n",
       "name                          \n",
       "akash           46        30.5\n",
       "alex            45        38.0\n",
       "husna           21        50.0\n",
       "maqbool         32        38.0\n",
       "naseef          28        44.0\n",
       "nida            77        31.0"
      ]
     },
     "execution_count": 146,
     "metadata": {},
     "output_type": "execute_result"
    }
   ],
   "source": [
    "df.groupby('name').agg(\n",
    "    total_age=('age','sum'),\n",
    "    mean_score=('score','mean')\n",
    ")"
   ]
  },
  {
   "cell_type": "markdown",
   "id": "ec835aef",
   "metadata": {},
   "source": [
    "##### Merging, Joining & Concatenating DataFrames"
   ]
  },
  {
   "cell_type": "code",
   "execution_count": 147,
   "id": "6589e18d",
   "metadata": {},
   "outputs": [
    {
     "name": "stdout",
     "output_type": "stream",
     "text": [
      "   id   name\n",
      "0   1   alex\n",
      "1   2   mary\n",
      "2   3  binny\n",
      "   id    name\n",
      "0   4  monica\n",
      "1   5   megha\n",
      "2   6  akasha\n"
     ]
    }
   ],
   "source": [
    "df_1=pd.DataFrame({\n",
    "    'id':[1,2,3],\n",
    "    'name':['alex','mary','binny']\n",
    "})\n",
    "df_2=pd.DataFrame({\n",
    "    'id':[4,5,6],\n",
    "    'name':['monica','megha','akasha']\n",
    "})\n",
    "print(df_1)\n",
    "print(df_2)"
   ]
  },
  {
   "cell_type": "code",
   "execution_count": 148,
   "id": "40d69a0a",
   "metadata": {},
   "outputs": [
    {
     "data": {
      "text/html": [
       "<div>\n",
       "<style scoped>\n",
       "    .dataframe tbody tr th:only-of-type {\n",
       "        vertical-align: middle;\n",
       "    }\n",
       "\n",
       "    .dataframe tbody tr th {\n",
       "        vertical-align: top;\n",
       "    }\n",
       "\n",
       "    .dataframe thead th {\n",
       "        text-align: right;\n",
       "    }\n",
       "</style>\n",
       "<table border=\"1\" class=\"dataframe\">\n",
       "  <thead>\n",
       "    <tr style=\"text-align: right;\">\n",
       "      <th></th>\n",
       "      <th>id</th>\n",
       "      <th>name</th>\n",
       "    </tr>\n",
       "  </thead>\n",
       "  <tbody>\n",
       "    <tr>\n",
       "      <th>0</th>\n",
       "      <td>1</td>\n",
       "      <td>alex</td>\n",
       "    </tr>\n",
       "    <tr>\n",
       "      <th>1</th>\n",
       "      <td>2</td>\n",
       "      <td>mary</td>\n",
       "    </tr>\n",
       "    <tr>\n",
       "      <th>2</th>\n",
       "      <td>3</td>\n",
       "      <td>binny</td>\n",
       "    </tr>\n",
       "    <tr>\n",
       "      <th>0</th>\n",
       "      <td>4</td>\n",
       "      <td>monica</td>\n",
       "    </tr>\n",
       "    <tr>\n",
       "      <th>1</th>\n",
       "      <td>5</td>\n",
       "      <td>megha</td>\n",
       "    </tr>\n",
       "    <tr>\n",
       "      <th>2</th>\n",
       "      <td>6</td>\n",
       "      <td>akasha</td>\n",
       "    </tr>\n",
       "  </tbody>\n",
       "</table>\n",
       "</div>"
      ],
      "text/plain": [
       "   id    name\n",
       "0   1    alex\n",
       "1   2    mary\n",
       "2   3   binny\n",
       "0   4  monica\n",
       "1   5   megha\n",
       "2   6  akasha"
      ]
     },
     "execution_count": 148,
     "metadata": {},
     "output_type": "execute_result"
    }
   ],
   "source": [
    "#CONCATENATION (pd.concat())\n",
    "pd.concat([df_1,df_2])"
   ]
  },
  {
   "cell_type": "code",
   "execution_count": 149,
   "id": "41836049",
   "metadata": {},
   "outputs": [
    {
     "data": {
      "text/html": [
       "<div>\n",
       "<style scoped>\n",
       "    .dataframe tbody tr th:only-of-type {\n",
       "        vertical-align: middle;\n",
       "    }\n",
       "\n",
       "    .dataframe tbody tr th {\n",
       "        vertical-align: top;\n",
       "    }\n",
       "\n",
       "    .dataframe thead th {\n",
       "        text-align: right;\n",
       "    }\n",
       "</style>\n",
       "<table border=\"1\" class=\"dataframe\">\n",
       "  <thead>\n",
       "    <tr style=\"text-align: right;\">\n",
       "      <th></th>\n",
       "      <th>id</th>\n",
       "      <th>name</th>\n",
       "      <th>id</th>\n",
       "      <th>name</th>\n",
       "    </tr>\n",
       "  </thead>\n",
       "  <tbody>\n",
       "    <tr>\n",
       "      <th>0</th>\n",
       "      <td>1</td>\n",
       "      <td>alex</td>\n",
       "      <td>4</td>\n",
       "      <td>monica</td>\n",
       "    </tr>\n",
       "    <tr>\n",
       "      <th>1</th>\n",
       "      <td>2</td>\n",
       "      <td>mary</td>\n",
       "      <td>5</td>\n",
       "      <td>megha</td>\n",
       "    </tr>\n",
       "    <tr>\n",
       "      <th>2</th>\n",
       "      <td>3</td>\n",
       "      <td>binny</td>\n",
       "      <td>6</td>\n",
       "      <td>akasha</td>\n",
       "    </tr>\n",
       "  </tbody>\n",
       "</table>\n",
       "</div>"
      ],
      "text/plain": [
       "   id   name  id    name\n",
       "0   1   alex   4  monica\n",
       "1   2   mary   5   megha\n",
       "2   3  binny   6  akasha"
      ]
     },
     "execution_count": 149,
     "metadata": {},
     "output_type": "execute_result"
    }
   ],
   "source": [
    "pd.concat([df_1,df_2],axis=1)"
   ]
  },
  {
   "cell_type": "code",
   "execution_count": 150,
   "id": "c7a3d3c2",
   "metadata": {},
   "outputs": [
    {
     "data": {
      "text/html": [
       "<div>\n",
       "<style scoped>\n",
       "    .dataframe tbody tr th:only-of-type {\n",
       "        vertical-align: middle;\n",
       "    }\n",
       "\n",
       "    .dataframe tbody tr th {\n",
       "        vertical-align: top;\n",
       "    }\n",
       "\n",
       "    .dataframe thead th {\n",
       "        text-align: right;\n",
       "    }\n",
       "</style>\n",
       "<table border=\"1\" class=\"dataframe\">\n",
       "  <thead>\n",
       "    <tr style=\"text-align: right;\">\n",
       "      <th></th>\n",
       "      <th>id</th>\n",
       "      <th>name</th>\n",
       "    </tr>\n",
       "  </thead>\n",
       "  <tbody>\n",
       "    <tr>\n",
       "      <th>0</th>\n",
       "      <td>1</td>\n",
       "      <td>alex</td>\n",
       "    </tr>\n",
       "    <tr>\n",
       "      <th>1</th>\n",
       "      <td>2</td>\n",
       "      <td>mary</td>\n",
       "    </tr>\n",
       "    <tr>\n",
       "      <th>2</th>\n",
       "      <td>3</td>\n",
       "      <td>binny</td>\n",
       "    </tr>\n",
       "    <tr>\n",
       "      <th>3</th>\n",
       "      <td>4</td>\n",
       "      <td>monica</td>\n",
       "    </tr>\n",
       "    <tr>\n",
       "      <th>4</th>\n",
       "      <td>5</td>\n",
       "      <td>megha</td>\n",
       "    </tr>\n",
       "    <tr>\n",
       "      <th>5</th>\n",
       "      <td>6</td>\n",
       "      <td>akasha</td>\n",
       "    </tr>\n",
       "  </tbody>\n",
       "</table>\n",
       "</div>"
      ],
      "text/plain": [
       "   id    name\n",
       "0   1    alex\n",
       "1   2    mary\n",
       "2   3   binny\n",
       "3   4  monica\n",
       "4   5   megha\n",
       "5   6  akasha"
      ]
     },
     "execution_count": 150,
     "metadata": {},
     "output_type": "execute_result"
    }
   ],
   "source": [
    "pd.concat([df_1,df_2],axis=0,ignore_index=True)"
   ]
  },
  {
   "cell_type": "code",
   "execution_count": 151,
   "id": "1c728d3b",
   "metadata": {},
   "outputs": [
    {
     "data": {
      "text/html": [
       "<div>\n",
       "<style scoped>\n",
       "    .dataframe tbody tr th:only-of-type {\n",
       "        vertical-align: middle;\n",
       "    }\n",
       "\n",
       "    .dataframe tbody tr th {\n",
       "        vertical-align: top;\n",
       "    }\n",
       "\n",
       "    .dataframe thead th {\n",
       "        text-align: right;\n",
       "    }\n",
       "</style>\n",
       "<table border=\"1\" class=\"dataframe\">\n",
       "  <thead>\n",
       "    <tr style=\"text-align: right;\">\n",
       "      <th></th>\n",
       "      <th>id</th>\n",
       "      <th>name_x</th>\n",
       "      <th>name_y</th>\n",
       "    </tr>\n",
       "  </thead>\n",
       "  <tbody>\n",
       "    <tr>\n",
       "      <th>0</th>\n",
       "      <td>1</td>\n",
       "      <td>alex</td>\n",
       "      <td>NaN</td>\n",
       "    </tr>\n",
       "    <tr>\n",
       "      <th>1</th>\n",
       "      <td>2</td>\n",
       "      <td>mary</td>\n",
       "      <td>NaN</td>\n",
       "    </tr>\n",
       "    <tr>\n",
       "      <th>2</th>\n",
       "      <td>3</td>\n",
       "      <td>binny</td>\n",
       "      <td>NaN</td>\n",
       "    </tr>\n",
       "  </tbody>\n",
       "</table>\n",
       "</div>"
      ],
      "text/plain": [
       "   id name_x name_y\n",
       "0   1   alex    NaN\n",
       "1   2   mary    NaN\n",
       "2   3  binny    NaN"
      ]
     },
     "execution_count": 151,
     "metadata": {},
     "output_type": "execute_result"
    }
   ],
   "source": [
    "# Merging DataFrames (merge())\n",
    "pd.merge(df_1,df_2,on='id',how='left')"
   ]
  },
  {
   "cell_type": "code",
   "execution_count": 152,
   "id": "3377f762",
   "metadata": {},
   "outputs": [
    {
     "data": {
      "text/html": [
       "<div>\n",
       "<style scoped>\n",
       "    .dataframe tbody tr th:only-of-type {\n",
       "        vertical-align: middle;\n",
       "    }\n",
       "\n",
       "    .dataframe tbody tr th {\n",
       "        vertical-align: top;\n",
       "    }\n",
       "\n",
       "    .dataframe thead th {\n",
       "        text-align: right;\n",
       "    }\n",
       "</style>\n",
       "<table border=\"1\" class=\"dataframe\">\n",
       "  <thead>\n",
       "    <tr style=\"text-align: right;\">\n",
       "      <th></th>\n",
       "      <th>id</th>\n",
       "      <th>name_x</th>\n",
       "      <th>name_y</th>\n",
       "    </tr>\n",
       "  </thead>\n",
       "  <tbody>\n",
       "    <tr>\n",
       "      <th>0</th>\n",
       "      <td>4</td>\n",
       "      <td>NaN</td>\n",
       "      <td>monica</td>\n",
       "    </tr>\n",
       "    <tr>\n",
       "      <th>1</th>\n",
       "      <td>5</td>\n",
       "      <td>NaN</td>\n",
       "      <td>megha</td>\n",
       "    </tr>\n",
       "    <tr>\n",
       "      <th>2</th>\n",
       "      <td>6</td>\n",
       "      <td>NaN</td>\n",
       "      <td>akasha</td>\n",
       "    </tr>\n",
       "  </tbody>\n",
       "</table>\n",
       "</div>"
      ],
      "text/plain": [
       "   id name_x  name_y\n",
       "0   4    NaN  monica\n",
       "1   5    NaN   megha\n",
       "2   6    NaN  akasha"
      ]
     },
     "execution_count": 152,
     "metadata": {},
     "output_type": "execute_result"
    }
   ],
   "source": [
    "pd.merge(df_1,df_2, on='id',how='right')"
   ]
  },
  {
   "cell_type": "code",
   "execution_count": 153,
   "id": "6faa2718",
   "metadata": {},
   "outputs": [],
   "source": [
    "df_3=df_1._append({'id':4,'name':'sam'},ignore_index=True)\n"
   ]
  },
  {
   "cell_type": "code",
   "execution_count": 154,
   "id": "8f831a47",
   "metadata": {},
   "outputs": [
    {
     "data": {
      "text/html": [
       "<div>\n",
       "<style scoped>\n",
       "    .dataframe tbody tr th:only-of-type {\n",
       "        vertical-align: middle;\n",
       "    }\n",
       "\n",
       "    .dataframe tbody tr th {\n",
       "        vertical-align: top;\n",
       "    }\n",
       "\n",
       "    .dataframe thead th {\n",
       "        text-align: right;\n",
       "    }\n",
       "</style>\n",
       "<table border=\"1\" class=\"dataframe\">\n",
       "  <thead>\n",
       "    <tr style=\"text-align: right;\">\n",
       "      <th></th>\n",
       "      <th>id</th>\n",
       "      <th>name</th>\n",
       "    </tr>\n",
       "  </thead>\n",
       "  <tbody>\n",
       "    <tr>\n",
       "      <th>0</th>\n",
       "      <td>1</td>\n",
       "      <td>alex</td>\n",
       "    </tr>\n",
       "    <tr>\n",
       "      <th>1</th>\n",
       "      <td>2</td>\n",
       "      <td>mary</td>\n",
       "    </tr>\n",
       "    <tr>\n",
       "      <th>2</th>\n",
       "      <td>3</td>\n",
       "      <td>binny</td>\n",
       "    </tr>\n",
       "    <tr>\n",
       "      <th>3</th>\n",
       "      <td>4</td>\n",
       "      <td>sam</td>\n",
       "    </tr>\n",
       "  </tbody>\n",
       "</table>\n",
       "</div>"
      ],
      "text/plain": [
       "   id   name\n",
       "0   1   alex\n",
       "1   2   mary\n",
       "2   3  binny\n",
       "3   4    sam"
      ]
     },
     "execution_count": 154,
     "metadata": {},
     "output_type": "execute_result"
    }
   ],
   "source": [
    "df_3"
   ]
  },
  {
   "cell_type": "code",
   "execution_count": 155,
   "id": "35eef63e",
   "metadata": {},
   "outputs": [
    {
     "data": {
      "text/html": [
       "<div>\n",
       "<style scoped>\n",
       "    .dataframe tbody tr th:only-of-type {\n",
       "        vertical-align: middle;\n",
       "    }\n",
       "\n",
       "    .dataframe tbody tr th {\n",
       "        vertical-align: top;\n",
       "    }\n",
       "\n",
       "    .dataframe thead th {\n",
       "        text-align: right;\n",
       "    }\n",
       "</style>\n",
       "<table border=\"1\" class=\"dataframe\">\n",
       "  <thead>\n",
       "    <tr style=\"text-align: right;\">\n",
       "      <th></th>\n",
       "      <th>id</th>\n",
       "      <th>name_x</th>\n",
       "      <th>name_y</th>\n",
       "    </tr>\n",
       "  </thead>\n",
       "  <tbody>\n",
       "    <tr>\n",
       "      <th>0</th>\n",
       "      <td>1</td>\n",
       "      <td>alex</td>\n",
       "      <td>NaN</td>\n",
       "    </tr>\n",
       "    <tr>\n",
       "      <th>1</th>\n",
       "      <td>2</td>\n",
       "      <td>mary</td>\n",
       "      <td>NaN</td>\n",
       "    </tr>\n",
       "    <tr>\n",
       "      <th>2</th>\n",
       "      <td>3</td>\n",
       "      <td>binny</td>\n",
       "      <td>NaN</td>\n",
       "    </tr>\n",
       "    <tr>\n",
       "      <th>3</th>\n",
       "      <td>4</td>\n",
       "      <td>sam</td>\n",
       "      <td>monica</td>\n",
       "    </tr>\n",
       "  </tbody>\n",
       "</table>\n",
       "</div>"
      ],
      "text/plain": [
       "   id name_x  name_y\n",
       "0   1   alex     NaN\n",
       "1   2   mary     NaN\n",
       "2   3  binny     NaN\n",
       "3   4    sam  monica"
      ]
     },
     "execution_count": 155,
     "metadata": {},
     "output_type": "execute_result"
    }
   ],
   "source": [
    "pd.merge(df_3,df_2,on='id',how='left')"
   ]
  },
  {
   "cell_type": "code",
   "execution_count": 156,
   "id": "9d50a65f",
   "metadata": {},
   "outputs": [
    {
     "data": {
      "text/html": [
       "<div>\n",
       "<style scoped>\n",
       "    .dataframe tbody tr th:only-of-type {\n",
       "        vertical-align: middle;\n",
       "    }\n",
       "\n",
       "    .dataframe tbody tr th {\n",
       "        vertical-align: top;\n",
       "    }\n",
       "\n",
       "    .dataframe thead th {\n",
       "        text-align: right;\n",
       "    }\n",
       "</style>\n",
       "<table border=\"1\" class=\"dataframe\">\n",
       "  <thead>\n",
       "    <tr style=\"text-align: right;\">\n",
       "      <th></th>\n",
       "      <th>id</th>\n",
       "      <th>name_x</th>\n",
       "      <th>name_y</th>\n",
       "    </tr>\n",
       "  </thead>\n",
       "  <tbody>\n",
       "    <tr>\n",
       "      <th>0</th>\n",
       "      <td>4</td>\n",
       "      <td>sam</td>\n",
       "      <td>monica</td>\n",
       "    </tr>\n",
       "    <tr>\n",
       "      <th>1</th>\n",
       "      <td>5</td>\n",
       "      <td>NaN</td>\n",
       "      <td>megha</td>\n",
       "    </tr>\n",
       "    <tr>\n",
       "      <th>2</th>\n",
       "      <td>6</td>\n",
       "      <td>NaN</td>\n",
       "      <td>akasha</td>\n",
       "    </tr>\n",
       "  </tbody>\n",
       "</table>\n",
       "</div>"
      ],
      "text/plain": [
       "   id name_x  name_y\n",
       "0   4    sam  monica\n",
       "1   5    NaN   megha\n",
       "2   6    NaN  akasha"
      ]
     },
     "execution_count": 156,
     "metadata": {},
     "output_type": "execute_result"
    }
   ],
   "source": [
    "pd.merge(df_3,df_2,on='id',how='right')"
   ]
  },
  {
   "cell_type": "code",
   "execution_count": 157,
   "id": "cc0c301e",
   "metadata": {},
   "outputs": [
    {
     "data": {
      "text/html": [
       "<div>\n",
       "<style scoped>\n",
       "    .dataframe tbody tr th:only-of-type {\n",
       "        vertical-align: middle;\n",
       "    }\n",
       "\n",
       "    .dataframe tbody tr th {\n",
       "        vertical-align: top;\n",
       "    }\n",
       "\n",
       "    .dataframe thead th {\n",
       "        text-align: right;\n",
       "    }\n",
       "</style>\n",
       "<table border=\"1\" class=\"dataframe\">\n",
       "  <thead>\n",
       "    <tr style=\"text-align: right;\">\n",
       "      <th></th>\n",
       "      <th>id</th>\n",
       "      <th>name_x</th>\n",
       "      <th>name_y</th>\n",
       "    </tr>\n",
       "  </thead>\n",
       "  <tbody>\n",
       "    <tr>\n",
       "      <th>0</th>\n",
       "      <td>4</td>\n",
       "      <td>sam</td>\n",
       "      <td>monica</td>\n",
       "    </tr>\n",
       "  </tbody>\n",
       "</table>\n",
       "</div>"
      ],
      "text/plain": [
       "   id name_x  name_y\n",
       "0   4    sam  monica"
      ]
     },
     "execution_count": 157,
     "metadata": {},
     "output_type": "execute_result"
    }
   ],
   "source": [
    "pd.merge(df_3,df_2,on='id',how='inner')"
   ]
  },
  {
   "cell_type": "code",
   "execution_count": 158,
   "id": "062daebe",
   "metadata": {},
   "outputs": [
    {
     "data": {
      "text/html": [
       "<div>\n",
       "<style scoped>\n",
       "    .dataframe tbody tr th:only-of-type {\n",
       "        vertical-align: middle;\n",
       "    }\n",
       "\n",
       "    .dataframe tbody tr th {\n",
       "        vertical-align: top;\n",
       "    }\n",
       "\n",
       "    .dataframe thead th {\n",
       "        text-align: right;\n",
       "    }\n",
       "</style>\n",
       "<table border=\"1\" class=\"dataframe\">\n",
       "  <thead>\n",
       "    <tr style=\"text-align: right;\">\n",
       "      <th></th>\n",
       "      <th>id</th>\n",
       "      <th>name_x</th>\n",
       "      <th>name_y</th>\n",
       "    </tr>\n",
       "  </thead>\n",
       "  <tbody>\n",
       "    <tr>\n",
       "      <th>0</th>\n",
       "      <td>1</td>\n",
       "      <td>alex</td>\n",
       "      <td>alex</td>\n",
       "    </tr>\n",
       "    <tr>\n",
       "      <th>1</th>\n",
       "      <td>2</td>\n",
       "      <td>mary</td>\n",
       "      <td>mary</td>\n",
       "    </tr>\n",
       "    <tr>\n",
       "      <th>2</th>\n",
       "      <td>3</td>\n",
       "      <td>binny</td>\n",
       "      <td>binny</td>\n",
       "    </tr>\n",
       "    <tr>\n",
       "      <th>3</th>\n",
       "      <td>4</td>\n",
       "      <td>sam</td>\n",
       "      <td>NaN</td>\n",
       "    </tr>\n",
       "  </tbody>\n",
       "</table>\n",
       "</div>"
      ],
      "text/plain": [
       "   id name_x name_y\n",
       "0   1   alex   alex\n",
       "1   2   mary   mary\n",
       "2   3  binny  binny\n",
       "3   4    sam    NaN"
      ]
     },
     "execution_count": 158,
     "metadata": {},
     "output_type": "execute_result"
    }
   ],
   "source": [
    "pd.merge(df_3,df_1,on='id',how='outer')"
   ]
  },
  {
   "cell_type": "code",
   "execution_count": 159,
   "id": "1ab5f9f5",
   "metadata": {},
   "outputs": [
    {
     "data": {
      "text/html": [
       "<div>\n",
       "<style scoped>\n",
       "    .dataframe tbody tr th:only-of-type {\n",
       "        vertical-align: middle;\n",
       "    }\n",
       "\n",
       "    .dataframe tbody tr th {\n",
       "        vertical-align: top;\n",
       "    }\n",
       "\n",
       "    .dataframe thead th {\n",
       "        text-align: right;\n",
       "    }\n",
       "</style>\n",
       "<table border=\"1\" class=\"dataframe\">\n",
       "  <thead>\n",
       "    <tr style=\"text-align: right;\">\n",
       "      <th></th>\n",
       "      <th>idleft</th>\n",
       "      <th>nameleft</th>\n",
       "      <th>idright</th>\n",
       "      <th>nameright</th>\n",
       "    </tr>\n",
       "  </thead>\n",
       "  <tbody>\n",
       "    <tr>\n",
       "      <th>0</th>\n",
       "      <td>1</td>\n",
       "      <td>alex</td>\n",
       "      <td>4.0</td>\n",
       "      <td>monica</td>\n",
       "    </tr>\n",
       "    <tr>\n",
       "      <th>1</th>\n",
       "      <td>2</td>\n",
       "      <td>mary</td>\n",
       "      <td>5.0</td>\n",
       "      <td>megha</td>\n",
       "    </tr>\n",
       "    <tr>\n",
       "      <th>2</th>\n",
       "      <td>3</td>\n",
       "      <td>binny</td>\n",
       "      <td>6.0</td>\n",
       "      <td>akasha</td>\n",
       "    </tr>\n",
       "    <tr>\n",
       "      <th>3</th>\n",
       "      <td>4</td>\n",
       "      <td>sam</td>\n",
       "      <td>NaN</td>\n",
       "      <td>NaN</td>\n",
       "    </tr>\n",
       "  </tbody>\n",
       "</table>\n",
       "</div>"
      ],
      "text/plain": [
       "   idleft nameleft  idright nameright\n",
       "0       1     alex      4.0    monica\n",
       "1       2     mary      5.0     megha\n",
       "2       3    binny      6.0    akasha\n",
       "3       4      sam      NaN       NaN"
      ]
     },
     "execution_count": 159,
     "metadata": {},
     "output_type": "execute_result"
    }
   ],
   "source": [
    "dfm=df_3.join(df_2,how='left',lsuffix='left',rsuffix='right')\n",
    "dfm"
   ]
  },
  {
   "cell_type": "code",
   "execution_count": 160,
   "id": "988d3102",
   "metadata": {},
   "outputs": [
    {
     "data": {
      "text/html": [
       "<div>\n",
       "<style scoped>\n",
       "    .dataframe tbody tr th:only-of-type {\n",
       "        vertical-align: middle;\n",
       "    }\n",
       "\n",
       "    .dataframe tbody tr th {\n",
       "        vertical-align: top;\n",
       "    }\n",
       "\n",
       "    .dataframe thead th {\n",
       "        text-align: right;\n",
       "    }\n",
       "</style>\n",
       "<table border=\"1\" class=\"dataframe\">\n",
       "  <thead>\n",
       "    <tr style=\"text-align: right;\">\n",
       "      <th></th>\n",
       "      <th>idleft</th>\n",
       "      <th>nameleft</th>\n",
       "      <th>idright</th>\n",
       "      <th>nameright</th>\n",
       "    </tr>\n",
       "  </thead>\n",
       "  <tbody>\n",
       "    <tr>\n",
       "      <th>0</th>\n",
       "      <td>1</td>\n",
       "      <td>alex</td>\n",
       "      <td>4</td>\n",
       "      <td>monica</td>\n",
       "    </tr>\n",
       "    <tr>\n",
       "      <th>1</th>\n",
       "      <td>2</td>\n",
       "      <td>mary</td>\n",
       "      <td>5</td>\n",
       "      <td>megha</td>\n",
       "    </tr>\n",
       "    <tr>\n",
       "      <th>2</th>\n",
       "      <td>3</td>\n",
       "      <td>binny</td>\n",
       "      <td>6</td>\n",
       "      <td>akasha</td>\n",
       "    </tr>\n",
       "  </tbody>\n",
       "</table>\n",
       "</div>"
      ],
      "text/plain": [
       "   idleft nameleft  idright nameright\n",
       "0       1     alex        4    monica\n",
       "1       2     mary        5     megha\n",
       "2       3    binny        6    akasha"
      ]
     },
     "execution_count": 160,
     "metadata": {},
     "output_type": "execute_result"
    }
   ],
   "source": [
    "df_3.join(df_2,how='right',lsuffix='left',rsuffix='right')"
   ]
  },
  {
   "cell_type": "code",
   "execution_count": 161,
   "id": "4aba4450",
   "metadata": {},
   "outputs": [
    {
     "data": {
      "text/html": [
       "<div>\n",
       "<style scoped>\n",
       "    .dataframe tbody tr th:only-of-type {\n",
       "        vertical-align: middle;\n",
       "    }\n",
       "\n",
       "    .dataframe tbody tr th {\n",
       "        vertical-align: top;\n",
       "    }\n",
       "\n",
       "    .dataframe thead th {\n",
       "        text-align: right;\n",
       "    }\n",
       "</style>\n",
       "<table border=\"1\" class=\"dataframe\">\n",
       "  <thead>\n",
       "    <tr style=\"text-align: right;\">\n",
       "      <th></th>\n",
       "      <th>name</th>\n",
       "      <th>sales</th>\n",
       "    </tr>\n",
       "  </thead>\n",
       "  <tbody>\n",
       "    <tr>\n",
       "      <th>0</th>\n",
       "      <td>asha</td>\n",
       "      <td>66074</td>\n",
       "    </tr>\n",
       "    <tr>\n",
       "      <th>1</th>\n",
       "      <td>vijay</td>\n",
       "      <td>45808</td>\n",
       "    </tr>\n",
       "    <tr>\n",
       "      <th>2</th>\n",
       "      <td>john</td>\n",
       "      <td>46952</td>\n",
       "    </tr>\n",
       "    <tr>\n",
       "      <th>3</th>\n",
       "      <td>samuel</td>\n",
       "      <td>51911</td>\n",
       "    </tr>\n",
       "    <tr>\n",
       "      <th>4</th>\n",
       "      <td>simon</td>\n",
       "      <td>65601</td>\n",
       "    </tr>\n",
       "    <tr>\n",
       "      <th>5</th>\n",
       "      <td>sana</td>\n",
       "      <td>46875</td>\n",
       "    </tr>\n",
       "    <tr>\n",
       "      <th>6</th>\n",
       "      <td>vivek</td>\n",
       "      <td>47189</td>\n",
       "    </tr>\n",
       "    <tr>\n",
       "      <th>7</th>\n",
       "      <td>akshay</td>\n",
       "      <td>64923</td>\n",
       "    </tr>\n",
       "  </tbody>\n",
       "</table>\n",
       "</div>"
      ],
      "text/plain": [
       "     name  sales\n",
       "0    asha  66074\n",
       "1   vijay  45808\n",
       "2    john  46952\n",
       "3  samuel  51911\n",
       "4   simon  65601\n",
       "5    sana  46875\n",
       "6   vivek  47189\n",
       "7  akshay  64923"
      ]
     },
     "execution_count": 161,
     "metadata": {},
     "output_type": "execute_result"
    }
   ],
   "source": [
    "df=pd.DataFrame({\n",
    "    'name':['asha','vijay','john','samuel','simon','sana','vivek','akshay'],\n",
    "    'sales':np.random.randint(30000,70000,size=8)\n",
    "})\n",
    "df"
   ]
  },
  {
   "cell_type": "code",
   "execution_count": 162,
   "id": "ce36530e",
   "metadata": {},
   "outputs": [
    {
     "data": {
      "text/html": [
       "<div>\n",
       "<style scoped>\n",
       "    .dataframe tbody tr th:only-of-type {\n",
       "        vertical-align: middle;\n",
       "    }\n",
       "\n",
       "    .dataframe tbody tr th {\n",
       "        vertical-align: top;\n",
       "    }\n",
       "\n",
       "    .dataframe thead th {\n",
       "        text-align: right;\n",
       "    }\n",
       "</style>\n",
       "<table border=\"1\" class=\"dataframe\">\n",
       "  <thead>\n",
       "    <tr style=\"text-align: right;\">\n",
       "      <th></th>\n",
       "      <th>name</th>\n",
       "      <th>sales</th>\n",
       "      <th>bonus</th>\n",
       "    </tr>\n",
       "  </thead>\n",
       "  <tbody>\n",
       "    <tr>\n",
       "      <th>0</th>\n",
       "      <td>asha</td>\n",
       "      <td>66074</td>\n",
       "      <td>6607.4</td>\n",
       "    </tr>\n",
       "    <tr>\n",
       "      <th>1</th>\n",
       "      <td>vijay</td>\n",
       "      <td>45808</td>\n",
       "      <td>22904.0</td>\n",
       "    </tr>\n",
       "    <tr>\n",
       "      <th>2</th>\n",
       "      <td>john</td>\n",
       "      <td>46952</td>\n",
       "      <td>23476.0</td>\n",
       "    </tr>\n",
       "    <tr>\n",
       "      <th>3</th>\n",
       "      <td>samuel</td>\n",
       "      <td>51911</td>\n",
       "      <td>5191.1</td>\n",
       "    </tr>\n",
       "    <tr>\n",
       "      <th>4</th>\n",
       "      <td>simon</td>\n",
       "      <td>65601</td>\n",
       "      <td>6560.1</td>\n",
       "    </tr>\n",
       "    <tr>\n",
       "      <th>5</th>\n",
       "      <td>sana</td>\n",
       "      <td>46875</td>\n",
       "      <td>23437.5</td>\n",
       "    </tr>\n",
       "    <tr>\n",
       "      <th>6</th>\n",
       "      <td>vivek</td>\n",
       "      <td>47189</td>\n",
       "      <td>23594.5</td>\n",
       "    </tr>\n",
       "    <tr>\n",
       "      <th>7</th>\n",
       "      <td>akshay</td>\n",
       "      <td>64923</td>\n",
       "      <td>6492.3</td>\n",
       "    </tr>\n",
       "  </tbody>\n",
       "</table>\n",
       "</div>"
      ],
      "text/plain": [
       "     name  sales    bonus\n",
       "0    asha  66074   6607.4\n",
       "1   vijay  45808  22904.0\n",
       "2    john  46952  23476.0\n",
       "3  samuel  51911   5191.1\n",
       "4   simon  65601   6560.1\n",
       "5    sana  46875  23437.5\n",
       "6   vivek  47189  23594.5\n",
       "7  akshay  64923   6492.3"
      ]
     },
     "execution_count": 162,
     "metadata": {},
     "output_type": "execute_result"
    }
   ],
   "source": [
    "df['bonus']=df['sales'].apply(lambda x:0.10*x if x>50000 else 0.50*x)\n",
    "df"
   ]
  },
  {
   "cell_type": "code",
   "execution_count": 163,
   "id": "d3682c42",
   "metadata": {},
   "outputs": [
    {
     "data": {
      "text/html": [
       "<div>\n",
       "<style scoped>\n",
       "    .dataframe tbody tr th:only-of-type {\n",
       "        vertical-align: middle;\n",
       "    }\n",
       "\n",
       "    .dataframe tbody tr th {\n",
       "        vertical-align: top;\n",
       "    }\n",
       "\n",
       "    .dataframe thead th {\n",
       "        text-align: right;\n",
       "    }\n",
       "</style>\n",
       "<table border=\"1\" class=\"dataframe\">\n",
       "  <thead>\n",
       "    <tr style=\"text-align: right;\">\n",
       "      <th></th>\n",
       "      <th>name</th>\n",
       "      <th>sales</th>\n",
       "      <th>bonus</th>\n",
       "    </tr>\n",
       "  </thead>\n",
       "  <tbody>\n",
       "    <tr>\n",
       "      <th>0</th>\n",
       "      <td>asha</td>\n",
       "      <td>66074</td>\n",
       "      <td>6607.4</td>\n",
       "    </tr>\n",
       "    <tr>\n",
       "      <th>4</th>\n",
       "      <td>simon</td>\n",
       "      <td>65601</td>\n",
       "      <td>6560.1</td>\n",
       "    </tr>\n",
       "    <tr>\n",
       "      <th>7</th>\n",
       "      <td>akshay</td>\n",
       "      <td>64923</td>\n",
       "      <td>6492.3</td>\n",
       "    </tr>\n",
       "    <tr>\n",
       "      <th>3</th>\n",
       "      <td>samuel</td>\n",
       "      <td>51911</td>\n",
       "      <td>5191.1</td>\n",
       "    </tr>\n",
       "    <tr>\n",
       "      <th>6</th>\n",
       "      <td>vivek</td>\n",
       "      <td>47189</td>\n",
       "      <td>23594.5</td>\n",
       "    </tr>\n",
       "    <tr>\n",
       "      <th>2</th>\n",
       "      <td>john</td>\n",
       "      <td>46952</td>\n",
       "      <td>23476.0</td>\n",
       "    </tr>\n",
       "    <tr>\n",
       "      <th>5</th>\n",
       "      <td>sana</td>\n",
       "      <td>46875</td>\n",
       "      <td>23437.5</td>\n",
       "    </tr>\n",
       "    <tr>\n",
       "      <th>1</th>\n",
       "      <td>vijay</td>\n",
       "      <td>45808</td>\n",
       "      <td>22904.0</td>\n",
       "    </tr>\n",
       "  </tbody>\n",
       "</table>\n",
       "</div>"
      ],
      "text/plain": [
       "     name  sales    bonus\n",
       "0    asha  66074   6607.4\n",
       "4   simon  65601   6560.1\n",
       "7  akshay  64923   6492.3\n",
       "3  samuel  51911   5191.1\n",
       "6   vivek  47189  23594.5\n",
       "2    john  46952  23476.0\n",
       "5    sana  46875  23437.5\n",
       "1   vijay  45808  22904.0"
      ]
     },
     "execution_count": 163,
     "metadata": {},
     "output_type": "execute_result"
    }
   ],
   "source": [
    "df_sorted=df.sort_values(by='sales',ascending=False)\n",
    "df_sorted"
   ]
  },
  {
   "cell_type": "code",
   "execution_count": 164,
   "id": "73f66bfe",
   "metadata": {},
   "outputs": [
    {
     "name": "stdout",
     "output_type": "stream",
     "text": [
      "   emp_id   name  dept_id  salary\n",
      "0       1  akash       11   34652\n",
      "1       2  nivya       22   31309\n",
      "2       3   john       33   38707\n",
      "3       4  kumar       44   35671\n",
      "4       5   mary       11   32502\n",
      "5       6   alex       22   35487\n",
      "   dept_id dept_name\n",
      "0       11     maths\n",
      "1       22  computer\n",
      "2       33   physics\n",
      "3       44   biology\n"
     ]
    }
   ],
   "source": [
    "employees=pd.DataFrame({\n",
    "    'emp_id':[1,2,3,4,5,6],\n",
    "    'name':['akash','nivya','john','kumar','mary','alex'],\n",
    "    'dept_id':[11,22,33,44,11,22],\n",
    "    'salary':np.random.randint(25000,45000,size=6)\n",
    "\n",
    "})\n",
    "print(employees)\n",
    "department=pd.DataFrame({\n",
    "    'dept_id':[11,22,33,44],\n",
    "    'dept_name':['maths','computer','physics','biology']\n",
    "\n",
    "})\n",
    "print(department)"
   ]
  },
  {
   "cell_type": "code",
   "execution_count": 165,
   "id": "582255c3",
   "metadata": {},
   "outputs": [
    {
     "data": {
      "text/html": [
       "<div>\n",
       "<style scoped>\n",
       "    .dataframe tbody tr th:only-of-type {\n",
       "        vertical-align: middle;\n",
       "    }\n",
       "\n",
       "    .dataframe tbody tr th {\n",
       "        vertical-align: top;\n",
       "    }\n",
       "\n",
       "    .dataframe thead th {\n",
       "        text-align: right;\n",
       "    }\n",
       "</style>\n",
       "<table border=\"1\" class=\"dataframe\">\n",
       "  <thead>\n",
       "    <tr style=\"text-align: right;\">\n",
       "      <th></th>\n",
       "      <th>emp_id</th>\n",
       "      <th>name</th>\n",
       "      <th>dept_id</th>\n",
       "      <th>salary</th>\n",
       "      <th>dept_name</th>\n",
       "    </tr>\n",
       "  </thead>\n",
       "  <tbody>\n",
       "    <tr>\n",
       "      <th>0</th>\n",
       "      <td>1</td>\n",
       "      <td>akash</td>\n",
       "      <td>11</td>\n",
       "      <td>34652</td>\n",
       "      <td>maths</td>\n",
       "    </tr>\n",
       "    <tr>\n",
       "      <th>1</th>\n",
       "      <td>2</td>\n",
       "      <td>nivya</td>\n",
       "      <td>22</td>\n",
       "      <td>31309</td>\n",
       "      <td>computer</td>\n",
       "    </tr>\n",
       "    <tr>\n",
       "      <th>2</th>\n",
       "      <td>3</td>\n",
       "      <td>john</td>\n",
       "      <td>33</td>\n",
       "      <td>38707</td>\n",
       "      <td>physics</td>\n",
       "    </tr>\n",
       "    <tr>\n",
       "      <th>3</th>\n",
       "      <td>4</td>\n",
       "      <td>kumar</td>\n",
       "      <td>44</td>\n",
       "      <td>35671</td>\n",
       "      <td>biology</td>\n",
       "    </tr>\n",
       "    <tr>\n",
       "      <th>4</th>\n",
       "      <td>5</td>\n",
       "      <td>mary</td>\n",
       "      <td>11</td>\n",
       "      <td>32502</td>\n",
       "      <td>maths</td>\n",
       "    </tr>\n",
       "    <tr>\n",
       "      <th>5</th>\n",
       "      <td>6</td>\n",
       "      <td>alex</td>\n",
       "      <td>22</td>\n",
       "      <td>35487</td>\n",
       "      <td>computer</td>\n",
       "    </tr>\n",
       "  </tbody>\n",
       "</table>\n",
       "</div>"
      ],
      "text/plain": [
       "   emp_id   name  dept_id  salary dept_name\n",
       "0       1  akash       11   34652     maths\n",
       "1       2  nivya       22   31309  computer\n",
       "2       3   john       33   38707   physics\n",
       "3       4  kumar       44   35671   biology\n",
       "4       5   mary       11   32502     maths\n",
       "5       6   alex       22   35487  computer"
      ]
     },
     "execution_count": 165,
     "metadata": {},
     "output_type": "execute_result"
    }
   ],
   "source": [
    "merged=pd.merge(employees,department,on='dept_id',how='left')\n",
    "merged"
   ]
  },
  {
   "cell_type": "code",
   "execution_count": 166,
   "id": "29d044cd",
   "metadata": {},
   "outputs": [
    {
     "data": {
      "text/plain": [
       "dept_name\n",
       "biology     35671.0\n",
       "computer    33398.0\n",
       "maths       33577.0\n",
       "physics     38707.0\n",
       "Name: salary, dtype: float64"
      ]
     },
     "execution_count": 166,
     "metadata": {},
     "output_type": "execute_result"
    }
   ],
   "source": [
    "dept_avg=merged.groupby('dept_name')['salary'].mean()\n",
    "dept_avg"
   ]
  }
 ],
 "metadata": {
  "kernelspec": {
   "display_name": ".venv",
   "language": "python",
   "name": "python3"
  },
  "language_info": {
   "codemirror_mode": {
    "name": "ipython",
    "version": 3
   },
   "file_extension": ".py",
   "mimetype": "text/x-python",
   "name": "python",
   "nbconvert_exporter": "python",
   "pygments_lexer": "ipython3",
   "version": "3.13.7"
  }
 },
 "nbformat": 4,
 "nbformat_minor": 5
}
